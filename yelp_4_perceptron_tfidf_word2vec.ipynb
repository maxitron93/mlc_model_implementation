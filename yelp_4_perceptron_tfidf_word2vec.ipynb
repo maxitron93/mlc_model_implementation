{
 "cells": [
  {
   "cell_type": "code",
   "execution_count": 1,
   "metadata": {},
   "outputs": [],
   "source": [
    "# Load the libraries\n",
    "import pandas as pd\n",
    "\n",
    "# Import from scikitlearn\n",
    "from sklearn.preprocessing import MultiLabelBinarizer\n",
    "from sklearn.model_selection import train_test_split\n",
    "from sklearn.metrics import accuracy_score\n",
    "\n",
    "# Import from tensorflow\n",
    "import tensorflow as tf\n",
    "from tensorflow.keras.layers import Input, Dense\n",
    "from tensorflow.keras.models import Model\n",
    "from tensorflow.keras.metrics import Accuracy\n",
    "import matplotlib.pyplot as plt\n",
    "\n",
    "\n",
    "\n",
    "\n",
    "# Import from scikitlearn\n",
    "from sklearn.metrics import accuracy_score\n",
    "\n",
    "# Import models for testing\n",
    "from sklearn.linear_model import LogisticRegression\n",
    "from sklearn.svm import SVC, LinearSVC\n",
    "from sklearn.ensemble import GradientBoostingClassifier"
   ]
  },
  {
   "cell_type": "code",
   "execution_count": 2,
   "metadata": {},
   "outputs": [
    {
     "data": {
      "text/plain": [
       "[PhysicalDevice(name='/physical_device:GPU:0', device_type='GPU')]"
      ]
     },
     "execution_count": 2,
     "metadata": {},
     "output_type": "execute_result"
    }
   ],
   "source": [
    "# Check that a GPU is available\n",
    "tf.config.experimental.list_physical_devices('GPU')"
   ]
  },
  {
   "cell_type": "code",
   "execution_count": 3,
   "metadata": {},
   "outputs": [
    {
     "name": "stdout",
     "output_type": "stream",
     "text": [
      "1 Physical GPUs, 1 Logical GPUs\n"
     ]
    }
   ],
   "source": [
    "# Not sure why, but I need this to get TF to work\n",
    "# from: https://www.tensorflow.org/guide/gpu#limiting_gpu_memory_growth\n",
    "gpus = tf.config.experimental.list_physical_devices('GPU')\n",
    "if gpus:\n",
    "  try:\n",
    "    # Currently, memory growth needs to be the same across GPUs\n",
    "    for gpu in gpus:\n",
    "      tf.config.experimental.set_memory_growth(gpu, True)\n",
    "    logical_gpus = tf.config.experimental.list_logical_devices('GPU')\n",
    "    print(len(gpus), \"Physical GPUs,\", len(logical_gpus), \"Logical GPUs\")\n",
    "  except RuntimeError as e:\n",
    "    # Memory growth must be set before GPUs have been initialized\n",
    "    print(e)"
   ]
  },
  {
   "cell_type": "markdown",
   "metadata": {},
   "source": [
    "#### Load the data"
   ]
  },
  {
   "cell_type": "code",
   "execution_count": 4,
   "metadata": {},
   "outputs": [],
   "source": [
    "# Load in the data\n",
    "load_path = '../Datasets/yelp/'\n",
    "X_df = pd.read_csv(load_path + 'representation_tfidf_word2vec.csv')[0:50000]\n",
    "y_df = pd.read_csv(load_path + 'labels.csv')['label']"
   ]
  },
  {
   "cell_type": "markdown",
   "metadata": {},
   "source": [
    "#### Prepare the data"
   ]
  },
  {
   "cell_type": "code",
   "execution_count": 5,
   "metadata": {},
   "outputs": [],
   "source": [
    "# Convert X to matrix\n",
    "X = X_df.values"
   ]
  },
  {
   "cell_type": "code",
   "execution_count": 6,
   "metadata": {},
   "outputs": [
    {
     "name": "stdout",
     "output_type": "stream",
     "text": [
      "X dimensions: 50000, 40\n"
     ]
    }
   ],
   "source": [
    "# Check dimensions\n",
    "print(f'X dimensions: {len(X)}, {len(X[0])}')"
   ]
  },
  {
   "cell_type": "code",
   "execution_count": 7,
   "metadata": {},
   "outputs": [],
   "source": [
    "# Subtract 1 from values so range is [0, 4]\n",
    "y_df_subtracted = y_df.apply(lambda x: str(x - 1))\n",
    "\n",
    "# Convert y to list\n",
    "y_list = list(y_df_subtracted)\n",
    "\n",
    "# Convert y to one-hot encoded vectors\n",
    "mlb = MultiLabelBinarizer()\n",
    "y = mlb.fit_transform(y_list)"
   ]
  },
  {
   "cell_type": "code",
   "execution_count": 8,
   "metadata": {},
   "outputs": [
    {
     "data": {
      "text/plain": [
       "(50000, 5)"
      ]
     },
     "execution_count": 8,
     "metadata": {},
     "output_type": "execute_result"
    }
   ],
   "source": [
    "# Check dimensions of y\n",
    "y.shape"
   ]
  },
  {
   "cell_type": "code",
   "execution_count": 9,
   "metadata": {},
   "outputs": [],
   "source": [
    "# Split into train and test sets\n",
    "X_train, X_test, y_train, y_test = train_test_split(X, y, test_size=0.25, random_state=100)"
   ]
  },
  {
   "cell_type": "code",
   "execution_count": 10,
   "metadata": {},
   "outputs": [
    {
     "name": "stdout",
     "output_type": "stream",
     "text": [
      "X_train: (37500, 40)\n",
      "X_test: (12500, 40)\n",
      "y_train: (37500, 5)\n",
      "y_test: (12500, 5)\n"
     ]
    }
   ],
   "source": [
    "# Check dimensions\n",
    "print(f'X_train: {X_train.shape}')\n",
    "print(f'X_test: {X_test.shape}')\n",
    "print(f'y_train: {y_train.shape}')\n",
    "print(f'y_test: {y_test.shape}')"
   ]
  },
  {
   "cell_type": "markdown",
   "metadata": {},
   "source": [
    "#### Define the Model Layers"
   ]
  },
  {
   "cell_type": "code",
   "execution_count": 11,
   "metadata": {},
   "outputs": [],
   "source": [
    "# Define the perceptron architecture\n",
    "i = Input(shape=len(X_train[0]), dtype=tf.int32)\n",
    "x = Dense(units=len(X_train[0]), activation='relu')(i)\n",
    "x = Dense(y_train.shape[1], activation='softmax')(x)"
   ]
  },
  {
   "cell_type": "code",
   "execution_count": 12,
   "metadata": {},
   "outputs": [],
   "source": [
    "# Build the model\n",
    "model = Model(i, x)"
   ]
  },
  {
   "cell_type": "code",
   "execution_count": 13,
   "metadata": {},
   "outputs": [
    {
     "name": "stdout",
     "output_type": "stream",
     "text": [
      "Model: \"model\"\n",
      "_________________________________________________________________\n",
      "Layer (type)                 Output Shape              Param #   \n",
      "=================================================================\n",
      "input_1 (InputLayer)         [(None, 40)]              0         \n",
      "_________________________________________________________________\n",
      "dense (Dense)                (None, 40)                1640      \n",
      "_________________________________________________________________\n",
      "dense_1 (Dense)              (None, 5)                 205       \n",
      "=================================================================\n",
      "Total params: 1,845\n",
      "Trainable params: 1,845\n",
      "Non-trainable params: 0\n",
      "_________________________________________________________________\n"
     ]
    }
   ],
   "source": [
    "# Have a look at the model\n",
    "model.summary()"
   ]
  },
  {
   "cell_type": "markdown",
   "metadata": {},
   "source": [
    "### Define how the model should be trained"
   ]
  },
  {
   "cell_type": "code",
   "execution_count": 14,
   "metadata": {},
   "outputs": [],
   "source": [
    "# Define how the model should be trained\n",
    "model.compile(optimizer=tf.keras.optimizers.Adam(learning_rate = 0.001), # CNN-Kim uses SGD with Adelta update rule\n",
    "              loss='categorical_crossentropy',\n",
    "              metrics=['accuracy'])"
   ]
  },
  {
   "cell_type": "code",
   "execution_count": 15,
   "metadata": {},
   "outputs": [],
   "source": [
    "# Create learning rate decay function\n",
    "def lr_scheduler(epoch, lr):\n",
    "    learning_rate = lr * 0.9\n",
    "    print(f'Learning Rate: {learning_rate}')\n",
    "    return learning_rate\n",
    "\n",
    "# define the learning rate scheduler\n",
    "callback = tf.keras.callbacks.LearningRateScheduler(lr_scheduler)"
   ]
  },
  {
   "cell_type": "markdown",
   "metadata": {},
   "source": [
    "### Train the model"
   ]
  },
  {
   "cell_type": "code",
   "execution_count": 16,
   "metadata": {
    "scrolled": true
   },
   "outputs": [
    {
     "name": "stdout",
     "output_type": "stream",
     "text": [
      "Train on 37500 samples, validate on 12500 samples\n",
      "Learning Rate: 0.0009000000427477062\n",
      "Epoch 1/50\n",
      "37500/37500 [==============================] - 1s 30us/sample - loss: 1.2826 - accuracy: 0.4454 - val_loss: 1.1414 - val_accuracy: 0.5007\n",
      "Learning Rate: 0.0008100000384729356\n",
      "Epoch 2/50\n",
      "37500/37500 [==============================] - 1s 20us/sample - loss: 1.0934 - accuracy: 0.5271 - val_loss: 1.0998 - val_accuracy: 0.5210\n",
      "Learning Rate: 0.0007290000503417104\n",
      "Epoch 3/50\n",
      "37500/37500 [==============================] - 1s 21us/sample - loss: 1.0683 - accuracy: 0.5394 - val_loss: 1.0886 - val_accuracy: 0.5252\n",
      "Learning Rate: 0.0006561000715009868\n",
      "Epoch 4/50\n",
      "37500/37500 [==============================] - 1s 18us/sample - loss: 1.0581 - accuracy: 0.5450 - val_loss: 1.0828 - val_accuracy: 0.5286\n",
      "Learning Rate: 0.0005904900433961303\n",
      "Epoch 5/50\n",
      "37500/37500 [==============================] - 1s 17us/sample - loss: 1.0525 - accuracy: 0.5472 - val_loss: 1.0799 - val_accuracy: 0.5294\n",
      "Learning Rate: 0.0005314410547725857\n",
      "Epoch 6/50\n",
      "37500/37500 [==============================] - 1s 15us/sample - loss: 1.0480 - accuracy: 0.5488 - val_loss: 1.0771 - val_accuracy: 0.5300\n",
      "Learning Rate: 0.00047829695977270604\n",
      "Epoch 7/50\n",
      "37500/37500 [==============================] - 1s 18us/sample - loss: 1.0449 - accuracy: 0.5499 - val_loss: 1.0764 - val_accuracy: 0.5314\n",
      "Learning Rate: 0.0004304672533180565\n",
      "Epoch 8/50\n",
      "37500/37500 [==============================] - 1s 17us/sample - loss: 1.0424 - accuracy: 0.5520 - val_loss: 1.0751 - val_accuracy: 0.5326\n",
      "Learning Rate: 0.00038742052274756136\n",
      "Epoch 9/50\n",
      "37500/37500 [==============================] - 1s 18us/sample - loss: 1.0405 - accuracy: 0.5508 - val_loss: 1.0755 - val_accuracy: 0.5315\n",
      "Learning Rate: 0.0003486784757114947\n",
      "Epoch 10/50\n",
      "37500/37500 [==============================] - 1s 18us/sample - loss: 1.0392 - accuracy: 0.5516 - val_loss: 1.0738 - val_accuracy: 0.5326\n",
      "Learning Rate: 0.00031381062290165574\n",
      "Epoch 11/50\n",
      "37500/37500 [==============================] - 1s 17us/sample - loss: 1.0376 - accuracy: 0.5527 - val_loss: 1.0726 - val_accuracy: 0.5337\n",
      "Learning Rate: 0.0002824295632308349\n",
      "Epoch 12/50\n",
      "37500/37500 [==============================] - 1s 16us/sample - loss: 1.0364 - accuracy: 0.5542 - val_loss: 1.0721 - val_accuracy: 0.5343\n",
      "Learning Rate: 0.00025418660952709616\n",
      "Epoch 13/50\n",
      "37500/37500 [==============================] - 1s 17us/sample - loss: 1.0353 - accuracy: 0.5552 - val_loss: 1.0717 - val_accuracy: 0.5335\n",
      "Learning Rate: 0.00022876793809700757\n",
      "Epoch 14/50\n",
      "37500/37500 [==============================] - 1s 17us/sample - loss: 1.0343 - accuracy: 0.5546 - val_loss: 1.0712 - val_accuracy: 0.5342\n",
      "Learning Rate: 0.00020589114428730683\n",
      "Epoch 15/50\n",
      "37500/37500 [==============================] - 1s 16us/sample - loss: 1.0336 - accuracy: 0.5552 - val_loss: 1.0715 - val_accuracy: 0.5330\n",
      "Learning Rate: 0.00018530203378759326\n",
      "Epoch 16/50\n",
      "37500/37500 [==============================] - 1s 17us/sample - loss: 1.0330 - accuracy: 0.5547 - val_loss: 1.0710 - val_accuracy: 0.5343\n",
      "Learning Rate: 0.00016677183302817866\n",
      "Epoch 17/50\n",
      "37500/37500 [==============================] - 1s 18us/sample - loss: 1.0325 - accuracy: 0.5550 - val_loss: 1.0709 - val_accuracy: 0.5342\n",
      "Learning Rate: 0.00015009464841568844\n",
      "Epoch 18/50\n",
      "37500/37500 [==============================] - 1s 17us/sample - loss: 1.0320 - accuracy: 0.5552 - val_loss: 1.0706 - val_accuracy: 0.5350\n",
      "Learning Rate: 0.0001350851875031367\n",
      "Epoch 19/50\n",
      "37500/37500 [==============================] - 1s 17us/sample - loss: 1.0315 - accuracy: 0.5562 - val_loss: 1.0705 - val_accuracy: 0.5350\n",
      "Learning Rate: 0.00012157666351413355\n",
      "Epoch 20/50\n",
      "37500/37500 [==============================] - 1s 15us/sample - loss: 1.0311 - accuracy: 0.5556 - val_loss: 1.0703 - val_accuracy: 0.5340\n",
      "Learning Rate: 0.00010941899454337544\n",
      "Epoch 21/50\n",
      "37500/37500 [==============================] - 1s 16us/sample - loss: 1.0307 - accuracy: 0.5557 - val_loss: 1.0703 - val_accuracy: 0.5364\n",
      "Learning Rate: 9.847709443420172e-05\n",
      "Epoch 22/50\n",
      "37500/37500 [==============================] - 1s 15us/sample - loss: 1.0304 - accuracy: 0.5562 - val_loss: 1.0701 - val_accuracy: 0.5352\n",
      "Learning Rate: 8.862938630045391e-05\n",
      "Epoch 23/50\n",
      "37500/37500 [==============================] - 1s 15us/sample - loss: 1.0301 - accuracy: 0.5561 - val_loss: 1.0700 - val_accuracy: 0.5350\n",
      "Learning Rate: 7.976644701557234e-05\n",
      "Epoch 24/50\n",
      "37500/37500 [==============================] - 1s 15us/sample - loss: 1.0298 - accuracy: 0.5561 - val_loss: 1.0699 - val_accuracy: 0.5354\n",
      "Learning Rate: 7.178980231401511e-05\n",
      "Epoch 25/50\n",
      "37500/37500 [==============================] - 1s 16us/sample - loss: 1.0296 - accuracy: 0.5566 - val_loss: 1.0698 - val_accuracy: 0.5348\n",
      "Learning Rate: 6.461082011810504e-05\n",
      "Epoch 26/50\n",
      "37500/37500 [==============================] - 1s 17us/sample - loss: 1.0294 - accuracy: 0.5567 - val_loss: 1.0697 - val_accuracy: 0.5350\n",
      "Learning Rate: 5.8149741380475466e-05\n",
      "Epoch 27/50\n",
      "37500/37500 [==============================] - 1s 16us/sample - loss: 1.0292 - accuracy: 0.5567 - val_loss: 1.0697 - val_accuracy: 0.5356\n",
      "Learning Rate: 5.233476658759173e-05\n",
      "Epoch 28/50\n",
      "37500/37500 [==============================] - 1s 17us/sample - loss: 1.0290 - accuracy: 0.5559 - val_loss: 1.0697 - val_accuracy: 0.5355\n",
      "Learning Rate: 4.7101289601414466e-05\n",
      "Epoch 29/50\n",
      "37500/37500 [==============================] - 1s 17us/sample - loss: 1.0289 - accuracy: 0.5567 - val_loss: 1.0696 - val_accuracy: 0.5356\n",
      "Learning Rate: 4.239116096869111e-05\n",
      "Epoch 30/50\n",
      "37500/37500 [==============================] - 1s 16us/sample - loss: 1.0288 - accuracy: 0.5566 - val_loss: 1.0695 - val_accuracy: 0.5358\n",
      "Learning Rate: 3.815204618149437e-05\n",
      "Epoch 31/50\n",
      "37500/37500 [==============================] - 1s 15us/sample - loss: 1.0286 - accuracy: 0.5562 - val_loss: 1.0695 - val_accuracy: 0.5356\n",
      "Learning Rate: 3.4336842873017304e-05\n",
      "Epoch 32/50\n",
      "37500/37500 [==============================] - 1s 15us/sample - loss: 1.0285 - accuracy: 0.5570 - val_loss: 1.0695 - val_accuracy: 0.5354\n",
      "Learning Rate: 3.0903160222806036e-05\n",
      "Epoch 33/50\n",
      "37500/37500 [==============================] - 1s 16us/sample - loss: 1.0284 - accuracy: 0.5568 - val_loss: 1.0695 - val_accuracy: 0.5356\n",
      "Learning Rate: 2.7812844200525434e-05\n",
      "Epoch 34/50\n",
      "37500/37500 [==============================] - 1s 21us/sample - loss: 1.0284 - accuracy: 0.5569 - val_loss: 1.0695 - val_accuracy: 0.5358\n",
      "Learning Rate: 2.5031560107890984e-05\n",
      "Epoch 35/50\n",
      "37500/37500 [==============================] - 1s 18us/sample - loss: 1.0283 - accuracy: 0.5567 - val_loss: 1.0695 - val_accuracy: 0.5363\n",
      "Learning Rate: 2.2528404588229024e-05\n",
      "Epoch 36/50\n",
      "37500/37500 [==============================] - 1s 17us/sample - loss: 1.0282 - accuracy: 0.5570 - val_loss: 1.0695 - val_accuracy: 0.5363\n",
      "Learning Rate: 2.0275563474569936e-05\n",
      "Epoch 37/50\n",
      "37500/37500 [==============================] - 1s 15us/sample - loss: 1.0281 - accuracy: 0.5565 - val_loss: 1.0695 - val_accuracy: 0.5362\n",
      "Learning Rate: 1.8248007290821987e-05\n",
      "Epoch 38/50\n",
      "37500/37500 [==============================] - 1s 16us/sample - loss: 1.0281 - accuracy: 0.5573 - val_loss: 1.0694 - val_accuracy: 0.5358\n",
      "Learning Rate: 1.6423206398030745e-05\n",
      "Epoch 39/50\n",
      "37500/37500 [==============================] - 1s 17us/sample - loss: 1.0280 - accuracy: 0.5571 - val_loss: 1.0694 - val_accuracy: 0.5358\n",
      "Learning Rate: 1.4780885430809576e-05\n",
      "Epoch 40/50\n",
      "37500/37500 [==============================] - 1s 17us/sample - loss: 1.0280 - accuracy: 0.5569 - val_loss: 1.0694 - val_accuracy: 0.5361\n",
      "Learning Rate: 1.3302796560310526e-05\n",
      "Epoch 41/50\n",
      "37500/37500 [==============================] - 1s 17us/sample - loss: 1.0280 - accuracy: 0.5567 - val_loss: 1.0694 - val_accuracy: 0.5358\n",
      "Learning Rate: 1.1972517313552089e-05\n",
      "Epoch 42/50\n",
      "37500/37500 [==============================] - 1s 18us/sample - loss: 1.0279 - accuracy: 0.5570 - val_loss: 1.0694 - val_accuracy: 0.5360\n",
      "Learning Rate: 1.077526558219688e-05\n",
      "Epoch 43/50\n",
      "37500/37500 [==============================] - 1s 16us/sample - loss: 1.0279 - accuracy: 0.5572 - val_loss: 1.0694 - val_accuracy: 0.5362\n",
      "Learning Rate: 9.697739187686238e-06\n",
      "Epoch 44/50\n"
     ]
    },
    {
     "name": "stdout",
     "output_type": "stream",
     "text": [
      "37500/37500 [==============================] - 0s 13us/sample - loss: 1.0278 - accuracy: 0.5569 - val_loss: 1.0694 - val_accuracy: 0.5359\n",
      "Learning Rate: 8.727965268917615e-06\n",
      "Epoch 45/50\n",
      "37500/37500 [==============================] - 1s 14us/sample - loss: 1.0278 - accuracy: 0.5574 - val_loss: 1.0694 - val_accuracy: 0.5359\n",
      "Learning Rate: 7.855168496462283e-06\n",
      "Epoch 46/50\n",
      "37500/37500 [==============================] - 1s 14us/sample - loss: 1.0278 - accuracy: 0.5571 - val_loss: 1.0694 - val_accuracy: 0.5359\n",
      "Learning Rate: 7.069651564961533e-06\n",
      "Epoch 47/50\n",
      "37500/37500 [==============================] - 1s 14us/sample - loss: 1.0278 - accuracy: 0.5572 - val_loss: 1.0694 - val_accuracy: 0.5360\n",
      "Learning Rate: 6.362686326610856e-06\n",
      "Epoch 48/50\n",
      "37500/37500 [==============================] - 0s 13us/sample - loss: 1.0278 - accuracy: 0.5572 - val_loss: 1.0694 - val_accuracy: 0.5360\n",
      "Learning Rate: 5.726417612095247e-06\n",
      "Epoch 49/50\n",
      "37500/37500 [==============================] - 0s 13us/sample - loss: 1.0277 - accuracy: 0.5572 - val_loss: 1.0694 - val_accuracy: 0.5359\n",
      "Learning Rate: 5.15377605552203e-06\n",
      "Epoch 50/50\n",
      "37500/37500 [==============================] - 1s 14us/sample - loss: 1.0277 - accuracy: 0.5572 - val_loss: 1.0694 - val_accuracy: 0.5362\n"
     ]
    }
   ],
   "source": [
    "# Train the model\n",
    "result = model.fit(X_train, y_train,\n",
    "                   epochs=50,\n",
    "                   validation_data=(X_test, y_test),\n",
    "                   batch_size=128,\n",
    "                   callbacks=[callback]);"
   ]
  },
  {
   "cell_type": "code",
   "execution_count": 17,
   "metadata": {},
   "outputs": [
    {
     "data": {
      "image/png": "[encoded data removed]",
      "text/plain": [
       "<Figure size 432x288 with 1 Axes>"
      ]
     },
     "metadata": {
      "needs_background": "light"
     },
     "output_type": "display_data"
    }
   ],
   "source": [
    "# Plot the Recall metric at each itteration\n",
    "plt.plot(result.history['accuracy'], label='train_Accuracy');\n",
    "plt.plot(result.history['val_accuracy'], label='val_Accuracy');\n",
    "plt.legend();"
   ]
  },
  {
   "cell_type": "code",
   "execution_count": null,
   "metadata": {},
   "outputs": [],
   "source": []
  },
  {
   "cell_type": "code",
   "execution_count": null,
   "metadata": {},
   "outputs": [],
   "source": []
  },
  {
   "cell_type": "code",
   "execution_count": null,
   "metadata": {},
   "outputs": [],
   "source": []
  },
  {
   "cell_type": "code",
   "execution_count": null,
   "metadata": {},
   "outputs": [],
   "source": []
  },
  {
   "cell_type": "code",
   "execution_count": null,
   "metadata": {},
   "outputs": [],
   "source": []
  },
  {
   "cell_type": "code",
   "execution_count": null,
   "metadata": {},
   "outputs": [],
   "source": []
  },
  {
   "cell_type": "code",
   "execution_count": null,
   "metadata": {},
   "outputs": [],
   "source": []
  },
  {
   "cell_type": "code",
   "execution_count": null,
   "metadata": {},
   "outputs": [],
   "source": []
  },
  {
   "cell_type": "code",
   "execution_count": null,
   "metadata": {},
   "outputs": [],
   "source": []
  },
  {
   "cell_type": "code",
   "execution_count": null,
   "metadata": {},
   "outputs": [],
   "source": []
  },
  {
   "cell_type": "code",
   "execution_count": 18,
   "metadata": {},
   "outputs": [],
   "source": [
    "# Split into train and test sets\n",
    "X_train_df, X_test_df, y_train_df, y_test_df = train_test_split(X_df, y_df, test_size=0.25, random_state=100)"
   ]
  },
  {
   "cell_type": "markdown",
   "metadata": {},
   "source": [
    "#### Logistic Regression"
   ]
  },
  {
   "cell_type": "code",
   "execution_count": 19,
   "metadata": {},
   "outputs": [
    {
     "name": "stderr",
     "output_type": "stream",
     "text": [
      "/usr/local/lib/python3.6/dist-packages/sklearn/linear_model/_sag.py:330: ConvergenceWarning: The max_iter was reached which means the coef_ did not converge\n",
      "  \"the coef_ did not converge\", ConvergenceWarning)\n"
     ]
    },
    {
     "data": {
      "text/plain": [
       "0.56696"
      ]
     },
     "execution_count": 19,
     "metadata": {},
     "output_type": "execute_result"
    }
   ],
   "source": [
    "# Train the model and get a prediction (for the test data)\n",
    "model = LogisticRegression(C=1, solver='sag', multi_class='multinomial')\n",
    "model.fit(X_train_df, y_train_df)\n",
    "y_pred = model.predict(X_test_df)\n",
    "accuracy_score(y_test_df, y_pred)"
   ]
  },
  {
   "cell_type": "markdown",
   "metadata": {},
   "source": [
    "#### SVC"
   ]
  },
  {
   "cell_type": "code",
   "execution_count": 20,
   "metadata": {},
   "outputs": [
    {
     "data": {
      "text/plain": [
       "0.5688"
      ]
     },
     "execution_count": 20,
     "metadata": {},
     "output_type": "execute_result"
    }
   ],
   "source": [
    "# Train the model and get a prediction (for the test data)\n",
    "model = SVC(C=1)\n",
    "model.fit(X_train_df, y_train_df)\n",
    "y_pred = model.predict(X_test_df)\n",
    "accuracy_score(y_test_df, y_pred)"
   ]
  },
  {
   "cell_type": "markdown",
   "metadata": {},
   "source": [
    "#### LinearSVC"
   ]
  },
  {
   "cell_type": "code",
   "execution_count": 21,
   "metadata": {},
   "outputs": [
    {
     "name": "stderr",
     "output_type": "stream",
     "text": [
      "/usr/local/lib/python3.6/dist-packages/sklearn/svm/_base.py:947: ConvergenceWarning: Liblinear failed to converge, increase the number of iterations.\n",
      "  \"the number of iterations.\", ConvergenceWarning)\n"
     ]
    },
    {
     "data": {
      "text/plain": [
       "0.55328"
      ]
     },
     "execution_count": 21,
     "metadata": {},
     "output_type": "execute_result"
    }
   ],
   "source": [
    "# Train the model and get a prediction (for the test data)\n",
    "model = LinearSVC(C=1)\n",
    "model.fit(X_train_df, y_train_df)\n",
    "y_pred = model.predict(X_test_df)\n",
    "accuracy_score(y_test_df, y_pred)"
   ]
  },
  {
   "cell_type": "code",
   "execution_count": null,
   "metadata": {},
   "outputs": [],
   "source": []
  },
  {
   "cell_type": "code",
   "execution_count": null,
   "metadata": {},
   "outputs": [],
   "source": []
  },
  {
   "cell_type": "code",
   "execution_count": null,
   "metadata": {},
   "outputs": [],
   "source": []
  }
 ],
 "metadata": {
  "kernelspec": {
   "display_name": "Python 3",
   "language": "python",
   "name": "python3"
  },
  "language_info": {
   "codemirror_mode": {
    "name": "ipython",
    "version": 3
   },
   "file_extension": ".py",
   "mimetype": "text/x-python",
   "name": "python",
   "nbconvert_exporter": "python",
   "pygments_lexer": "ipython3",
   "version": "3.6.9"
  }
 },
 "nbformat": 4,
 "nbformat_minor": 4
}
