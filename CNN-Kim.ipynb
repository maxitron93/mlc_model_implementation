{
 "cells": [
  {
   "cell_type": "code",
   "execution_count": 1,
   "metadata": {},
   "outputs": [
    {
     "name": "stdout",
     "output_type": "stream",
     "text": [
      "Collecting pip\n",
      "\u001b[?25l  Downloading https://files.pythonhosted.org/packages/54/0c/d01aa759fdc501a58f431eb594a17495f15b88da142ce14b5845662c13f3/pip-20.0.2-py2.py3-none-any.whl (1.4MB)\n",
      "\u001b[K     |████████████████████████████████| 1.4MB 11.4MB/s eta 0:00:01\n",
      "\u001b[?25hInstalling collected packages: pip\n",
      "  Found existing installation: pip 19.3.1\n",
      "    Uninstalling pip-19.3.1:\n",
      "      Successfully uninstalled pip-19.3.1\n",
      "Successfully installed pip-20.0.2\n"
     ]
    }
   ],
   "source": [
    "!pip install --upgrade pip"
   ]
  },
  {
   "cell_type": "code",
   "execution_count": 2,
   "metadata": {},
   "outputs": [
    {
     "name": "stdout",
     "output_type": "stream",
     "text": [
      "Collecting pandas\n",
      "  Downloading pandas-1.0.1-cp36-cp36m-manylinux1_x86_64.whl (10.1 MB)\n",
      "\u001b[K     |████████████████████████████████| 10.1 MB 15.1 MB/s eta 0:00:01\n",
      "\u001b[?25hRequirement already satisfied: python-dateutil>=2.6.1 in /usr/local/lib/python3.6/dist-packages (from pandas) (2.8.1)\n",
      "Collecting pytz>=2017.2\n",
      "  Downloading pytz-2019.3-py2.py3-none-any.whl (509 kB)\n",
      "\u001b[K     |████████████████████████████████| 509 kB 23.7 MB/s eta 0:00:01\n",
      "\u001b[?25hRequirement already satisfied: numpy>=1.13.3 in /usr/local/lib/python3.6/dist-packages (from pandas) (1.18.1)\n",
      "Requirement already satisfied: six>=1.5 in /usr/local/lib/python3.6/dist-packages (from python-dateutil>=2.6.1->pandas) (1.13.0)\n",
      "Installing collected packages: pytz, pandas\n",
      "Successfully installed pandas-1.0.1 pytz-2019.3\n"
     ]
    }
   ],
   "source": [
    "!pip install pandas"
   ]
  },
  {
   "cell_type": "code",
   "execution_count": 3,
   "metadata": {},
   "outputs": [
    {
     "name": "stdout",
     "output_type": "stream",
     "text": [
      "Collecting scikit-learn\n",
      "  Downloading scikit_learn-0.22.1-cp36-cp36m-manylinux1_x86_64.whl (7.0 MB)\n",
      "\u001b[K     |████████████████████████████████| 7.0 MB 10.0 MB/s eta 0:00:01\n",
      "\u001b[?25hRequirement already satisfied, skipping upgrade: numpy>=1.11.0 in /usr/local/lib/python3.6/dist-packages (from scikit-learn) (1.18.1)\n",
      "Collecting joblib>=0.11\n",
      "  Downloading joblib-0.14.1-py2.py3-none-any.whl (294 kB)\n",
      "\u001b[K     |████████████████████████████████| 294 kB 12.7 MB/s eta 0:00:01\n",
      "\u001b[?25hRequirement already satisfied, skipping upgrade: scipy>=0.17.0 in /usr/local/lib/python3.6/dist-packages (from scikit-learn) (1.4.1)\n",
      "Installing collected packages: joblib, scikit-learn\n",
      "Successfully installed joblib-0.14.1 scikit-learn-0.22.1\n"
     ]
    }
   ],
   "source": [
    "!pip install -U scikit-learn"
   ]
  },
  {
   "cell_type": "markdown",
   "metadata": {},
   "source": [
    "# CNN-Kim Model\n",
    "I can't get it exactly the same now because I'm using custom-trained word vectors instead of pre-trained ones, but I can still try to build a similar architecture.\n",
    "\n",
    "Since there are different variations of his model, I'll start with a model with the following architecture:\n",
    "- Using custom-trained word vectors (dimension = 200)\n",
    "- Keeping those word vectors static during the trainin process (maybe - TBD while implementing)\n",
    "- Single-channel\n",
    "- Filter windows height of 3, 4, 5 with 100 feature maps each\n",
    "- MaxPooling to extract the features from each feature map\n",
    "- Dropout rate of 0.5\n",
    "- ReLu activation function "
   ]
  },
  {
   "cell_type": "code",
   "execution_count": 4,
   "metadata": {},
   "outputs": [],
   "source": [
    "# Import the libraries\n",
    "import os\n",
    "import numpy as np\n",
    "from numpy import load\n",
    "from scipy.sparse import load_npz\n",
    "import tensorflow as tf\n",
    "from tensorflow.keras.mixed_precision import experimental as mixed_precision\n",
    "from tensorflow.keras.layers import Input, Conv1D, GlobalMaxPooling1D, concatenate, Dropout, Dense\n",
    "from tensorflow.keras.models import Model\n",
    "from tensorflow.keras.metrics import Precision, Recall\n",
    "import matplotlib.pyplot as plt"
   ]
  },
  {
   "cell_type": "code",
   "execution_count": 5,
   "metadata": {},
   "outputs": [
    {
     "data": {
      "text/plain": [
       "[PhysicalDevice(name='/physical_device:GPU:0', device_type='GPU')]"
      ]
     },
     "execution_count": 5,
     "metadata": {},
     "output_type": "execute_result"
    }
   ],
   "source": [
    "# Check that a GPU is available\n",
    "tf.config.experimental.list_physical_devices('GPU')"
   ]
  },
  {
   "cell_type": "code",
   "execution_count": 6,
   "metadata": {},
   "outputs": [
    {
     "name": "stdout",
     "output_type": "stream",
     "text": [
      "1 Physical GPUs, 1 Logical GPUs\n"
     ]
    }
   ],
   "source": [
    "# Not sure why, but I need this to get TF to work\n",
    "# from: https://www.tensorflow.org/guide/gpu#limiting_gpu_memory_growth\n",
    "gpus = tf.config.experimental.list_physical_devices('GPU')\n",
    "if gpus:\n",
    "  try:\n",
    "    # Currently, memory growth needs to be the same across GPUs\n",
    "    for gpu in gpus:\n",
    "      tf.config.experimental.set_memory_growth(gpu, True)\n",
    "    logical_gpus = tf.config.experimental.list_logical_devices('GPU')\n",
    "    print(len(gpus), \"Physical GPUs,\", len(logical_gpus), \"Logical GPUs\")\n",
    "  except RuntimeError as e:\n",
    "    # Memory growth must be set before GPUs have been initialized\n",
    "    print(e)"
   ]
  },
  {
   "cell_type": "code",
   "execution_count": 7,
   "metadata": {},
   "outputs": [],
   "source": [
    "# Enable mixed precision training\n",
    "# policy = mixed_precision.Policy('mixed_float16')\n",
    "# mixed_precision.set_policy(policy)"
   ]
  },
  {
   "cell_type": "markdown",
   "metadata": {},
   "source": [
    "### Load in the data"
   ]
  },
  {
   "cell_type": "code",
   "execution_count": 8,
   "metadata": {},
   "outputs": [],
   "source": [
    "# Define the load path\n",
    "load_path = '../Datasets/AmazonCat-13K/processed/'"
   ]
  },
  {
   "cell_type": "code",
   "execution_count": 9,
   "metadata": {},
   "outputs": [],
   "source": [
    "# Load the X_train\n",
    "X_train_data = load('../Datasets/AmazonCat-13K/processed/' + 'X_train.npz')\n",
    "X_train = X_train_data['arr_0']"
   ]
  },
  {
   "cell_type": "code",
   "execution_count": 10,
   "metadata": {},
   "outputs": [],
   "source": [
    "# Load the X_test\n",
    "X_test_data = load('../Datasets/AmazonCat-13K/processed/' + 'X_test.npz')\n",
    "X_test = X_test_data['arr_0']"
   ]
  },
  {
   "cell_type": "code",
   "execution_count": 11,
   "metadata": {},
   "outputs": [],
   "source": [
    "# Load y_train\n",
    "y_train_sparse = load_npz(load_path + 'y_train_sparse.npz')"
   ]
  },
  {
   "cell_type": "code",
   "execution_count": 12,
   "metadata": {},
   "outputs": [],
   "source": [
    "# Load y_test\n",
    "y_test_sparse = load_npz(load_path + 'y_test_sparse.npz')"
   ]
  },
  {
   "cell_type": "code",
   "execution_count": 13,
   "metadata": {},
   "outputs": [],
   "source": [
    "# Create placeholder matrices that will be 'injected' with the values later\n",
    "y_train_placeholder = np.zeros((y_train_sparse.shape[0], y_train_sparse.shape[1]), dtype='int8')\n",
    "y_test_placeholder = np.zeros((y_test_sparse.shape[0], y_test_sparse.shape[1]), dtype='int8')"
   ]
  },
  {
   "cell_type": "code",
   "execution_count": 14,
   "metadata": {},
   "outputs": [],
   "source": [
    "# # Create y_train\n",
    "# y_train = tf.convert_to_tensor(y_train_sparse.todense(out=y_train_placeholder), dtype=tf.int8)"
   ]
  },
  {
   "cell_type": "code",
   "execution_count": 15,
   "metadata": {},
   "outputs": [],
   "source": [
    "# # Create y_test\n",
    "# y_test = tf.convert_to_tensor(y_test_sparse.todense(out=y_test_placeholder), dtype=tf.int8)"
   ]
  },
  {
   "cell_type": "code",
   "execution_count": 16,
   "metadata": {},
   "outputs": [
    {
     "name": "stdout",
     "output_type": "stream",
     "text": [
      "X_train: (639360, 512)\n",
      "X_test: (213120, 512)\n"
     ]
    }
   ],
   "source": [
    "# Check the shape of the X data\n",
    "print(f'X_train: {X_train.shape}')\n",
    "print(f'X_test: {X_test.shape}')"
   ]
  },
  {
   "cell_type": "code",
   "execution_count": 17,
   "metadata": {},
   "outputs": [
    {
     "name": "stdout",
     "output_type": "stream",
     "text": [
      "y_train: (639360, 13680)\n",
      "y_test: (213120, 13680)\n"
     ]
    }
   ],
   "source": [
    "# Check the shape of the X data\n",
    "print(f'y_train: {y_train_sparse.shape}')\n",
    "print(f'y_test: {y_test_sparse.shape}')"
   ]
  },
  {
   "cell_type": "markdown",
   "metadata": {},
   "source": [
    "### Create the embedding layer"
   ]
  },
  {
   "cell_type": "code",
   "execution_count": 18,
   "metadata": {},
   "outputs": [],
   "source": [
    "# Create the embedding layer definition\n",
    "class PretrainedEmbedding(tf.keras.layers.Layer):\n",
    "    \"\"\"Non-trainable embedding layer.\"\"\"\n",
    "\n",
    "    def __init__(self, embeddings, dropout_rate=0.2, **kwargs):\n",
    "        \"\"\"\"Instantiate the layer using a pre-defined embedding matrix.\"\"\"\n",
    "        super().__init__(**kwargs)\n",
    "        self.embeddings = tf.constant(embeddings)\n",
    "        # if you want to add some dropout (or normalization, etc.)\n",
    "        self.dropout = tf.keras.layers.Dropout(rate=dropout_rate)\n",
    "\n",
    "    def call(self, inputs, training=None):\n",
    "        \"\"\"Embed some input tokens and optionally apply dropout.\"\"\"\n",
    "        output = tf.nn.embedding_lookup(self.embeddings, inputs)\n",
    "        return self.dropout(output, training=training)"
   ]
  },
  {
   "cell_type": "code",
   "execution_count": 19,
   "metadata": {},
   "outputs": [],
   "source": [
    "# Load in the embedding matrix\n",
    "embedding_matrix = np.loadtxt(load_path + 'embedding_matrix.csv', delimiter=',')"
   ]
  },
  {
   "cell_type": "code",
   "execution_count": 20,
   "metadata": {},
   "outputs": [
    {
     "data": {
      "text/plain": [
       "(200000, 200)"
      ]
     },
     "execution_count": 20,
     "metadata": {},
     "output_type": "execute_result"
    }
   ],
   "source": [
    "# Check the embedding matrix size\n",
    "embedding_matrix.shape"
   ]
  },
  {
   "cell_type": "markdown",
   "metadata": {},
   "source": [
    "### Define the model layers"
   ]
  },
  {
   "cell_type": "code",
   "execution_count": 21,
   "metadata": {},
   "outputs": [
    {
     "name": "stdout",
     "output_type": "stream",
     "text": [
      "WARNING:tensorflow:Layer dropout is casting an input tensor from dtype float64 to the layer's dtype of float32, which is new behavior in TensorFlow 2.  The layer has dtype float32 because it's dtype defaults to floatx.\n",
      "\n",
      "If you intended to run this layer in float32, you can safely ignore this warning. If in doubt, this warning is likely only an issue if you are porting a TensorFlow 1.X model to TensorFlow 2.\n",
      "\n",
      "To change all layers to have dtype float64 by default, call `tf.keras.backend.set_floatx('float64')`. To change just this layer, pass dtype='float64' to the layer constructor. If you are the author of this layer, you can disable autocasting by passing autocast=False to the base Layer constructor.\n",
      "\n"
     ]
    }
   ],
   "source": [
    "# Define the Input and Embedding layers\n",
    "i = Input(shape=(X_train.shape[1]), dtype=tf.int32)\n",
    "x = PretrainedEmbedding(embedding_matrix, dropout_rate=0)(i)\n",
    "\n",
    "# Convolution with window size = 3  \n",
    "x3 = Conv1D(filters=96, \n",
    "            kernel_size=3, \n",
    "            strides=1,\n",
    "            padding='valid',\n",
    "            activation='relu',\n",
    "            use_bias=True\n",
    "           )(x)\n",
    "x3 = GlobalMaxPooling1D()(x3)\n",
    "\n",
    "# Convolution with window size = 4\n",
    "x4 = Conv1D(filters=96, \n",
    "            kernel_size=4, \n",
    "            strides=1,\n",
    "            padding='valid',\n",
    "            activation='relu',\n",
    "            use_bias=True\n",
    "           )(x)\n",
    "x4 = GlobalMaxPooling1D()(x4)\n",
    "\n",
    "# Convolution with window size = 5\n",
    "x5 = Conv1D(filters=96, \n",
    "            kernel_size=5, \n",
    "            strides=1,\n",
    "            padding='valid',\n",
    "            activation='relu',\n",
    "            use_bias=True\n",
    "           )(x)\n",
    "x5 = GlobalMaxPooling1D()(x5)\n",
    "\n",
    "# Concatenated max-pooling layers with Dropout (CNN-Kim uses a dropout rate of 0.5)\n",
    "concatenated = concatenate([x3, x4, x5])\n",
    "x = Dropout(rate=0.5)(concatenated)\n",
    "\n",
    "# Final, fully-connected Dense layer\n",
    "x = Dense(y_train_sparse.shape[1], activation='sigmoid')(x)"
   ]
  },
  {
   "cell_type": "code",
   "execution_count": 22,
   "metadata": {},
   "outputs": [],
   "source": [
    "# Build the model\n",
    "model = Model(i, x)"
   ]
  },
  {
   "cell_type": "code",
   "execution_count": 23,
   "metadata": {},
   "outputs": [],
   "source": [
    "# Remove unused vars (to save memory)\n",
    "del embedding_matrix"
   ]
  },
  {
   "cell_type": "code",
   "execution_count": 24,
   "metadata": {},
   "outputs": [
    {
     "name": "stdout",
     "output_type": "stream",
     "text": [
      "Model: \"model\"\n",
      "__________________________________________________________________________________________________\n",
      "Layer (type)                    Output Shape         Param #     Connected to                     \n",
      "==================================================================================================\n",
      "input_1 (InputLayer)            [(None, 512)]        0                                            \n",
      "__________________________________________________________________________________________________\n",
      "pretrained_embedding (Pretraine (None, 512, 200)     0           input_1[0][0]                    \n",
      "__________________________________________________________________________________________________\n",
      "conv1d (Conv1D)                 (None, 510, 96)      57696       pretrained_embedding[0][0]       \n",
      "__________________________________________________________________________________________________\n",
      "conv1d_1 (Conv1D)               (None, 509, 96)      76896       pretrained_embedding[0][0]       \n",
      "__________________________________________________________________________________________________\n",
      "conv1d_2 (Conv1D)               (None, 508, 96)      96096       pretrained_embedding[0][0]       \n",
      "__________________________________________________________________________________________________\n",
      "global_max_pooling1d (GlobalMax (None, 96)           0           conv1d[0][0]                     \n",
      "__________________________________________________________________________________________________\n",
      "global_max_pooling1d_1 (GlobalM (None, 96)           0           conv1d_1[0][0]                   \n",
      "__________________________________________________________________________________________________\n",
      "global_max_pooling1d_2 (GlobalM (None, 96)           0           conv1d_2[0][0]                   \n",
      "__________________________________________________________________________________________________\n",
      "concatenate (Concatenate)       (None, 288)          0           global_max_pooling1d[0][0]       \n",
      "                                                                 global_max_pooling1d_1[0][0]     \n",
      "                                                                 global_max_pooling1d_2[0][0]     \n",
      "__________________________________________________________________________________________________\n",
      "dropout_1 (Dropout)             (None, 288)          0           concatenate[0][0]                \n",
      "__________________________________________________________________________________________________\n",
      "dense (Dense)                   (None, 13680)        3953520     dropout_1[0][0]                  \n",
      "==================================================================================================\n",
      "Total params: 4,184,208\n",
      "Trainable params: 4,184,208\n",
      "Non-trainable params: 0\n",
      "__________________________________________________________________________________________________\n"
     ]
    }
   ],
   "source": [
    "# Have a look at the model\n",
    "model.summary()"
   ]
  },
  {
   "cell_type": "markdown",
   "metadata": {},
   "source": [
    "### Define how the model should be trained"
   ]
  },
  {
   "cell_type": "code",
   "execution_count": 25,
   "metadata": {},
   "outputs": [],
   "source": [
    "# Define how the model should be trained\n",
    "model.compile(optimizer=tf.keras.optimizers.Adam(learning_rate = 0.0005), # CNN-Kim uses SGD with Adelta update rule\n",
    "              loss='binary_crossentropy',\n",
    "              metrics=[Precision(), Recall()])"
   ]
  },
  {
   "cell_type": "code",
   "execution_count": 26,
   "metadata": {},
   "outputs": [],
   "source": [
    "# Create learning rate decay function\n",
    "def lr_scheduler(epoch, lr):\n",
    "    learning_rate = lr * 0.95\n",
    "    print(f'Learning Rate: {learning_rate}')\n",
    "    return learning_rate\n",
    "\n",
    "# define the learning rate scheduler\n",
    "callback = tf.keras.callbacks.LearningRateScheduler(lr_scheduler)"
   ]
  },
  {
   "cell_type": "markdown",
   "metadata": {},
   "source": [
    "### Train the model"
   ]
  },
  {
   "cell_type": "code",
   "execution_count": 27,
   "metadata": {},
   "outputs": [],
   "source": [
    "# # Train the model\n",
    "# result = model.fit(X_train_data['arr_0'], y_train,\n",
    "#                    epochs=50,\n",
    "#                    validation_data=(X_test, y_test),\n",
    "#                    batch_size=1024,\n",
    "#                    callbacks=[callback]);"
   ]
  },
  {
   "cell_type": "code",
   "execution_count": 28,
   "metadata": {
    "scrolled": true
   },
   "outputs": [
    {
     "name": "stdout",
     "output_type": "stream",
     "text": [
      "Train on 639360 samples, validate on 213120 samples\n",
      "Learning Rate: 0.00047500002256128937\n",
      "Epoch 1/50\n",
      "639360/639360 [==============================] - 157s 245us/sample - loss: 0.0071 - precision: 0.0126 - recall: 0.0652 - val_loss: 0.0021 - val_precision: 0.8917 - val_recall: 0.0914\n",
      "Learning Rate: 0.0004512500076089054\n",
      "Epoch 2/50\n",
      "639360/639360 [==============================] - 152s 238us/sample - loss: 0.0022 - precision: 0.7142 - recall: 0.1139 - val_loss: 0.0019 - val_precision: 0.8848 - val_recall: 0.1187\n",
      "Learning Rate: 0.00042868750169873233\n",
      "Epoch 3/50\n",
      "639360/639360 [==============================] - 152s 238us/sample - loss: 0.0020 - precision: 0.7146 - recall: 0.1435 - val_loss: 0.0018 - val_precision: 0.8517 - val_recall: 0.1521\n",
      "Learning Rate: 0.0004072531155543402\n",
      "Epoch 4/50\n",
      "639360/639360 [==============================] - 154s 241us/sample - loss: 0.0019 - precision: 0.7132 - recall: 0.1650 - val_loss: 0.0017 - val_precision: 0.8675 - val_recall: 0.1647\n",
      "Learning Rate: 0.0003868904459523037\n",
      "Epoch 5/50\n",
      "639360/639360 [==============================] - 153s 239us/sample - loss: 0.0018 - precision: 0.7116 - recall: 0.1819 - val_loss: 0.0016 - val_precision: 0.8636 - val_recall: 0.1785\n",
      "Learning Rate: 0.000367545909830369\n",
      "Epoch 6/50\n",
      "639360/639360 [==============================] - 153s 239us/sample - loss: 0.0017 - precision: 0.7107 - recall: 0.1960 - val_loss: 0.0015 - val_precision: 0.8632 - val_recall: 0.1911\n",
      "Learning Rate: 0.0003491686060442589\n",
      "Epoch 7/50\n",
      "639360/639360 [==============================] - 153s 239us/sample - loss: 0.0016 - precision: 0.7109 - recall: 0.2079 - val_loss: 0.0014 - val_precision: 0.8632 - val_recall: 0.2018\n",
      "Learning Rate: 0.00033171017712447793\n",
      "Epoch 8/50\n",
      "639360/639360 [==============================] - 153s 239us/sample - loss: 0.0016 - precision: 0.7121 - recall: 0.2182 - val_loss: 0.0014 - val_precision: 0.8607 - val_recall: 0.2122\n",
      "Learning Rate: 0.0003151246710331179\n",
      "Epoch 9/50\n",
      "639360/639360 [==============================] - 160s 251us/sample - loss: 0.0015 - precision: 0.7131 - recall: 0.2268 - val_loss: 0.0014 - val_precision: 0.8655 - val_recall: 0.2192\n",
      "Learning Rate: 0.00029936843056930227\n",
      "Epoch 10/50\n",
      "639360/639360 [==============================] - 162s 254us/sample - loss: 0.0015 - precision: 0.7130 - recall: 0.2340 - val_loss: 0.0013 - val_precision: 0.8667 - val_recall: 0.2225\n",
      "Learning Rate: 0.0002844000104232691\n",
      "Epoch 11/50\n",
      "639360/639360 [==============================] - 168s 263us/sample - loss: 0.0015 - precision: 0.7153 - recall: 0.2407 - val_loss: 0.0013 - val_precision: 0.8778 - val_recall: 0.2241\n",
      "Learning Rate: 0.0002701800112845376\n",
      "Epoch 12/50\n",
      "639360/639360 [==============================] - 170s 265us/sample - loss: 0.0014 - precision: 0.7159 - recall: 0.2455 - val_loss: 0.0013 - val_precision: 0.8689 - val_recall: 0.2343\n",
      "Learning Rate: 0.00025667099689599123\n",
      "Epoch 13/50\n",
      "639360/639360 [==============================] - 158s 248us/sample - loss: 0.0014 - precision: 0.7183 - recall: 0.2509 - val_loss: 0.0013 - val_precision: 0.8739 - val_recall: 0.2345\n",
      "Learning Rate: 0.0002438374387566\n",
      "Epoch 14/50\n",
      "639360/639360 [==============================] - 152s 238us/sample - loss: 0.0014 - precision: 0.7195 - recall: 0.2551 - val_loss: 0.0012 - val_precision: 0.8756 - val_recall: 0.2390\n",
      "Learning Rate: 0.00023164556405390612\n",
      "Epoch 15/50\n",
      "639360/639360 [==============================] - 153s 239us/sample - loss: 0.0014 - precision: 0.7214 - recall: 0.2590 - val_loss: 0.0012 - val_precision: 0.8697 - val_recall: 0.2439\n",
      "Learning Rate: 0.00022006328654242677\n",
      "Epoch 16/50\n",
      "639360/639360 [==============================] - 152s 238us/sample - loss: 0.0014 - precision: 0.7214 - recall: 0.2618 - val_loss: 0.0012 - val_precision: 0.8729 - val_recall: 0.2472\n",
      "Learning Rate: 0.00020906012359773739\n",
      "Epoch 17/50\n",
      "639360/639360 [==============================] - 152s 238us/sample - loss: 0.0013 - precision: 0.7229 - recall: 0.2650 - val_loss: 0.0012 - val_precision: 0.8755 - val_recall: 0.2474\n",
      "Learning Rate: 0.00019860711327055467\n",
      "Epoch 18/50\n",
      "639360/639360 [==============================] - 153s 239us/sample - loss: 0.0013 - precision: 0.7250 - recall: 0.2677 - val_loss: 0.0012 - val_precision: 0.8736 - val_recall: 0.2517\n",
      "Learning Rate: 0.00018867675898945888\n",
      "Epoch 19/50\n",
      "639360/639360 [==============================] - 152s 238us/sample - loss: 0.0013 - precision: 0.7258 - recall: 0.2698 - val_loss: 0.0012 - val_precision: 0.8722 - val_recall: 0.2549\n",
      "Learning Rate: 0.00017924291896633803\n",
      "Epoch 20/50\n",
      "639360/639360 [==============================] - 152s 238us/sample - loss: 0.0013 - precision: 0.7269 - recall: 0.2718 - val_loss: 0.0012 - val_precision: 0.8649 - val_recall: 0.2622\n",
      "Learning Rate: 0.00017028077854774892\n",
      "Epoch 21/50\n",
      "639360/639360 [==============================] - 153s 239us/sample - loss: 0.0013 - precision: 0.7276 - recall: 0.2740 - val_loss: 0.0012 - val_precision: 0.8718 - val_recall: 0.2586\n",
      "Learning Rate: 0.00016176673962036147\n",
      "Epoch 22/50\n",
      "639360/639360 [==============================] - 152s 238us/sample - loss: 0.0013 - precision: 0.7289 - recall: 0.2758 - val_loss: 0.0012 - val_precision: 0.8739 - val_recall: 0.2580\n",
      "Learning Rate: 0.00015367840678663923\n",
      "Epoch 23/50\n",
      "639360/639360 [==============================] - 152s 238us/sample - loss: 0.0013 - precision: 0.7300 - recall: 0.2773 - val_loss: 0.0011 - val_precision: 0.8770 - val_recall: 0.2583\n",
      "Learning Rate: 0.00014599449059460312\n",
      "Epoch 24/50\n",
      "639360/639360 [==============================] - 152s 238us/sample - loss: 0.0013 - precision: 0.7309 - recall: 0.2792 - val_loss: 0.0011 - val_precision: 0.8711 - val_recall: 0.2628\n",
      "Learning Rate: 0.00013869476606487297\n",
      "Epoch 25/50\n",
      "639360/639360 [==============================] - 152s 238us/sample - loss: 0.0013 - precision: 0.7318 - recall: 0.2806 - val_loss: 0.0011 - val_precision: 0.8729 - val_recall: 0.2642\n",
      "Learning Rate: 0.0001317600312177092\n",
      "Epoch 26/50\n",
      "639360/639360 [==============================] - 152s 238us/sample - loss: 0.0013 - precision: 0.7326 - recall: 0.2821 - val_loss: 0.0011 - val_precision: 0.8732 - val_recall: 0.2664\n",
      "Learning Rate: 0.00012517202412709594\n",
      "Epoch 27/50\n",
      "639360/639360 [==============================] - 152s 238us/sample - loss: 0.0013 - precision: 0.7335 - recall: 0.2837 - val_loss: 0.0011 - val_precision: 0.8674 - val_recall: 0.2702\n",
      "Learning Rate: 0.00011891342292074113\n",
      "Epoch 28/50\n",
      "639360/639360 [==============================] - 152s 238us/sample - loss: 0.0013 - precision: 0.7331 - recall: 0.2842 - val_loss: 0.0011 - val_precision: 0.8743 - val_recall: 0.2674\n",
      "Learning Rate: 0.00011296774900984018\n",
      "Epoch 29/50\n",
      "639360/639360 [==============================] - 152s 238us/sample - loss: 0.0013 - precision: 0.7350 - recall: 0.2855 - val_loss: 0.0011 - val_precision: 0.8741 - val_recall: 0.2697\n",
      "Learning Rate: 0.00010731936017691623\n",
      "Epoch 30/50\n",
      "639360/639360 [==============================] - 153s 239us/sample - loss: 0.0013 - precision: 0.7352 - recall: 0.2867 - val_loss: 0.0011 - val_precision: 0.8758 - val_recall: 0.2689\n",
      "Learning Rate: 0.0001019533952785423\n",
      "Epoch 31/50\n",
      "639360/639360 [==============================] - 158s 247us/sample - loss: 0.0013 - precision: 0.7360 - recall: 0.2879 - val_loss: 0.0011 - val_precision: 0.8734 - val_recall: 0.2705\n",
      "Learning Rate: 9.685572586022317e-05\n",
      "Epoch 32/50\n",
      "639360/639360 [==============================] - 172s 269us/sample - loss: 0.0012 - precision: 0.7369 - recall: 0.2891 - val_loss: 0.0011 - val_precision: 0.8701 - val_recall: 0.2751\n",
      "Learning Rate: 9.201294233207591e-05\n",
      "Epoch 33/50\n",
      "639360/639360 [==============================] - 172s 269us/sample - loss: 0.0012 - precision: 0.7370 - recall: 0.2899 - val_loss: 0.0011 - val_precision: 0.8719 - val_recall: 0.2741\n",
      "Learning Rate: 8.741229175939224e-05\n",
      "Epoch 34/50\n",
      "639360/639360 [==============================] - 174s 272us/sample - loss: 0.0012 - precision: 0.7375 - recall: 0.2906 - val_loss: 0.0011 - val_precision: 0.8728 - val_recall: 0.2736\n",
      "Learning Rate: 8.30416778626386e-05\n",
      "Epoch 35/50\n",
      "639360/639360 [==============================] - 173s 271us/sample - loss: 0.0012 - precision: 0.7376 - recall: 0.2916 - val_loss: 0.0011 - val_precision: 0.8740 - val_recall: 0.2735\n",
      "Learning Rate: 7.888959189585875e-05\n",
      "Epoch 36/50\n"
     ]
    },
    {
     "name": "stdout",
     "output_type": "stream",
     "text": [
      "639360/639360 [==============================] - 159s 249us/sample - loss: 0.0012 - precision: 0.7386 - recall: 0.2922 - val_loss: 0.0011 - val_precision: 0.8743 - val_recall: 0.2742\n",
      "Learning Rate: 7.49451126466738e-05\n",
      "Epoch 37/50\n",
      "639360/639360 [==============================] - 162s 254us/sample - loss: 0.0012 - precision: 0.7392 - recall: 0.2930 - val_loss: 0.0011 - val_precision: 0.8768 - val_recall: 0.2729\n",
      "Learning Rate: 7.119785805116407e-05\n",
      "Epoch 38/50\n",
      "639360/639360 [==============================] - 165s 258us/sample - loss: 0.0012 - precision: 0.7393 - recall: 0.2931 - val_loss: 0.0011 - val_precision: 0.8756 - val_recall: 0.2742\n",
      "Learning Rate: 6.763796445738989e-05\n",
      "Epoch 39/50\n",
      "639360/639360 [==============================] - 164s 257us/sample - loss: 0.0012 - precision: 0.7400 - recall: 0.2942 - val_loss: 0.0011 - val_precision: 0.8694 - val_recall: 0.2801\n",
      "Learning Rate: 6.425606588891241e-05\n",
      "Epoch 40/50\n",
      "639360/639360 [==============================] - 165s 258us/sample - loss: 0.0012 - precision: 0.7406 - recall: 0.2949 - val_loss: 0.0011 - val_precision: 0.8729 - val_recall: 0.2779\n",
      "Learning Rate: 6.104325948399491e-05\n",
      "Epoch 41/50\n",
      "639360/639360 [==============================] - 157s 245us/sample - loss: 0.0012 - precision: 0.7404 - recall: 0.2953 - val_loss: 0.0011 - val_precision: 0.8725 - val_recall: 0.2789\n",
      "Learning Rate: 5.7991098583443086e-05\n",
      "Epoch 42/50\n",
      "639360/639360 [==============================] - 152s 238us/sample - loss: 0.0012 - precision: 0.7404 - recall: 0.2959 - val_loss: 0.0011 - val_precision: 0.8725 - val_recall: 0.2791\n",
      "Learning Rate: 5.5091544345486904e-05\n",
      "Epoch 43/50\n",
      "639360/639360 [==============================] - 153s 239us/sample - loss: 0.0012 - precision: 0.7414 - recall: 0.2963 - val_loss: 0.0011 - val_precision: 0.8738 - val_recall: 0.2793\n",
      "Learning Rate: 5.2336965745780616e-05\n",
      "Epoch 44/50\n",
      "639360/639360 [==============================] - 169s 264us/sample - loss: 0.0012 - precision: 0.7415 - recall: 0.2965 - val_loss: 0.0011 - val_precision: 0.8713 - val_recall: 0.2813\n",
      "Learning Rate: 4.972011884092353e-05\n",
      "Epoch 45/50\n",
      "639360/639360 [==============================] - 173s 271us/sample - loss: 0.0012 - precision: 0.7417 - recall: 0.2977 - val_loss: 0.0011 - val_precision: 0.8704 - val_recall: 0.2815\n",
      "Learning Rate: 4.723411220766138e-05\n",
      "Epoch 46/50\n",
      "639360/639360 [==============================] - 173s 271us/sample - loss: 0.0012 - precision: 0.7417 - recall: 0.2979 - val_loss: 0.0011 - val_precision: 0.8713 - val_recall: 0.2818\n",
      "Learning Rate: 4.4872406942886296e-05\n",
      "Epoch 47/50\n",
      "639360/639360 [==============================] - 168s 263us/sample - loss: 0.0012 - precision: 0.7420 - recall: 0.2981 - val_loss: 0.0011 - val_precision: 0.8735 - val_recall: 0.2808\n",
      "Learning Rate: 4.2628785558918024e-05\n",
      "Epoch 48/50\n",
      "639360/639360 [==============================] - 170s 266us/sample - loss: 0.0012 - precision: 0.7425 - recall: 0.2987 - val_loss: 0.0011 - val_precision: 0.8704 - val_recall: 0.2826\n",
      "Learning Rate: 4.049734507134417e-05\n",
      "Epoch 49/50\n",
      "639360/639360 [==============================] - 167s 262us/sample - loss: 0.0012 - precision: 0.7423 - recall: 0.2987 - val_loss: 0.0011 - val_precision: 0.8732 - val_recall: 0.2812\n",
      "Learning Rate: 3.847247626254102e-05\n",
      "Epoch 50/50\n",
      "639360/639360 [==============================] - 169s 265us/sample - loss: 0.0012 - precision: 0.7423 - recall: 0.2990 - val_loss: 0.0011 - val_precision: 0.8747 - val_recall: 0.2806\n"
     ]
    }
   ],
   "source": [
    "# Train the model\n",
    "result = model.fit(X_train, y_train_sparse.todense(out=y_train_placeholder),\n",
    "                   epochs=50,\n",
    "                   validation_data=(X_test, y_test_sparse.todense(out=y_test_placeholder)),\n",
    "                   batch_size=1024,\n",
    "                   callbacks=[callback]);"
   ]
  },
  {
   "cell_type": "code",
   "execution_count": 29,
   "metadata": {},
   "outputs": [
    {
     "data": {
      "image/png": "[encoded data removed]",
      "text/plain": [
       "<Figure size 432x288 with 1 Axes>"
      ]
     },
     "metadata": {
      "needs_background": "light"
     },
     "output_type": "display_data"
    }
   ],
   "source": [
    "# Plot the precision metric at each itteration\n",
    "plt.plot(result.history['precision'], label='train_precision');\n",
    "plt.plot(result.history['val_precision'], label='test_precision');\n",
    "plt.legend();"
   ]
  },
  {
   "cell_type": "code",
   "execution_count": 30,
   "metadata": {},
   "outputs": [
    {
     "data": {
      "image/png": "[encoded data removed]",
      "text/plain": [
       "<Figure size 432x288 with 1 Axes>"
      ]
     },
     "metadata": {
      "needs_background": "light"
     },
     "output_type": "display_data"
    }
   ],
   "source": [
    "# Plot the recall metric at each itteration\n",
    "plt.plot(result.history['recall'], label='train_recall');\n",
    "plt.plot(result.history['val_recall'], label='test_recall');\n",
    "plt.legend();"
   ]
  },
  {
   "cell_type": "code",
   "execution_count": null,
   "metadata": {},
   "outputs": [],
   "source": []
  },
  {
   "cell_type": "code",
   "execution_count": null,
   "metadata": {},
   "outputs": [],
   "source": []
  },
  {
   "cell_type": "code",
   "execution_count": null,
   "metadata": {},
   "outputs": [],
   "source": []
  },
  {
   "cell_type": "code",
   "execution_count": null,
   "metadata": {},
   "outputs": [],
   "source": []
  },
  {
   "cell_type": "code",
   "execution_count": null,
   "metadata": {},
   "outputs": [],
   "source": []
  },
  {
   "cell_type": "code",
   "execution_count": null,
   "metadata": {},
   "outputs": [],
   "source": []
  }
 ],
 "metadata": {
  "kernelspec": {
   "display_name": "Python 3",
   "language": "python",
   "name": "python3"
  },
  "language_info": {
   "codemirror_mode": {
    "name": "ipython",
    "version": 3
   },
   "file_extension": ".py",
   "mimetype": "text/x-python",
   "name": "python",
   "nbconvert_exporter": "python",
   "pygments_lexer": "ipython3",
   "version": "3.6.9"
  }
 },
 "nbformat": 4,
 "nbformat_minor": 4
}
