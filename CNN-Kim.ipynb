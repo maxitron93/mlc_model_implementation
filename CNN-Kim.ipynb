{
 "cells": [
  {
   "cell_type": "code",
   "execution_count": 1,
   "metadata": {},
   "outputs": [],
   "source": [
    "# !pip install --upgrade pip"
   ]
  },
  {
   "cell_type": "code",
   "execution_count": 2,
   "metadata": {},
   "outputs": [],
   "source": [
    "# !pip install pandas"
   ]
  },
  {
   "cell_type": "code",
   "execution_count": 3,
   "metadata": {},
   "outputs": [],
   "source": [
    "# !pip install -U scikit-learn"
   ]
  },
  {
   "cell_type": "markdown",
   "metadata": {},
   "source": [
    "# CNN-Kim Model\n",
    "I can't get it exactly the same now because I'm using custom-trained word vectors instead of pre-trained ones, but I can still try to build a similar architecture.\n",
    "\n",
    "Since there are different variations of his model, I'll start with a model with the following architecture:\n",
    "- Using custom-trained word vectors (dimension = 200)\n",
    "- Keeping those word vectors static during the trainin process (maybe - TBD while implementing)\n",
    "- Single-channel\n",
    "- Filter windows height of 3, 4, 5 with 100 feature maps each\n",
    "- MaxPooling to extract the features from each feature map\n",
    "- Dropout rate of 0.5\n",
    "- ReLu activation function "
   ]
  },
  {
   "cell_type": "code",
   "execution_count": 4,
   "metadata": {},
   "outputs": [],
   "source": [
    "# Import the libraries\n",
    "import os\n",
    "import numpy as np\n",
    "from numpy import load\n",
    "from scipy.sparse import load_npz\n",
    "import tensorflow as tf\n",
    "from tensorflow.keras.mixed_precision import experimental as mixed_precision\n",
    "from tensorflow.keras.layers import Input, Conv1D, GlobalMaxPooling1D, concatenate, Dropout, Dense\n",
    "from tensorflow.keras.models import Model\n",
    "from tensorflow.keras.metrics import Precision, Recall\n",
    "import matplotlib.pyplot as plt"
   ]
  },
  {
   "cell_type": "code",
   "execution_count": 5,
   "metadata": {},
   "outputs": [
    {
     "data": {
      "text/plain": [
       "[PhysicalDevice(name='/physical_device:GPU:0', device_type='GPU')]"
      ]
     },
     "execution_count": 5,
     "metadata": {},
     "output_type": "execute_result"
    }
   ],
   "source": [
    "# Check that a GPU is available\n",
    "tf.config.experimental.list_physical_devices('GPU')"
   ]
  },
  {
   "cell_type": "code",
   "execution_count": 6,
   "metadata": {},
   "outputs": [
    {
     "name": "stdout",
     "output_type": "stream",
     "text": [
      "1 Physical GPUs, 1 Logical GPUs\n"
     ]
    }
   ],
   "source": [
    "# Not sure why, but I need this to get TF to work\n",
    "# from: https://www.tensorflow.org/guide/gpu#limiting_gpu_memory_growth\n",
    "gpus = tf.config.experimental.list_physical_devices('GPU')\n",
    "if gpus:\n",
    "  try:\n",
    "    # Currently, memory growth needs to be the same across GPUs\n",
    "    for gpu in gpus:\n",
    "      tf.config.experimental.set_memory_growth(gpu, True)\n",
    "    logical_gpus = tf.config.experimental.list_logical_devices('GPU')\n",
    "    print(len(gpus), \"Physical GPUs,\", len(logical_gpus), \"Logical GPUs\")\n",
    "  except RuntimeError as e:\n",
    "    # Memory growth must be set before GPUs have been initialized\n",
    "    print(e)"
   ]
  },
  {
   "cell_type": "code",
   "execution_count": 7,
   "metadata": {},
   "outputs": [],
   "source": [
    "# Enable mixed precision training\n",
    "# policy = mixed_precision.Policy('mixed_float16')\n",
    "# mixed_precision.set_policy(policy)"
   ]
  },
  {
   "cell_type": "markdown",
   "metadata": {},
   "source": [
    "### Load in the data"
   ]
  },
  {
   "cell_type": "code",
   "execution_count": 8,
   "metadata": {},
   "outputs": [],
   "source": [
    "# Define the load path\n",
    "load_path = '../Datasets/AmazonCat-13K/processed/'"
   ]
  },
  {
   "cell_type": "code",
   "execution_count": 9,
   "metadata": {},
   "outputs": [],
   "source": [
    "# Load the X_train\n",
    "X_train_data = load('../Datasets/AmazonCat-13K/processed/' + 'X_train.npz')\n",
    "X_train = X_train_data['arr_0']"
   ]
  },
  {
   "cell_type": "code",
   "execution_count": 10,
   "metadata": {},
   "outputs": [],
   "source": [
    "# Load the X_test\n",
    "X_test_data = load('../Datasets/AmazonCat-13K/processed/' + 'X_test.npz')\n",
    "X_test = X_test_data['arr_0']"
   ]
  },
  {
   "cell_type": "code",
   "execution_count": 11,
   "metadata": {},
   "outputs": [],
   "source": [
    "# Load y_train\n",
    "y_train_sparse = load_npz(load_path + 'y_train_sparse.npz')"
   ]
  },
  {
   "cell_type": "code",
   "execution_count": 12,
   "metadata": {},
   "outputs": [],
   "source": [
    "# Load y_test\n",
    "y_test_sparse = load_npz(load_path + 'y_test_sparse.npz')"
   ]
  },
  {
   "cell_type": "code",
   "execution_count": 13,
   "metadata": {},
   "outputs": [],
   "source": [
    "# Create placeholder matrices that will be 'injected' with the values later\n",
    "y_train_placeholder = np.zeros((y_train_sparse.shape[0], y_train_sparse.shape[1]), dtype='int8')\n",
    "y_test_placeholder = np.zeros((y_test_sparse.shape[0], y_test_sparse.shape[1]), dtype='int8')"
   ]
  },
  {
   "cell_type": "code",
   "execution_count": 14,
   "metadata": {},
   "outputs": [],
   "source": [
    "# # Create y_train\n",
    "# y_train = tf.convert_to_tensor(y_train_sparse.todense(out=y_train_placeholder), dtype=tf.int8)"
   ]
  },
  {
   "cell_type": "code",
   "execution_count": 15,
   "metadata": {},
   "outputs": [],
   "source": [
    "# # Create y_test\n",
    "# y_test = tf.convert_to_tensor(y_test_sparse.todense(out=y_test_placeholder), dtype=tf.int8)"
   ]
  },
  {
   "cell_type": "code",
   "execution_count": 16,
   "metadata": {},
   "outputs": [
    {
     "name": "stdout",
     "output_type": "stream",
     "text": [
      "X_train: (639360, 512)\n",
      "X_test: (213120, 512)\n"
     ]
    }
   ],
   "source": [
    "# Check the shape of the X data\n",
    "print(f'X_train: {X_train.shape}')\n",
    "print(f'X_test: {X_test.shape}')"
   ]
  },
  {
   "cell_type": "code",
   "execution_count": 17,
   "metadata": {},
   "outputs": [
    {
     "name": "stdout",
     "output_type": "stream",
     "text": [
      "y_train: (639360, 13680)\n",
      "y_test: (213120, 13680)\n"
     ]
    }
   ],
   "source": [
    "# Check the shape of the X data\n",
    "print(f'y_train: {y_train_sparse.shape}')\n",
    "print(f'y_test: {y_test_sparse.shape}')"
   ]
  },
  {
   "cell_type": "markdown",
   "metadata": {},
   "source": [
    "### Create the embedding layer"
   ]
  },
  {
   "cell_type": "code",
   "execution_count": 18,
   "metadata": {},
   "outputs": [],
   "source": [
    "# Create the embedding layer definition\n",
    "class PretrainedEmbedding(tf.keras.layers.Layer):\n",
    "    \"\"\"Non-trainable embedding layer.\"\"\"\n",
    "\n",
    "    def __init__(self, embeddings, dropout_rate=0.2, **kwargs):\n",
    "        \"\"\"\"Instantiate the layer using a pre-defined embedding matrix.\"\"\"\n",
    "        super().__init__(**kwargs)\n",
    "        self.embeddings = tf.constant(embeddings)\n",
    "        # if you want to add some dropout (or normalization, etc.)\n",
    "        self.dropout = tf.keras.layers.Dropout(rate=dropout_rate)\n",
    "\n",
    "    def call(self, inputs, training=None):\n",
    "        \"\"\"Embed some input tokens and optionally apply dropout.\"\"\"\n",
    "        output = tf.nn.embedding_lookup(self.embeddings, inputs)\n",
    "        return self.dropout(output, training=training)"
   ]
  },
  {
   "cell_type": "code",
   "execution_count": 19,
   "metadata": {},
   "outputs": [],
   "source": [
    "# Load in the embedding matrix\n",
    "embedding_matrix = np.loadtxt(load_path + 'embedding_matrix.csv', delimiter=',')"
   ]
  },
  {
   "cell_type": "code",
   "execution_count": 20,
   "metadata": {},
   "outputs": [
    {
     "data": {
      "text/plain": [
       "(200000, 200)"
      ]
     },
     "execution_count": 20,
     "metadata": {},
     "output_type": "execute_result"
    }
   ],
   "source": [
    "# Check the embedding matrix size\n",
    "embedding_matrix.shape"
   ]
  },
  {
   "cell_type": "markdown",
   "metadata": {},
   "source": [
    "### Define the model layers"
   ]
  },
  {
   "cell_type": "code",
   "execution_count": 21,
   "metadata": {},
   "outputs": [
    {
     "name": "stdout",
     "output_type": "stream",
     "text": [
      "WARNING:tensorflow:Layer dropout is casting an input tensor from dtype float64 to the layer's dtype of float32, which is new behavior in TensorFlow 2.  The layer has dtype float32 because it's dtype defaults to floatx.\n",
      "\n",
      "If you intended to run this layer in float32, you can safely ignore this warning. If in doubt, this warning is likely only an issue if you are porting a TensorFlow 1.X model to TensorFlow 2.\n",
      "\n",
      "To change all layers to have dtype float64 by default, call `tf.keras.backend.set_floatx('float64')`. To change just this layer, pass dtype='float64' to the layer constructor. If you are the author of this layer, you can disable autocasting by passing autocast=False to the base Layer constructor.\n",
      "\n"
     ]
    }
   ],
   "source": [
    "# Define the Input and Embedding layers\n",
    "i = Input(shape=(X_train.shape[1]), dtype=tf.int32)\n",
    "x = PretrainedEmbedding(embedding_matrix, dropout_rate=0)(i)\n",
    "\n",
    "# Convolution with window size = 3  \n",
    "x3 = Conv1D(filters=96, \n",
    "            kernel_size=3, \n",
    "            strides=1,\n",
    "            padding='valid',\n",
    "            activation='relu',\n",
    "            use_bias=True\n",
    "           )(x)\n",
    "x3 = GlobalMaxPooling1D()(x3)\n",
    "\n",
    "# Convolution with window size = 4\n",
    "x4 = Conv1D(filters=96, \n",
    "            kernel_size=4, \n",
    "            strides=1,\n",
    "            padding='valid',\n",
    "            activation='relu',\n",
    "            use_bias=True\n",
    "           )(x)\n",
    "x4 = GlobalMaxPooling1D()(x4)\n",
    "\n",
    "# Convolution with window size = 5\n",
    "x5 = Conv1D(filters=96, \n",
    "            kernel_size=5, \n",
    "            strides=1,\n",
    "            padding='valid',\n",
    "            activation='relu',\n",
    "            use_bias=True\n",
    "           )(x)\n",
    "x5 = GlobalMaxPooling1D()(x5)\n",
    "\n",
    "# Concatenated max-pooling layers with Dropout (CNN-Kim uses a dropout rate of 0.5)\n",
    "concatenated = concatenate([x3, x4, x5])\n",
    "x = Dropout(rate=0.5)(concatenated)\n",
    "\n",
    "# Final, fully-connected Dense layer\n",
    "x = Dense(y_train_sparse.shape[1], activation='sigmoid')(x)"
   ]
  },
  {
   "cell_type": "code",
   "execution_count": 22,
   "metadata": {},
   "outputs": [],
   "source": [
    "# Build the model\n",
    "model = Model(i, x)"
   ]
  },
  {
   "cell_type": "code",
   "execution_count": 23,
   "metadata": {},
   "outputs": [],
   "source": [
    "# Remove unused vars (to save memory)\n",
    "del embedding_matrix"
   ]
  },
  {
   "cell_type": "code",
   "execution_count": 24,
   "metadata": {},
   "outputs": [
    {
     "name": "stdout",
     "output_type": "stream",
     "text": [
      "Model: \"model\"\n",
      "__________________________________________________________________________________________________\n",
      "Layer (type)                    Output Shape         Param #     Connected to                     \n",
      "==================================================================================================\n",
      "input_1 (InputLayer)            [(None, 512)]        0                                            \n",
      "__________________________________________________________________________________________________\n",
      "pretrained_embedding (Pretraine (None, 512, 200)     0           input_1[0][0]                    \n",
      "__________________________________________________________________________________________________\n",
      "conv1d (Conv1D)                 (None, 510, 96)      57696       pretrained_embedding[0][0]       \n",
      "__________________________________________________________________________________________________\n",
      "conv1d_1 (Conv1D)               (None, 509, 96)      76896       pretrained_embedding[0][0]       \n",
      "__________________________________________________________________________________________________\n",
      "conv1d_2 (Conv1D)               (None, 508, 96)      96096       pretrained_embedding[0][0]       \n",
      "__________________________________________________________________________________________________\n",
      "global_max_pooling1d (GlobalMax (None, 96)           0           conv1d[0][0]                     \n",
      "__________________________________________________________________________________________________\n",
      "global_max_pooling1d_1 (GlobalM (None, 96)           0           conv1d_1[0][0]                   \n",
      "__________________________________________________________________________________________________\n",
      "global_max_pooling1d_2 (GlobalM (None, 96)           0           conv1d_2[0][0]                   \n",
      "__________________________________________________________________________________________________\n",
      "concatenate (Concatenate)       (None, 288)          0           global_max_pooling1d[0][0]       \n",
      "                                                                 global_max_pooling1d_1[0][0]     \n",
      "                                                                 global_max_pooling1d_2[0][0]     \n",
      "__________________________________________________________________________________________________\n",
      "dropout_1 (Dropout)             (None, 288)          0           concatenate[0][0]                \n",
      "__________________________________________________________________________________________________\n",
      "dense (Dense)                   (None, 13680)        3953520     dropout_1[0][0]                  \n",
      "==================================================================================================\n",
      "Total params: 4,184,208\n",
      "Trainable params: 4,184,208\n",
      "Non-trainable params: 0\n",
      "__________________________________________________________________________________________________\n"
     ]
    }
   ],
   "source": [
    "# Have a look at the model\n",
    "model.summary()"
   ]
  },
  {
   "cell_type": "markdown",
   "metadata": {},
   "source": [
    "### Define how the model should be trained"
   ]
  },
  {
   "cell_type": "code",
   "execution_count": 25,
   "metadata": {},
   "outputs": [],
   "source": [
    "# Define how the model should be trained\n",
    "model.compile(optimizer=tf.keras.optimizers.Adam(learning_rate = 0.025), # CNN-Kim uses SGD with Adelta update rule\n",
    "              loss='binary_crossentropy',\n",
    "              metrics=[Precision(), Recall()])"
   ]
  },
  {
   "cell_type": "code",
   "execution_count": 26,
   "metadata": {},
   "outputs": [],
   "source": [
    "# Create learning rate decay function\n",
    "def lr_scheduler(epoch, lr):\n",
    "    learning_rate = lr * 0.9\n",
    "    print(f'Learning Rate: {learning_rate}')\n",
    "    return learning_rate\n",
    "\n",
    "# define the learning rate scheduler\n",
    "callback = tf.keras.callbacks.LearningRateScheduler(lr_scheduler)"
   ]
  },
  {
   "cell_type": "markdown",
   "metadata": {},
   "source": [
    "### Train the model"
   ]
  },
  {
   "cell_type": "code",
   "execution_count": 28,
   "metadata": {
    "scrolled": true
   },
   "outputs": [
    {
     "name": "stdout",
     "output_type": "stream",
     "text": [
      "Train on 639360 samples, validate on 213120 samples\n",
      "Learning Rate: 0.02250000033527613\n",
      "Epoch 1/75\n",
      "639360/639360 [==============================] - 156s 244us/sample - loss: 0.0085 - precision: 0.0408 - recall: 0.0958 - val_loss: 0.0031 - val_precision: 0.8639 - val_recall: 0.1385\n",
      "Learning Rate: 0.020250000804662705\n",
      "Epoch 2/75\n",
      "639360/639360 [==============================] - 151s 237us/sample - loss: 0.0036 - precision: 0.4645 - recall: 0.1702 - val_loss: 0.0028 - val_precision: 0.8481 - val_recall: 0.1747\n",
      "Learning Rate: 0.01822500005364418\n",
      "Epoch 3/75\n",
      "639360/639360 [==============================] - 151s 237us/sample - loss: 0.0028 - precision: 0.5282 - recall: 0.2085 - val_loss: 0.0022 - val_precision: 0.8205 - val_recall: 0.2058\n",
      "Learning Rate: 0.01640249937772751\n",
      "Epoch 4/75\n",
      "639360/639360 [==============================] - 152s 237us/sample - loss: 0.0023 - precision: 0.5801 - recall: 0.2310 - val_loss: 0.0019 - val_precision: 0.8643 - val_recall: 0.2189\n",
      "Learning Rate: 0.014762249775230885\n",
      "Epoch 5/75\n",
      "639360/639360 [==============================] - 152s 237us/sample - loss: 0.0020 - precision: 0.6084 - recall: 0.2444 - val_loss: 0.0017 - val_precision: 0.8447 - val_recall: 0.2283\n",
      "Learning Rate: 0.013286024797707796\n",
      "Epoch 6/75\n",
      "639360/639360 [==============================] - 152s 238us/sample - loss: 0.0018 - precision: 0.6313 - recall: 0.2551 - val_loss: 0.0017 - val_precision: 0.7815 - val_recall: 0.2697\n",
      "Learning Rate: 0.011957421898841858\n",
      "Epoch 7/75\n",
      "639360/639360 [==============================] - 152s 237us/sample - loss: 0.0018 - precision: 0.6376 - recall: 0.2613 - val_loss: 0.0014 - val_precision: 0.8338 - val_recall: 0.2616\n",
      "Learning Rate: 0.010761679708957672\n",
      "Epoch 8/75\n",
      "639360/639360 [==============================] - 152s 237us/sample - loss: 0.0016 - precision: 0.6584 - recall: 0.2698 - val_loss: 0.0014 - val_precision: 0.8413 - val_recall: 0.2598\n",
      "Learning Rate: 0.009685512073338032\n",
      "Epoch 9/75\n",
      "639360/639360 [==============================] - 152s 238us/sample - loss: 0.0015 - precision: 0.6720 - recall: 0.2783 - val_loss: 0.0013 - val_precision: 0.8609 - val_recall: 0.2637\n",
      "Learning Rate: 0.008716960530728101\n",
      "Epoch 10/75\n",
      "639360/639360 [==============================] - 152s 238us/sample - loss: 0.0015 - precision: 0.6761 - recall: 0.2839 - val_loss: 0.0013 - val_precision: 0.8359 - val_recall: 0.2839\n",
      "Learning Rate: 0.00784526439383626\n",
      "Epoch 11/75\n",
      "639360/639360 [==============================] - 152s 238us/sample - loss: 0.0014 - precision: 0.6840 - recall: 0.2891 - val_loss: 0.0013 - val_precision: 0.8432 - val_recall: 0.2852\n",
      "Learning Rate: 0.0070607375353574755\n",
      "Epoch 12/75\n",
      "639360/639360 [==============================] - 152s 238us/sample - loss: 0.0014 - precision: 0.6893 - recall: 0.2958 - val_loss: 0.0012 - val_precision: 0.8584 - val_recall: 0.2821\n",
      "Learning Rate: 0.006354663614183665\n",
      "Epoch 13/75\n",
      "639360/639360 [==============================] - 152s 238us/sample - loss: 0.0014 - precision: 0.6938 - recall: 0.3007 - val_loss: 0.0012 - val_precision: 0.8577 - val_recall: 0.2914\n",
      "Learning Rate: 0.005719197168946266\n",
      "Epoch 14/75\n",
      "639360/639360 [==============================] - 152s 238us/sample - loss: 0.0013 - precision: 0.7002 - recall: 0.3068 - val_loss: 0.0012 - val_precision: 0.8515 - val_recall: 0.3049\n",
      "Learning Rate: 0.0051472772844135765\n",
      "Epoch 15/75\n",
      "639360/639360 [==============================] - 152s 238us/sample - loss: 0.0013 - precision: 0.7058 - recall: 0.3128 - val_loss: 0.0011 - val_precision: 0.8577 - val_recall: 0.3070\n",
      "Learning Rate: 0.00463254963979125\n",
      "Epoch 16/75\n",
      "639360/639360 [==============================] - 152s 238us/sample - loss: 0.0013 - precision: 0.7109 - recall: 0.3184 - val_loss: 0.0011 - val_precision: 0.8726 - val_recall: 0.3026\n",
      "Learning Rate: 0.004169294843450189\n",
      "Epoch 17/75\n",
      "639360/639360 [==============================] - 152s 238us/sample - loss: 0.0013 - precision: 0.7188 - recall: 0.3245 - val_loss: 0.0011 - val_precision: 0.8586 - val_recall: 0.3160\n",
      "Learning Rate: 0.0037523651495575904\n",
      "Epoch 18/75\n",
      "639360/639360 [==============================] - 152s 238us/sample - loss: 0.0012 - precision: 0.7235 - recall: 0.3301 - val_loss: 0.0011 - val_precision: 0.8642 - val_recall: 0.3207\n",
      "Learning Rate: 0.0033771287184208632\n",
      "Epoch 19/75\n",
      "639360/639360 [==============================] - 152s 238us/sample - loss: 0.0012 - precision: 0.7285 - recall: 0.3352 - val_loss: 0.0011 - val_precision: 0.8616 - val_recall: 0.3280\n",
      "Learning Rate: 0.0030394157627597453\n",
      "Epoch 20/75\n",
      "639360/639360 [==============================] - 152s 238us/sample - loss: 0.0012 - precision: 0.7322 - recall: 0.3394 - val_loss: 0.0011 - val_precision: 0.8655 - val_recall: 0.3293\n",
      "Learning Rate: 0.002735474123619497\n",
      "Epoch 21/75\n",
      "639360/639360 [==============================] - 152s 238us/sample - loss: 0.0012 - precision: 0.7361 - recall: 0.3441 - val_loss: 0.0010 - val_precision: 0.8664 - val_recall: 0.3340\n",
      "Learning Rate: 0.0024619267322123052\n",
      "Epoch 22/75\n",
      "639360/639360 [==============================] - 152s 238us/sample - loss: 0.0012 - precision: 0.7401 - recall: 0.3480 - val_loss: 0.0010 - val_precision: 0.8696 - val_recall: 0.3367\n",
      "Learning Rate: 0.0022157341009005904\n",
      "Epoch 23/75\n",
      "639360/639360 [==============================] - 152s 238us/sample - loss: 0.0011 - precision: 0.7437 - recall: 0.3523 - val_loss: 0.0010 - val_precision: 0.8789 - val_recall: 0.3321\n",
      "Learning Rate: 0.001994160795584321\n",
      "Epoch 24/75\n",
      "639360/639360 [==============================] - 152s 238us/sample - loss: 0.0011 - precision: 0.7472 - recall: 0.3555 - val_loss: 0.0010 - val_precision: 0.8721 - val_recall: 0.3410\n",
      "Learning Rate: 0.0017947446322068572\n",
      "Epoch 25/75\n",
      "639360/639360 [==============================] - 152s 238us/sample - loss: 0.0011 - precision: 0.7500 - recall: 0.3589 - val_loss: 0.0010 - val_precision: 0.8713 - val_recall: 0.3449\n",
      "Learning Rate: 0.0016152701689861714\n",
      "Epoch 26/75\n",
      "639360/639360 [==============================] - 152s 238us/sample - loss: 0.0011 - precision: 0.7524 - recall: 0.3614 - val_loss: 0.0010 - val_precision: 0.8750 - val_recall: 0.3431\n",
      "Learning Rate: 0.0014537431416101754\n",
      "Epoch 27/75\n",
      "639360/639360 [==============================] - 152s 238us/sample - loss: 0.0011 - precision: 0.7549 - recall: 0.3637 - val_loss: 9.9993e-04 - val_precision: 0.8756 - val_recall: 0.3450\n",
      "Learning Rate: 0.0013083687750622631\n",
      "Epoch 28/75\n",
      "639360/639360 [==============================] - 152s 238us/sample - loss: 0.0011 - precision: 0.7571 - recall: 0.3663 - val_loss: 9.9529e-04 - val_precision: 0.8735 - val_recall: 0.3495\n",
      "Learning Rate: 0.0011775318766012789\n",
      "Epoch 29/75\n",
      "639360/639360 [==============================] - 152s 238us/sample - loss: 0.0011 - precision: 0.7590 - recall: 0.3684 - val_loss: 9.8870e-04 - val_precision: 0.8724 - val_recall: 0.3528\n",
      "Learning Rate: 0.001059778709895909\n",
      "Epoch 30/75\n",
      "639360/639360 [==============================] - 152s 238us/sample - loss: 0.0011 - precision: 0.7606 - recall: 0.3703 - val_loss: 9.8331e-04 - val_precision: 0.8699 - val_recall: 0.3570\n",
      "Learning Rate: 0.0009538008598610759\n",
      "Epoch 31/75\n",
      "639360/639360 [==============================] - 152s 238us/sample - loss: 0.0011 - precision: 0.7621 - recall: 0.3718 - val_loss: 9.8093e-04 - val_precision: 0.8707 - val_recall: 0.3566\n",
      "Learning Rate: 0.0008584207738749683\n",
      "Epoch 32/75\n",
      "639360/639360 [==============================] - 152s 238us/sample - loss: 0.0010 - precision: 0.7638 - recall: 0.3735 - val_loss: 9.7983e-04 - val_precision: 0.8727 - val_recall: 0.3570\n",
      "Learning Rate: 0.0007725787174422294\n",
      "Epoch 33/75\n",
      "639360/639360 [==============================] - 152s 238us/sample - loss: 0.0010 - precision: 0.7652 - recall: 0.3746 - val_loss: 9.7754e-04 - val_precision: 0.8732 - val_recall: 0.3570\n",
      "Learning Rate: 0.000695320829981938\n",
      "Epoch 34/75\n",
      "639360/639360 [==============================] - 152s 238us/sample - loss: 0.0010 - precision: 0.7666 - recall: 0.3764 - val_loss: 9.7454e-04 - val_precision: 0.8722 - val_recall: 0.3599\n",
      "Learning Rate: 0.0006257887522224337\n",
      "Epoch 35/75\n",
      "639360/639360 [==============================] - 152s 238us/sample - loss: 0.0010 - precision: 0.7670 - recall: 0.3773 - val_loss: 9.7466e-04 - val_precision: 0.8746 - val_recall: 0.3576\n",
      "Learning Rate: 0.0005632098822388798\n",
      "Epoch 36/75\n"
     ]
    },
    {
     "name": "stdout",
     "output_type": "stream",
     "text": [
      "639360/639360 [==============================] - 151s 237us/sample - loss: 0.0010 - precision: 0.7687 - recall: 0.3786 - val_loss: 9.7087e-04 - val_precision: 0.8715 - val_recall: 0.3619\n",
      "Learning Rate: 0.0005068888887763024\n",
      "Epoch 37/75\n",
      "639360/639360 [==============================] - 151s 237us/sample - loss: 0.0010 - precision: 0.7695 - recall: 0.3797 - val_loss: 9.7090e-04 - val_precision: 0.8712 - val_recall: 0.3624\n",
      "Learning Rate: 0.00045620001037605107\n",
      "Epoch 38/75\n",
      "639360/639360 [==============================] - 151s 237us/sample - loss: 0.0010 - precision: 0.7698 - recall: 0.3803 - val_loss: 9.7106e-04 - val_precision: 0.8742 - val_recall: 0.3607\n",
      "Learning Rate: 0.000410580009338446\n",
      "Epoch 39/75\n",
      "639360/639360 [==============================] - 151s 237us/sample - loss: 0.0010 - precision: 0.7704 - recall: 0.3809 - val_loss: 9.6949e-04 - val_precision: 0.8730 - val_recall: 0.3617\n",
      "Learning Rate: 0.0003695220162626356\n",
      "Epoch 40/75\n",
      "639360/639360 [==============================] - 151s 237us/sample - loss: 0.0010 - precision: 0.7721 - recall: 0.3815 - val_loss: 9.6757e-04 - val_precision: 0.8723 - val_recall: 0.3636\n",
      "Learning Rate: 0.0003325698198750615\n",
      "Epoch 41/75\n",
      "639360/639360 [==============================] - 151s 237us/sample - loss: 0.0010 - precision: 0.7720 - recall: 0.3824 - val_loss: 9.6678e-04 - val_precision: 0.8732 - val_recall: 0.3637\n",
      "Learning Rate: 0.0002993128378875554\n",
      "Epoch 42/75\n",
      "639360/639360 [==============================] - 151s 237us/sample - loss: 0.0010 - precision: 0.7728 - recall: 0.3830 - val_loss: 9.6473e-04 - val_precision: 0.8683 - val_recall: 0.3671\n",
      "Learning Rate: 0.0002693815593374893\n",
      "Epoch 43/75\n",
      "639360/639360 [==============================] - 151s 237us/sample - loss: 0.0010 - precision: 0.7737 - recall: 0.3837 - val_loss: 9.6467e-04 - val_precision: 0.8723 - val_recall: 0.3645\n",
      "Learning Rate: 0.00024244340602308512\n",
      "Epoch 44/75\n",
      "639360/639360 [==============================] - 151s 237us/sample - loss: 0.0010 - precision: 0.7737 - recall: 0.3840 - val_loss: 9.6420e-04 - val_precision: 0.8751 - val_recall: 0.3634\n",
      "Learning Rate: 0.0002181990654207766\n",
      "Epoch 45/75\n",
      "639360/639360 [==============================] - 151s 237us/sample - loss: 0.0010 - precision: 0.7740 - recall: 0.3842 - val_loss: 9.6380e-04 - val_precision: 0.8727 - val_recall: 0.3652\n",
      "Learning Rate: 0.00019637916411738843\n",
      "Epoch 46/75\n",
      "639360/639360 [==============================] - 151s 237us/sample - loss: 0.0010 - precision: 0.7746 - recall: 0.3849 - val_loss: 9.6269e-04 - val_precision: 0.8740 - val_recall: 0.3647\n",
      "Learning Rate: 0.00017674124246696012\n",
      "Epoch 47/75\n",
      "639360/639360 [==============================] - 151s 237us/sample - loss: 9.9928e-04 - precision: 0.7748 - recall: 0.3853 - val_loss: 9.6240e-04 - val_precision: 0.8744 - val_recall: 0.3653\n",
      "Learning Rate: 0.0001590671221492812\n",
      "Epoch 48/75\n",
      "639360/639360 [==============================] - 151s 237us/sample - loss: 9.9871e-04 - precision: 0.7750 - recall: 0.3854 - val_loss: 9.6220e-04 - val_precision: 0.8759 - val_recall: 0.3635\n",
      "Learning Rate: 0.0001431604046956636\n",
      "Epoch 49/75\n",
      "639360/639360 [==============================] - 151s 237us/sample - loss: 9.9747e-04 - precision: 0.7761 - recall: 0.3859 - val_loss: 9.6246e-04 - val_precision: 0.8739 - val_recall: 0.3650\n",
      "Learning Rate: 0.0001288443629164249\n",
      "Epoch 50/75\n",
      "639360/639360 [==============================] - 151s 237us/sample - loss: 9.9634e-04 - precision: 0.7755 - recall: 0.3859 - val_loss: 9.6147e-04 - val_precision: 0.8736 - val_recall: 0.3658\n",
      "Learning Rate: 0.00011595992400543764\n",
      "Epoch 51/75\n",
      "639360/639360 [==============================] - 151s 237us/sample - loss: 9.9626e-04 - precision: 0.7757 - recall: 0.3859 - val_loss: 9.6184e-04 - val_precision: 0.8744 - val_recall: 0.3650\n",
      "Learning Rate: 0.00010436393422423862\n",
      "Epoch 52/75\n",
      "639360/639360 [==============================] - 151s 237us/sample - loss: 9.9454e-04 - precision: 0.7761 - recall: 0.3864 - val_loss: 9.6154e-04 - val_precision: 0.8745 - val_recall: 0.3654\n",
      "Learning Rate: 9.392754145665094e-05\n",
      "Epoch 53/75\n",
      "639360/639360 [==============================] - 151s 237us/sample - loss: 9.9328e-04 - precision: 0.7760 - recall: 0.3868 - val_loss: 9.6144e-04 - val_precision: 0.8748 - val_recall: 0.3657\n",
      "Learning Rate: 8.453478731098586e-05\n",
      "Epoch 54/75\n",
      "639360/639360 [==============================] - 151s 237us/sample - loss: 9.9331e-04 - precision: 0.7765 - recall: 0.3867 - val_loss: 9.6110e-04 - val_precision: 0.8744 - val_recall: 0.3657\n",
      "Learning Rate: 7.608131054439583e-05\n",
      "Epoch 55/75\n",
      "639360/639360 [==============================] - 151s 237us/sample - loss: 9.9315e-04 - precision: 0.7765 - recall: 0.3867 - val_loss: 9.6116e-04 - val_precision: 0.8739 - val_recall: 0.3662\n",
      "Learning Rate: 6.84731814544648e-05\n",
      "Epoch 56/75\n",
      "639360/639360 [==============================] - 151s 237us/sample - loss: 9.9158e-04 - precision: 0.7766 - recall: 0.3870 - val_loss: 9.6099e-04 - val_precision: 0.8751 - val_recall: 0.3654\n",
      "Learning Rate: 6.162586068967358e-05\n",
      "Epoch 57/75\n",
      "639360/639360 [==============================] - 151s 237us/sample - loss: 9.9159e-04 - precision: 0.7769 - recall: 0.3868 - val_loss: 9.6016e-04 - val_precision: 0.8736 - val_recall: 0.3669\n",
      "Learning Rate: 5.546327593037859e-05\n",
      "Epoch 58/75\n",
      "639360/639360 [==============================] - 151s 237us/sample - loss: 9.9158e-04 - precision: 0.7770 - recall: 0.3870 - val_loss: 9.6001e-04 - val_precision: 0.8738 - val_recall: 0.3665\n",
      "Learning Rate: 4.991694768250454e-05\n",
      "Epoch 59/75\n",
      "639360/639360 [==============================] - 151s 237us/sample - loss: 9.9033e-04 - precision: 0.7776 - recall: 0.3874 - val_loss: 9.6041e-04 - val_precision: 0.8743 - val_recall: 0.3663\n",
      "Learning Rate: 4.4925252586836e-05\n",
      "Epoch 60/75\n",
      "639360/639360 [==============================] - 151s 237us/sample - loss: 9.8971e-04 - precision: 0.7772 - recall: 0.3875 - val_loss: 9.5997e-04 - val_precision: 0.8738 - val_recall: 0.3668\n",
      "Learning Rate: 4.0432726018480024e-05\n",
      "Epoch 61/75\n",
      "639360/639360 [==============================] - 151s 237us/sample - loss: 9.8873e-04 - precision: 0.7776 - recall: 0.3877 - val_loss: 9.6035e-04 - val_precision: 0.8748 - val_recall: 0.3662\n",
      "Learning Rate: 3.6389453089213934e-05\n",
      "Epoch 62/75\n",
      "639360/639360 [==============================] - 151s 237us/sample - loss: 9.9047e-04 - precision: 0.7775 - recall: 0.3872 - val_loss: 9.6017e-04 - val_precision: 0.8745 - val_recall: 0.3664\n",
      "Learning Rate: 3.275050876254682e-05\n",
      "Epoch 63/75\n",
      "639360/639360 [==============================] - 151s 237us/sample - loss: 9.8832e-04 - precision: 0.7778 - recall: 0.3884 - val_loss: 9.5981e-04 - val_precision: 0.8747 - val_recall: 0.3664\n",
      "Learning Rate: 2.9475456904037857e-05\n",
      "Epoch 64/75\n",
      "639360/639360 [==============================] - 151s 237us/sample - loss: 9.8859e-04 - precision: 0.7774 - recall: 0.3881 - val_loss: 9.5970e-04 - val_precision: 0.8742 - val_recall: 0.3666\n",
      "Learning Rate: 2.6527911541052162e-05\n",
      "Epoch 65/75\n",
      "639360/639360 [==============================] - 151s 237us/sample - loss: 9.8877e-04 - precision: 0.7776 - recall: 0.3877 - val_loss: 9.5977e-04 - val_precision: 0.8739 - val_recall: 0.3672\n",
      "Learning Rate: 2.387512104178313e-05\n",
      "Epoch 66/75\n",
      "639360/639360 [==============================] - 151s 237us/sample - loss: 9.8833e-04 - precision: 0.7777 - recall: 0.3880 - val_loss: 9.5967e-04 - val_precision: 0.8742 - val_recall: 0.3668\n",
      "Learning Rate: 2.1487609592441005e-05\n",
      "Epoch 67/75\n",
      "639360/639360 [==============================] - 151s 237us/sample - loss: 9.8823e-04 - precision: 0.7768 - recall: 0.3880 - val_loss: 9.5985e-04 - val_precision: 0.8745 - val_recall: 0.3665\n",
      "Learning Rate: 1.9338848142069766e-05\n",
      "Epoch 68/75\n",
      "639360/639360 [==============================] - 151s 237us/sample - loss: 9.8792e-04 - precision: 0.7776 - recall: 0.3880 - val_loss: 9.5979e-04 - val_precision: 0.8746 - val_recall: 0.3664\n",
      "Learning Rate: 1.7404963000444695e-05\n",
      "Epoch 69/75\n",
      "639360/639360 [==============================] - 151s 237us/sample - loss: 9.8906e-04 - precision: 0.7776 - recall: 0.3879 - val_loss: 9.5983e-04 - val_precision: 0.8747 - val_recall: 0.3665\n",
      "Learning Rate: 1.566446735523641e-05\n",
      "Epoch 70/75\n",
      "639360/639360 [==============================] - 151s 237us/sample - loss: 9.8739e-04 - precision: 0.7775 - recall: 0.3881 - val_loss: 9.5984e-04 - val_precision: 0.8749 - val_recall: 0.3664\n",
      "Learning Rate: 1.409802061971277e-05\n",
      "Epoch 71/75\n",
      "639360/639360 [==============================] - 151s 237us/sample - loss: 9.8841e-04 - precision: 0.7774 - recall: 0.3875 - val_loss: 9.5949e-04 - val_precision: 0.8741 - val_recall: 0.3670\n",
      "Learning Rate: 1.2688218885159587e-05\n",
      "Epoch 72/75\n",
      "639360/639360 [==============================] - 151s 237us/sample - loss: 9.8809e-04 - precision: 0.7772 - recall: 0.3879 - val_loss: 9.5957e-04 - val_precision: 0.8743 - val_recall: 0.3666\n",
      "Learning Rate: 1.141939683293458e-05\n",
      "Epoch 73/75\n",
      "639360/639360 [==============================] - 151s 237us/sample - loss: 9.8757e-04 - precision: 0.7774 - recall: 0.3877 - val_loss: 9.5949e-04 - val_precision: 0.8742 - val_recall: 0.3668\n",
      "Learning Rate: 1.0277457477059215e-05\n",
      "Epoch 74/75\n",
      "639360/639360 [==============================] - 151s 237us/sample - loss: 9.8734e-04 - precision: 0.7774 - recall: 0.3883 - val_loss: 9.5982e-04 - val_precision: 0.8748 - val_recall: 0.3663\n",
      "Learning Rate: 9.249711729353293e-06\n",
      "Epoch 75/75\n",
      "639360/639360 [==============================] - 151s 237us/sample - loss: 9.8643e-04 - precision: 0.7782 - recall: 0.3881 - val_loss: 9.5968e-04 - val_precision: 0.8741 - val_recall: 0.3669\n"
     ]
    }
   ],
   "source": [
    "# Train the model\n",
    "result = model.fit(X_train, y_train_sparse.todense(out=y_train_placeholder),\n",
    "                   epochs=75,\n",
    "                   validation_data=(X_test, y_test_sparse.todense(out=y_test_placeholder)),\n",
    "                   batch_size=1024,\n",
    "                   callbacks=[callback]);"
   ]
  },
  {
   "cell_type": "code",
   "execution_count": 29,
   "metadata": {},
   "outputs": [
    {
     "data": {
      "image/png": "[encoded data removed]",
      "text/plain": [
       "<Figure size 432x288 with 1 Axes>"
      ]
     },
     "metadata": {
      "needs_background": "light"
     },
     "output_type": "display_data"
    }
   ],
   "source": [
    "# Plot the precision metric at each itteration\n",
    "plt.plot(result.history['precision'], label='train_precision');\n",
    "plt.plot(result.history['val_precision'], label='test_precision');\n",
    "plt.legend();"
   ]
  },
  {
   "cell_type": "code",
   "execution_count": 30,
   "metadata": {},
   "outputs": [
    {
     "data": {
      "image/png": "[encoded data removed]",
      "text/plain": [
       "<Figure size 432x288 with 1 Axes>"
      ]
     },
     "metadata": {
      "needs_background": "light"
     },
     "output_type": "display_data"
    }
   ],
   "source": [
    "# Plot the recall metric at each itteration\n",
    "plt.plot(result.history['recall'], label='train_recall');\n",
    "plt.plot(result.history['val_recall'], label='test_recall');\n",
    "plt.legend();"
   ]
  },
  {
   "cell_type": "code",
   "execution_count": null,
   "metadata": {},
   "outputs": [],
   "source": []
  },
  {
   "cell_type": "code",
   "execution_count": null,
   "metadata": {},
   "outputs": [],
   "source": []
  },
  {
   "cell_type": "code",
   "execution_count": null,
   "metadata": {},
   "outputs": [],
   "source": []
  },
  {
   "cell_type": "code",
   "execution_count": null,
   "metadata": {},
   "outputs": [],
   "source": []
  },
  {
   "cell_type": "code",
   "execution_count": null,
   "metadata": {},
   "outputs": [],
   "source": []
  },
  {
   "cell_type": "code",
   "execution_count": null,
   "metadata": {},
   "outputs": [],
   "source": []
  }
 ],
 "metadata": {
  "kernelspec": {
   "display_name": "Python 3",
   "language": "python",
   "name": "python3"
  },
  "language_info": {
   "codemirror_mode": {
    "name": "ipython",
    "version": 3
   },
   "file_extension": ".py",
   "mimetype": "text/x-python",
   "name": "python",
   "nbconvert_exporter": "python",
   "pygments_lexer": "ipython3",
   "version": "3.7.4"
  }
 },
 "nbformat": 4,
 "nbformat_minor": 4
}
