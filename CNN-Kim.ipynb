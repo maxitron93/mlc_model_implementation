{
 "cells": [
  {
   "cell_type": "code",
   "execution_count": 1,
   "metadata": {},
   "outputs": [
    {
     "name": "stdout",
     "output_type": "stream",
     "text": [
      "Requirement already up-to-date: pip in /usr/local/lib/python3.6/dist-packages (20.0.2)\r\n"
     ]
    }
   ],
   "source": [
    "!pip install --upgrade pip"
   ]
  },
  {
   "cell_type": "code",
   "execution_count": 2,
   "metadata": {},
   "outputs": [
    {
     "name": "stdout",
     "output_type": "stream",
     "text": [
      "Requirement already satisfied: pandas in /usr/local/lib/python3.6/dist-packages (1.0.1)\n",
      "Requirement already satisfied: numpy>=1.13.3 in /usr/local/lib/python3.6/dist-packages (from pandas) (1.18.1)\n",
      "Requirement already satisfied: pytz>=2017.2 in /usr/local/lib/python3.6/dist-packages (from pandas) (2019.3)\n",
      "Requirement already satisfied: python-dateutil>=2.6.1 in /usr/local/lib/python3.6/dist-packages (from pandas) (2.8.1)\n",
      "Requirement already satisfied: six>=1.5 in /usr/local/lib/python3.6/dist-packages (from python-dateutil>=2.6.1->pandas) (1.13.0)\n"
     ]
    }
   ],
   "source": [
    "!pip install pandas"
   ]
  },
  {
   "cell_type": "code",
   "execution_count": 3,
   "metadata": {},
   "outputs": [
    {
     "name": "stdout",
     "output_type": "stream",
     "text": [
      "Requirement already up-to-date: scikit-learn in /usr/local/lib/python3.6/dist-packages (0.22.1)\r\n",
      "Requirement already satisfied, skipping upgrade: joblib>=0.11 in /usr/local/lib/python3.6/dist-packages (from scikit-learn) (0.14.1)\r\n",
      "Requirement already satisfied, skipping upgrade: numpy>=1.11.0 in /usr/local/lib/python3.6/dist-packages (from scikit-learn) (1.18.1)\r\n",
      "Requirement already satisfied, skipping upgrade: scipy>=0.17.0 in /usr/local/lib/python3.6/dist-packages (from scikit-learn) (1.4.1)\r\n"
     ]
    }
   ],
   "source": [
    "!pip install -U scikit-learn"
   ]
  },
  {
   "cell_type": "markdown",
   "metadata": {},
   "source": [
    "# CNN-Kim Model\n",
    "I can't get it exactly the same now because I'm using custom-trained word vectors instead of pre-trained ones, but I can still try to build a similar architecture.\n",
    "\n",
    "Since there are different variations of his model, I'll start with a model with the following architecture:\n",
    "- Using custom-trained word vectors (dimension = 200)\n",
    "- Keeping those word vectors static during the trainin process (maybe - TBD while implementing)\n",
    "- Single-channel\n",
    "- Filter windows height of 3, 4, 5 with 100 feature maps each\n",
    "- MaxPooling to extract the features from each feature map\n",
    "- Dropout rate of 0.5\n",
    "- ReLu activation function "
   ]
  },
  {
   "cell_type": "code",
   "execution_count": 4,
   "metadata": {},
   "outputs": [],
   "source": [
    "# Import the libraries\n",
    "import os\n",
    "import numpy as np\n",
    "from numpy import load\n",
    "from scipy.sparse import load_npz\n",
    "import tensorflow as tf\n",
    "from tensorflow.keras.mixed_precision import experimental as mixed_precision\n",
    "from tensorflow.keras.layers import Input, Conv1D, GlobalMaxPooling1D, concatenate, Dropout, Dense\n",
    "from tensorflow.keras.models import Model\n",
    "from tensorflow.keras.metrics import Precision, Recall\n",
    "import matplotlib.pyplot as plt"
   ]
  },
  {
   "cell_type": "code",
   "execution_count": 5,
   "metadata": {},
   "outputs": [
    {
     "data": {
      "text/plain": [
       "[PhysicalDevice(name='/physical_device:GPU:0', device_type='GPU')]"
      ]
     },
     "execution_count": 5,
     "metadata": {},
     "output_type": "execute_result"
    }
   ],
   "source": [
    "# Check that a GPU is available\n",
    "tf.config.experimental.list_physical_devices('GPU')"
   ]
  },
  {
   "cell_type": "code",
   "execution_count": 6,
   "metadata": {},
   "outputs": [
    {
     "name": "stdout",
     "output_type": "stream",
     "text": [
      "1 Physical GPUs, 1 Logical GPUs\n"
     ]
    }
   ],
   "source": [
    "# Not sure why, but I need this to get TF to work\n",
    "# from: https://www.tensorflow.org/guide/gpu#limiting_gpu_memory_growth\n",
    "gpus = tf.config.experimental.list_physical_devices('GPU')\n",
    "if gpus:\n",
    "  try:\n",
    "    # Currently, memory growth needs to be the same across GPUs\n",
    "    for gpu in gpus:\n",
    "      tf.config.experimental.set_memory_growth(gpu, True)\n",
    "    logical_gpus = tf.config.experimental.list_logical_devices('GPU')\n",
    "    print(len(gpus), \"Physical GPUs,\", len(logical_gpus), \"Logical GPUs\")\n",
    "  except RuntimeError as e:\n",
    "    # Memory growth must be set before GPUs have been initialized\n",
    "    print(e)"
   ]
  },
  {
   "cell_type": "code",
   "execution_count": 7,
   "metadata": {},
   "outputs": [],
   "source": [
    "# Enable mixed precision training\n",
    "policy = mixed_precision.Policy('mixed_float16')\n",
    "mixed_precision.set_policy(policy)"
   ]
  },
  {
   "cell_type": "markdown",
   "metadata": {},
   "source": [
    "### Load in the data"
   ]
  },
  {
   "cell_type": "code",
   "execution_count": 8,
   "metadata": {},
   "outputs": [],
   "source": [
    "# Define the load path\n",
    "load_path = '../Datasets/AmazonCat-13K/processed/'"
   ]
  },
  {
   "cell_type": "code",
   "execution_count": 9,
   "metadata": {},
   "outputs": [],
   "source": [
    "# Load the X_train\n",
    "X_train_data = load('../Datasets/AmazonCat-13K/processed/' + 'X_train.npz')\n",
    "X_train = X_train_data['arr_0']"
   ]
  },
  {
   "cell_type": "code",
   "execution_count": 10,
   "metadata": {},
   "outputs": [],
   "source": [
    "# Load the X_test\n",
    "X_test_data = load('../Datasets/AmazonCat-13K/processed/' + 'X_test.npz')\n",
    "X_test = X_test_data['arr_0']"
   ]
  },
  {
   "cell_type": "code",
   "execution_count": 11,
   "metadata": {},
   "outputs": [],
   "source": [
    "# Load y_train\n",
    "y_train_sparse = load_npz(load_path + 'y_train_sparse.npz')"
   ]
  },
  {
   "cell_type": "code",
   "execution_count": 12,
   "metadata": {},
   "outputs": [],
   "source": [
    "# Load y_test\n",
    "y_test_sparse = load_npz(load_path + 'y_test_sparse.npz')"
   ]
  },
  {
   "cell_type": "code",
   "execution_count": 13,
   "metadata": {},
   "outputs": [],
   "source": [
    "# Create placeholder matrices that will be 'injected' with the values later\n",
    "y_train_placeholder = np.zeros((y_train_sparse.shape[0], y_train_sparse.shape[1]), dtype='int8')\n",
    "y_test_placeholder = np.zeros((y_test_sparse.shape[0], y_test_sparse.shape[1]), dtype='int8')"
   ]
  },
  {
   "cell_type": "code",
   "execution_count": 14,
   "metadata": {},
   "outputs": [],
   "source": [
    "# # Create y_train\n",
    "# y_train = tf.convert_to_tensor(y_train_sparse.todense(out=y_train_placeholder), dtype=tf.int8)"
   ]
  },
  {
   "cell_type": "code",
   "execution_count": 15,
   "metadata": {},
   "outputs": [],
   "source": [
    "# # Create y_test\n",
    "# y_test = tf.convert_to_tensor(y_test_sparse.todense(out=y_test_placeholder), dtype=tf.int8)"
   ]
  },
  {
   "cell_type": "code",
   "execution_count": 16,
   "metadata": {},
   "outputs": [
    {
     "name": "stdout",
     "output_type": "stream",
     "text": [
      "X_train: (639360, 512)\n",
      "X_test: (213120, 512)\n"
     ]
    }
   ],
   "source": [
    "# Check the shape of the X data\n",
    "print(f'X_train: {X_train.shape}')\n",
    "print(f'X_test: {X_test.shape}')"
   ]
  },
  {
   "cell_type": "code",
   "execution_count": 17,
   "metadata": {},
   "outputs": [
    {
     "name": "stdout",
     "output_type": "stream",
     "text": [
      "y_train: (639360, 13680)\n",
      "y_test: (213120, 13680)\n"
     ]
    }
   ],
   "source": [
    "# Check the shape of the X data\n",
    "print(f'y_train: {y_train_sparse.shape}')\n",
    "print(f'y_test: {y_test_sparse.shape}')"
   ]
  },
  {
   "cell_type": "markdown",
   "metadata": {},
   "source": [
    "### Create the embedding layer"
   ]
  },
  {
   "cell_type": "code",
   "execution_count": 18,
   "metadata": {},
   "outputs": [],
   "source": [
    "# Create the embedding layer definition\n",
    "class PretrainedEmbedding(tf.keras.layers.Layer):\n",
    "    \"\"\"Non-trainable embedding layer.\"\"\"\n",
    "\n",
    "    def __init__(self, embeddings, dropout_rate=0.2, **kwargs):\n",
    "        \"\"\"\"Instantiate the layer using a pre-defined embedding matrix.\"\"\"\n",
    "        super().__init__(**kwargs)\n",
    "        self.embeddings = tf.constant(embeddings)\n",
    "        # if you want to add some dropout (or normalization, etc.)\n",
    "        self.dropout = tf.keras.layers.Dropout(rate=dropout_rate)\n",
    "\n",
    "    def call(self, inputs, training=None):\n",
    "        \"\"\"Embed some input tokens and optionally apply dropout.\"\"\"\n",
    "        output = tf.nn.embedding_lookup(self.embeddings, inputs)\n",
    "        return self.dropout(output, training=training)"
   ]
  },
  {
   "cell_type": "code",
   "execution_count": 19,
   "metadata": {},
   "outputs": [],
   "source": [
    "# Load in the embedding matrix\n",
    "embedding_matrix = np.loadtxt(load_path + 'embedding_matrix.csv', delimiter=',')"
   ]
  },
  {
   "cell_type": "code",
   "execution_count": 20,
   "metadata": {},
   "outputs": [
    {
     "data": {
      "text/plain": [
       "(200000, 200)"
      ]
     },
     "execution_count": 20,
     "metadata": {},
     "output_type": "execute_result"
    }
   ],
   "source": [
    "# Check the embedding matrix size\n",
    "embedding_matrix.shape"
   ]
  },
  {
   "cell_type": "markdown",
   "metadata": {},
   "source": [
    "### Define the model layers"
   ]
  },
  {
   "cell_type": "code",
   "execution_count": 21,
   "metadata": {},
   "outputs": [],
   "source": [
    "# Define the Input and Embedding layers\n",
    "i = Input(shape=(X_train.shape[1]), dtype=tf.int32)\n",
    "x = PretrainedEmbedding(embedding_matrix, dropout_rate=0)(i)\n",
    "\n",
    "# Convolution with window size = 3  \n",
    "x3 = Conv1D(filters=96, \n",
    "            kernel_size=3, \n",
    "            strides=1,\n",
    "            padding='valid',\n",
    "            activation='relu',\n",
    "            use_bias=True\n",
    "           )(x)\n",
    "x3 = GlobalMaxPooling1D()(x3)\n",
    "\n",
    "# Convolution with window size = 4\n",
    "x4 = Conv1D(filters=96, \n",
    "            kernel_size=4, \n",
    "            strides=1,\n",
    "            padding='valid',\n",
    "            activation='relu',\n",
    "            use_bias=True\n",
    "           )(x)\n",
    "x4 = GlobalMaxPooling1D()(x4)\n",
    "\n",
    "# Convolution with window size = 5\n",
    "x5 = Conv1D(filters=96, \n",
    "            kernel_size=5, \n",
    "            strides=1,\n",
    "            padding='valid',\n",
    "            activation='relu',\n",
    "            use_bias=True\n",
    "           )(x)\n",
    "x5 = GlobalMaxPooling1D()(x5)\n",
    "\n",
    "# Concatenated max-pooling layers with Dropout (CNN-Kim uses a dropout rate of 0.5)\n",
    "concatenated = concatenate([x3, x4, x5])\n",
    "x = Dropout(rate=0.5)(concatenated)\n",
    "\n",
    "# Final, fully-connected Dense layer\n",
    "x = Dense(y_train_sparse.shape[1], activation='sigmoid')(x)"
   ]
  },
  {
   "cell_type": "code",
   "execution_count": 22,
   "metadata": {},
   "outputs": [],
   "source": [
    "# Build the model\n",
    "model = Model(i, x)"
   ]
  },
  {
   "cell_type": "code",
   "execution_count": 23,
   "metadata": {},
   "outputs": [],
   "source": [
    "# Remove unused vars (to save memory)\n",
    "del embedding_matrix"
   ]
  },
  {
   "cell_type": "code",
   "execution_count": 24,
   "metadata": {},
   "outputs": [
    {
     "name": "stdout",
     "output_type": "stream",
     "text": [
      "Model: \"model\"\n",
      "__________________________________________________________________________________________________\n",
      "Layer (type)                    Output Shape         Param #     Connected to                     \n",
      "==================================================================================================\n",
      "input_1 (InputLayer)            [(None, 512)]        0                                            \n",
      "__________________________________________________________________________________________________\n",
      "pretrained_embedding (Pretraine (None, 512, 200)     0           input_1[0][0]                    \n",
      "__________________________________________________________________________________________________\n",
      "conv1d (Conv1D)                 (None, 510, 96)      57696       pretrained_embedding[0][0]       \n",
      "__________________________________________________________________________________________________\n",
      "conv1d_1 (Conv1D)               (None, 509, 96)      76896       pretrained_embedding[0][0]       \n",
      "__________________________________________________________________________________________________\n",
      "conv1d_2 (Conv1D)               (None, 508, 96)      96096       pretrained_embedding[0][0]       \n",
      "__________________________________________________________________________________________________\n",
      "global_max_pooling1d (GlobalMax (None, 96)           0           conv1d[0][0]                     \n",
      "__________________________________________________________________________________________________\n",
      "global_max_pooling1d_1 (GlobalM (None, 96)           0           conv1d_1[0][0]                   \n",
      "__________________________________________________________________________________________________\n",
      "global_max_pooling1d_2 (GlobalM (None, 96)           0           conv1d_2[0][0]                   \n",
      "__________________________________________________________________________________________________\n",
      "concatenate (Concatenate)       (None, 288)          0           global_max_pooling1d[0][0]       \n",
      "                                                                 global_max_pooling1d_1[0][0]     \n",
      "                                                                 global_max_pooling1d_2[0][0]     \n",
      "__________________________________________________________________________________________________\n",
      "dropout_1 (Dropout)             (None, 288)          0           concatenate[0][0]                \n",
      "__________________________________________________________________________________________________\n",
      "dense (Dense)                   (None, 13680)        3953520     dropout_1[0][0]                  \n",
      "==================================================================================================\n",
      "Total params: 4,184,208\n",
      "Trainable params: 4,184,208\n",
      "Non-trainable params: 0\n",
      "__________________________________________________________________________________________________\n"
     ]
    }
   ],
   "source": [
    "# Have a look at the model\n",
    "model.summary()"
   ]
  },
  {
   "cell_type": "markdown",
   "metadata": {},
   "source": [
    "### Define how the model should be trained"
   ]
  },
  {
   "cell_type": "code",
   "execution_count": 25,
   "metadata": {},
   "outputs": [],
   "source": [
    "# Define how the model should be trained\n",
    "model.compile(optimizer=tf.keras.optimizers.Adam(learning_rate = 0.01), # CNN-Kim uses SGD with Adelta update rule\n",
    "              loss='binary_crossentropy',\n",
    "              metrics=[Precision(), Recall()])"
   ]
  },
  {
   "cell_type": "code",
   "execution_count": 26,
   "metadata": {},
   "outputs": [],
   "source": [
    "# Create learning rate decay function\n",
    "def lr_scheduler(epoch, lr):\n",
    "    learning_rate = lr * 0.9\n",
    "    print(f'Learning Rate: {learning_rate}')\n",
    "    return learning_rate\n",
    "\n",
    "# define the learning rate scheduler\n",
    "callback = tf.keras.callbacks.LearningRateScheduler(lr_scheduler)"
   ]
  },
  {
   "cell_type": "markdown",
   "metadata": {},
   "source": [
    "### Train the model"
   ]
  },
  {
   "cell_type": "code",
   "execution_count": 27,
   "metadata": {},
   "outputs": [],
   "source": [
    "# # Train the model\n",
    "# result = model.fit(X_train_data['arr_0'], y_train,\n",
    "#                    epochs=50,\n",
    "#                    validation_data=(X_test, y_test),\n",
    "#                    batch_size=1024,\n",
    "#                    callbacks=[callback]);"
   ]
  },
  {
   "cell_type": "code",
   "execution_count": 28,
   "metadata": {
    "scrolled": true
   },
   "outputs": [
    {
     "name": "stdout",
     "output_type": "stream",
     "text": [
      "Train on 639360 samples, validate on 213120 samples\n",
      "Learning Rate: 0.008999999798834325\n",
      "Epoch 1/50\n",
      "639360/639360 [==============================] - 96s 150us/sample - loss: 0.0078 - precision: 0.0177 - recall: 0.0786 - val_loss: 0.0022 - val_precision: 0.9021 - val_recall: 0.1135\n",
      "Learning Rate: 0.008099999651312828\n",
      "Epoch 2/50\n",
      "639360/639360 [==============================] - 93s 145us/sample - loss: 0.0021 - precision: 0.7599 - recall: 0.1391 - val_loss: 0.0019 - val_precision: 0.8766 - val_recall: 0.1542\n",
      "Learning Rate: 0.007289999350905419\n",
      "Epoch 3/50\n",
      "639360/639360 [==============================] - 98s 154us/sample - loss: 0.0019 - precision: 0.7525 - recall: 0.1741 - val_loss: 0.0017 - val_precision: 0.8871 - val_recall: 0.1719\n",
      "Learning Rate: 0.006560999248176813\n",
      "Epoch 4/50\n",
      "639360/639360 [==============================] - 105s 164us/sample - loss: 0.0018 - precision: 0.7483 - recall: 0.1942 - val_loss: 0.0016 - val_precision: 0.8771 - val_recall: 0.1916\n",
      "Learning Rate: 0.005904899490997195\n",
      "Epoch 5/50\n",
      "639360/639360 [==============================] - 100s 156us/sample - loss: 0.0017 - precision: 0.7472 - recall: 0.2077 - val_loss: 0.0016 - val_precision: 0.8923 - val_recall: 0.1952\n",
      "Learning Rate: 0.00531440949998796\n",
      "Epoch 6/50\n",
      "639360/639360 [==============================] - 99s 155us/sample - loss: 0.0017 - precision: 0.7440 - recall: 0.2174 - val_loss: 0.0015 - val_precision: 0.8797 - val_recall: 0.2113\n",
      "Learning Rate: 0.004782968759536744\n",
      "Epoch 7/50\n",
      "639360/639360 [==============================] - 98s 154us/sample - loss: 0.0016 - precision: 0.7451 - recall: 0.2268 - val_loss: 0.0014 - val_precision: 0.8844 - val_recall: 0.2187\n",
      "Learning Rate: 0.0043046717997640375\n",
      "Epoch 8/50\n",
      "639360/639360 [==============================] - 98s 153us/sample - loss: 0.0016 - precision: 0.7447 - recall: 0.2347 - val_loss: 0.0014 - val_precision: 0.8750 - val_recall: 0.2295\n",
      "Learning Rate: 0.0038742044940590858\n",
      "Epoch 9/50\n",
      "639360/639360 [==============================] - 97s 152us/sample - loss: 0.0015 - precision: 0.7447 - recall: 0.2415 - val_loss: 0.0014 - val_precision: 0.8751 - val_recall: 0.2341\n",
      "Learning Rate: 0.003486784128472209\n",
      "Epoch 10/50\n",
      "639360/639360 [==============================] - 99s 155us/sample - loss: 0.0015 - precision: 0.7463 - recall: 0.2486 - val_loss: 0.0014 - val_precision: 0.8886 - val_recall: 0.2337\n",
      "Learning Rate: 0.003138105757534504\n",
      "Epoch 11/50\n",
      "639360/639360 [==============================] - 99s 155us/sample - loss: 0.0015 - precision: 0.7470 - recall: 0.2551 - val_loss: 0.0013 - val_precision: 0.8801 - val_recall: 0.2422\n",
      "Learning Rate: 0.0028242952656000854\n",
      "Epoch 12/50\n",
      "639360/639360 [==============================] - 100s 156us/sample - loss: 0.0014 - precision: 0.7478 - recall: 0.2610 - val_loss: 0.0013 - val_precision: 0.8731 - val_recall: 0.2518\n",
      "Learning Rate: 0.0025418657809495927\n",
      "Epoch 13/50\n",
      "639360/639360 [==============================] - 97s 152us/sample - loss: 0.0014 - precision: 0.7481 - recall: 0.2663 - val_loss: 0.0013 - val_precision: 0.8722 - val_recall: 0.2586\n",
      "Learning Rate: 0.0022876791190356016\n",
      "Epoch 14/50\n",
      "639360/639360 [==============================] - 97s 152us/sample - loss: 0.0014 - precision: 0.7489 - recall: 0.2710 - val_loss: 0.0013 - val_precision: 0.8810 - val_recall: 0.2580\n",
      "Learning Rate: 0.0020589112071320416\n",
      "Epoch 15/50\n",
      "639360/639360 [==============================] - 98s 154us/sample - loss: 0.0014 - precision: 0.7502 - recall: 0.2760 - val_loss: 0.0012 - val_precision: 0.8665 - val_recall: 0.2698\n",
      "Learning Rate: 0.0018530200235545636\n",
      "Epoch 16/50\n",
      "639360/639360 [==============================] - 98s 154us/sample - loss: 0.0014 - precision: 0.7511 - recall: 0.2808 - val_loss: 0.0012 - val_precision: 0.8685 - val_recall: 0.2724\n",
      "Learning Rate: 0.0016677180421538651\n",
      "Epoch 17/50\n",
      "639360/639360 [==============================] - 98s 154us/sample - loss: 0.0013 - precision: 0.7526 - recall: 0.2849 - val_loss: 0.0012 - val_precision: 0.8751 - val_recall: 0.2753\n",
      "Learning Rate: 0.0015009462484158575\n",
      "Epoch 18/50\n",
      "639360/639360 [==============================] - 96s 150us/sample - loss: 0.0013 - precision: 0.7535 - recall: 0.2893 - val_loss: 0.0012 - val_precision: 0.8738 - val_recall: 0.2791\n",
      "Learning Rate: 0.0013508516130968928\n",
      "Epoch 19/50\n",
      "639360/639360 [==============================] - 98s 153us/sample - loss: 0.0013 - precision: 0.7550 - recall: 0.2934 - val_loss: 0.0012 - val_precision: 0.8723 - val_recall: 0.2826\n",
      "Learning Rate: 0.0012157664517872036\n",
      "Epoch 20/50\n",
      "639360/639360 [==============================] - 98s 154us/sample - loss: 0.0013 - precision: 0.7558 - recall: 0.2973 - val_loss: 0.0012 - val_precision: 0.8778 - val_recall: 0.2833\n",
      "Learning Rate: 0.0010941897751763463\n",
      "Epoch 21/50\n",
      "639360/639360 [==============================] - 99s 154us/sample - loss: 0.0013 - precision: 0.7567 - recall: 0.3010 - val_loss: 0.0011 - val_precision: 0.8740 - val_recall: 0.2907\n",
      "Learning Rate: 0.0009847708395682275\n",
      "Epoch 22/50\n",
      "639360/639360 [==============================] - 96s 151us/sample - loss: 0.0013 - precision: 0.7582 - recall: 0.3045 - val_loss: 0.0011 - val_precision: 0.8771 - val_recall: 0.2914\n",
      "Learning Rate: 0.0008862937451340258\n",
      "Epoch 23/50\n",
      "639360/639360 [==============================] - 98s 154us/sample - loss: 0.0013 - precision: 0.7591 - recall: 0.3074 - val_loss: 0.0011 - val_precision: 0.8725 - val_recall: 0.2965\n",
      "Learning Rate: 0.0007976643915753812\n",
      "Epoch 24/50\n",
      "639360/639360 [==============================] - 98s 154us/sample - loss: 0.0012 - precision: 0.7597 - recall: 0.3100 - val_loss: 0.0011 - val_precision: 0.8779 - val_recall: 0.2955\n",
      "Learning Rate: 0.0007178979576565325\n",
      "Epoch 25/50\n",
      "639360/639360 [==============================] - 97s 152us/sample - loss: 0.0012 - precision: 0.7608 - recall: 0.3125 - val_loss: 0.0011 - val_precision: 0.8740 - val_recall: 0.3008\n",
      "Learning Rate: 0.0006461081618908793\n",
      "Epoch 26/50\n",
      "639360/639360 [==============================] - 98s 153us/sample - loss: 0.0012 - precision: 0.7614 - recall: 0.3151 - val_loss: 0.0011 - val_precision: 0.8753 - val_recall: 0.3033\n",
      "Learning Rate: 0.0005814973614178598\n",
      "Epoch 27/50\n",
      "639360/639360 [==============================] - 95s 149us/sample - loss: 0.0012 - precision: 0.7625 - recall: 0.3172 - val_loss: 0.0011 - val_precision: 0.8743 - val_recall: 0.3041\n",
      "Learning Rate: 0.0005233476462308317\n",
      "Epoch 28/50\n",
      "639360/639360 [==============================] - 92s 143us/sample - loss: 0.0012 - precision: 0.7627 - recall: 0.3185 - val_loss: 0.0011 - val_precision: 0.8762 - val_recall: 0.3054\n",
      "Learning Rate: 0.0004710128763690591\n",
      "Epoch 29/50\n",
      "639360/639360 [==============================] - 92s 143us/sample - loss: 0.0012 - precision: 0.7637 - recall: 0.3207 - val_loss: 0.0011 - val_precision: 0.8762 - val_recall: 0.3072\n",
      "Learning Rate: 0.0004239115834934637\n",
      "Epoch 30/50\n",
      "639360/639360 [==============================] - 92s 143us/sample - loss: 0.0012 - precision: 0.7637 - recall: 0.3225 - val_loss: 0.0011 - val_precision: 0.8772 - val_recall: 0.3084\n",
      "Learning Rate: 0.0003815204225247726\n",
      "Epoch 31/50\n",
      "639360/639360 [==============================] - 92s 143us/sample - loss: 0.0012 - precision: 0.7645 - recall: 0.3235 - val_loss: 0.0011 - val_precision: 0.8766 - val_recall: 0.3088\n",
      "Learning Rate: 0.0003433683828916401\n",
      "Epoch 32/50\n",
      "639360/639360 [==============================] - 92s 143us/sample - loss: 0.0012 - precision: 0.7652 - recall: 0.3253 - val_loss: 0.0011 - val_precision: 0.8757 - val_recall: 0.3106\n",
      "Learning Rate: 0.0003090315498411656\n",
      "Epoch 33/50\n",
      "639360/639360 [==============================] - 92s 143us/sample - loss: 0.0012 - precision: 0.7662 - recall: 0.3263 - val_loss: 0.0011 - val_precision: 0.8742 - val_recall: 0.3133\n",
      "Learning Rate: 0.00027812838961835954\n",
      "Epoch 34/50\n",
      "639360/639360 [==============================] - 92s 143us/sample - loss: 0.0012 - precision: 0.7659 - recall: 0.3276 - val_loss: 0.0011 - val_precision: 0.8778 - val_recall: 0.3119\n",
      "Learning Rate: 0.00025031555851455777\n",
      "Epoch 35/50\n",
      "639360/639360 [==============================] - 92s 143us/sample - loss: 0.0012 - precision: 0.7667 - recall: 0.3288 - val_loss: 0.0011 - val_precision: 0.8743 - val_recall: 0.3154\n",
      "Learning Rate: 0.00022528400004375725\n",
      "Epoch 36/50\n"
     ]
    },
    {
     "name": "stdout",
     "output_type": "stream",
     "text": [
      "639360/639360 [==============================] - 92s 143us/sample - loss: 0.0012 - precision: 0.7667 - recall: 0.3296 - val_loss: 0.0011 - val_precision: 0.8721 - val_recall: 0.3182\n",
      "Learning Rate: 0.000202755605278071\n",
      "Epoch 37/50\n",
      "639360/639360 [==============================] - 92s 143us/sample - loss: 0.0012 - precision: 0.7671 - recall: 0.3304 - val_loss: 0.0011 - val_precision: 0.8757 - val_recall: 0.3158\n",
      "Learning Rate: 0.00018248004344059154\n",
      "Epoch 38/50\n",
      "639360/639360 [==============================] - 92s 145us/sample - loss: 0.0012 - precision: 0.7677 - recall: 0.3309 - val_loss: 0.0011 - val_precision: 0.8746 - val_recall: 0.3170\n",
      "Learning Rate: 0.00016423203778686004\n",
      "Epoch 39/50\n",
      "639360/639360 [==============================] - 93s 145us/sample - loss: 0.0012 - precision: 0.7686 - recall: 0.3321 - val_loss: 0.0010 - val_precision: 0.8736 - val_recall: 0.3184\n",
      "Learning Rate: 0.00014780883793719113\n",
      "Epoch 40/50\n",
      "639360/639360 [==============================] - 92s 145us/sample - loss: 0.0012 - precision: 0.7688 - recall: 0.3322 - val_loss: 0.0011 - val_precision: 0.8744 - val_recall: 0.3178\n",
      "Learning Rate: 0.00013302795414347202\n",
      "Epoch 41/50\n",
      "639360/639360 [==============================] - 96s 149us/sample - loss: 0.0012 - precision: 0.7688 - recall: 0.3331 - val_loss: 0.0010 - val_precision: 0.8725 - val_recall: 0.3205\n",
      "Learning Rate: 0.00011972515349043534\n",
      "Epoch 42/50\n",
      "639360/639360 [==============================] - 95s 148us/sample - loss: 0.0012 - precision: 0.7689 - recall: 0.3337 - val_loss: 0.0010 - val_precision: 0.8748 - val_recall: 0.3188\n",
      "Learning Rate: 0.00010775263945106417\n",
      "Epoch 43/50\n",
      "639360/639360 [==============================] - 94s 147us/sample - loss: 0.0012 - precision: 0.7686 - recall: 0.3337 - val_loss: 0.0010 - val_precision: 0.8743 - val_recall: 0.3195\n",
      "Learning Rate: 9.697737550595775e-05\n",
      "Epoch 44/50\n",
      "639360/639360 [==============================] - 95s 148us/sample - loss: 0.0012 - precision: 0.7691 - recall: 0.3341 - val_loss: 0.0010 - val_precision: 0.8758 - val_recall: 0.3183\n",
      "Learning Rate: 8.727963795536197e-05\n",
      "Epoch 45/50\n",
      "639360/639360 [==============================] - 94s 148us/sample - loss: 0.0012 - precision: 0.7690 - recall: 0.3340 - val_loss: 0.0010 - val_precision: 0.8735 - val_recall: 0.3207\n",
      "Learning Rate: 7.85516735049896e-05\n",
      "Epoch 46/50\n",
      "639360/639360 [==============================] - 94s 147us/sample - loss: 0.0012 - precision: 0.7690 - recall: 0.3347 - val_loss: 0.0010 - val_precision: 0.8751 - val_recall: 0.3194\n",
      "Learning Rate: 7.0696507464163e-05\n",
      "Epoch 47/50\n",
      "639360/639360 [==============================] - 95s 149us/sample - loss: 0.0012 - precision: 0.7689 - recall: 0.3350 - val_loss: 0.0010 - val_precision: 0.8755 - val_recall: 0.3193\n",
      "Learning Rate: 6.36268567177467e-05\n",
      "Epoch 48/50\n",
      "639360/639360 [==============================] - 96s 151us/sample - loss: 0.0012 - precision: 0.7699 - recall: 0.3354 - val_loss: 0.0010 - val_precision: 0.8757 - val_recall: 0.3198\n",
      "Learning Rate: 5.726417366531678e-05\n",
      "Epoch 49/50\n",
      "639360/639360 [==============================] - 98s 153us/sample - loss: 0.0012 - precision: 0.7696 - recall: 0.3354 - val_loss: 0.0010 - val_precision: 0.8751 - val_recall: 0.3203\n",
      "Learning Rate: 5.1537755643948914e-05\n",
      "Epoch 50/50\n",
      "639360/639360 [==============================] - 97s 152us/sample - loss: 0.0012 - precision: 0.7702 - recall: 0.3355 - val_loss: 0.0010 - val_precision: 0.8750 - val_recall: 0.3207\n"
     ]
    }
   ],
   "source": [
    "# Train the model\n",
    "result = model.fit(X_train, y_train_sparse.todense(out=y_train_placeholder),\n",
    "                   epochs=50,\n",
    "                   validation_data=(X_test, y_test_sparse.todense(out=y_test_placeholder)),\n",
    "                   batch_size=2048,\n",
    "                   callbacks=[callback]);"
   ]
  },
  {
   "cell_type": "code",
   "execution_count": 29,
   "metadata": {},
   "outputs": [
    {
     "data": {
      "image/png": "[encoded data removed]",
      "text/plain": [
       "<Figure size 432x288 with 1 Axes>"
      ]
     },
     "metadata": {
      "needs_background": "light"
     },
     "output_type": "display_data"
    }
   ],
   "source": [
    "# Plot the precision metric at each itteration\n",
    "plt.plot(result.history['precision'], label='train_precision');\n",
    "plt.plot(result.history['val_precision'], label='test_precision');\n",
    "plt.legend();"
   ]
  },
  {
   "cell_type": "code",
   "execution_count": 30,
   "metadata": {},
   "outputs": [
    {
     "data": {
      "image/png": "[encoded data removed]",
      "text/plain": [
       "<Figure size 432x288 with 1 Axes>"
      ]
     },
     "metadata": {
      "needs_background": "light"
     },
     "output_type": "display_data"
    }
   ],
   "source": [
    "# Plot the recall metric at each itteration\n",
    "plt.plot(result.history['recall'], label='train_recall');\n",
    "plt.plot(result.history['val_recall'], label='test_recall');\n",
    "plt.legend();"
   ]
  },
  {
   "cell_type": "code",
   "execution_count": null,
   "metadata": {},
   "outputs": [],
   "source": []
  },
  {
   "cell_type": "code",
   "execution_count": null,
   "metadata": {},
   "outputs": [],
   "source": []
  },
  {
   "cell_type": "code",
   "execution_count": null,
   "metadata": {},
   "outputs": [],
   "source": []
  },
  {
   "cell_type": "code",
   "execution_count": null,
   "metadata": {},
   "outputs": [],
   "source": []
  },
  {
   "cell_type": "code",
   "execution_count": null,
   "metadata": {},
   "outputs": [],
   "source": []
  },
  {
   "cell_type": "code",
   "execution_count": null,
   "metadata": {},
   "outputs": [],
   "source": []
  }
 ],
 "metadata": {
  "kernelspec": {
   "display_name": "Python 3",
   "language": "python",
   "name": "python3"
  },
  "language_info": {
   "codemirror_mode": {
    "name": "ipython",
    "version": 3
   },
   "file_extension": ".py",
   "mimetype": "text/x-python",
   "name": "python",
   "nbconvert_exporter": "python",
   "pygments_lexer": "ipython3",
   "version": "3.6.9"
  }
 },
 "nbformat": 4,
 "nbformat_minor": 4
}
