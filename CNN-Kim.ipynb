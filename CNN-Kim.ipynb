{
 "cells": [
  {
   "cell_type": "code",
   "execution_count": 1,
   "metadata": {},
   "outputs": [
    {
     "name": "stdout",
     "output_type": "stream",
     "text": [
      "Requirement already satisfied: tensorflow-addons in /usr/local/lib/python3.6/dist-packages (0.8.2)\n",
      "Requirement already satisfied: typeguard in /usr/local/lib/python3.6/dist-packages (from tensorflow-addons) (2.7.1)\n"
     ]
    }
   ],
   "source": [
    "!pip install tensorflow-addons"
   ]
  },
  {
   "cell_type": "code",
   "execution_count": 2,
   "metadata": {},
   "outputs": [],
   "source": [
    "# Import the libraries\n",
    "import os\n",
    "import numpy as np\n",
    "from numpy import load\n",
    "from scipy.sparse import load_npz\n",
    "import tensorflow as tf\n",
    "from tensorflow.keras.mixed_precision import experimental as mixed_precision\n",
    "from tensorflow.keras.layers import Input, Conv1D, GlobalMaxPooling1D, concatenate, Dropout, Dense\n",
    "from tensorflow.keras.models import Model\n",
    "from tensorflow.keras.metrics import Recall, PrecisionAtRecall\n",
    "from tensorflow_addons.metrics import F1Score\n",
    "import matplotlib.pyplot as plt"
   ]
  },
  {
   "cell_type": "code",
   "execution_count": 3,
   "metadata": {},
   "outputs": [
    {
     "data": {
      "text/plain": [
       "[PhysicalDevice(name='/physical_device:GPU:0', device_type='GPU')]"
      ]
     },
     "execution_count": 3,
     "metadata": {},
     "output_type": "execute_result"
    }
   ],
   "source": [
    "# Check that a GPU is available\n",
    "tf.config.experimental.list_physical_devices('GPU')"
   ]
  },
  {
   "cell_type": "code",
   "execution_count": 4,
   "metadata": {},
   "outputs": [
    {
     "name": "stdout",
     "output_type": "stream",
     "text": [
      "1 Physical GPUs, 1 Logical GPUs\n"
     ]
    }
   ],
   "source": [
    "# Not sure why, but I need this to get TF to work\n",
    "# from: https://www.tensorflow.org/guide/gpu#limiting_gpu_memory_growth\n",
    "gpus = tf.config.experimental.list_physical_devices('GPU')\n",
    "if gpus:\n",
    "  try:\n",
    "    # Currently, memory growth needs to be the same across GPUs\n",
    "    for gpu in gpus:\n",
    "      tf.config.experimental.set_memory_growth(gpu, True)\n",
    "    logical_gpus = tf.config.experimental.list_logical_devices('GPU')\n",
    "    print(len(gpus), \"Physical GPUs,\", len(logical_gpus), \"Logical GPUs\")\n",
    "  except RuntimeError as e:\n",
    "    # Memory growth must be set before GPUs have been initialized\n",
    "    print(e)"
   ]
  },
  {
   "cell_type": "code",
   "execution_count": 5,
   "metadata": {},
   "outputs": [],
   "source": [
    "# Enable mixed precision training\n",
    "# policy = mixed_precision.Policy('mixed_float16')\n",
    "# mixed_precision.set_policy(policy)"
   ]
  },
  {
   "cell_type": "markdown",
   "metadata": {},
   "source": [
    "### Load in the data"
   ]
  },
  {
   "cell_type": "code",
   "execution_count": 6,
   "metadata": {},
   "outputs": [],
   "source": [
    "# Define the load path\n",
    "load_path = '../Datasets/AmazonCat-13K/processed/'"
   ]
  },
  {
   "cell_type": "code",
   "execution_count": 7,
   "metadata": {},
   "outputs": [],
   "source": [
    "# Load the X_train\n",
    "X_train_data = load('../Datasets/AmazonCat-13K/processed/' + 'X_train.npz')\n",
    "X_train = X_train_data['arr_0']"
   ]
  },
  {
   "cell_type": "code",
   "execution_count": 8,
   "metadata": {},
   "outputs": [],
   "source": [
    "# Load the X_test\n",
    "X_test_data = load('../Datasets/AmazonCat-13K/processed/' + 'X_test.npz')\n",
    "X_test = X_test_data['arr_0']"
   ]
  },
  {
   "cell_type": "code",
   "execution_count": 9,
   "metadata": {},
   "outputs": [],
   "source": [
    "# Load y_train\n",
    "y_train_sparse = load_npz(load_path + 'y_train_sparse.npz').astype('int64')"
   ]
  },
  {
   "cell_type": "code",
   "execution_count": 10,
   "metadata": {},
   "outputs": [],
   "source": [
    "# Load y_test\n",
    "y_test_sparse = load_npz(load_path + 'y_test_sparse.npz').astype('int64')"
   ]
  },
  {
   "cell_type": "code",
   "execution_count": 11,
   "metadata": {},
   "outputs": [
    {
     "name": "stdout",
     "output_type": "stream",
     "text": [
      "X_train: (1120773, 512)\n",
      "X_test: (373591, 512)\n"
     ]
    }
   ],
   "source": [
    "# Check the shape of the X data\n",
    "print(f'X_train: {X_train.shape}')\n",
    "print(f'X_test: {X_test.shape}')"
   ]
  },
  {
   "cell_type": "code",
   "execution_count": 12,
   "metadata": {},
   "outputs": [
    {
     "name": "stdout",
     "output_type": "stream",
     "text": [
      "y_train: (1120773, 14295)\n",
      "y_test: (373591, 14295)\n"
     ]
    }
   ],
   "source": [
    "# Check the shape of the X data\n",
    "print(f'y_train: {y_train_sparse.shape}')\n",
    "print(f'y_test: {y_test_sparse.shape}')"
   ]
  },
  {
   "cell_type": "markdown",
   "metadata": {},
   "source": [
    "### Create Sparse Tensors"
   ]
  },
  {
   "cell_type": "code",
   "execution_count": 13,
   "metadata": {},
   "outputs": [],
   "source": [
    "# Create function to convert sparse matrix to SparseTensor\n",
    "def convert_sparse_matrix_to_sparse_tensor(sparse_matrix):\n",
    "    coo = sparse_matrix.tocoo()\n",
    "    indices = np.mat([coo.row, coo.col]).transpose()\n",
    "    return tf.SparseTensor(indices, coo.data, coo.shape)"
   ]
  },
  {
   "cell_type": "code",
   "execution_count": 14,
   "metadata": {},
   "outputs": [],
   "source": [
    "# Create sparse tensor of y_train\n",
    "y_train_sparse_tensor = tf.sparse.reorder(convert_sparse_matrix_to_sparse_tensor(y_train_sparse))"
   ]
  },
  {
   "cell_type": "code",
   "execution_count": 15,
   "metadata": {},
   "outputs": [],
   "source": [
    "# Create sparse tensor of y_test\n",
    "y_test_sparse_tensor = tf.sparse.reorder(convert_sparse_matrix_to_sparse_tensor(y_test_sparse))"
   ]
  },
  {
   "cell_type": "markdown",
   "metadata": {},
   "source": [
    "### Create the TensorFlow Dataset"
   ]
  },
  {
   "cell_type": "code",
   "execution_count": 16,
   "metadata": {},
   "outputs": [],
   "source": [
    "# Create function to convert SparseTensor to dense tensor\n",
    "def convert_sparse_tensor_to_dense_tensor(X, y_sparse):\n",
    "    y_dense = tf.sparse.to_dense(y_sparse)\n",
    "    return X, y_dense"
   ]
  },
  {
   "cell_type": "code",
   "execution_count": 17,
   "metadata": {},
   "outputs": [],
   "source": [
    "tr_dataset = tf.data.Dataset.from_tensor_slices((X_train, y_train_sparse_tensor))\n",
    "tr_dataset = tr_dataset.map(convert_sparse_tensor_to_dense_tensor)\n",
    "tr_dataset = tr_dataset.batch(batch_size=1024)"
   ]
  },
  {
   "cell_type": "code",
   "execution_count": 18,
   "metadata": {},
   "outputs": [],
   "source": [
    "val_dataset = tf.data.Dataset.from_tensor_slices((X_test, y_test_sparse_tensor))\n",
    "val_dataset = val_dataset.map(convert_sparse_tensor_to_dense_tensor)\n",
    "val_dataset = val_dataset.batch(batch_size=1024)"
   ]
  },
  {
   "cell_type": "markdown",
   "metadata": {},
   "source": [
    "### Create the embedding layer"
   ]
  },
  {
   "cell_type": "code",
   "execution_count": 19,
   "metadata": {},
   "outputs": [],
   "source": [
    "# Create the embedding layer definition\n",
    "class PretrainedEmbedding(tf.keras.layers.Layer):\n",
    "    \"\"\"Non-trainable embedding layer.\"\"\"\n",
    "\n",
    "    def __init__(self, embeddings, dropout_rate=0.2, **kwargs):\n",
    "        \"\"\"\"Instantiate the layer using a pre-defined embedding matrix.\"\"\"\n",
    "        super().__init__(**kwargs)\n",
    "        self.embeddings = tf.constant(embeddings)\n",
    "        # if you want to add some dropout (or normalization, etc.)\n",
    "        self.dropout = tf.keras.layers.Dropout(rate=dropout_rate)\n",
    "\n",
    "    def call(self, inputs, training=None):\n",
    "        \"\"\"Embed some input tokens and optionally apply dropout.\"\"\"\n",
    "        output = tf.nn.embedding_lookup(self.embeddings, inputs)\n",
    "        return self.dropout(output, training=training)"
   ]
  },
  {
   "cell_type": "code",
   "execution_count": 20,
   "metadata": {},
   "outputs": [],
   "source": [
    "# Load in the embedding matrix\n",
    "embedding_matrix = np.loadtxt(load_path + 'embedding_matrix.csv', delimiter=',')"
   ]
  },
  {
   "cell_type": "code",
   "execution_count": 21,
   "metadata": {},
   "outputs": [
    {
     "data": {
      "text/plain": [
       "(200000, 200)"
      ]
     },
     "execution_count": 21,
     "metadata": {},
     "output_type": "execute_result"
    }
   ],
   "source": [
    "# Check the embedding matrix size\n",
    "embedding_matrix.shape"
   ]
  },
  {
   "cell_type": "markdown",
   "metadata": {},
   "source": [
    "### Define the model layers"
   ]
  },
  {
   "cell_type": "code",
   "execution_count": 22,
   "metadata": {},
   "outputs": [
    {
     "name": "stdout",
     "output_type": "stream",
     "text": [
      "WARNING:tensorflow:Layer dropout is casting an input tensor from dtype float64 to the layer's dtype of float32, which is new behavior in TensorFlow 2.  The layer has dtype float32 because it's dtype defaults to floatx.\n",
      "\n",
      "If you intended to run this layer in float32, you can safely ignore this warning. If in doubt, this warning is likely only an issue if you are porting a TensorFlow 1.X model to TensorFlow 2.\n",
      "\n",
      "To change all layers to have dtype float64 by default, call `tf.keras.backend.set_floatx('float64')`. To change just this layer, pass dtype='float64' to the layer constructor. If you are the author of this layer, you can disable autocasting by passing autocast=False to the base Layer constructor.\n",
      "\n"
     ]
    }
   ],
   "source": [
    "# Define the Input and Embedding layers\n",
    "i = Input(shape=(X_train.shape[1]), dtype=tf.int32)\n",
    "x = PretrainedEmbedding(embedding_matrix, dropout_rate=0)(i)\n",
    "\n",
    "# Convolution with window size = 3  \n",
    "x3 = Conv1D(filters=96, \n",
    "            kernel_size=3, \n",
    "            strides=1,\n",
    "            padding='valid',\n",
    "            activation='relu',\n",
    "            use_bias=True\n",
    "           )(x)\n",
    "x3 = GlobalMaxPooling1D()(x3)\n",
    "\n",
    "# Convolution with window size = 4\n",
    "x4 = Conv1D(filters=96, \n",
    "            kernel_size=4, \n",
    "            strides=1,\n",
    "            padding='valid',\n",
    "            activation='relu',\n",
    "            use_bias=True\n",
    "           )(x)\n",
    "x4 = GlobalMaxPooling1D()(x4)\n",
    "\n",
    "# Convolution with window size = 5\n",
    "x5 = Conv1D(filters=96, \n",
    "            kernel_size=5, \n",
    "            strides=1,\n",
    "            padding='valid',\n",
    "            activation='relu',\n",
    "            use_bias=True\n",
    "           )(x)\n",
    "x5 = GlobalMaxPooling1D()(x5)\n",
    "\n",
    "# Concatenated max-pooling layers with Dropout (CNN-Kim uses a dropout rate of 0.5)\n",
    "concatenated = concatenate([x3, x4, x5])\n",
    "x = Dropout(rate=0.5)(concatenated)\n",
    "\n",
    "# Final, fully-connected Dense layer\n",
    "x = Dense(y_train_sparse.shape[1], activation='sigmoid')(x)"
   ]
  },
  {
   "cell_type": "code",
   "execution_count": 23,
   "metadata": {},
   "outputs": [],
   "source": [
    "# Build the model\n",
    "model = Model(i, x)"
   ]
  },
  {
   "cell_type": "code",
   "execution_count": 24,
   "metadata": {},
   "outputs": [],
   "source": [
    "# Remove unused vars (to save memory)\n",
    "del embedding_matrix"
   ]
  },
  {
   "cell_type": "code",
   "execution_count": 25,
   "metadata": {},
   "outputs": [
    {
     "name": "stdout",
     "output_type": "stream",
     "text": [
      "Model: \"model\"\n",
      "__________________________________________________________________________________________________\n",
      "Layer (type)                    Output Shape         Param #     Connected to                     \n",
      "==================================================================================================\n",
      "input_1 (InputLayer)            [(None, 512)]        0                                            \n",
      "__________________________________________________________________________________________________\n",
      "pretrained_embedding (Pretraine (None, 512, 200)     0           input_1[0][0]                    \n",
      "__________________________________________________________________________________________________\n",
      "conv1d (Conv1D)                 (None, 510, 96)      57696       pretrained_embedding[0][0]       \n",
      "__________________________________________________________________________________________________\n",
      "conv1d_1 (Conv1D)               (None, 509, 96)      76896       pretrained_embedding[0][0]       \n",
      "__________________________________________________________________________________________________\n",
      "conv1d_2 (Conv1D)               (None, 508, 96)      96096       pretrained_embedding[0][0]       \n",
      "__________________________________________________________________________________________________\n",
      "global_max_pooling1d (GlobalMax (None, 96)           0           conv1d[0][0]                     \n",
      "__________________________________________________________________________________________________\n",
      "global_max_pooling1d_1 (GlobalM (None, 96)           0           conv1d_1[0][0]                   \n",
      "__________________________________________________________________________________________________\n",
      "global_max_pooling1d_2 (GlobalM (None, 96)           0           conv1d_2[0][0]                   \n",
      "__________________________________________________________________________________________________\n",
      "concatenate (Concatenate)       (None, 288)          0           global_max_pooling1d[0][0]       \n",
      "                                                                 global_max_pooling1d_1[0][0]     \n",
      "                                                                 global_max_pooling1d_2[0][0]     \n",
      "__________________________________________________________________________________________________\n",
      "dropout_1 (Dropout)             (None, 288)          0           concatenate[0][0]                \n",
      "__________________________________________________________________________________________________\n",
      "dense (Dense)                   (None, 14295)        4131255     dropout_1[0][0]                  \n",
      "==================================================================================================\n",
      "Total params: 4,361,943\n",
      "Trainable params: 4,361,943\n",
      "Non-trainable params: 0\n",
      "__________________________________________________________________________________________________\n"
     ]
    }
   ],
   "source": [
    "# Have a look at the model\n",
    "model.summary()"
   ]
  },
  {
   "cell_type": "markdown",
   "metadata": {},
   "source": [
    "### Define how the model should be trained"
   ]
  },
  {
   "cell_type": "code",
   "execution_count": 26,
   "metadata": {},
   "outputs": [],
   "source": [
    "# Define how the model should be trained\n",
    "model.compile(optimizer=tf.keras.optimizers.Adam(learning_rate = 0.025), # CNN-Kim uses SGD with Adelta update rule\n",
    "              loss='binary_crossentropy',\n",
    "              metrics=[Recall(name='Recall'),\n",
    "                       PrecisionAtRecall(0.365),\n",
    "                       Precision(top_k=1, name='PrecisionAt1'),\n",
    "                       Precision(top_k=3, name='PrecisionAt3'),\n",
    "                       Precision(top_k=5, name='PrecisionAt5'),\n",
    "                       Precision(top_k=10, name='PrecisionAt10'),\n",
    "                       F1Score(num_classes=y_train_sparse.shape[1], \n",
    "                               average='micro', \n",
    "                               threshold=0.5,\n",
    "                               name='MicroF1'),\n",
    "                       F1Score(num_classes=y_train_sparse.shape[1], \n",
    "                               average='macro', \n",
    "                               threshold=0.5,\n",
    "                               name='MacroF1'),\n",
    "                       F1Score(num_classes=y_train_sparse.shape[1], \n",
    "                               average='weighted', \n",
    "                               threshold=0.5,\n",
    "                               name='WeightedF1')])"
   ]
  },
  {
   "cell_type": "code",
   "execution_count": 27,
   "metadata": {},
   "outputs": [],
   "source": [
    "# Create learning rate decay function\n",
    "def lr_scheduler(epoch, lr):\n",
    "    learning_rate = lr * 0.9\n",
    "    print(f'Learning Rate: {learning_rate}')\n",
    "    return learning_rate\n",
    "\n",
    "# define the learning rate scheduler\n",
    "callback = tf.keras.callbacks.LearningRateScheduler(lr_scheduler)"
   ]
  },
  {
   "cell_type": "markdown",
   "metadata": {},
   "source": [
    "### Train the model"
   ]
  },
  {
   "cell_type": "code",
   "execution_count": 28,
   "metadata": {},
   "outputs": [
    {
     "name": "stdout",
     "output_type": "stream",
     "text": [
      "Train for 1095 steps, validate for 365 steps\n",
      "Learning Rate: 0.02250000033527613\n",
      "Epoch 1/75\n",
      "1095/1095 [==============================] - 366s 335ms/step - loss: 0.0064 - Recall: 0.1267 - PrecisionAt1: 0.5231 - PrecisionAt3: 0.3220 - PrecisionAt5: 0.2397 - PrecisionAt10: 0.1544 - MicroF1: 0.0988 - MacroF1: 0.0019 - WeightedF1: 0.1546 - val_loss: 0.0030 - val_Recall: 0.1803 - val_PrecisionAt1: 0.7386 - val_PrecisionAt3: 0.4687 - val_PrecisionAt5: 0.3323 - val_PrecisionAt10: 0.2036 - val_MicroF1: 0.2941 - val_MacroF1: 0.0025 - val_WeightedF1: 0.2063\n",
      "Learning Rate: 0.020250000804662705\n",
      "Epoch 2/75\n",
      "1095/1095 [==============================] - 358s 327ms/step - loss: 0.0026 - Recall: 0.2132 - PrecisionAt1: 0.6777 - PrecisionAt3: 0.4331 - PrecisionAt5: 0.3199 - PrecisionAt10: 0.2011 - MicroF1: 0.3034 - MacroF1: 0.0071 - WeightedF1: 0.2520 - val_loss: 0.0019 - val_Recall: 0.2057 - val_PrecisionAt1: 0.7975 - val_PrecisionAt3: 0.5465 - val_PrecisionAt5: 0.4002 - val_PrecisionAt10: 0.2474 - val_MicroF1: 0.3306 - val_MacroF1: 0.0049 - val_WeightedF1: 0.2428\n",
      "Learning Rate: 0.01822500005364418\n",
      "Epoch 3/75\n",
      "1095/1095 [==============================] - 357s 326ms/step - loss: 0.0021 - Recall: 0.2367 - PrecisionAt1: 0.7125 - PrecisionAt3: 0.4681 - PrecisionAt5: 0.3472 - PrecisionAt10: 0.2183 - MicroF1: 0.3319 - MacroF1: 0.0111 - WeightedF1: 0.2806 - val_loss: 0.0021 - val_Recall: 0.2034 - val_PrecisionAt1: 0.7917 - val_PrecisionAt3: 0.5343 - val_PrecisionAt5: 0.3907 - val_PrecisionAt10: 0.2395 - val_MicroF1: 0.3249 - val_MacroF1: 0.0048 - val_WeightedF1: 0.2440\n",
      "Learning Rate: 0.01640249937772751\n",
      "Epoch 4/75\n",
      "1095/1095 [==============================] - 357s 326ms/step - loss: 0.0019 - Recall: 0.2467 - PrecisionAt1: 0.7281 - PrecisionAt3: 0.4851 - PrecisionAt5: 0.3611 - PrecisionAt10: 0.2267 - MicroF1: 0.3449 - MacroF1: 0.0145 - WeightedF1: 0.2936 - val_loss: 0.0020 - val_Recall: 0.2470 - val_PrecisionAt1: 0.7972 - val_PrecisionAt3: 0.5484 - val_PrecisionAt5: 0.4086 - val_PrecisionAt10: 0.2515 - val_MicroF1: 0.3726 - val_MacroF1: 0.0090 - val_WeightedF1: 0.2872\n",
      "Learning Rate: 0.014762249775230885\n",
      "Epoch 5/75\n",
      "1095/1095 [==============================] - 357s 326ms/step - loss: 0.0018 - Recall: 0.2500 - PrecisionAt1: 0.7338 - PrecisionAt3: 0.4937 - PrecisionAt5: 0.3681 - PrecisionAt10: 0.2311 - MicroF1: 0.3498 - MacroF1: 0.0172 - WeightedF1: 0.2988 - val_loss: 0.0016 - val_Recall: 0.2201 - val_PrecisionAt1: 0.8065 - val_PrecisionAt3: 0.5628 - val_PrecisionAt5: 0.4176 - val_PrecisionAt10: 0.2583 - val_MicroF1: 0.3489 - val_MacroF1: 0.0098 - val_WeightedF1: 0.2660\n",
      "Learning Rate: 0.013286024797707796\n",
      "Epoch 6/75\n",
      "1095/1095 [==============================] - 357s 326ms/step - loss: 0.0018 - Recall: 0.2473 - PrecisionAt1: 0.7351 - PrecisionAt3: 0.4956 - PrecisionAt5: 0.3700 - PrecisionAt10: 0.2324 - MicroF1: 0.3485 - MacroF1: 0.0179 - WeightedF1: 0.2967 - val_loss: 0.0015 - val_Recall: 0.2345 - val_PrecisionAt1: 0.8157 - val_PrecisionAt3: 0.5780 - val_PrecisionAt5: 0.4321 - val_PrecisionAt10: 0.2670 - val_MicroF1: 0.3663 - val_MacroF1: 0.0104 - val_WeightedF1: 0.2815\n",
      "Learning Rate: 0.011957421898841858\n",
      "Epoch 7/75\n",
      "1095/1095 [==============================] - 357s 326ms/step - loss: 0.0017 - Recall: 0.2514 - PrecisionAt1: 0.7469 - PrecisionAt3: 0.5094 - PrecisionAt5: 0.3808 - PrecisionAt10: 0.2388 - MicroF1: 0.3575 - MacroF1: 0.0202 - WeightedF1: 0.3036 - val_loss: 0.0014 - val_Recall: 0.2435 - val_PrecisionAt1: 0.8247 - val_PrecisionAt3: 0.5829 - val_PrecisionAt5: 0.4352 - val_PrecisionAt10: 0.2705 - val_MicroF1: 0.3765 - val_MacroF1: 0.0125 - val_WeightedF1: 0.2925\n",
      "Learning Rate: 0.010761679708957672\n",
      "Epoch 8/75\n",
      "1095/1095 [==============================] - 358s 327ms/step - loss: 0.0016 - Recall: 0.2567 - PrecisionAt1: 0.7562 - PrecisionAt3: 0.5204 - PrecisionAt5: 0.3896 - PrecisionAt10: 0.2445 - MicroF1: 0.3652 - MacroF1: 0.0229 - WeightedF1: 0.3107 - val_loss: 0.0013 - val_Recall: 0.2533 - val_PrecisionAt1: 0.8333 - val_PrecisionAt3: 0.6028 - val_PrecisionAt5: 0.4550 - val_PrecisionAt10: 0.2831 - val_MicroF1: 0.3902 - val_MacroF1: 0.0143 - val_WeightedF1: 0.3039\n",
      "Learning Rate: 0.009685512073338032\n",
      "Epoch 9/75\n",
      "1095/1095 [==============================] - 358s 327ms/step - loss: 0.0015 - Recall: 0.2633 - PrecisionAt1: 0.7662 - PrecisionAt3: 0.5334 - PrecisionAt5: 0.4001 - PrecisionAt10: 0.2509 - MicroF1: 0.3750 - MacroF1: 0.0257 - WeightedF1: 0.3193 - val_loss: 0.0013 - val_Recall: 0.2475 - val_PrecisionAt1: 0.8318 - val_PrecisionAt3: 0.6033 - val_PrecisionAt5: 0.4544 - val_PrecisionAt10: 0.2819 - val_MicroF1: 0.3844 - val_MacroF1: 0.0149 - val_WeightedF1: 0.3027\n",
      "Learning Rate: 0.008716960530728101\n",
      "Epoch 10/75\n",
      "1095/1095 [==============================] - 358s 327ms/step - loss: 0.0014 - Recall: 0.2707 - PrecisionAt1: 0.7790 - PrecisionAt3: 0.5474 - PrecisionAt5: 0.4116 - PrecisionAt10: 0.2578 - MicroF1: 0.3854 - MacroF1: 0.0301 - WeightedF1: 0.3286 - val_loss: 0.0013 - val_Recall: 0.2632 - val_PrecisionAt1: 0.8448 - val_PrecisionAt3: 0.6200 - val_PrecisionAt5: 0.4682 - val_PrecisionAt10: 0.2896 - val_MicroF1: 0.4035 - val_MacroF1: 0.0201 - val_WeightedF1: 0.3204\n",
      "Learning Rate: 0.00784526439383626\n",
      "Epoch 11/75\n",
      "1095/1095 [==============================] - 359s 327ms/step - loss: 0.0014 - Recall: 0.2799 - PrecisionAt1: 0.7864 - PrecisionAt3: 0.5579 - PrecisionAt5: 0.4210 - PrecisionAt10: 0.2637 - MicroF1: 0.3963 - MacroF1: 0.0348 - WeightedF1: 0.3395 - val_loss: 0.0012 - val_Recall: 0.2704 - val_PrecisionAt1: 0.8507 - val_PrecisionAt3: 0.6322 - val_PrecisionAt5: 0.4798 - val_PrecisionAt10: 0.2975 - val_MicroF1: 0.4124 - val_MacroF1: 0.0224 - val_WeightedF1: 0.3284\n",
      "Learning Rate: 0.0070607375353574755\n",
      "Epoch 12/75\n",
      "1095/1095 [==============================] - 358s 327ms/step - loss: 0.0013 - Recall: 0.2885 - PrecisionAt1: 0.7959 - PrecisionAt3: 0.5696 - PrecisionAt5: 0.4309 - PrecisionAt10: 0.2699 - MicroF1: 0.4072 - MacroF1: 0.0403 - WeightedF1: 0.3498 - val_loss: 0.0011 - val_Recall: 0.2860 - val_PrecisionAt1: 0.8554 - val_PrecisionAt3: 0.6395 - val_PrecisionAt5: 0.4872 - val_PrecisionAt10: 0.3021 - val_MicroF1: 0.4297 - val_MacroF1: 0.0274 - val_WeightedF1: 0.3440\n",
      "Learning Rate: 0.006354663614183665\n",
      "Epoch 13/75\n",
      "1095/1095 [==============================] - 359s 327ms/step - loss: 0.0013 - Recall: 0.2967 - PrecisionAt1: 0.8048 - PrecisionAt3: 0.5799 - PrecisionAt5: 0.4397 - PrecisionAt10: 0.2754 - MicroF1: 0.4166 - MacroF1: 0.0457 - WeightedF1: 0.3590 - val_loss: 0.0011 - val_Recall: 0.2898 - val_PrecisionAt1: 0.8640 - val_PrecisionAt3: 0.6464 - val_PrecisionAt5: 0.4933 - val_PrecisionAt10: 0.3058 - val_MicroF1: 0.4348 - val_MacroF1: 0.0306 - val_WeightedF1: 0.3498\n",
      "Learning Rate: 0.005719197168946266\n",
      "Epoch 14/75\n",
      "1095/1095 [==============================] - 359s 328ms/step - loss: 0.0013 - Recall: 0.3050 - PrecisionAt1: 0.8130 - PrecisionAt3: 0.5901 - PrecisionAt5: 0.4484 - PrecisionAt10: 0.2807 - MicroF1: 0.4266 - MacroF1: 0.0516 - WeightedF1: 0.3687 - val_loss: 0.0011 - val_Recall: 0.2961 - val_PrecisionAt1: 0.8661 - val_PrecisionAt3: 0.6568 - val_PrecisionAt5: 0.5037 - val_PrecisionAt10: 0.3120 - val_MicroF1: 0.4423 - val_MacroF1: 0.0347 - val_WeightedF1: 0.3596\n",
      "Learning Rate: 0.0051472772844135765\n",
      "Epoch 15/75\n",
      "1095/1095 [==============================] - 358s 327ms/step - loss: 0.0012 - Recall: 0.3129 - PrecisionAt1: 0.8192 - PrecisionAt3: 0.5986 - PrecisionAt5: 0.4560 - PrecisionAt10: 0.2855 - MicroF1: 0.4356 - MacroF1: 0.0580 - WeightedF1: 0.3778 - val_loss: 0.0011 - val_Recall: 0.3113 - val_PrecisionAt1: 0.8699 - val_PrecisionAt3: 0.6631 - val_PrecisionAt5: 0.5093 - val_PrecisionAt10: 0.3161 - val_MicroF1: 0.4576 - val_MacroF1: 0.0397 - val_WeightedF1: 0.3760\n",
      "Learning Rate: 0.00463254963979125\n",
      "Epoch 16/75\n",
      "1095/1095 [==============================] - 358s 327ms/step - loss: 0.0012 - Recall: 0.3199 - PrecisionAt1: 0.8258 - PrecisionAt3: 0.6072 - PrecisionAt5: 0.4635 - PrecisionAt10: 0.2901 - MicroF1: 0.4438 - MacroF1: 0.0637 - WeightedF1: 0.3858 - val_loss: 0.0011 - val_Recall: 0.3073 - val_PrecisionAt1: 0.8731 - val_PrecisionAt3: 0.6655 - val_PrecisionAt5: 0.5116 - val_PrecisionAt10: 0.3172 - val_MicroF1: 0.4550 - val_MacroF1: 0.0401 - val_WeightedF1: 0.3724\n",
      "Learning Rate: 0.004169294843450189\n",
      "Epoch 17/75\n"
     ]
    },
    {
     "name": "stdout",
     "output_type": "stream",
     "text": [
      "1095/1095 [==============================] - 356s 325ms/step - loss: 0.0012 - Recall: 0.3250 - PrecisionAt1: 0.8304 - PrecisionAt3: 0.6134 - PrecisionAt5: 0.4690 - PrecisionAt10: 0.2936 - MicroF1: 0.4495 - MacroF1: 0.0695 - WeightedF1: 0.3915 - val_loss: 0.0010 - val_Recall: 0.3215 - val_PrecisionAt1: 0.8792 - val_PrecisionAt3: 0.6741 - val_PrecisionAt5: 0.5197 - val_PrecisionAt10: 0.3222 - val_MicroF1: 0.4693 - val_MacroF1: 0.0469 - val_WeightedF1: 0.3874\n",
      "Learning Rate: 0.0037523651495575904\n",
      "Epoch 18/75\n",
      "1095/1095 [==============================] - 356s 325ms/step - loss: 0.0012 - Recall: 0.3298 - PrecisionAt1: 0.8340 - PrecisionAt3: 0.6185 - PrecisionAt5: 0.4738 - PrecisionAt10: 0.2967 - MicroF1: 0.4549 - MacroF1: 0.0745 - WeightedF1: 0.3970 - val_loss: 0.0010 - val_Recall: 0.3189 - val_PrecisionAt1: 0.8791 - val_PrecisionAt3: 0.6770 - val_PrecisionAt5: 0.5233 - val_PrecisionAt10: 0.3246 - val_MicroF1: 0.4677 - val_MacroF1: 0.0512 - val_WeightedF1: 0.3849\n",
      "Learning Rate: 0.0033771287184208632\n",
      "Epoch 19/75\n",
      "1095/1095 [==============================] - 357s 326ms/step - loss: 0.0011 - Recall: 0.3350 - PrecisionAt1: 0.8383 - PrecisionAt3: 0.6246 - PrecisionAt5: 0.4791 - PrecisionAt10: 0.2998 - MicroF1: 0.4608 - MacroF1: 0.0799 - WeightedF1: 0.4030 - val_loss: 9.9802e-04 - val_Recall: 0.3305 - val_PrecisionAt1: 0.8822 - val_PrecisionAt3: 0.6807 - val_PrecisionAt5: 0.5274 - val_PrecisionAt10: 0.3273 - val_MicroF1: 0.4790 - val_MacroF1: 0.0531 - val_WeightedF1: 0.3984\n",
      "Learning Rate: 0.0030394157627597453\n",
      "Epoch 20/75\n",
      "1095/1095 [==============================] - 356s 325ms/step - loss: 0.0011 - Recall: 0.3397 - PrecisionAt1: 0.8420 - PrecisionAt3: 0.6295 - PrecisionAt5: 0.4838 - PrecisionAt10: 0.3028 - MicroF1: 0.4660 - MacroF1: 0.0854 - WeightedF1: 0.4083 - val_loss: 9.8593e-04 - val_Recall: 0.3349 - val_PrecisionAt1: 0.8843 - val_PrecisionAt3: 0.6846 - val_PrecisionAt5: 0.5308 - val_PrecisionAt10: 0.3292 - val_MicroF1: 0.4837 - val_MacroF1: 0.0566 - val_WeightedF1: 0.4032\n",
      "Learning Rate: 0.002735474123619497\n",
      "Epoch 21/75\n",
      "1095/1095 [==============================] - 356s 325ms/step - loss: 0.0011 - Recall: 0.3440 - PrecisionAt1: 0.8451 - PrecisionAt3: 0.6340 - PrecisionAt5: 0.4878 - PrecisionAt10: 0.3053 - MicroF1: 0.4707 - MacroF1: 0.0901 - WeightedF1: 0.4129 - val_loss: 9.7508e-04 - val_Recall: 0.3364 - val_PrecisionAt1: 0.8854 - val_PrecisionAt3: 0.6871 - val_PrecisionAt5: 0.5336 - val_PrecisionAt10: 0.3310 - val_MicroF1: 0.4859 - val_MacroF1: 0.0594 - val_WeightedF1: 0.4049\n",
      "Learning Rate: 0.0024619267322123052\n",
      "Epoch 22/75\n",
      "1095/1095 [==============================] - 357s 326ms/step - loss: 0.0011 - Recall: 0.3474 - PrecisionAt1: 0.8479 - PrecisionAt3: 0.6380 - PrecisionAt5: 0.4914 - PrecisionAt10: 0.3076 - MicroF1: 0.4746 - MacroF1: 0.0948 - WeightedF1: 0.4170 - val_loss: 9.6662e-04 - val_Recall: 0.3393 - val_PrecisionAt1: 0.8884 - val_PrecisionAt3: 0.6898 - val_PrecisionAt5: 0.5359 - val_PrecisionAt10: 0.3325 - val_MicroF1: 0.4887 - val_MacroF1: 0.0617 - val_WeightedF1: 0.4089\n",
      "Learning Rate: 0.0022157341009005904\n",
      "Epoch 23/75\n",
      "1095/1095 [==============================] - 357s 326ms/step - loss: 0.0011 - Recall: 0.3506 - PrecisionAt1: 0.8506 - PrecisionAt3: 0.6414 - PrecisionAt5: 0.4946 - PrecisionAt10: 0.3097 - MicroF1: 0.4781 - MacroF1: 0.1002 - WeightedF1: 0.4204 - val_loss: 9.5604e-04 - val_Recall: 0.3452 - val_PrecisionAt1: 0.8896 - val_PrecisionAt3: 0.6929 - val_PrecisionAt5: 0.5393 - val_PrecisionAt10: 0.3345 - val_MicroF1: 0.4948 - val_MacroF1: 0.0655 - val_WeightedF1: 0.4149\n",
      "Learning Rate: 0.001994160795584321\n",
      "Epoch 24/75\n",
      "1095/1095 [==============================] - 357s 326ms/step - loss: 0.0011 - Recall: 0.3537 - PrecisionAt1: 0.8531 - PrecisionAt3: 0.6445 - PrecisionAt5: 0.4976 - PrecisionAt10: 0.3115 - MicroF1: 0.4816 - MacroF1: 0.1045 - WeightedF1: 0.4240 - val_loss: 9.5102e-04 - val_Recall: 0.3465 - val_PrecisionAt1: 0.8895 - val_PrecisionAt3: 0.6933 - val_PrecisionAt5: 0.5405 - val_PrecisionAt10: 0.3352 - val_MicroF1: 0.4962 - val_MacroF1: 0.0681 - val_WeightedF1: 0.4167\n",
      "Learning Rate: 0.0017947446322068572\n",
      "Epoch 25/75\n",
      "1095/1095 [==============================] - 356s 326ms/step - loss: 0.0011 - Recall: 0.3559 - PrecisionAt1: 0.8544 - PrecisionAt3: 0.6471 - PrecisionAt5: 0.5001 - PrecisionAt10: 0.3131 - MicroF1: 0.4841 - MacroF1: 0.1081 - WeightedF1: 0.4266 - val_loss: 9.4701e-04 - val_Recall: 0.3471 - val_PrecisionAt1: 0.8908 - val_PrecisionAt3: 0.6945 - val_PrecisionAt5: 0.5418 - val_PrecisionAt10: 0.3361 - val_MicroF1: 0.4970 - val_MacroF1: 0.0681 - val_WeightedF1: 0.4178\n",
      "Learning Rate: 0.0016152701689861714\n",
      "Epoch 26/75\n",
      "1095/1095 [==============================] - 356s 325ms/step - loss: 0.0010 - Recall: 0.3585 - PrecisionAt1: 0.8562 - PrecisionAt3: 0.6499 - PrecisionAt5: 0.5029 - PrecisionAt10: 0.3147 - MicroF1: 0.4869 - MacroF1: 0.1122 - WeightedF1: 0.4294 - val_loss: 9.4263e-04 - val_Recall: 0.3486 - val_PrecisionAt1: 0.8924 - val_PrecisionAt3: 0.6969 - val_PrecisionAt5: 0.5435 - val_PrecisionAt10: 0.3371 - val_MicroF1: 0.4989 - val_MacroF1: 0.0700 - val_WeightedF1: 0.4193\n",
      "Learning Rate: 0.0014537431416101754\n",
      "Epoch 27/75\n",
      "1095/1095 [==============================] - 356s 326ms/step - loss: 0.0010 - Recall: 0.3607 - PrecisionAt1: 0.8582 - PrecisionAt3: 0.6523 - PrecisionAt5: 0.5048 - PrecisionAt10: 0.3160 - MicroF1: 0.4894 - MacroF1: 0.1156 - WeightedF1: 0.4319 - val_loss: 9.3632e-04 - val_Recall: 0.3508 - val_PrecisionAt1: 0.8930 - val_PrecisionAt3: 0.6979 - val_PrecisionAt5: 0.5450 - val_PrecisionAt10: 0.3380 - val_MicroF1: 0.5009 - val_MacroF1: 0.0721 - val_WeightedF1: 0.4216\n",
      "Learning Rate: 0.0013083687750622631\n",
      "Epoch 28/75\n",
      "1095/1095 [==============================] - 358s 327ms/step - loss: 0.0010 - Recall: 0.3624 - PrecisionAt1: 0.8593 - PrecisionAt3: 0.6544 - PrecisionAt5: 0.5071 - PrecisionAt10: 0.3174 - MicroF1: 0.4913 - MacroF1: 0.1187 - WeightedF1: 0.4339 - val_loss: 9.3504e-04 - val_Recall: 0.3537 - val_PrecisionAt1: 0.8935 - val_PrecisionAt3: 0.6985 - val_PrecisionAt5: 0.5452 - val_PrecisionAt10: 0.3382 - val_MicroF1: 0.5038 - val_MacroF1: 0.0728 - val_WeightedF1: 0.4245\n",
      "Learning Rate: 0.0011775318766012789\n",
      "Epoch 29/75\n",
      "1095/1095 [==============================] - 362s 331ms/step - loss: 0.0010 - Recall: 0.3644 - PrecisionAt1: 0.8612 - PrecisionAt3: 0.6565 - PrecisionAt5: 0.5089 - PrecisionAt10: 0.3187 - MicroF1: 0.4935 - MacroF1: 0.1226 - WeightedF1: 0.4361 - val_loss: 9.2743e-04 - val_Recall: 0.3555 - val_PrecisionAt1: 0.8943 - val_PrecisionAt3: 0.7007 - val_PrecisionAt5: 0.5473 - val_PrecisionAt10: 0.3394 - val_MicroF1: 0.5055 - val_MacroF1: 0.0756 - val_WeightedF1: 0.4274\n",
      "Learning Rate: 0.001059778709895909\n",
      "Epoch 30/75\n",
      "1095/1095 [==============================] - 358s 327ms/step - loss: 0.0010 - Recall: 0.3660 - PrecisionAt1: 0.8618 - PrecisionAt3: 0.6584 - PrecisionAt5: 0.5106 - PrecisionAt10: 0.3197 - MicroF1: 0.4953 - MacroF1: 0.1265 - WeightedF1: 0.4380 - val_loss: 9.2271e-04 - val_Recall: 0.3596 - val_PrecisionAt1: 0.8947 - val_PrecisionAt3: 0.7006 - val_PrecisionAt5: 0.5478 - val_PrecisionAt10: 0.3397 - val_MicroF1: 0.5091 - val_MacroF1: 0.0773 - val_WeightedF1: 0.4313\n",
      "Learning Rate: 0.0009538008598610759\n",
      "Epoch 31/75\n",
      "1095/1095 [==============================] - 358s 327ms/step - loss: 0.0010 - Recall: 0.3676 - PrecisionAt1: 0.8629 - PrecisionAt3: 0.6596 - PrecisionAt5: 0.5121 - PrecisionAt10: 0.3206 - MicroF1: 0.4970 - MacroF1: 0.1294 - WeightedF1: 0.4397 - val_loss: 9.2099e-04 - val_Recall: 0.3599 - val_PrecisionAt1: 0.8954 - val_PrecisionAt3: 0.7014 - val_PrecisionAt5: 0.5487 - val_PrecisionAt10: 0.3404 - val_MicroF1: 0.5096 - val_MacroF1: 0.0784 - val_WeightedF1: 0.4319\n",
      "Learning Rate: 0.0008584207738749683\n",
      "Epoch 32/75\n",
      "1095/1095 [==============================] - 358s 327ms/step - loss: 0.0010 - Recall: 0.3687 - PrecisionAt1: 0.8641 - PrecisionAt3: 0.6610 - PrecisionAt5: 0.5136 - PrecisionAt10: 0.3214 - MicroF1: 0.4984 - MacroF1: 0.1310 - WeightedF1: 0.4411 - val_loss: 9.1746e-04 - val_Recall: 0.3623 - val_PrecisionAt1: 0.8958 - val_PrecisionAt3: 0.7029 - val_PrecisionAt5: 0.5501 - val_PrecisionAt10: 0.3412 - val_MicroF1: 0.5119 - val_MacroF1: 0.0796 - val_WeightedF1: 0.4341\n",
      "Learning Rate: 0.0007725787174422294\n",
      "Epoch 33/75\n"
     ]
    },
    {
     "name": "stdout",
     "output_type": "stream",
     "text": [
      "1095/1095 [==============================] - 357s 326ms/step - loss: 0.0010 - Recall: 0.3699 - PrecisionAt1: 0.8646 - PrecisionAt3: 0.6620 - PrecisionAt5: 0.5145 - PrecisionAt10: 0.3220 - MicroF1: 0.4997 - MacroF1: 0.1330 - WeightedF1: 0.4425 - val_loss: 9.1587e-04 - val_Recall: 0.3621 - val_PrecisionAt1: 0.8960 - val_PrecisionAt3: 0.7034 - val_PrecisionAt5: 0.5509 - val_PrecisionAt10: 0.3415 - val_MicroF1: 0.5119 - val_MacroF1: 0.0803 - val_WeightedF1: 0.4340\n",
      "Learning Rate: 0.000695320829981938\n",
      "Epoch 34/75\n",
      "1095/1095 [==============================] - 357s 326ms/step - loss: 9.9614e-04 - Recall: 0.3709 - PrecisionAt1: 0.8658 - PrecisionAt3: 0.6633 - PrecisionAt5: 0.5155 - PrecisionAt10: 0.3227 - MicroF1: 0.5008 - MacroF1: 0.1359 - WeightedF1: 0.4436 - val_loss: 9.1427e-04 - val_Recall: 0.3612 - val_PrecisionAt1: 0.8964 - val_PrecisionAt3: 0.7040 - val_PrecisionAt5: 0.5516 - val_PrecisionAt10: 0.3421 - val_MicroF1: 0.5113 - val_MacroF1: 0.0818 - val_WeightedF1: 0.4334\n",
      "Learning Rate: 0.0006257887522224337\n",
      "Epoch 35/75\n",
      "1095/1095 [==============================] - 357s 326ms/step - loss: 9.9162e-04 - Recall: 0.3723 - PrecisionAt1: 0.8663 - PrecisionAt3: 0.6647 - PrecisionAt5: 0.5169 - PrecisionAt10: 0.3235 - MicroF1: 0.5023 - MacroF1: 0.1390 - WeightedF1: 0.4452 - val_loss: 9.1239e-04 - val_Recall: 0.3626 - val_PrecisionAt1: 0.8970 - val_PrecisionAt3: 0.7048 - val_PrecisionAt5: 0.5521 - val_PrecisionAt10: 0.3424 - val_MicroF1: 0.5127 - val_MacroF1: 0.0815 - val_WeightedF1: 0.4349\n",
      "Learning Rate: 0.0005632098822388798\n",
      "Epoch 36/75\n",
      "1095/1095 [==============================] - 361s 330ms/step - loss: 9.8849e-04 - Recall: 0.3733 - PrecisionAt1: 0.8667 - PrecisionAt3: 0.6655 - PrecisionAt5: 0.5178 - PrecisionAt10: 0.3240 - MicroF1: 0.5033 - MacroF1: 0.1402 - WeightedF1: 0.4462 - val_loss: 9.1188e-04 - val_Recall: 0.3601 - val_PrecisionAt1: 0.8970 - val_PrecisionAt3: 0.7058 - val_PrecisionAt5: 0.5531 - val_PrecisionAt10: 0.3429 - val_MicroF1: 0.5109 - val_MacroF1: 0.0829 - val_WeightedF1: 0.4322\n",
      "Learning Rate: 0.0005068888887763024\n",
      "Epoch 37/75\n",
      "1095/1095 [==============================] - 375s 343ms/step - loss: 9.8566e-04 - Recall: 0.3738 - PrecisionAt1: 0.8672 - PrecisionAt3: 0.6662 - PrecisionAt5: 0.5185 - PrecisionAt10: 0.3246 - MicroF1: 0.5040 - MacroF1: 0.1410 - WeightedF1: 0.4469 - val_loss: 9.0998e-04 - val_Recall: 0.3631 - val_PrecisionAt1: 0.8973 - val_PrecisionAt3: 0.7055 - val_PrecisionAt5: 0.5531 - val_PrecisionAt10: 0.3430 - val_MicroF1: 0.5133 - val_MacroF1: 0.0829 - val_WeightedF1: 0.4351\n",
      "Learning Rate: 0.00045620001037605107\n",
      "Epoch 38/75\n",
      "1095/1095 [==============================] - 358s 327ms/step - loss: 9.8305e-04 - Recall: 0.3743 - PrecisionAt1: 0.8673 - PrecisionAt3: 0.6668 - PrecisionAt5: 0.5193 - PrecisionAt10: 0.3250 - MicroF1: 0.5046 - MacroF1: 0.1435 - WeightedF1: 0.4475 - val_loss: 9.0938e-04 - val_Recall: 0.3618 - val_PrecisionAt1: 0.8975 - val_PrecisionAt3: 0.7066 - val_PrecisionAt5: 0.5542 - val_PrecisionAt10: 0.3436 - val_MicroF1: 0.5126 - val_MacroF1: 0.0839 - val_WeightedF1: 0.4343\n",
      "Learning Rate: 0.000410580009338446\n",
      "Epoch 39/75\n",
      "1095/1095 [==============================] - 358s 327ms/step - loss: 9.8036e-04 - Recall: 0.3749 - PrecisionAt1: 0.8676 - PrecisionAt3: 0.6675 - PrecisionAt5: 0.5198 - PrecisionAt10: 0.3253 - MicroF1: 0.5053 - MacroF1: 0.1452 - WeightedF1: 0.4482 - val_loss: 9.0655e-04 - val_Recall: 0.3643 - val_PrecisionAt1: 0.8976 - val_PrecisionAt3: 0.7070 - val_PrecisionAt5: 0.5549 - val_PrecisionAt10: 0.3439 - val_MicroF1: 0.5148 - val_MacroF1: 0.0846 - val_WeightedF1: 0.4368\n",
      "Learning Rate: 0.0003695220162626356\n",
      "Epoch 40/75\n",
      "1095/1095 [==============================] - 358s 327ms/step - loss: 9.7786e-04 - Recall: 0.3757 - PrecisionAt1: 0.8686 - PrecisionAt3: 0.6682 - PrecisionAt5: 0.5202 - PrecisionAt10: 0.3258 - MicroF1: 0.5060 - MacroF1: 0.1465 - WeightedF1: 0.4489 - val_loss: 9.0692e-04 - val_Recall: 0.3632 - val_PrecisionAt1: 0.8984 - val_PrecisionAt3: 0.7073 - val_PrecisionAt5: 0.5548 - val_PrecisionAt10: 0.3441 - val_MicroF1: 0.5139 - val_MacroF1: 0.0847 - val_WeightedF1: 0.4355\n",
      "Learning Rate: 0.0003325698198750615\n",
      "Epoch 41/75\n",
      "1095/1095 [==============================] - 358s 327ms/step - loss: 9.7571e-04 - Recall: 0.3761 - PrecisionAt1: 0.8692 - PrecisionAt3: 0.6689 - PrecisionAt5: 0.5210 - PrecisionAt10: 0.3261 - MicroF1: 0.5066 - MacroF1: 0.1461 - WeightedF1: 0.4497 - val_loss: 9.0464e-04 - val_Recall: 0.3650 - val_PrecisionAt1: 0.8983 - val_PrecisionAt3: 0.7077 - val_PrecisionAt5: 0.5553 - val_PrecisionAt10: 0.3443 - val_MicroF1: 0.5155 - val_MacroF1: 0.0854 - val_WeightedF1: 0.4379\n",
      "Learning Rate: 0.0002993128378875554\n",
      "Epoch 42/75\n",
      "1095/1095 [==============================] - 359s 327ms/step - loss: 9.7358e-04 - Recall: 0.3767 - PrecisionAt1: 0.8692 - PrecisionAt3: 0.6693 - PrecisionAt5: 0.5217 - PrecisionAt10: 0.3265 - MicroF1: 0.5073 - MacroF1: 0.1484 - WeightedF1: 0.4503 - val_loss: 9.0497e-04 - val_Recall: 0.3642 - val_PrecisionAt1: 0.8987 - val_PrecisionAt3: 0.7081 - val_PrecisionAt5: 0.5557 - val_PrecisionAt10: 0.3445 - val_MicroF1: 0.5149 - val_MacroF1: 0.0856 - val_WeightedF1: 0.4370\n",
      "Learning Rate: 0.0002693815593374893\n",
      "Epoch 43/75\n",
      "1095/1095 [==============================] - 358s 327ms/step - loss: 9.7240e-04 - Recall: 0.3772 - PrecisionAt1: 0.8699 - PrecisionAt3: 0.6697 - PrecisionAt5: 0.5219 - PrecisionAt10: 0.3267 - MicroF1: 0.5077 - MacroF1: 0.1492 - WeightedF1: 0.4507 - val_loss: 9.0430e-04 - val_Recall: 0.3643 - val_PrecisionAt1: 0.8989 - val_PrecisionAt3: 0.7078 - val_PrecisionAt5: 0.5557 - val_PrecisionAt10: 0.3445 - val_MicroF1: 0.5152 - val_MacroF1: 0.0863 - val_WeightedF1: 0.4369\n",
      "Learning Rate: 0.00024244340602308512\n",
      "Epoch 44/75\n",
      "1095/1095 [==============================] - 358s 327ms/step - loss: 9.7088e-04 - Recall: 0.3775 - PrecisionAt1: 0.8702 - PrecisionAt3: 0.6703 - PrecisionAt5: 0.5226 - PrecisionAt10: 0.3271 - MicroF1: 0.5082 - MacroF1: 0.1502 - WeightedF1: 0.4511 - val_loss: 9.0309e-04 - val_Recall: 0.3653 - val_PrecisionAt1: 0.8988 - val_PrecisionAt3: 0.7086 - val_PrecisionAt5: 0.5562 - val_PrecisionAt10: 0.3448 - val_MicroF1: 0.5160 - val_MacroF1: 0.0868 - val_WeightedF1: 0.4380\n",
      "Learning Rate: 0.0002181990654207766\n",
      "Epoch 45/75\n",
      "1095/1095 [==============================] - 358s 327ms/step - loss: 9.6947e-04 - Recall: 0.3778 - PrecisionAt1: 0.8701 - PrecisionAt3: 0.6704 - PrecisionAt5: 0.5227 - PrecisionAt10: 0.3273 - MicroF1: 0.5085 - MacroF1: 0.1506 - WeightedF1: 0.4515 - val_loss: 9.0274e-04 - val_Recall: 0.3653 - val_PrecisionAt1: 0.8994 - val_PrecisionAt3: 0.7085 - val_PrecisionAt5: 0.5562 - val_PrecisionAt10: 0.3448 - val_MicroF1: 0.5161 - val_MacroF1: 0.0875 - val_WeightedF1: 0.4378\n",
      "Learning Rate: 0.00019637916411738843\n",
      "Epoch 46/75\n",
      "1095/1095 [==============================] - 358s 327ms/step - loss: 9.6792e-04 - Recall: 0.3781 - PrecisionAt1: 0.8704 - PrecisionAt3: 0.6709 - PrecisionAt5: 0.5231 - PrecisionAt10: 0.3276 - MicroF1: 0.5088 - MacroF1: 0.1517 - WeightedF1: 0.4518 - val_loss: 9.0262e-04 - val_Recall: 0.3651 - val_PrecisionAt1: 0.8992 - val_PrecisionAt3: 0.7090 - val_PrecisionAt5: 0.5568 - val_PrecisionAt10: 0.3451 - val_MicroF1: 0.5159 - val_MacroF1: 0.0871 - val_WeightedF1: 0.4377\n",
      "Learning Rate: 0.00017674124246696012\n",
      "Epoch 47/75\n",
      "1095/1095 [==============================] - 358s 327ms/step - loss: 9.6711e-04 - Recall: 0.3780 - PrecisionAt1: 0.8704 - PrecisionAt3: 0.6713 - PrecisionAt5: 0.5233 - PrecisionAt10: 0.3276 - MicroF1: 0.5088 - MacroF1: 0.1529 - WeightedF1: 0.4518 - val_loss: 9.0253e-04 - val_Recall: 0.3646 - val_PrecisionAt1: 0.8993 - val_PrecisionAt3: 0.7089 - val_PrecisionAt5: 0.5565 - val_PrecisionAt10: 0.3451 - val_MicroF1: 0.5155 - val_MacroF1: 0.0869 - val_WeightedF1: 0.4373\n",
      "Learning Rate: 0.0001590671221492812\n",
      "Epoch 48/75\n",
      "1095/1095 [==============================] - 358s 327ms/step - loss: 9.6609e-04 - Recall: 0.3787 - PrecisionAt1: 0.8709 - PrecisionAt3: 0.6713 - PrecisionAt5: 0.5237 - PrecisionAt10: 0.3278 - MicroF1: 0.5095 - MacroF1: 0.1538 - WeightedF1: 0.4525 - val_loss: 9.0168e-04 - val_Recall: 0.3660 - val_PrecisionAt1: 0.8994 - val_PrecisionAt3: 0.7092 - val_PrecisionAt5: 0.5569 - val_PrecisionAt10: 0.3453 - val_MicroF1: 0.5167 - val_MacroF1: 0.0875 - val_WeightedF1: 0.4387\n"
     ]
    },
    {
     "name": "stdout",
     "output_type": "stream",
     "text": [
      "Learning Rate: 0.0001431604046956636\n",
      "Epoch 49/75\n",
      "1095/1095 [==============================] - 357s 326ms/step - loss: 9.6467e-04 - Recall: 0.3789 - PrecisionAt1: 0.8709 - PrecisionAt3: 0.6718 - PrecisionAt5: 0.5240 - PrecisionAt10: 0.3281 - MicroF1: 0.5097 - MacroF1: 0.1526 - WeightedF1: 0.4527 - val_loss: 9.0125e-04 - val_Recall: 0.3661 - val_PrecisionAt1: 0.8994 - val_PrecisionAt3: 0.7092 - val_PrecisionAt5: 0.5570 - val_PrecisionAt10: 0.3453 - val_MicroF1: 0.5169 - val_MacroF1: 0.0879 - val_WeightedF1: 0.4387\n",
      "Learning Rate: 0.0001288443629164249\n",
      "Epoch 50/75\n",
      "1095/1095 [==============================] - 357s 326ms/step - loss: 9.6418e-04 - Recall: 0.3791 - PrecisionAt1: 0.8711 - PrecisionAt3: 0.6718 - PrecisionAt5: 0.5242 - PrecisionAt10: 0.3282 - MicroF1: 0.5099 - MacroF1: 0.1539 - WeightedF1: 0.4530 - val_loss: 9.0115e-04 - val_Recall: 0.3657 - val_PrecisionAt1: 0.8996 - val_PrecisionAt3: 0.7092 - val_PrecisionAt5: 0.5571 - val_PrecisionAt10: 0.3454 - val_MicroF1: 0.5166 - val_MacroF1: 0.0887 - val_WeightedF1: 0.4384\n",
      "Learning Rate: 0.00011595992400543764\n",
      "Epoch 51/75\n",
      "1095/1095 [==============================] - 356s 325ms/step - loss: 9.6362e-04 - Recall: 0.3791 - PrecisionAt1: 0.8713 - PrecisionAt3: 0.6720 - PrecisionAt5: 0.5242 - PrecisionAt10: 0.3283 - MicroF1: 0.5100 - MacroF1: 0.1545 - WeightedF1: 0.4530 - val_loss: 9.0087e-04 - val_Recall: 0.3665 - val_PrecisionAt1: 0.8997 - val_PrecisionAt3: 0.7096 - val_PrecisionAt5: 0.5571 - val_PrecisionAt10: 0.3453 - val_MicroF1: 0.5172 - val_MacroF1: 0.0882 - val_WeightedF1: 0.4391\n",
      "Learning Rate: 0.00010436393422423862\n",
      "Epoch 52/75\n",
      "1095/1095 [==============================] - 357s 326ms/step - loss: 9.6231e-04 - Recall: 0.3794 - PrecisionAt1: 0.8714 - PrecisionAt3: 0.6723 - PrecisionAt5: 0.5245 - PrecisionAt10: 0.3284 - MicroF1: 0.5103 - MacroF1: 0.1562 - WeightedF1: 0.4535 - val_loss: 9.0083e-04 - val_Recall: 0.3660 - val_PrecisionAt1: 0.8999 - val_PrecisionAt3: 0.7097 - val_PrecisionAt5: 0.5574 - val_PrecisionAt10: 0.3455 - val_MicroF1: 0.5170 - val_MacroF1: 0.0887 - val_WeightedF1: 0.4385\n",
      "Learning Rate: 9.392754145665094e-05\n",
      "Epoch 53/75\n",
      "1095/1095 [==============================] - 357s 326ms/step - loss: 9.6226e-04 - Recall: 0.3798 - PrecisionAt1: 0.8717 - PrecisionAt3: 0.6725 - PrecisionAt5: 0.5245 - PrecisionAt10: 0.3285 - MicroF1: 0.5107 - MacroF1: 0.1553 - WeightedF1: 0.4538 - val_loss: 9.0049e-04 - val_Recall: 0.3666 - val_PrecisionAt1: 0.9000 - val_PrecisionAt3: 0.7097 - val_PrecisionAt5: 0.5573 - val_PrecisionAt10: 0.3455 - val_MicroF1: 0.5174 - val_MacroF1: 0.0889 - val_WeightedF1: 0.4392\n",
      "Learning Rate: 8.453478731098586e-05\n",
      "Epoch 54/75\n",
      "1095/1095 [==============================] - 360s 329ms/step - loss: 9.6189e-04 - Recall: 0.3798 - PrecisionAt1: 0.8713 - PrecisionAt3: 0.6726 - PrecisionAt5: 0.5247 - PrecisionAt10: 0.3286 - MicroF1: 0.5106 - MacroF1: 0.1559 - WeightedF1: 0.4537 - val_loss: 9.0039e-04 - val_Recall: 0.3669 - val_PrecisionAt1: 0.8998 - val_PrecisionAt3: 0.7097 - val_PrecisionAt5: 0.5574 - val_PrecisionAt10: 0.3456 - val_MicroF1: 0.5177 - val_MacroF1: 0.0886 - val_WeightedF1: 0.4394\n",
      "Learning Rate: 7.608131054439583e-05\n",
      "Epoch 55/75\n",
      "1095/1095 [==============================] - 358s 327ms/step - loss: 9.6083e-04 - Recall: 0.3799 - PrecisionAt1: 0.8718 - PrecisionAt3: 0.6727 - PrecisionAt5: 0.5249 - PrecisionAt10: 0.3287 - MicroF1: 0.5109 - MacroF1: 0.1562 - WeightedF1: 0.4539 - val_loss: 9.0011e-04 - val_Recall: 0.3666 - val_PrecisionAt1: 0.8998 - val_PrecisionAt3: 0.7098 - val_PrecisionAt5: 0.5575 - val_PrecisionAt10: 0.3456 - val_MicroF1: 0.5175 - val_MacroF1: 0.0887 - val_WeightedF1: 0.4394\n",
      "Learning Rate: 6.84731814544648e-05\n",
      "Epoch 56/75\n",
      "1095/1095 [==============================] - 359s 327ms/step - loss: 9.6061e-04 - Recall: 0.3801 - PrecisionAt1: 0.8716 - PrecisionAt3: 0.6727 - PrecisionAt5: 0.5250 - PrecisionAt10: 0.3287 - MicroF1: 0.5111 - MacroF1: 0.1564 - WeightedF1: 0.4542 - val_loss: 8.9993e-04 - val_Recall: 0.3668 - val_PrecisionAt1: 0.9000 - val_PrecisionAt3: 0.7098 - val_PrecisionAt5: 0.5575 - val_PrecisionAt10: 0.3456 - val_MicroF1: 0.5176 - val_MacroF1: 0.0889 - val_WeightedF1: 0.4395\n",
      "Learning Rate: 6.162586068967358e-05\n",
      "Epoch 57/75\n",
      "1095/1095 [==============================] - 358s 327ms/step - loss: 9.5967e-04 - Recall: 0.3802 - PrecisionAt1: 0.8716 - PrecisionAt3: 0.6729 - PrecisionAt5: 0.5251 - PrecisionAt10: 0.3289 - MicroF1: 0.5111 - MacroF1: 0.1570 - WeightedF1: 0.4542 - val_loss: 8.9960e-04 - val_Recall: 0.3672 - val_PrecisionAt1: 0.8999 - val_PrecisionAt3: 0.7100 - val_PrecisionAt5: 0.5575 - val_PrecisionAt10: 0.3457 - val_MicroF1: 0.5179 - val_MacroF1: 0.0891 - val_WeightedF1: 0.4397\n",
      "Learning Rate: 5.546327593037859e-05\n",
      "Epoch 58/75\n",
      "1095/1095 [==============================] - 359s 328ms/step - loss: 9.5969e-04 - Recall: 0.3805 - PrecisionAt1: 0.8719 - PrecisionAt3: 0.6731 - PrecisionAt5: 0.5252 - PrecisionAt10: 0.3288 - MicroF1: 0.5115 - MacroF1: 0.1574 - WeightedF1: 0.4546 - val_loss: 8.9983e-04 - val_Recall: 0.3665 - val_PrecisionAt1: 0.8999 - val_PrecisionAt3: 0.7100 - val_PrecisionAt5: 0.5576 - val_PrecisionAt10: 0.3457 - val_MicroF1: 0.5174 - val_MacroF1: 0.0892 - val_WeightedF1: 0.4392\n",
      "Learning Rate: 4.991694768250454e-05\n",
      "Epoch 59/75\n",
      "1095/1095 [==============================] - 358s 327ms/step - loss: 9.5974e-04 - Recall: 0.3804 - PrecisionAt1: 0.8717 - PrecisionAt3: 0.6730 - PrecisionAt5: 0.5252 - PrecisionAt10: 0.3289 - MicroF1: 0.5114 - MacroF1: 0.1571 - WeightedF1: 0.4545 - val_loss: 8.9981e-04 - val_Recall: 0.3665 - val_PrecisionAt1: 0.9001 - val_PrecisionAt3: 0.7100 - val_PrecisionAt5: 0.5576 - val_PrecisionAt10: 0.3458 - val_MicroF1: 0.5174 - val_MacroF1: 0.0889 - val_WeightedF1: 0.4392\n",
      "Learning Rate: 4.4925252586836e-05\n",
      "Epoch 60/75\n",
      "1095/1095 [==============================] - 358s 327ms/step - loss: 9.5964e-04 - Recall: 0.3803 - PrecisionAt1: 0.8721 - PrecisionAt3: 0.6731 - PrecisionAt5: 0.5252 - PrecisionAt10: 0.3289 - MicroF1: 0.5113 - MacroF1: 0.1563 - WeightedF1: 0.4544 - val_loss: 8.9943e-04 - val_Recall: 0.3669 - val_PrecisionAt1: 0.9002 - val_PrecisionAt3: 0.7101 - val_PrecisionAt5: 0.5576 - val_PrecisionAt10: 0.3458 - val_MicroF1: 0.5178 - val_MacroF1: 0.0893 - val_WeightedF1: 0.4396\n",
      "Learning Rate: 4.0432726018480024e-05\n",
      "Epoch 61/75\n",
      "1095/1095 [==============================] - 358s 327ms/step - loss: 9.5900e-04 - Recall: 0.3803 - PrecisionAt1: 0.8719 - PrecisionAt3: 0.6732 - PrecisionAt5: 0.5254 - PrecisionAt10: 0.3290 - MicroF1: 0.5114 - MacroF1: 0.1574 - WeightedF1: 0.4544 - val_loss: 8.9960e-04 - val_Recall: 0.3666 - val_PrecisionAt1: 0.9002 - val_PrecisionAt3: 0.7101 - val_PrecisionAt5: 0.5577 - val_PrecisionAt10: 0.3458 - val_MicroF1: 0.5176 - val_MacroF1: 0.0893 - val_WeightedF1: 0.4392\n",
      "Learning Rate: 3.6389453089213934e-05\n",
      "Epoch 62/75\n",
      "1095/1095 [==============================] - 358s 327ms/step - loss: 9.5833e-04 - Recall: 0.3807 - PrecisionAt1: 0.8720 - PrecisionAt3: 0.6733 - PrecisionAt5: 0.5254 - PrecisionAt10: 0.3291 - MicroF1: 0.5118 - MacroF1: 0.1575 - WeightedF1: 0.4549 - val_loss: 8.9931e-04 - val_Recall: 0.3671 - val_PrecisionAt1: 0.9001 - val_PrecisionAt3: 0.7101 - val_PrecisionAt5: 0.5578 - val_PrecisionAt10: 0.3458 - val_MicroF1: 0.5179 - val_MacroF1: 0.0893 - val_WeightedF1: 0.4397\n",
      "Learning Rate: 3.275050876254682e-05\n",
      "Epoch 63/75\n",
      "1095/1095 [==============================] - 358s 327ms/step - loss: 9.5831e-04 - Recall: 0.3807 - PrecisionAt1: 0.8721 - PrecisionAt3: 0.6734 - PrecisionAt5: 0.5255 - PrecisionAt10: 0.3291 - MicroF1: 0.5117 - MacroF1: 0.1574 - WeightedF1: 0.4547 - val_loss: 8.9956e-04 - val_Recall: 0.3666 - val_PrecisionAt1: 0.9001 - val_PrecisionAt3: 0.7103 - val_PrecisionAt5: 0.5579 - val_PrecisionAt10: 0.3458 - val_MicroF1: 0.5175 - val_MacroF1: 0.0890 - val_WeightedF1: 0.4392\n",
      "Learning Rate: 2.9475456904037857e-05\n",
      "Epoch 64/75\n",
      "1095/1095 [==============================] - 358s 327ms/step - loss: 9.5786e-04 - Recall: 0.3807 - PrecisionAt1: 0.8724 - PrecisionAt3: 0.6736 - PrecisionAt5: 0.5258 - PrecisionAt10: 0.3292 - MicroF1: 0.5118 - MacroF1: 0.1583 - WeightedF1: 0.4548 - val_loss: 8.9917e-04 - val_Recall: 0.3670 - val_PrecisionAt1: 0.9001 - val_PrecisionAt3: 0.7103 - val_PrecisionAt5: 0.5579 - val_PrecisionAt10: 0.3459 - val_MicroF1: 0.5179 - val_MacroF1: 0.0890 - val_WeightedF1: 0.4399\n"
     ]
    },
    {
     "name": "stdout",
     "output_type": "stream",
     "text": [
      "Learning Rate: 2.6527911541052162e-05\n",
      "Epoch 65/75\n",
      "1095/1095 [==============================] - 356s 326ms/step - loss: 9.5808e-04 - Recall: 0.3807 - PrecisionAt1: 0.8724 - PrecisionAt3: 0.6734 - PrecisionAt5: 0.5256 - PrecisionAt10: 0.3292 - MicroF1: 0.5117 - MacroF1: 0.1574 - WeightedF1: 0.4548 - val_loss: 8.9914e-04 - val_Recall: 0.3669 - val_PrecisionAt1: 0.9002 - val_PrecisionAt3: 0.7102 - val_PrecisionAt5: 0.5579 - val_PrecisionAt10: 0.3459 - val_MicroF1: 0.5178 - val_MacroF1: 0.0892 - val_WeightedF1: 0.4397\n",
      "Learning Rate: 2.387512104178313e-05\n",
      "Epoch 66/75\n",
      "1095/1095 [==============================] - 356s 325ms/step - loss: 9.5782e-04 - Recall: 0.3807 - PrecisionAt1: 0.8723 - PrecisionAt3: 0.6734 - PrecisionAt5: 0.5256 - PrecisionAt10: 0.3292 - MicroF1: 0.5117 - MacroF1: 0.1570 - WeightedF1: 0.4548 - val_loss: 8.9907e-04 - val_Recall: 0.3668 - val_PrecisionAt1: 0.9001 - val_PrecisionAt3: 0.7103 - val_PrecisionAt5: 0.5578 - val_PrecisionAt10: 0.3459 - val_MicroF1: 0.5178 - val_MacroF1: 0.0892 - val_WeightedF1: 0.4396\n",
      "Learning Rate: 2.1487609592441005e-05\n",
      "Epoch 67/75\n",
      "1095/1095 [==============================] - 356s 325ms/step - loss: 9.5754e-04 - Recall: 0.3806 - PrecisionAt1: 0.8719 - PrecisionAt3: 0.6733 - PrecisionAt5: 0.5257 - PrecisionAt10: 0.3292 - MicroF1: 0.5117 - MacroF1: 0.1576 - WeightedF1: 0.4548 - val_loss: 8.9909e-04 - val_Recall: 0.3671 - val_PrecisionAt1: 0.9001 - val_PrecisionAt3: 0.7102 - val_PrecisionAt5: 0.5579 - val_PrecisionAt10: 0.3459 - val_MicroF1: 0.5180 - val_MacroF1: 0.0893 - val_WeightedF1: 0.4398\n",
      "Learning Rate: 1.9338848142069766e-05\n",
      "Epoch 68/75\n",
      "1095/1095 [==============================] - 356s 325ms/step - loss: 9.5744e-04 - Recall: 0.3811 - PrecisionAt1: 0.8724 - PrecisionAt3: 0.6737 - PrecisionAt5: 0.5257 - PrecisionAt10: 0.3293 - MicroF1: 0.5122 - MacroF1: 0.1592 - WeightedF1: 0.4553 - val_loss: 8.9897e-04 - val_Recall: 0.3671 - val_PrecisionAt1: 0.9002 - val_PrecisionAt3: 0.7102 - val_PrecisionAt5: 0.5579 - val_PrecisionAt10: 0.3459 - val_MicroF1: 0.5179 - val_MacroF1: 0.0893 - val_WeightedF1: 0.4398\n",
      "Learning Rate: 1.7404963000444695e-05\n",
      "Epoch 69/75\n",
      "1095/1095 [==============================] - 373s 341ms/step - loss: 9.5781e-04 - Recall: 0.3809 - PrecisionAt1: 0.8719 - PrecisionAt3: 0.6737 - PrecisionAt5: 0.5257 - PrecisionAt10: 0.3292 - MicroF1: 0.5119 - MacroF1: 0.1577 - WeightedF1: 0.4550 - val_loss: 8.9915e-04 - val_Recall: 0.3667 - val_PrecisionAt1: 0.9002 - val_PrecisionAt3: 0.7103 - val_PrecisionAt5: 0.5579 - val_PrecisionAt10: 0.3459 - val_MicroF1: 0.5177 - val_MacroF1: 0.0893 - val_WeightedF1: 0.4395\n",
      "Learning Rate: 1.566446735523641e-05\n",
      "Epoch 70/75\n",
      "1095/1095 [==============================] - 381s 348ms/step - loss: 9.5748e-04 - Recall: 0.3808 - PrecisionAt1: 0.8722 - PrecisionAt3: 0.6735 - PrecisionAt5: 0.5257 - PrecisionAt10: 0.3291 - MicroF1: 0.5119 - MacroF1: 0.1578 - WeightedF1: 0.4550 - val_loss: 8.9911e-04 - val_Recall: 0.3667 - val_PrecisionAt1: 0.9002 - val_PrecisionAt3: 0.7104 - val_PrecisionAt5: 0.5579 - val_PrecisionAt10: 0.3460 - val_MicroF1: 0.5176 - val_MacroF1: 0.0894 - val_WeightedF1: 0.4395\n",
      "Learning Rate: 1.409802061971277e-05\n",
      "Epoch 71/75\n",
      "1095/1095 [==============================] - 379s 346ms/step - loss: 9.5699e-04 - Recall: 0.3811 - PrecisionAt1: 0.8723 - PrecisionAt3: 0.6737 - PrecisionAt5: 0.5258 - PrecisionAt10: 0.3294 - MicroF1: 0.5122 - MacroF1: 0.1581 - WeightedF1: 0.4551 - val_loss: 8.9889e-04 - val_Recall: 0.3670 - val_PrecisionAt1: 0.9002 - val_PrecisionAt3: 0.7103 - val_PrecisionAt5: 0.5579 - val_PrecisionAt10: 0.3459 - val_MicroF1: 0.5179 - val_MacroF1: 0.0893 - val_WeightedF1: 0.4399\n",
      "Learning Rate: 1.2688218885159587e-05\n",
      "Epoch 72/75\n",
      "1095/1095 [==============================] - 373s 340ms/step - loss: 9.5701e-04 - Recall: 0.3810 - PrecisionAt1: 0.8719 - PrecisionAt3: 0.6737 - PrecisionAt5: 0.5259 - PrecisionAt10: 0.3293 - MicroF1: 0.5120 - MacroF1: 0.1578 - WeightedF1: 0.4552 - val_loss: 8.9910e-04 - val_Recall: 0.3666 - val_PrecisionAt1: 0.9003 - val_PrecisionAt3: 0.7104 - val_PrecisionAt5: 0.5579 - val_PrecisionAt10: 0.3459 - val_MicroF1: 0.5176 - val_MacroF1: 0.0894 - val_WeightedF1: 0.4394\n",
      "Learning Rate: 1.141939683293458e-05\n",
      "Epoch 73/75\n",
      "1095/1095 [==============================] - 357s 326ms/step - loss: 9.5685e-04 - Recall: 0.3810 - PrecisionAt1: 0.8725 - PrecisionAt3: 0.6738 - PrecisionAt5: 0.5260 - PrecisionAt10: 0.3294 - MicroF1: 0.5121 - MacroF1: 0.1596 - WeightedF1: 0.4553 - val_loss: 8.9911e-04 - val_Recall: 0.3667 - val_PrecisionAt1: 0.9002 - val_PrecisionAt3: 0.7103 - val_PrecisionAt5: 0.5579 - val_PrecisionAt10: 0.3459 - val_MicroF1: 0.5176 - val_MacroF1: 0.0894 - val_WeightedF1: 0.4395\n",
      "Learning Rate: 1.0277457477059215e-05\n",
      "Epoch 74/75\n",
      "1095/1095 [==============================] - 357s 326ms/step - loss: 9.5711e-04 - Recall: 0.3811 - PrecisionAt1: 0.8723 - PrecisionAt3: 0.6737 - PrecisionAt5: 0.5258 - PrecisionAt10: 0.3293 - MicroF1: 0.5123 - MacroF1: 0.1578 - WeightedF1: 0.4554 - val_loss: 8.9893e-04 - val_Recall: 0.3669 - val_PrecisionAt1: 0.9002 - val_PrecisionAt3: 0.7104 - val_PrecisionAt5: 0.5579 - val_PrecisionAt10: 0.3460 - val_MicroF1: 0.5178 - val_MacroF1: 0.0894 - val_WeightedF1: 0.4397\n",
      "Learning Rate: 9.249711729353293e-06\n",
      "Epoch 75/75\n",
      "1095/1095 [==============================] - 358s 327ms/step - loss: 9.5651e-04 - Recall: 0.3811 - PrecisionAt1: 0.8722 - PrecisionAt3: 0.6739 - PrecisionAt5: 0.5260 - PrecisionAt10: 0.3293 - MicroF1: 0.5122 - MacroF1: 0.1586 - WeightedF1: 0.4553 - val_loss: 8.9899e-04 - val_Recall: 0.3668 - val_PrecisionAt1: 0.9003 - val_PrecisionAt3: 0.7104 - val_PrecisionAt5: 0.5579 - val_PrecisionAt10: 0.3460 - val_MicroF1: 0.5178 - val_MacroF1: 0.0894 - val_WeightedF1: 0.4396\n"
     ]
    }
   ],
   "source": [
    "# Train the model\n",
    "result = model.fit(tr_dataset,\n",
    "                   epochs=75,\n",
    "                   validation_data=val_dataset,\n",
    "                   callbacks=[callback]);"
   ]
  },
  {
   "cell_type": "code",
   "execution_count": 29,
   "metadata": {},
   "outputs": [
    {
     "data": {
      "image/png": "[encoded data removed]",
      "text/plain": [
       "<Figure size 432x288 with 1 Axes>"
      ]
     },
     "metadata": {
      "needs_background": "light"
     },
     "output_type": "display_data"
    }
   ],
   "source": [
    "# Plot the PrecisionAt1 metric at each itteration\n",
    "plt.plot(result.history['PrecisionAt1'], label='train_PrecisionAt1');\n",
    "plt.plot(result.history['val_PrecisionAt1'], label='val_PrecisionAt1');\n",
    "plt.legend();"
   ]
  },
  {
   "cell_type": "code",
   "execution_count": 30,
   "metadata": {},
   "outputs": [
    {
     "data": {
      "image/png": "[encoded data removed]",
      "text/plain": [
       "<Figure size 432x288 with 1 Axes>"
      ]
     },
     "metadata": {
      "needs_background": "light"
     },
     "output_type": "display_data"
    }
   ],
   "source": [
    "# Plot the PrecisionAt3 metric at each itteration\n",
    "plt.plot(result.history['PrecisionAt3'], label='train_PrecisionAt3l');\n",
    "plt.plot(result.history['val_PrecisionAt3'], label='val_PrecisionAt3');\n",
    "plt.legend();"
   ]
  },
  {
   "cell_type": "code",
   "execution_count": 31,
   "metadata": {},
   "outputs": [
    {
     "data": {
      "image/png": "[encoded data removed]",
      "text/plain": [
       "<Figure size 432x288 with 1 Axes>"
      ]
     },
     "metadata": {
      "needs_background": "light"
     },
     "output_type": "display_data"
    }
   ],
   "source": [
    "# Plot the PrecisionAt5 metric at each itteration\n",
    "plt.plot(result.history['PrecisionAt5'], label='train_PrecisionAt5');\n",
    "plt.plot(result.history['val_PrecisionAt5'], label='val_PrecisionAt5');\n",
    "plt.legend();"
   ]
  },
  {
   "cell_type": "code",
   "execution_count": 32,
   "metadata": {},
   "outputs": [
    {
     "data": {
      "image/png": "[encoded data removed]",
      "text/plain": [
       "<Figure size 432x288 with 1 Axes>"
      ]
     },
     "metadata": {
      "needs_background": "light"
     },
     "output_type": "display_data"
    }
   ],
   "source": [
    "# Plot the PrecisionAt10 metric at each itteration\n",
    "plt.plot(result.history['PrecisionAt10'], label='train_PrecisionAt10');\n",
    "plt.plot(result.history['val_PrecisionAt10'], label='val_PrecisionAt10');\n",
    "plt.legend();"
   ]
  },
  {
   "cell_type": "code",
   "execution_count": 33,
   "metadata": {},
   "outputs": [
    {
     "data": {
      "image/png": "[encoded data removed]",
      "text/plain": [
       "<Figure size 432x288 with 1 Axes>"
      ]
     },
     "metadata": {
      "needs_background": "light"
     },
     "output_type": "display_data"
    }
   ],
   "source": [
    "# Plot the MicroF1 metric at each itteration\n",
    "plt.plot(result.history['MicroF1'], label='train_MicroF1');\n",
    "plt.plot(result.history['val_MicroF1'], label='val_MicroF1');\n",
    "plt.legend();"
   ]
  },
  {
   "cell_type": "code",
   "execution_count": 34,
   "metadata": {},
   "outputs": [
    {
     "data": {
      "image/png": "[encoded data removed]",
      "text/plain": [
       "<Figure size 432x288 with 1 Axes>"
      ]
     },
     "metadata": {
      "needs_background": "light"
     },
     "output_type": "display_data"
    }
   ],
   "source": [
    "# Plot the MacroF1 metric at each itteration\n",
    "plt.plot(result.history['MacroF1'], label='train_MacroF1');\n",
    "plt.plot(result.history['val_MacroF1'], label='val_MacroF1');\n",
    "plt.legend();"
   ]
  },
  {
   "cell_type": "code",
   "execution_count": 35,
   "metadata": {},
   "outputs": [
    {
     "data": {
      "image/png": "[encoded data removed]",
      "text/plain": [
       "<Figure size 432x288 with 1 Axes>"
      ]
     },
     "metadata": {
      "needs_background": "light"
     },
     "output_type": "display_data"
    }
   ],
   "source": [
    "# Plot the WeightedF1 metric at each itteration\n",
    "plt.plot(result.history['WeightedF1'], label='train_WeightedF1');\n",
    "plt.plot(result.history['val_WeightedF1'], label='val_WeightedF1');\n",
    "plt.legend();"
   ]
  },
  {
   "cell_type": "code",
   "execution_count": null,
   "metadata": {},
   "outputs": [],
   "source": []
  },
  {
   "cell_type": "code",
   "execution_count": null,
   "metadata": {},
   "outputs": [],
   "source": []
  },
  {
   "cell_type": "code",
   "execution_count": null,
   "metadata": {},
   "outputs": [],
   "source": []
  },
  {
   "cell_type": "code",
   "execution_count": null,
   "metadata": {},
   "outputs": [],
   "source": []
  },
  {
   "cell_type": "code",
   "execution_count": null,
   "metadata": {},
   "outputs": [],
   "source": []
  }
 ],
 "metadata": {
  "kernelspec": {
   "display_name": "Python 3",
   "language": "python",
   "name": "python3"
  },
  "language_info": {
   "codemirror_mode": {
    "name": "ipython",
    "version": 3
   },
   "file_extension": ".py",
   "mimetype": "text/x-python",
   "name": "python",
   "nbconvert_exporter": "python",
   "pygments_lexer": "ipython3",
   "version": "3.6.9"
  }
 },
 "nbformat": 4,
 "nbformat_minor": 2
}
