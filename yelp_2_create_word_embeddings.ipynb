{
 "cells": [
  {
   "cell_type": "code",
   "execution_count": 1,
   "metadata": {},
   "outputs": [
    {
     "name": "stdout",
     "output_type": "stream",
     "text": [
      "Requirement already satisfied: scikit-learn in /usr/local/lib/python3.6/dist-packages (0.22.1)\r\n",
      "Requirement already satisfied: numpy>=1.11.0 in /usr/local/lib/python3.6/dist-packages (from scikit-learn) (1.18.1)\r\n",
      "Requirement already satisfied: scipy>=0.17.0 in /usr/local/lib/python3.6/dist-packages (from scikit-learn) (1.4.1)\r\n",
      "Requirement already satisfied: joblib>=0.11 in /usr/local/lib/python3.6/dist-packages (from scikit-learn) (0.14.1)\r\n"
     ]
    }
   ],
   "source": [
    "!pip install scikit-learn"
   ]
  },
  {
   "cell_type": "code",
   "execution_count": 2,
   "metadata": {},
   "outputs": [
    {
     "name": "stdout",
     "output_type": "stream",
     "text": [
      "Requirement already satisfied: gensim in /usr/local/lib/python3.6/dist-packages (3.8.1)\n",
      "Requirement already satisfied: scipy>=0.18.1 in /usr/local/lib/python3.6/dist-packages (from gensim) (1.4.1)\n",
      "Requirement already satisfied: numpy>=1.11.3 in /usr/local/lib/python3.6/dist-packages (from gensim) (1.18.1)\n",
      "Requirement already satisfied: six>=1.5.0 in /usr/local/lib/python3.6/dist-packages (from gensim) (1.13.0)\n",
      "Requirement already satisfied: smart-open>=1.8.1 in /usr/local/lib/python3.6/dist-packages (from gensim) (1.9.0)\n",
      "Requirement already satisfied: boto>=2.32 in /usr/local/lib/python3.6/dist-packages (from smart-open>=1.8.1->gensim) (2.49.0)\n",
      "Requirement already satisfied: boto3 in /usr/local/lib/python3.6/dist-packages (from smart-open>=1.8.1->gensim) (1.12.5)\n",
      "Requirement already satisfied: requests in /usr/local/lib/python3.6/dist-packages (from smart-open>=1.8.1->gensim) (2.22.0)\n",
      "Requirement already satisfied: botocore<1.16.0,>=1.15.5 in /usr/local/lib/python3.6/dist-packages (from boto3->smart-open>=1.8.1->gensim) (1.15.5)\n",
      "Requirement already satisfied: s3transfer<0.4.0,>=0.3.0 in /usr/local/lib/python3.6/dist-packages (from boto3->smart-open>=1.8.1->gensim) (0.3.3)\n",
      "Requirement already satisfied: jmespath<1.0.0,>=0.7.1 in /usr/local/lib/python3.6/dist-packages (from boto3->smart-open>=1.8.1->gensim) (0.9.4)\n",
      "Requirement already satisfied: chardet<3.1.0,>=3.0.2 in /usr/local/lib/python3.6/dist-packages (from requests->smart-open>=1.8.1->gensim) (3.0.4)\n",
      "Requirement already satisfied: certifi>=2017.4.17 in /usr/local/lib/python3.6/dist-packages (from requests->smart-open>=1.8.1->gensim) (2019.11.28)\n",
      "Requirement already satisfied: urllib3!=1.25.0,!=1.25.1,<1.26,>=1.21.1 in /usr/local/lib/python3.6/dist-packages (from requests->smart-open>=1.8.1->gensim) (1.25.7)\n",
      "Requirement already satisfied: idna<2.9,>=2.5 in /usr/lib/python3/dist-packages (from requests->smart-open>=1.8.1->gensim) (2.6)\n",
      "Requirement already satisfied: docutils<0.16,>=0.10 in /usr/local/lib/python3.6/dist-packages (from botocore<1.16.0,>=1.15.5->boto3->smart-open>=1.8.1->gensim) (0.15.2)\n",
      "Requirement already satisfied: python-dateutil<3.0.0,>=2.1 in /usr/local/lib/python3.6/dist-packages (from botocore<1.16.0,>=1.15.5->boto3->smart-open>=1.8.1->gensim) (2.8.1)\n"
     ]
    }
   ],
   "source": [
    "!pip install gensim"
   ]
  },
  {
   "cell_type": "code",
   "execution_count": 3,
   "metadata": {},
   "outputs": [],
   "source": [
    "# Load the libraries\n",
    "import pandas as pd\n",
    "import numpy as np\n",
    "import math\n",
    "import datetime\n",
    "\n",
    "# Import from nltk\n",
    "from nltk import FreqDist\n",
    "\n",
    "# Import from scikitlearn\n",
    "from sklearn.feature_extraction.text import CountVectorizer\n",
    "from sklearn.feature_selection import chi2, SelectKBest\n",
    "from sklearn.model_selection import train_test_split\n",
    "from sklearn.linear_model import LogisticRegression\n",
    "from sklearn.svm import LinearSVC\n",
    "from sklearn.metrics import confusion_matrix, accuracy_score, classification_report\n",
    "\n",
    "# Import from gensim\n",
    "from gensim.models import Word2Vec\n",
    "from gensim.models.callbacks import CallbackAny2Vec\n",
    "from gensim.models.word2vec import FAST_VERSION\n",
    "import matplotlib.pyplot as plt"
   ]
  },
  {
   "cell_type": "markdown",
   "metadata": {},
   "source": [
    "## 1 Load in the data and create the required structure"
   ]
  },
  {
   "cell_type": "code",
   "execution_count": 4,
   "metadata": {},
   "outputs": [],
   "source": [
    "# Load in the data\n",
    "load_path = '../Datasets/yelp/'\n",
    "data_processed = pd.read_csv(load_path + 'data_processed.csv')\n",
    "\n",
    "# Replace non-string reviews with strings\n",
    "data_processed['text'] = data_processed['text'].apply(lambda review: str(review))"
   ]
  },
  {
   "cell_type": "markdown",
   "metadata": {},
   "source": [
    "## 2 Convert tokens to vectors"
   ]
  },
  {
   "cell_type": "markdown",
   "metadata": {},
   "source": [
    "### 2.1 word2vec"
   ]
  },
  {
   "cell_type": "code",
   "execution_count": 5,
   "metadata": {},
   "outputs": [],
   "source": [
    "# Create the required inputs\n",
    "sentences = data_processed['text'].copy().apply(lambda string: string.split(' '))"
   ]
  },
  {
   "cell_type": "code",
   "execution_count": 6,
   "metadata": {},
   "outputs": [
    {
     "data": {
      "text/plain": [
       "1"
      ]
     },
     "execution_count": 6,
     "metadata": {},
     "output_type": "execute_result"
    }
   ],
   "source": [
    "# Check gensim version used\n",
    "FAST_VERSION"
   ]
  },
  {
   "cell_type": "code",
   "execution_count": 7,
   "metadata": {},
   "outputs": [],
   "source": [
    "# Create loss store\n",
    "loss_store = []"
   ]
  },
  {
   "cell_type": "code",
   "execution_count": 8,
   "metadata": {},
   "outputs": [],
   "source": [
    "# Create callback function\n",
    "class callback(CallbackAny2Vec):\n",
    "    '''Callback to print loss after each epoch.'''\n",
    "\n",
    "    def __init__(self):\n",
    "        self.epoch = 1\n",
    "        self.previous_cumulative_loss = 0\n",
    "        self.start_time = 0\n",
    "    \n",
    "    def on_epoch_begin(self, model):\n",
    "        self.start_time = datetime.datetime.now()\n",
    "\n",
    "    def on_epoch_end(self, model):\n",
    "        cumulative_loss = model.get_latest_training_loss()\n",
    "        loss_now = cumulative_loss - self.previous_cumulative_loss\n",
    "        loss_store.append(loss_now)\n",
    "        self.previous_cumulative_loss = cumulative_loss\n",
    "        \n",
    "        end_time = datetime.datetime.now()\n",
    "        time_taken_seconds = (end_time - self.start_time).total_seconds()\n",
    "        minutes = int(time_taken_seconds // 60)\n",
    "        if minutes < 10:\n",
    "            minutes = '0' + str(minutes)\n",
    "        seconds = round(time_taken_seconds % 60)\n",
    "        if seconds < 10:\n",
    "            seconds = '0' + str(seconds)\n",
    "        \n",
    "        print(f'{self.epoch} ----- {loss_now} ----- {minutes}:{seconds}')\n",
    "        self.epoch += 1"
   ]
  },
  {
   "cell_type": "code",
   "execution_count": 9,
   "metadata": {
    "scrolled": true
   },
   "outputs": [
    {
     "name": "stdout",
     "output_type": "stream",
     "text": [
      "Epoch ----- Loss ----- Time\n",
      "1 ----- 6950376.5 ----- 00:17\n",
      "2 ----- 5643154.5 ----- 00:17\n",
      "3 ----- 5286597.0 ----- 00:17\n",
      "4 ----- 4647174.0 ----- 00:17\n",
      "5 ----- 4622192.0 ----- 00:17\n",
      "6 ----- 4655018.0 ----- 00:18\n",
      "7 ----- 3414188.0 ----- 00:17\n",
      "8 ----- 2677588.0 ----- 00:17\n",
      "9 ----- 2677632.0 ----- 00:17\n",
      "10 ----- 2659700.0 ----- 00:18\n",
      "11 ----- 2644484.0 ----- 00:17\n",
      "12 ----- 2650248.0 ----- 00:17\n",
      "13 ----- 2629524.0 ----- 00:17\n",
      "14 ----- 2633800.0 ----- 00:18\n",
      "15 ----- 2602576.0 ----- 00:17\n",
      "16 ----- 2600752.0 ----- 00:17\n",
      "17 ----- 2583724.0 ----- 00:18\n",
      "18 ----- 2561476.0 ----- 00:19\n",
      "19 ----- 2535332.0 ----- 00:17\n",
      "20 ----- 670016.0 ----- 00:17\n",
      "21 ----- 278008.0 ----- 00:17\n",
      "22 ----- 265744.0 ----- 00:17\n",
      "23 ----- 256000.0 ----- 00:17\n",
      "24 ----- 245456.0 ----- 00:18\n",
      "25 ----- 230232.0 ----- 00:17\n",
      "26 ----- 217536.0 ----- 00:18\n",
      "27 ----- 202216.0 ----- 00:17\n",
      "28 ----- 184088.0 ----- 00:18\n",
      "29 ----- 163408.0 ----- 00:17\n",
      "30 ----- 148400.0 ----- 00:17\n"
     ]
    }
   ],
   "source": [
    "# Train the word2vec word vectors (40 dimensions)\n",
    "EMBEDDING_DIMENSION = 40\n",
    "print(f'Epoch ----- Loss ----- Time')\n",
    "word2vec_word_embeddings = Word2Vec(sentences = sentences,\n",
    "                                    sg = 0, # 0 for continuous bag of words model, 1 for skip-gram model\n",
    "                                    size = EMBEDDING_DIMENSION, # Dimensionality of the word vectors\n",
    "                                    window = 10, # Maximum distance between the current and predicted word within a sentence\n",
    "                                    workers = 12, # Use these many worker threads to train the model \n",
    "                                    compute_loss=True, \n",
    "                                    callbacks=[callback()],\n",
    "                                    iter = 30) # Run this many time through the dataset"
   ]
  },
  {
   "cell_type": "code",
   "execution_count": 10,
   "metadata": {},
   "outputs": [
    {
     "data": {
      "image/png": "[encoded data removed]",
      "text/plain": [
       "<Figure size 432x288 with 1 Axes>"
      ]
     },
     "metadata": {
      "needs_background": "light"
     },
     "output_type": "display_data"
    }
   ],
   "source": [
    "# Plot the loss at each itteration\n",
    "plt.plot(loss_store, label='loss');\n",
    "plt.legend();"
   ]
  },
  {
   "cell_type": "code",
   "execution_count": 11,
   "metadata": {},
   "outputs": [
    {
     "data": {
      "text/plain": [
       "72932"
      ]
     },
     "execution_count": 11,
     "metadata": {},
     "output_type": "execute_result"
    }
   ],
   "source": [
    "# Check the number of tokens that have been trained for\n",
    "len(word2vec_word_embeddings.wv.vocab.keys())"
   ]
  },
  {
   "cell_type": "code",
   "execution_count": 12,
   "metadata": {},
   "outputs": [
    {
     "data": {
      "text/plain": [
       "40"
      ]
     },
     "execution_count": 12,
     "metadata": {},
     "output_type": "execute_result"
    }
   ],
   "source": [
    "# Check the dimensions of each token\n",
    "word2vec_word_embeddings.wv.vector_size"
   ]
  },
  {
   "cell_type": "code",
   "execution_count": 13,
   "metadata": {
    "scrolled": true
   },
   "outputs": [
    {
     "data": {
      "text/plain": [
       "[('stinky', 0.8777257204055786),\n",
       " ('smelllike', 0.8161900043487549),\n",
       " ('reek', 0.7836612462997437),\n",
       " ('stank', 0.7764517068862915),\n",
       " ('stench', 0.7623960971832275),\n",
       " ('smelledlike', 0.7615671753883362),\n",
       " ('sulfur', 0.7493768930435181),\n",
       " ('filth', 0.7460395097732544),\n",
       " ('stink', 0.745048463344574),\n",
       " ('musty', 0.7416892647743225)]"
      ]
     },
     "execution_count": 13,
     "metadata": {},
     "output_type": "execute_result"
    }
   ],
   "source": [
    "# Have a look at the words that are most similar to 'smelly'\n",
    "word2vec_word_embeddings.wv.most_similar('smelly')"
   ]
  },
  {
   "cell_type": "code",
   "execution_count": 14,
   "metadata": {},
   "outputs": [],
   "source": [
    "# Function to get document representation vector\n",
    "def word2vec_vectorize(review):\n",
    "    tokens = review.split(' ')\n",
    "    vectors_sum = 0\n",
    "    tokens_count = 0\n",
    "    \n",
    "    for token in tokens:\n",
    "        try:\n",
    "            word_embedding = word2vec_word_embeddings.wv.get_vector(token)\n",
    "            vectors_sum += word_embedding\n",
    "            tokens_count += 1\n",
    "        except:\n",
    "            pass\n",
    "        \n",
    "    if (tokens_count == 0):\n",
    "        # If no tokens found, return a vector of 0s\n",
    "        document_representation = [0] * EMBEDDING_DIMENSION\n",
    "        return document_representation    \n",
    "    else:\n",
    "        # Calculate the document representation\n",
    "        document_representation = vectors_sum / tokens_count\n",
    "    \n",
    "        # Return the document representation\n",
    "        return document_representation"
   ]
  },
  {
   "cell_type": "code",
   "execution_count": 15,
   "metadata": {},
   "outputs": [],
   "source": [
    "# Create the document representation matrix \n",
    "X_word2vec = []\n",
    "for review in data_processed['text'][0:100000]:\n",
    "    X_word2vec.append(word2vec_vectorize(review))\n",
    "\n",
    "# Turn it into a dataframe\n",
    "X_word2vec = pd.DataFrame(X_word2vec)"
   ]
  },
  {
   "cell_type": "code",
   "execution_count": 16,
   "metadata": {},
   "outputs": [],
   "source": [
    "# Save the processed data to csv\n",
    "save_path = '../Datasets/yelp/'\n",
    "X_word2vec.to_csv(save_path + 'representation_word2vec.csv', index=False)"
   ]
  },
  {
   "cell_type": "markdown",
   "metadata": {},
   "source": [
    "### 2.2 tf-idf weighted word2vec"
   ]
  },
  {
   "cell_type": "code",
   "execution_count": 17,
   "metadata": {},
   "outputs": [
    {
     "data": {
      "text/plain": [
       "16040"
      ]
     },
     "execution_count": 17,
     "metadata": {},
     "output_type": "execute_result"
    }
   ],
   "source": [
    "# For each token, calculate the number of documents with the word in it\n",
    "reviews_tokens_unique = data_processed['text'].copy()\n",
    "reviews_tokens_unique = reviews_tokens_unique.apply(lambda review: list(set(review.split(' '))))\n",
    "all_tokens = []\n",
    "for review in reviews_tokens_unique:\n",
    "    all_tokens += review\n",
    "tokens_freq_dist = FreqDist(all_tokens)\n",
    "\n",
    "# Check for the word 'fantastic'\n",
    "tokens_freq_dist['fantastic']"
   ]
  },
  {
   "cell_type": "code",
   "execution_count": 18,
   "metadata": {},
   "outputs": [
    {
     "data": {
      "text/plain": [
       "3.775994732605036"
      ]
     },
     "execution_count": 18,
     "metadata": {},
     "output_type": "execute_result"
    }
   ],
   "source": [
    "# Get the number of documents\n",
    "num_documents = len(data_processed)\n",
    "\n",
    "# Calculate idf and place into idf_dict\n",
    "idf_dict = {}\n",
    "for token in list(set(all_tokens)):\n",
    "    idf_dict[token] = math.log(num_documents / tokens_freq_dist[token])\n",
    "\n",
    "# Check for the word 'fantastic'\n",
    "idf_dict['fantastic']"
   ]
  },
  {
   "cell_type": "code",
   "execution_count": 19,
   "metadata": {},
   "outputs": [],
   "source": [
    "# Function to get document representation vector\n",
    "def tfidf_weighted_word2vec_vectorize(review):\n",
    "    tokens = review.split(' ')\n",
    "    num_tokens = len(tokens)\n",
    "    tfidf_sum = 0\n",
    "    word_embedding_sum = 0\n",
    "    \n",
    "    for token in tokens:\n",
    "        try:\n",
    "            tf = tokens.count(token) / num_tokens\n",
    "            idf = idf_dict[token]\n",
    "            tfidf = tf * idf\n",
    "            word_embedding = word2vec_word_embeddings.wv.get_vector(token)\n",
    "            tfidf_weighted_word_embedding = tfidf * word_embedding\n",
    "\n",
    "            tfidf_sum += tfidf\n",
    "            word_embedding_sum += tfidf_weighted_word_embedding\n",
    "        except:\n",
    "            pass\n",
    "    \n",
    "    if isinstance(word_embedding_sum, int):\n",
    "        # If no tokens found, return a vector of 0s\n",
    "        document_representation = [0] * EMBEDDING_DIMENSION\n",
    "        return document_representation\n",
    "    else:\n",
    "        # Calculate the document representation\n",
    "        document_representation = word_embedding_sum / tfidf_sum\n",
    "    \n",
    "        # Return the document representation\n",
    "        return document_representation"
   ]
  },
  {
   "cell_type": "code",
   "execution_count": 20,
   "metadata": {},
   "outputs": [],
   "source": [
    "# Create the document representation matrix \n",
    "X_tfidf_weighted_word2vec = []\n",
    "for review in data_processed['text'][0:100000]:\n",
    "    X_tfidf_weighted_word2vec.append(tfidf_weighted_word2vec_vectorize(review))\n",
    "\n",
    "# Create a data frame\n",
    "X_tfidf_weighted_word2vec = pd.DataFrame(X_tfidf_weighted_word2vec)"
   ]
  },
  {
   "cell_type": "code",
   "execution_count": 21,
   "metadata": {},
   "outputs": [],
   "source": [
    "# Save the processed data to csv\n",
    "X_tfidf_weighted_word2vec.to_csv(save_path + 'representation_tfidf_word2vec.csv', index=False)"
   ]
  },
  {
   "cell_type": "markdown",
   "metadata": {},
   "source": [
    "### Save the labels"
   ]
  },
  {
   "cell_type": "code",
   "execution_count": 22,
   "metadata": {},
   "outputs": [],
   "source": [
    "# Get the labels\n",
    "labels = data_processed['label'][0:50000]\n",
    "\n",
    "# Create a data frame\n",
    "labels = pd.DataFrame(labels)"
   ]
  },
  {
   "cell_type": "code",
   "execution_count": 23,
   "metadata": {},
   "outputs": [],
   "source": [
    "# Save the labels to csv\n",
    "labels.to_csv(save_path + 'labels.csv', index=False)"
   ]
  },
  {
   "cell_type": "code",
   "execution_count": null,
   "metadata": {},
   "outputs": [],
   "source": []
  },
  {
   "cell_type": "code",
   "execution_count": null,
   "metadata": {},
   "outputs": [],
   "source": []
  }
 ],
 "metadata": {
  "kernelspec": {
   "display_name": "Python 3",
   "language": "python",
   "name": "python3"
  },
  "language_info": {
   "codemirror_mode": {
    "name": "ipython",
    "version": 3
   },
   "file_extension": ".py",
   "mimetype": "text/x-python",
   "name": "python",
   "nbconvert_exporter": "python",
   "pygments_lexer": "ipython3",
   "version": "3.6.9"
  }
 },
 "nbformat": 4,
 "nbformat_minor": 2
}
