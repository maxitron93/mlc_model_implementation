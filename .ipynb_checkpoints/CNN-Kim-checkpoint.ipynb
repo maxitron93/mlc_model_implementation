{
 "cells": [
  {
   "cell_type": "code",
   "execution_count": 1,
   "metadata": {},
   "outputs": [
    {
     "name": "stdout",
     "output_type": "stream",
     "text": [
      "Requirement already up-to-date: pip in /usr/local/lib/python3.6/dist-packages (20.0.2)\r\n"
     ]
    }
   ],
   "source": [
    "!pip install --upgrade pip"
   ]
  },
  {
   "cell_type": "code",
   "execution_count": 2,
   "metadata": {},
   "outputs": [
    {
     "name": "stdout",
     "output_type": "stream",
     "text": [
      "Requirement already satisfied: pandas in /usr/local/lib/python3.6/dist-packages (1.0.1)\n",
      "Requirement already satisfied: numpy>=1.13.3 in /usr/local/lib/python3.6/dist-packages (from pandas) (1.18.1)\n",
      "Requirement already satisfied: pytz>=2017.2 in /usr/local/lib/python3.6/dist-packages (from pandas) (2019.3)\n",
      "Requirement already satisfied: python-dateutil>=2.6.1 in /usr/local/lib/python3.6/dist-packages (from pandas) (2.8.1)\n",
      "Requirement already satisfied: six>=1.5 in /usr/local/lib/python3.6/dist-packages (from python-dateutil>=2.6.1->pandas) (1.13.0)\n"
     ]
    }
   ],
   "source": [
    "!pip install pandas"
   ]
  },
  {
   "cell_type": "code",
   "execution_count": 3,
   "metadata": {},
   "outputs": [
    {
     "name": "stdout",
     "output_type": "stream",
     "text": [
      "Requirement already up-to-date: scikit-learn in /usr/local/lib/python3.6/dist-packages (0.22.1)\r\n",
      "Requirement already satisfied, skipping upgrade: joblib>=0.11 in /usr/local/lib/python3.6/dist-packages (from scikit-learn) (0.14.1)\r\n",
      "Requirement already satisfied, skipping upgrade: scipy>=0.17.0 in /usr/local/lib/python3.6/dist-packages (from scikit-learn) (1.4.1)\r\n",
      "Requirement already satisfied, skipping upgrade: numpy>=1.11.0 in /usr/local/lib/python3.6/dist-packages (from scikit-learn) (1.18.1)\r\n"
     ]
    }
   ],
   "source": [
    "!pip install -U scikit-learn"
   ]
  },
  {
   "cell_type": "markdown",
   "metadata": {},
   "source": [
    "# CNN-Kim Model\n",
    "I can't get it exactly the same now because I'm using custom-trained word vectors instead of pre-trained ones, but I can still try to build a similar architecture.\n",
    "\n",
    "Since there are different variations of his model, I'll start with a model with the following architecture:\n",
    "- Using custom-trained word vectors (dimension = 200)\n",
    "- Keeping those word vectors static during the trainin process (maybe - TBD while implementing)\n",
    "- Single-channel\n",
    "- Filter windows height of 3, 4, 5 with 100 feature maps each\n",
    "- MaxPooling to extract the features from each feature map\n",
    "- Dropout rate of 0.5\n",
    "- ReLu activation function "
   ]
  },
  {
   "cell_type": "code",
   "execution_count": 4,
   "metadata": {},
   "outputs": [],
   "source": [
    "# Import the libraries\n",
    "import os\n",
    "import numpy as np\n",
    "from numpy import load\n",
    "from scipy.sparse import load_npz\n",
    "import tensorflow as tf\n",
    "from tensorflow.keras.mixed_precision import experimental as mixed_precision\n",
    "from tensorflow.keras.layers import Input, Conv1D, GlobalMaxPooling1D, concatenate, Dropout, Dense\n",
    "from tensorflow.keras.models import Model\n",
    "from tensorflow.keras.metrics import Precision, Recall\n",
    "import matplotlib.pyplot as plt"
   ]
  },
  {
   "cell_type": "code",
   "execution_count": 5,
   "metadata": {},
   "outputs": [
    {
     "data": {
      "text/plain": [
       "[PhysicalDevice(name='/physical_device:GPU:0', device_type='GPU')]"
      ]
     },
     "execution_count": 5,
     "metadata": {},
     "output_type": "execute_result"
    }
   ],
   "source": [
    "# Check that a GPU is available\n",
    "tf.config.experimental.list_physical_devices('GPU')"
   ]
  },
  {
   "cell_type": "code",
   "execution_count": 6,
   "metadata": {},
   "outputs": [
    {
     "name": "stdout",
     "output_type": "stream",
     "text": [
      "1 Physical GPUs, 1 Logical GPUs\n"
     ]
    }
   ],
   "source": [
    "# Not sure why, but I need this to get TF to work\n",
    "# from: https://www.tensorflow.org/guide/gpu#limiting_gpu_memory_growth\n",
    "gpus = tf.config.experimental.list_physical_devices('GPU')\n",
    "if gpus:\n",
    "  try:\n",
    "    # Currently, memory growth needs to be the same across GPUs\n",
    "    for gpu in gpus:\n",
    "      tf.config.experimental.set_memory_growth(gpu, True)\n",
    "    logical_gpus = tf.config.experimental.list_logical_devices('GPU')\n",
    "    print(len(gpus), \"Physical GPUs,\", len(logical_gpus), \"Logical GPUs\")\n",
    "  except RuntimeError as e:\n",
    "    # Memory growth must be set before GPUs have been initialized\n",
    "    print(e)"
   ]
  },
  {
   "cell_type": "code",
   "execution_count": 7,
   "metadata": {},
   "outputs": [],
   "source": [
    "# Enable mixed precision training\n",
    "policy = mixed_precision.Policy('mixed_float16')\n",
    "mixed_precision.set_policy(policy)"
   ]
  },
  {
   "cell_type": "markdown",
   "metadata": {},
   "source": [
    "### Load in the data"
   ]
  },
  {
   "cell_type": "code",
   "execution_count": 8,
   "metadata": {},
   "outputs": [],
   "source": [
    "# Define the load path\n",
    "load_path = '../Datasets/AmazonCat-13K/processed/'"
   ]
  },
  {
   "cell_type": "code",
   "execution_count": 9,
   "metadata": {},
   "outputs": [],
   "source": [
    "# Load the X_train\n",
    "X_train_data = load('../Datasets/AmazonCat-13K/processed/' + 'X_train.npz')\n",
    "X_train = X_train_data['arr_0']"
   ]
  },
  {
   "cell_type": "code",
   "execution_count": 10,
   "metadata": {},
   "outputs": [],
   "source": [
    "# Load the X_test\n",
    "X_test_data = load('../Datasets/AmazonCat-13K/processed/' + 'X_test.npz')\n",
    "X_test = X_test_data['arr_0']"
   ]
  },
  {
   "cell_type": "code",
   "execution_count": 11,
   "metadata": {},
   "outputs": [],
   "source": [
    "# Load y_train\n",
    "y_train_sparse = load_npz(load_path + 'y_train_sparse.npz')"
   ]
  },
  {
   "cell_type": "code",
   "execution_count": 12,
   "metadata": {},
   "outputs": [],
   "source": [
    "# Load y_test\n",
    "y_test_sparse = load_npz(load_path + 'y_test_sparse.npz')"
   ]
  },
  {
   "cell_type": "code",
   "execution_count": 13,
   "metadata": {},
   "outputs": [],
   "source": [
    "# Create placeholder matrices that will be 'injected' with the values later\n",
    "y_train_placeholder = np.zeros((y_train_sparse.shape[0], y_train_sparse.shape[1]), dtype='int8')\n",
    "y_test_placeholder = np.zeros((y_test_sparse.shape[0], y_test_sparse.shape[1]), dtype='int8')"
   ]
  },
  {
   "cell_type": "code",
   "execution_count": 14,
   "metadata": {},
   "outputs": [],
   "source": [
    "# # Create y_train\n",
    "# y_train = tf.convert_to_tensor(y_train_sparse.todense(out=y_train_placeholder), dtype=tf.int8)"
   ]
  },
  {
   "cell_type": "code",
   "execution_count": 15,
   "metadata": {},
   "outputs": [],
   "source": [
    "# # Create y_test\n",
    "# y_test = tf.convert_to_tensor(y_test_sparse.todense(out=y_test_placeholder), dtype=tf.int8)"
   ]
  },
  {
   "cell_type": "code",
   "execution_count": 16,
   "metadata": {},
   "outputs": [
    {
     "name": "stdout",
     "output_type": "stream",
     "text": [
      "X_train: (639360, 512)\n",
      "X_test: (213120, 512)\n"
     ]
    }
   ],
   "source": [
    "# Check the shape of the X data\n",
    "print(f'X_train: {X_train.shape}')\n",
    "print(f'X_test: {X_test.shape}')"
   ]
  },
  {
   "cell_type": "code",
   "execution_count": 17,
   "metadata": {},
   "outputs": [
    {
     "name": "stdout",
     "output_type": "stream",
     "text": [
      "y_train: (639360, 13680)\n",
      "y_test: (213120, 13680)\n"
     ]
    }
   ],
   "source": [
    "# Check the shape of the X data\n",
    "print(f'y_train: {y_train_sparse.shape}')\n",
    "print(f'y_test: {y_test_sparse.shape}')"
   ]
  },
  {
   "cell_type": "markdown",
   "metadata": {},
   "source": [
    "### Create the embedding layer"
   ]
  },
  {
   "cell_type": "code",
   "execution_count": 18,
   "metadata": {},
   "outputs": [],
   "source": [
    "# Create the embedding layer definition\n",
    "class PretrainedEmbedding(tf.keras.layers.Layer):\n",
    "    \"\"\"Non-trainable embedding layer.\"\"\"\n",
    "\n",
    "    def __init__(self, embeddings, dropout_rate=0.2, **kwargs):\n",
    "        \"\"\"\"Instantiate the layer using a pre-defined embedding matrix.\"\"\"\n",
    "        super().__init__(**kwargs)\n",
    "        self.embeddings = tf.constant(embeddings)\n",
    "        # if you want to add some dropout (or normalization, etc.)\n",
    "        self.dropout = tf.keras.layers.Dropout(rate=dropout_rate)\n",
    "\n",
    "    def call(self, inputs, training=None):\n",
    "        \"\"\"Embed some input tokens and optionally apply dropout.\"\"\"\n",
    "        output = tf.nn.embedding_lookup(self.embeddings, inputs)\n",
    "        return self.dropout(output, training=training)"
   ]
  },
  {
   "cell_type": "code",
   "execution_count": 19,
   "metadata": {},
   "outputs": [],
   "source": [
    "# Load in the embedding matrix\n",
    "embedding_matrix = np.loadtxt(load_path + 'embedding_matrix.csv', delimiter=',')"
   ]
  },
  {
   "cell_type": "code",
   "execution_count": 20,
   "metadata": {},
   "outputs": [
    {
     "data": {
      "text/plain": [
       "(200000, 200)"
      ]
     },
     "execution_count": 20,
     "metadata": {},
     "output_type": "execute_result"
    }
   ],
   "source": [
    "# Check the embedding matrix size\n",
    "embedding_matrix.shape"
   ]
  },
  {
   "cell_type": "markdown",
   "metadata": {},
   "source": [
    "### Define the model layers"
   ]
  },
  {
   "cell_type": "code",
   "execution_count": 21,
   "metadata": {},
   "outputs": [],
   "source": [
    "# Define the Input and Embedding layers\n",
    "i = Input(shape=(X_train.shape[1]), dtype=tf.int32)\n",
    "x = PretrainedEmbedding(embedding_matrix, dropout_rate=0)(i)\n",
    "\n",
    "# Convolution with window size = 3  \n",
    "x3 = Conv1D(filters=96, \n",
    "            kernel_size=3, \n",
    "            strides=1,\n",
    "            padding='valid',\n",
    "            activation='relu',\n",
    "            use_bias=True\n",
    "           )(x)\n",
    "x3 = GlobalMaxPooling1D()(x3)\n",
    "\n",
    "# Convolution with window size = 4\n",
    "x4 = Conv1D(filters=96, \n",
    "            kernel_size=4, \n",
    "            strides=1,\n",
    "            padding='valid',\n",
    "            activation='relu',\n",
    "            use_bias=True\n",
    "           )(x)\n",
    "x4 = GlobalMaxPooling1D()(x4)\n",
    "\n",
    "# Convolution with window size = 5\n",
    "x5 = Conv1D(filters=96, \n",
    "            kernel_size=5, \n",
    "            strides=1,\n",
    "            padding='valid',\n",
    "            activation='relu',\n",
    "            use_bias=True\n",
    "           )(x)\n",
    "x5 = GlobalMaxPooling1D()(x5)\n",
    "\n",
    "# Concatenated max-pooling layers with Dropout (CNN-Kim uses a dropout rate of 0.5)\n",
    "concatenated = concatenate([x3, x4, x5])\n",
    "x = Dropout(rate=0.5)(concatenated)\n",
    "\n",
    "# Final, fully-connected Dense layer\n",
    "x = Dense(y_train_sparse.shape[1], activation='sigmoid')(x)"
   ]
  },
  {
   "cell_type": "code",
   "execution_count": 22,
   "metadata": {},
   "outputs": [],
   "source": [
    "# Build the model\n",
    "model = Model(i, x)"
   ]
  },
  {
   "cell_type": "code",
   "execution_count": 23,
   "metadata": {},
   "outputs": [],
   "source": [
    "# Remove unused vars (to save memory)\n",
    "del embedding_matrix"
   ]
  },
  {
   "cell_type": "code",
   "execution_count": 24,
   "metadata": {},
   "outputs": [
    {
     "name": "stdout",
     "output_type": "stream",
     "text": [
      "Model: \"model\"\n",
      "__________________________________________________________________________________________________\n",
      "Layer (type)                    Output Shape         Param #     Connected to                     \n",
      "==================================================================================================\n",
      "input_1 (InputLayer)            [(None, 512)]        0                                            \n",
      "__________________________________________________________________________________________________\n",
      "pretrained_embedding (Pretraine (None, 512, 200)     0           input_1[0][0]                    \n",
      "__________________________________________________________________________________________________\n",
      "conv1d (Conv1D)                 (None, 510, 96)      57696       pretrained_embedding[0][0]       \n",
      "__________________________________________________________________________________________________\n",
      "conv1d_1 (Conv1D)               (None, 509, 96)      76896       pretrained_embedding[0][0]       \n",
      "__________________________________________________________________________________________________\n",
      "conv1d_2 (Conv1D)               (None, 508, 96)      96096       pretrained_embedding[0][0]       \n",
      "__________________________________________________________________________________________________\n",
      "global_max_pooling1d (GlobalMax (None, 96)           0           conv1d[0][0]                     \n",
      "__________________________________________________________________________________________________\n",
      "global_max_pooling1d_1 (GlobalM (None, 96)           0           conv1d_1[0][0]                   \n",
      "__________________________________________________________________________________________________\n",
      "global_max_pooling1d_2 (GlobalM (None, 96)           0           conv1d_2[0][0]                   \n",
      "__________________________________________________________________________________________________\n",
      "concatenate (Concatenate)       (None, 288)          0           global_max_pooling1d[0][0]       \n",
      "                                                                 global_max_pooling1d_1[0][0]     \n",
      "                                                                 global_max_pooling1d_2[0][0]     \n",
      "__________________________________________________________________________________________________\n",
      "dropout_1 (Dropout)             (None, 288)          0           concatenate[0][0]                \n",
      "__________________________________________________________________________________________________\n",
      "dense (Dense)                   (None, 13680)        3953520     dropout_1[0][0]                  \n",
      "==================================================================================================\n",
      "Total params: 4,184,208\n",
      "Trainable params: 4,184,208\n",
      "Non-trainable params: 0\n",
      "__________________________________________________________________________________________________\n"
     ]
    }
   ],
   "source": [
    "# Have a look at the model\n",
    "model.summary()"
   ]
  },
  {
   "cell_type": "markdown",
   "metadata": {},
   "source": [
    "### Define how the model should be trained"
   ]
  },
  {
   "cell_type": "code",
   "execution_count": 25,
   "metadata": {},
   "outputs": [],
   "source": [
    "# Define how the model should be trained\n",
    "model.compile(optimizer=tf.keras.optimizers.Adam(learning_rate = 0.025), # CNN-Kim uses SGD with Adelta update rule\n",
    "              loss='binary_crossentropy',\n",
    "              metrics=[Precision(), Recall()])"
   ]
  },
  {
   "cell_type": "code",
   "execution_count": 26,
   "metadata": {},
   "outputs": [],
   "source": [
    "# Create learning rate decay function\n",
    "def lr_scheduler(epoch, lr):\n",
    "    learning_rate = lr * 0.9\n",
    "    print(f'Learning Rate: {learning_rate}')\n",
    "    return learning_rate\n",
    "\n",
    "# define the learning rate scheduler\n",
    "callback = tf.keras.callbacks.LearningRateScheduler(lr_scheduler)"
   ]
  },
  {
   "cell_type": "markdown",
   "metadata": {},
   "source": [
    "### Train the model"
   ]
  },
  {
   "cell_type": "code",
   "execution_count": 27,
   "metadata": {},
   "outputs": [],
   "source": [
    "# # Train the model\n",
    "# result = model.fit(X_train_data['arr_0'], y_train,\n",
    "#                    epochs=50,\n",
    "#                    validation_data=(X_test, y_test),\n",
    "#                    batch_size=1024,\n",
    "#                    callbacks=[callback]);"
   ]
  },
  {
   "cell_type": "code",
   "execution_count": 28,
   "metadata": {
    "scrolled": true
   },
   "outputs": [
    {
     "name": "stdout",
     "output_type": "stream",
     "text": [
      "Train on 639360 samples, validate on 213120 samples\n",
      "Learning Rate: 0.02250000033527613\n",
      "Epoch 1/75\n",
      "639360/639360 [==============================] - 99s 155us/sample - loss: 0.0128 - precision: 0.0145 - recall: 0.0651 - val_loss: 0.0027 - val_precision: 0.8756 - val_recall: 0.1091\n",
      "Learning Rate: 0.020250000804662705\n",
      "Epoch 2/75\n",
      "639360/639360 [==============================] - 94s 147us/sample - loss: 0.0027 - precision: 0.7201 - recall: 0.1165 - val_loss: 0.0024 - val_precision: 0.9037 - val_recall: 0.1214\n",
      "Learning Rate: 0.01822500005364418\n",
      "Epoch 3/75\n",
      "639360/639360 [==============================] - 95s 148us/sample - loss: 0.0025 - precision: 0.7098 - recall: 0.1413 - val_loss: 0.0023 - val_precision: 0.8800 - val_recall: 0.1473\n",
      "Learning Rate: 0.01640249937772751\n",
      "Epoch 4/75\n",
      "639360/639360 [==============================] - 94s 148us/sample - loss: 0.0023 - precision: 0.7035 - recall: 0.1642 - val_loss: 0.0022 - val_precision: 0.8898 - val_recall: 0.1612\n",
      "Learning Rate: 0.014762249775230885\n",
      "Epoch 5/75\n",
      "639360/639360 [==============================] - 94s 147us/sample - loss: 0.0022 - precision: 0.6992 - recall: 0.1798 - val_loss: 0.0020 - val_precision: 0.8758 - val_recall: 0.1778\n",
      "Learning Rate: 0.013286024797707796\n",
      "Epoch 6/75\n",
      "639360/639360 [==============================] - 94s 148us/sample - loss: 0.0021 - precision: 0.7031 - recall: 0.1941 - val_loss: 0.0020 - val_precision: 0.8663 - val_recall: 0.1754\n",
      "Learning Rate: 0.011957421898841858\n",
      "Epoch 7/75\n",
      "639360/639360 [==============================] - 94s 148us/sample - loss: 0.0019 - precision: 0.7090 - recall: 0.2049 - val_loss: 0.0017 - val_precision: 0.8780 - val_recall: 0.2018\n",
      "Learning Rate: 0.010761679708957672\n",
      "Epoch 8/75\n",
      "639360/639360 [==============================] - 94s 148us/sample - loss: 0.0018 - precision: 0.7148 - recall: 0.2160 - val_loss: 0.0016 - val_precision: 0.8937 - val_recall: 0.2055\n",
      "Learning Rate: 0.009685512073338032\n",
      "Epoch 9/75\n",
      "639360/639360 [==============================] - 94s 148us/sample - loss: 0.0018 - precision: 0.7188 - recall: 0.2260 - val_loss: 0.0015 - val_precision: 0.8724 - val_recall: 0.2215\n",
      "Learning Rate: 0.008716960530728101\n",
      "Epoch 10/75\n",
      "639360/639360 [==============================] - 94s 148us/sample - loss: 0.0017 - precision: 0.7166 - recall: 0.2343 - val_loss: 0.0015 - val_precision: 0.8665 - val_recall: 0.2356\n",
      "Learning Rate: 0.00784526439383626\n",
      "Epoch 11/75\n",
      "639360/639360 [==============================] - 94s 148us/sample - loss: 0.0016 - precision: 0.7247 - recall: 0.2417 - val_loss: 0.0015 - val_precision: 0.8648 - val_recall: 0.2395\n",
      "Learning Rate: 0.0070607375353574755\n",
      "Epoch 12/75\n",
      "639360/639360 [==============================] - 94s 148us/sample - loss: 0.0016 - precision: 0.7298 - recall: 0.2485 - val_loss: 0.0014 - val_precision: 0.8739 - val_recall: 0.2425\n",
      "Learning Rate: 0.006354663614183665\n",
      "Epoch 13/75\n",
      "639360/639360 [==============================] - 94s 148us/sample - loss: 0.0015 - precision: 0.7365 - recall: 0.2550 - val_loss: 0.0013 - val_precision: 0.8781 - val_recall: 0.2472\n",
      "Learning Rate: 0.005719197168946266\n",
      "Epoch 14/75\n",
      "639360/639360 [==============================] - 94s 148us/sample - loss: 0.0015 - precision: 0.7392 - recall: 0.2600 - val_loss: 0.0013 - val_precision: 0.8757 - val_recall: 0.2494\n",
      "Learning Rate: 0.0051472772844135765\n",
      "Epoch 15/75\n",
      "639360/639360 [==============================] - 94s 148us/sample - loss: 0.0015 - precision: 0.7407 - recall: 0.2654 - val_loss: 0.0013 - val_precision: 0.8707 - val_recall: 0.2622\n",
      "Learning Rate: 0.00463254963979125\n",
      "Epoch 16/75\n",
      "639360/639360 [==============================] - 94s 148us/sample - loss: 0.0014 - precision: 0.7434 - recall: 0.2703 - val_loss: 0.0013 - val_precision: 0.8830 - val_recall: 0.2579\n",
      "Learning Rate: 0.004169294843450189\n",
      "Epoch 17/75\n",
      "639360/639360 [==============================] - 94s 148us/sample - loss: 0.0014 - precision: 0.7443 - recall: 0.2749 - val_loss: 0.0012 - val_precision: 0.8748 - val_recall: 0.2680\n",
      "Learning Rate: 0.0037523651495575904\n",
      "Epoch 18/75\n",
      "639360/639360 [==============================] - 94s 148us/sample - loss: 0.0014 - precision: 0.7453 - recall: 0.2796 - val_loss: 0.0012 - val_precision: 0.8797 - val_recall: 0.2699\n",
      "Learning Rate: 0.0033771287184208632\n",
      "Epoch 19/75\n",
      "639360/639360 [==============================] - 94s 148us/sample - loss: 0.0014 - precision: 0.7473 - recall: 0.2831 - val_loss: 0.0012 - val_precision: 0.8729 - val_recall: 0.2786\n",
      "Learning Rate: 0.0030394157627597453\n",
      "Epoch 20/75\n",
      "639360/639360 [==============================] - 94s 148us/sample - loss: 0.0014 - precision: 0.7491 - recall: 0.2877 - val_loss: 0.0012 - val_precision: 0.8765 - val_recall: 0.2798\n",
      "Learning Rate: 0.002735474123619497\n",
      "Epoch 21/75\n",
      "639360/639360 [==============================] - 94s 148us/sample - loss: 0.0013 - precision: 0.7507 - recall: 0.2918 - val_loss: 0.0012 - val_precision: 0.8779 - val_recall: 0.2824\n",
      "Learning Rate: 0.0024619267322123052\n",
      "Epoch 22/75\n",
      "639360/639360 [==============================] - 94s 148us/sample - loss: 0.0013 - precision: 0.7527 - recall: 0.2958 - val_loss: 0.0012 - val_precision: 0.8842 - val_recall: 0.2807\n",
      "Learning Rate: 0.0022157341009005904\n",
      "Epoch 23/75\n",
      "639360/639360 [==============================] - 94s 148us/sample - loss: 0.0013 - precision: 0.7534 - recall: 0.2988 - val_loss: 0.0011 - val_precision: 0.8788 - val_recall: 0.2889\n",
      "Learning Rate: 0.001994160795584321\n",
      "Epoch 24/75\n",
      "639360/639360 [==============================] - 94s 148us/sample - loss: 0.0013 - precision: 0.7552 - recall: 0.3019 - val_loss: 0.0011 - val_precision: 0.8788 - val_recall: 0.2934\n",
      "Learning Rate: 0.0017947446322068572\n",
      "Epoch 25/75\n",
      "639360/639360 [==============================] - 94s 148us/sample - loss: 0.0013 - precision: 0.7568 - recall: 0.3052 - val_loss: 0.0011 - val_precision: 0.8757 - val_recall: 0.2968\n",
      "Learning Rate: 0.0016152701689861714\n",
      "Epoch 26/75\n",
      "639360/639360 [==============================] - 94s 148us/sample - loss: 0.0013 - precision: 0.7574 - recall: 0.3084 - val_loss: 0.0011 - val_precision: 0.8828 - val_recall: 0.2940\n",
      "Learning Rate: 0.0014537431416101754\n",
      "Epoch 27/75\n",
      "639360/639360 [==============================] - 94s 148us/sample - loss: 0.0013 - precision: 0.7587 - recall: 0.3110 - val_loss: 0.0011 - val_precision: 0.8791 - val_recall: 0.2991\n",
      "Learning Rate: 0.0013083687750622631\n",
      "Epoch 28/75\n",
      "639360/639360 [==============================] - 94s 148us/sample - loss: 0.0012 - precision: 0.7600 - recall: 0.3131 - val_loss: 0.0011 - val_precision: 0.8710 - val_recall: 0.3071\n",
      "Learning Rate: 0.0011775318766012789\n",
      "Epoch 29/75\n",
      "639360/639360 [==============================] - 94s 148us/sample - loss: 0.0012 - precision: 0.7607 - recall: 0.3153 - val_loss: 0.0011 - val_precision: 0.8792 - val_recall: 0.3040\n",
      "Learning Rate: 0.001059778709895909\n",
      "Epoch 30/75\n",
      "639360/639360 [==============================] - 94s 148us/sample - loss: 0.0012 - precision: 0.7624 - recall: 0.3175 - val_loss: 0.0011 - val_precision: 0.8820 - val_recall: 0.3049\n",
      "Learning Rate: 0.0009538008598610759\n",
      "Epoch 31/75\n",
      "639360/639360 [==============================] - 94s 148us/sample - loss: 0.0012 - precision: 0.7631 - recall: 0.3202 - val_loss: 0.0011 - val_precision: 0.8779 - val_recall: 0.3094\n",
      "Learning Rate: 0.0008584207738749683\n",
      "Epoch 32/75\n",
      "639360/639360 [==============================] - 94s 148us/sample - loss: 0.0012 - precision: 0.7641 - recall: 0.3219 - val_loss: 0.0011 - val_precision: 0.8788 - val_recall: 0.3092\n",
      "Learning Rate: 0.0007725787174422294\n",
      "Epoch 33/75\n",
      "639360/639360 [==============================] - 94s 148us/sample - loss: 0.0012 - precision: 0.7651 - recall: 0.3240 - val_loss: 0.0011 - val_precision: 0.8779 - val_recall: 0.3128\n",
      "Learning Rate: 0.000695320829981938\n",
      "Epoch 34/75\n",
      "639360/639360 [==============================] - 94s 148us/sample - loss: 0.0012 - precision: 0.7663 - recall: 0.3250 - val_loss: 0.0011 - val_precision: 0.8774 - val_recall: 0.3139\n",
      "Learning Rate: 0.0006257887522224337\n",
      "Epoch 35/75\n",
      "639360/639360 [==============================] - 94s 148us/sample - loss: 0.0012 - precision: 0.7659 - recall: 0.3271 - val_loss: 0.0011 - val_precision: 0.8797 - val_recall: 0.3142\n",
      "Learning Rate: 0.0005632098822388798\n",
      "Epoch 36/75\n"
     ]
    },
    {
     "name": "stdout",
     "output_type": "stream",
     "text": [
      "639360/639360 [==============================] - 94s 147us/sample - loss: 0.0012 - precision: 0.7669 - recall: 0.3283 - val_loss: 0.0011 - val_precision: 0.8814 - val_recall: 0.3136\n",
      "Learning Rate: 0.0005068888887763024\n",
      "Epoch 37/75\n",
      "639360/639360 [==============================] - 94s 147us/sample - loss: 0.0012 - precision: 0.7679 - recall: 0.3293 - val_loss: 0.0011 - val_precision: 0.8785 - val_recall: 0.3173\n",
      "Learning Rate: 0.00045620001037605107\n",
      "Epoch 38/75\n",
      "639360/639360 [==============================] - 94s 147us/sample - loss: 0.0012 - precision: 0.7681 - recall: 0.3307 - val_loss: 0.0011 - val_precision: 0.8819 - val_recall: 0.3156\n",
      "Learning Rate: 0.000410580009338446\n",
      "Epoch 39/75\n",
      "639360/639360 [==============================] - 94s 147us/sample - loss: 0.0012 - precision: 0.7694 - recall: 0.3322 - val_loss: 0.0011 - val_precision: 0.8800 - val_recall: 0.3174\n",
      "Learning Rate: 0.0003695220162626356\n",
      "Epoch 40/75\n",
      "639360/639360 [==============================] - 94s 147us/sample - loss: 0.0012 - precision: 0.7699 - recall: 0.3327 - val_loss: 0.0011 - val_precision: 0.8782 - val_recall: 0.3199\n",
      "Learning Rate: 0.0003325698198750615\n",
      "Epoch 41/75\n",
      "639360/639360 [==============================] - 94s 147us/sample - loss: 0.0012 - precision: 0.7706 - recall: 0.3339 - val_loss: 0.0011 - val_precision: 0.8794 - val_recall: 0.3194\n",
      "Learning Rate: 0.0002993128378875554\n",
      "Epoch 42/75\n",
      "639360/639360 [==============================] - 94s 147us/sample - loss: 0.0012 - precision: 0.7707 - recall: 0.3343 - val_loss: 0.0011 - val_precision: 0.8775 - val_recall: 0.3221\n",
      "Learning Rate: 0.0002693815593374893\n",
      "Epoch 43/75\n",
      "639360/639360 [==============================] - 94s 147us/sample - loss: 0.0012 - precision: 0.7716 - recall: 0.3356 - val_loss: 0.0011 - val_precision: 0.8766 - val_recall: 0.3227\n",
      "Learning Rate: 0.00024244340602308512\n",
      "Epoch 44/75\n",
      "639360/639360 [==============================] - 94s 147us/sample - loss: 0.0012 - precision: 0.7716 - recall: 0.3358 - val_loss: 0.0011 - val_precision: 0.8796 - val_recall: 0.3212\n",
      "Learning Rate: 0.0002181990654207766\n",
      "Epoch 45/75\n",
      "639360/639360 [==============================] - 94s 147us/sample - loss: 0.0012 - precision: 0.7713 - recall: 0.3363 - val_loss: 0.0011 - val_precision: 0.8785 - val_recall: 0.3230\n",
      "Learning Rate: 0.00019637916411738843\n",
      "Epoch 46/75\n",
      "639360/639360 [==============================] - 94s 147us/sample - loss: 0.0012 - precision: 0.7723 - recall: 0.3374 - val_loss: 0.0011 - val_precision: 0.8806 - val_recall: 0.3216\n",
      "Learning Rate: 0.00017674124246696012\n",
      "Epoch 47/75\n",
      "639360/639360 [==============================] - 94s 147us/sample - loss: 0.0012 - precision: 0.7723 - recall: 0.3373 - val_loss: 0.0011 - val_precision: 0.8771 - val_recall: 0.3244\n",
      "Learning Rate: 0.0001590671221492812\n",
      "Epoch 48/75\n",
      "639360/639360 [==============================] - 94s 147us/sample - loss: 0.0012 - precision: 0.7726 - recall: 0.3377 - val_loss: 0.0010 - val_precision: 0.8773 - val_recall: 0.3249\n",
      "Learning Rate: 0.0001431604046956636\n",
      "Epoch 49/75\n",
      "639360/639360 [==============================] - 94s 147us/sample - loss: 0.0012 - precision: 0.7725 - recall: 0.3380 - val_loss: 0.0010 - val_precision: 0.8766 - val_recall: 0.3253\n",
      "Learning Rate: 0.0001288443629164249\n",
      "Epoch 50/75\n",
      "639360/639360 [==============================] - 94s 147us/sample - loss: 0.0012 - precision: 0.7737 - recall: 0.3384 - val_loss: 0.0010 - val_precision: 0.8785 - val_recall: 0.3245\n",
      "Learning Rate: 0.00011595992400543764\n",
      "Epoch 51/75\n",
      "639360/639360 [==============================] - 94s 147us/sample - loss: 0.0012 - precision: 0.7732 - recall: 0.3390 - val_loss: 0.0010 - val_precision: 0.8803 - val_recall: 0.3234\n",
      "Learning Rate: 0.00010436393422423862\n",
      "Epoch 52/75\n",
      "639360/639360 [==============================] - 94s 147us/sample - loss: 0.0012 - precision: 0.7736 - recall: 0.3392 - val_loss: 0.0010 - val_precision: 0.8770 - val_recall: 0.3258\n",
      "Learning Rate: 9.392754145665094e-05\n",
      "Epoch 53/75\n",
      "639360/639360 [==============================] - 94s 147us/sample - loss: 0.0011 - precision: 0.7734 - recall: 0.3391 - val_loss: 0.0010 - val_precision: 0.8781 - val_recall: 0.3252\n",
      "Learning Rate: 8.453478731098586e-05\n",
      "Epoch 54/75\n",
      "639360/639360 [==============================] - 94s 147us/sample - loss: 0.0011 - precision: 0.7738 - recall: 0.3398 - val_loss: 0.0010 - val_precision: 0.8786 - val_recall: 0.3249\n",
      "Learning Rate: 7.608131054439583e-05\n",
      "Epoch 55/75\n",
      "639360/639360 [==============================] - 94s 147us/sample - loss: 0.0011 - precision: 0.7738 - recall: 0.3399 - val_loss: 0.0010 - val_precision: 0.8785 - val_recall: 0.3248\n",
      "Learning Rate: 6.84731814544648e-05\n",
      "Epoch 56/75\n",
      "639360/639360 [==============================] - 94s 147us/sample - loss: 0.0011 - precision: 0.7734 - recall: 0.3397 - val_loss: 0.0010 - val_precision: 0.8785 - val_recall: 0.3253\n",
      "Learning Rate: 6.162586068967358e-05\n",
      "Epoch 57/75\n",
      "639360/639360 [==============================] - 94s 147us/sample - loss: 0.0011 - precision: 0.7743 - recall: 0.3405 - val_loss: 0.0010 - val_precision: 0.8782 - val_recall: 0.3257\n",
      "Learning Rate: 5.546327593037859e-05\n",
      "Epoch 58/75\n",
      "639360/639360 [==============================] - 94s 147us/sample - loss: 0.0011 - precision: 0.7739 - recall: 0.3403 - val_loss: 0.0010 - val_precision: 0.8787 - val_recall: 0.3253\n",
      "Learning Rate: 4.991694768250454e-05\n",
      "Epoch 59/75\n",
      "639360/639360 [==============================] - 94s 147us/sample - loss: 0.0011 - precision: 0.7745 - recall: 0.3405 - val_loss: 0.0010 - val_precision: 0.8775 - val_recall: 0.3264\n",
      "Learning Rate: 4.4925252586836e-05\n",
      "Epoch 60/75\n",
      "639360/639360 [==============================] - 94s 147us/sample - loss: 0.0011 - precision: 0.7736 - recall: 0.3404 - val_loss: 0.0010 - val_precision: 0.8793 - val_recall: 0.3251\n",
      "Learning Rate: 4.0432726018480024e-05\n",
      "Epoch 61/75\n",
      "639360/639360 [==============================] - 94s 147us/sample - loss: 0.0011 - precision: 0.7744 - recall: 0.3409 - val_loss: 0.0010 - val_precision: 0.8782 - val_recall: 0.3260\n",
      "Learning Rate: 3.6389453089213934e-05\n",
      "Epoch 62/75\n",
      "639360/639360 [==============================] - 94s 147us/sample - loss: 0.0011 - precision: 0.7742 - recall: 0.3411 - val_loss: 0.0010 - val_precision: 0.8790 - val_recall: 0.3253\n",
      "Learning Rate: 3.275050876254682e-05\n",
      "Epoch 63/75\n",
      "639360/639360 [==============================] - 94s 147us/sample - loss: 0.0011 - precision: 0.7741 - recall: 0.3404 - val_loss: 0.0010 - val_precision: 0.8786 - val_recall: 0.3256\n",
      "Learning Rate: 2.9475456904037857e-05\n",
      "Epoch 64/75\n",
      "639360/639360 [==============================] - 94s 147us/sample - loss: 0.0011 - precision: 0.7745 - recall: 0.3406 - val_loss: 0.0010 - val_precision: 0.8787 - val_recall: 0.3258\n",
      "Learning Rate: 2.6527911541052162e-05\n",
      "Epoch 65/75\n",
      "639360/639360 [==============================] - 94s 147us/sample - loss: 0.0011 - precision: 0.7747 - recall: 0.3409 - val_loss: 0.0010 - val_precision: 0.8786 - val_recall: 0.3259\n",
      "Learning Rate: 2.387512104178313e-05\n",
      "Epoch 66/75\n",
      "639360/639360 [==============================] - 94s 147us/sample - loss: 0.0011 - precision: 0.7747 - recall: 0.3410 - val_loss: 0.0010 - val_precision: 0.8784 - val_recall: 0.3260\n",
      "Learning Rate: 2.1487609592441005e-05\n",
      "Epoch 67/75\n",
      "639360/639360 [==============================] - 94s 147us/sample - loss: 0.0011 - precision: 0.7738 - recall: 0.3413 - val_loss: 0.0010 - val_precision: 0.8788 - val_recall: 0.3258\n",
      "Learning Rate: 1.9338848142069766e-05\n",
      "Epoch 68/75\n",
      "639360/639360 [==============================] - 97s 151us/sample - loss: 0.0011 - precision: 0.7752 - recall: 0.3414 - val_loss: 0.0010 - val_precision: 0.8779 - val_recall: 0.3265\n",
      "Learning Rate: 1.7404963000444695e-05\n",
      "Epoch 69/75\n",
      "639360/639360 [==============================] - 95s 148us/sample - loss: 0.0011 - precision: 0.7741 - recall: 0.3416 - val_loss: 0.0010 - val_precision: 0.8785 - val_recall: 0.3260\n",
      "Learning Rate: 1.566446735523641e-05\n",
      "Epoch 70/75\n",
      "639360/639360 [==============================] - 93s 146us/sample - loss: 0.0011 - precision: 0.7751 - recall: 0.3413 - val_loss: 0.0010 - val_precision: 0.8785 - val_recall: 0.3263\n",
      "Learning Rate: 1.409802061971277e-05\n",
      "Epoch 71/75\n"
     ]
    },
    {
     "name": "stdout",
     "output_type": "stream",
     "text": [
      "639360/639360 [==============================] - 93s 146us/sample - loss: 0.0011 - precision: 0.7748 - recall: 0.3415 - val_loss: 0.0010 - val_precision: 0.8787 - val_recall: 0.3261\n",
      "Learning Rate: 1.2688218885159587e-05\n",
      "Epoch 72/75\n",
      "639360/639360 [==============================] - 96s 150us/sample - loss: 0.0011 - precision: 0.7743 - recall: 0.3415 - val_loss: 0.0010 - val_precision: 0.8788 - val_recall: 0.3259\n",
      "Learning Rate: 1.141939683293458e-05\n",
      "Epoch 73/75\n",
      "639360/639360 [==============================] - 94s 148us/sample - loss: 0.0011 - precision: 0.7750 - recall: 0.3415 - val_loss: 0.0010 - val_precision: 0.8785 - val_recall: 0.3262\n",
      "Learning Rate: 1.0277457477059215e-05\n",
      "Epoch 74/75\n",
      "639360/639360 [==============================] - 95s 148us/sample - loss: 0.0011 - precision: 0.7747 - recall: 0.3416 - val_loss: 0.0010 - val_precision: 0.8784 - val_recall: 0.3263\n",
      "Learning Rate: 9.249711729353293e-06\n",
      "Epoch 75/75\n",
      "639360/639360 [==============================] - 96s 150us/sample - loss: 0.0011 - precision: 0.7746 - recall: 0.3414 - val_loss: 0.0010 - val_precision: 0.8792 - val_recall: 0.3257\n"
     ]
    }
   ],
   "source": [
    "# Train the model\n",
    "result = model.fit(X_train, y_train_sparse.todense(out=y_train_placeholder),\n",
    "                   epochs=75,\n",
    "                   validation_data=(X_test, y_test_sparse.todense(out=y_test_placeholder)),\n",
    "                   batch_size=2048,\n",
    "                   callbacks=[callback]);"
   ]
  },
  {
   "cell_type": "code",
   "execution_count": 29,
   "metadata": {},
   "outputs": [
    {
     "data": {
      "image/png": "[encoded data removed]",
      "text/plain": [
       "<Figure size 432x288 with 1 Axes>"
      ]
     },
     "metadata": {
      "needs_background": "light"
     },
     "output_type": "display_data"
    }
   ],
   "source": [
    "# Plot the precision metric at each itteration\n",
    "plt.plot(result.history['precision'], label='train_precision');\n",
    "plt.plot(result.history['val_precision'], label='test_precision');\n",
    "plt.legend();"
   ]
  },
  {
   "cell_type": "code",
   "execution_count": 30,
   "metadata": {},
   "outputs": [
    {
     "data": {
      "image/png": "[encoded data removed]",
      "text/plain": [
       "<Figure size 432x288 with 1 Axes>"
      ]
     },
     "metadata": {
      "needs_background": "light"
     },
     "output_type": "display_data"
    }
   ],
   "source": [
    "# Plot the recall metric at each itteration\n",
    "plt.plot(result.history['recall'], label='train_recall');\n",
    "plt.plot(result.history['val_recall'], label='test_recall');\n",
    "plt.legend();"
   ]
  },
  {
   "cell_type": "code",
   "execution_count": null,
   "metadata": {},
   "outputs": [],
   "source": []
  },
  {
   "cell_type": "code",
   "execution_count": null,
   "metadata": {},
   "outputs": [],
   "source": []
  },
  {
   "cell_type": "code",
   "execution_count": null,
   "metadata": {},
   "outputs": [],
   "source": []
  },
  {
   "cell_type": "code",
   "execution_count": null,
   "metadata": {},
   "outputs": [],
   "source": []
  },
  {
   "cell_type": "code",
   "execution_count": null,
   "metadata": {},
   "outputs": [],
   "source": []
  },
  {
   "cell_type": "code",
   "execution_count": null,
   "metadata": {},
   "outputs": [],
   "source": []
  }
 ],
 "metadata": {
  "kernelspec": {
   "display_name": "Python 3",
   "language": "python",
   "name": "python3"
  },
  "language_info": {
   "codemirror_mode": {
    "name": "ipython",
    "version": 3
   },
   "file_extension": ".py",
   "mimetype": "text/x-python",
   "name": "python",
   "nbconvert_exporter": "python",
   "pygments_lexer": "ipython3",
   "version": "3.6.9"
  }
 },
 "nbformat": 4,
 "nbformat_minor": 4
}
