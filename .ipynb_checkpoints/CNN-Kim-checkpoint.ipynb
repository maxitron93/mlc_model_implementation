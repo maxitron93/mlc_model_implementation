{
 "cells": [
  {
   "cell_type": "code",
   "execution_count": 1,
   "metadata": {},
   "outputs": [
    {
     "name": "stdout",
     "output_type": "stream",
     "text": [
      "Requirement already up-to-date: pip in /usr/local/lib/python3.6/dist-packages (20.0.2)\r\n"
     ]
    }
   ],
   "source": [
    "!pip install --upgrade pip"
   ]
  },
  {
   "cell_type": "code",
   "execution_count": 2,
   "metadata": {},
   "outputs": [
    {
     "name": "stdout",
     "output_type": "stream",
     "text": [
      "Requirement already satisfied: pandas in /usr/local/lib/python3.6/dist-packages (1.0.1)\n",
      "Requirement already satisfied: python-dateutil>=2.6.1 in /usr/local/lib/python3.6/dist-packages (from pandas) (2.8.1)\n",
      "Requirement already satisfied: pytz>=2017.2 in /usr/local/lib/python3.6/dist-packages (from pandas) (2019.3)\n",
      "Requirement already satisfied: numpy>=1.13.3 in /usr/local/lib/python3.6/dist-packages (from pandas) (1.18.1)\n",
      "Requirement already satisfied: six>=1.5 in /usr/local/lib/python3.6/dist-packages (from python-dateutil>=2.6.1->pandas) (1.13.0)\n"
     ]
    }
   ],
   "source": [
    "!pip install pandas"
   ]
  },
  {
   "cell_type": "code",
   "execution_count": 3,
   "metadata": {},
   "outputs": [
    {
     "name": "stdout",
     "output_type": "stream",
     "text": [
      "Requirement already up-to-date: scikit-learn in /usr/local/lib/python3.6/dist-packages (0.22.1)\r\n",
      "Requirement already satisfied, skipping upgrade: numpy>=1.11.0 in /usr/local/lib/python3.6/dist-packages (from scikit-learn) (1.18.1)\r\n",
      "Requirement already satisfied, skipping upgrade: joblib>=0.11 in /usr/local/lib/python3.6/dist-packages (from scikit-learn) (0.14.1)\r\n",
      "Requirement already satisfied, skipping upgrade: scipy>=0.17.0 in /usr/local/lib/python3.6/dist-packages (from scikit-learn) (1.4.1)\r\n"
     ]
    }
   ],
   "source": [
    "!pip install -U scikit-learn"
   ]
  },
  {
   "cell_type": "markdown",
   "metadata": {},
   "source": [
    "# CNN-Kim Model\n",
    "I can't get it exactly the same now because I'm using custom-trained word vectors instead of pre-trained ones, but I can still try to build a similar architecture.\n",
    "\n",
    "Since there are different variations of his model, I'll start with a model with the following architecture:\n",
    "- Using custom-trained word vectors (dimension = 200)\n",
    "- Keeping those word vectors static during the trainin process (maybe - TBD while implementing)\n",
    "- Single-channel\n",
    "- Filter windows height of 3, 4, 5 with 100 feature maps each\n",
    "- MaxPooling to extract the features from each feature map\n",
    "- Dropout rate of 0.5\n",
    "- ReLu activation function "
   ]
  },
  {
   "cell_type": "code",
   "execution_count": 4,
   "metadata": {},
   "outputs": [],
   "source": [
    "# Import the libraries\n",
    "import os\n",
    "import numpy as np\n",
    "from numpy import load\n",
    "from scipy.sparse import load_npz\n",
    "import tensorflow as tf\n",
    "from tensorflow.keras.mixed_precision import experimental as mixed_precision\n",
    "from tensorflow.keras.layers import Input, Conv1D, GlobalMaxPooling1D, concatenate, Dropout, Dense\n",
    "from tensorflow.keras.models import Model\n",
    "from tensorflow.keras.metrics import Precision, Recall\n",
    "import matplotlib.pyplot as plt"
   ]
  },
  {
   "cell_type": "code",
   "execution_count": 5,
   "metadata": {},
   "outputs": [
    {
     "data": {
      "text/plain": [
       "[PhysicalDevice(name='/physical_device:GPU:0', device_type='GPU')]"
      ]
     },
     "execution_count": 5,
     "metadata": {},
     "output_type": "execute_result"
    }
   ],
   "source": [
    "# Check that a GPU is available\n",
    "tf.config.experimental.list_physical_devices('GPU')"
   ]
  },
  {
   "cell_type": "code",
   "execution_count": 6,
   "metadata": {},
   "outputs": [
    {
     "name": "stdout",
     "output_type": "stream",
     "text": [
      "1 Physical GPUs, 1 Logical GPUs\n"
     ]
    }
   ],
   "source": [
    "# Not sure why, but I need this to get TF to work\n",
    "# from: https://www.tensorflow.org/guide/gpu#limiting_gpu_memory_growth\n",
    "gpus = tf.config.experimental.list_physical_devices('GPU')\n",
    "if gpus:\n",
    "  try:\n",
    "    # Currently, memory growth needs to be the same across GPUs\n",
    "    for gpu in gpus:\n",
    "      tf.config.experimental.set_memory_growth(gpu, True)\n",
    "    logical_gpus = tf.config.experimental.list_logical_devices('GPU')\n",
    "    print(len(gpus), \"Physical GPUs,\", len(logical_gpus), \"Logical GPUs\")\n",
    "  except RuntimeError as e:\n",
    "    # Memory growth must be set before GPUs have been initialized\n",
    "    print(e)"
   ]
  },
  {
   "cell_type": "code",
   "execution_count": 7,
   "metadata": {},
   "outputs": [],
   "source": [
    "# Enable mixed precision training\n",
    "# Certain values need to be multiples of 8: https://www.tensorflow.org/guide/keras/mixed_precision\n",
    "policy = mixed_precision.Policy('mixed_float16')\n",
    "mixed_precision.set_policy(policy)"
   ]
  },
  {
   "cell_type": "markdown",
   "metadata": {},
   "source": [
    "### Load in the data"
   ]
  },
  {
   "cell_type": "code",
   "execution_count": 8,
   "metadata": {},
   "outputs": [],
   "source": [
    "# Define the load path\n",
    "load_path = '../Datasets/AmazonCat-13K/processed/'"
   ]
  },
  {
   "cell_type": "code",
   "execution_count": 9,
   "metadata": {},
   "outputs": [],
   "source": [
    "# Load the X_train\n",
    "X_train_data = load('../Datasets/AmazonCat-13K/processed/' + 'X_train.npz')\n",
    "X_train = X_train_data['arr_0']"
   ]
  },
  {
   "cell_type": "code",
   "execution_count": 10,
   "metadata": {},
   "outputs": [],
   "source": [
    "# Load the X_test\n",
    "X_test_data = load('../Datasets/AmazonCat-13K/processed/' + 'X_test.npz')\n",
    "X_test = X_test_data['arr_0']"
   ]
  },
  {
   "cell_type": "code",
   "execution_count": 11,
   "metadata": {},
   "outputs": [],
   "source": [
    "# Load y_train\n",
    "y_train_sparse = load_npz(load_path + 'y_train_sparse.npz')"
   ]
  },
  {
   "cell_type": "code",
   "execution_count": 12,
   "metadata": {},
   "outputs": [],
   "source": [
    "# Load y_test\n",
    "y_test_sparse = load_npz(load_path + 'y_test_sparse.npz')"
   ]
  },
  {
   "cell_type": "code",
   "execution_count": 13,
   "metadata": {},
   "outputs": [],
   "source": [
    "# Create placeholder matrices that will be 'injected' with the values later\n",
    "y_train_placeholder = np.zeros((y_train_sparse.shape[0], y_train_sparse.shape[1]), dtype='int8')\n",
    "y_test_placeholder = np.zeros((y_test_sparse.shape[0], y_test_sparse.shape[1]), dtype='int8')"
   ]
  },
  {
   "cell_type": "code",
   "execution_count": 14,
   "metadata": {},
   "outputs": [],
   "source": [
    "# Create y_train\n",
    "y_train = tf.convert_to_tensor(y_train_sparse.todense(out=y_train_placeholder), dtype=tf.int8)"
   ]
  },
  {
   "cell_type": "code",
   "execution_count": 15,
   "metadata": {},
   "outputs": [],
   "source": [
    "# Create y_test\n",
    "y_test = tf.convert_to_tensor(y_test_sparse.todense(out=y_test_placeholder), dtype=tf.int8)"
   ]
  },
  {
   "cell_type": "code",
   "execution_count": 16,
   "metadata": {},
   "outputs": [
    {
     "name": "stdout",
     "output_type": "stream",
     "text": [
      "X_train: (490800, 512)\n",
      "X_test: (163600, 512)\n"
     ]
    }
   ],
   "source": [
    "# Check the shape of the X data\n",
    "print(f'X_train: {X_train.shape}')\n",
    "print(f'X_test: {X_test.shape}')"
   ]
  },
  {
   "cell_type": "code",
   "execution_count": 17,
   "metadata": {},
   "outputs": [
    {
     "name": "stdout",
     "output_type": "stream",
     "text": [
      "y_train: (490800, 13336)\n",
      "y_test: (163600, 13336)\n"
     ]
    }
   ],
   "source": [
    "# Check the shape of the X data\n",
    "print(f'y_train: {y_train.shape}')\n",
    "print(f'y_test: {y_test.shape}')"
   ]
  },
  {
   "cell_type": "markdown",
   "metadata": {},
   "source": [
    "### Create the embedding layer"
   ]
  },
  {
   "cell_type": "code",
   "execution_count": 18,
   "metadata": {},
   "outputs": [],
   "source": [
    "# Create the embedding layer definition\n",
    "class PretrainedEmbedding(tf.keras.layers.Layer):\n",
    "    \"\"\"Non-trainable embedding layer.\"\"\"\n",
    "\n",
    "    def __init__(self, embeddings, dropout_rate=0.2, **kwargs):\n",
    "        \"\"\"\"Instantiate the layer using a pre-defined embedding matrix.\"\"\"\n",
    "        super().__init__(**kwargs)\n",
    "        self.embeddings = tf.constant(embeddings)\n",
    "        # if you want to add some dropout (or normalization, etc.)\n",
    "        self.dropout = tf.keras.layers.Dropout(rate=dropout_rate)\n",
    "\n",
    "    def call(self, inputs, training=None):\n",
    "        \"\"\"Embed some input tokens and optionally apply dropout.\"\"\"\n",
    "        output = tf.nn.embedding_lookup(self.embeddings, inputs)\n",
    "        return self.dropout(output, training=training)"
   ]
  },
  {
   "cell_type": "code",
   "execution_count": 19,
   "metadata": {},
   "outputs": [],
   "source": [
    "# Load in the embedding matrix\n",
    "embedding_matrix = np.loadtxt(load_path + 'embedding_matrix.csv', delimiter=',')"
   ]
  },
  {
   "cell_type": "code",
   "execution_count": 20,
   "metadata": {},
   "outputs": [
    {
     "data": {
      "text/plain": [
       "(200000, 200)"
      ]
     },
     "execution_count": 20,
     "metadata": {},
     "output_type": "execute_result"
    }
   ],
   "source": [
    "# Check the embedding matrix size\n",
    "embedding_matrix.shape"
   ]
  },
  {
   "cell_type": "markdown",
   "metadata": {},
   "source": [
    "### Define the model layers"
   ]
  },
  {
   "cell_type": "code",
   "execution_count": 21,
   "metadata": {},
   "outputs": [],
   "source": [
    "# Define the Input and Embedding layers\n",
    "i = Input(shape=(X_train.shape[1]), dtype=tf.int32)\n",
    "x = PretrainedEmbedding(embedding_matrix, dropout_rate=0)(i)\n",
    "\n",
    "# Convolution with window size = 3  \n",
    "x3 = Conv1D(filters=96, \n",
    "            kernel_size=3, \n",
    "            strides=1,\n",
    "            padding='valid',\n",
    "            activation='relu',\n",
    "            use_bias=True\n",
    "           )(x)\n",
    "x3 = GlobalMaxPooling1D()(x3)\n",
    "\n",
    "# Convolution with window size = 4\n",
    "x4 = Conv1D(filters=96, \n",
    "            kernel_size=4, \n",
    "            strides=1,\n",
    "            padding='valid',\n",
    "            activation='relu',\n",
    "            use_bias=True\n",
    "           )(x)\n",
    "x4 = GlobalMaxPooling1D()(x4)\n",
    "\n",
    "# Convolution with window size = 5\n",
    "x5 = Conv1D(filters=96, \n",
    "            kernel_size=5, \n",
    "            strides=1,\n",
    "            padding='valid',\n",
    "            activation='relu',\n",
    "            use_bias=True\n",
    "           )(x)\n",
    "x5 = GlobalMaxPooling1D()(x5)\n",
    "\n",
    "# Concatenated max-pooling layers with Dropout (CNN-Kim uses a dropout rate of 0.5)\n",
    "concatenated = concatenate([x3, x4, x5])\n",
    "x = Dropout(rate=0.5)(concatenated)\n",
    "\n",
    "# Final, fully-connected Dense layer\n",
    "x = Dense(y_train_sparse.shape[1], activation='sigmoid')(x)"
   ]
  },
  {
   "cell_type": "code",
   "execution_count": 22,
   "metadata": {},
   "outputs": [],
   "source": [
    "# Build the model\n",
    "model = Model(i, x)"
   ]
  },
  {
   "cell_type": "code",
   "execution_count": 23,
   "metadata": {},
   "outputs": [],
   "source": [
    "# Remove unused vars (to save memory)\n",
    "del embedding_matrix"
   ]
  },
  {
   "cell_type": "code",
   "execution_count": 24,
   "metadata": {},
   "outputs": [
    {
     "name": "stdout",
     "output_type": "stream",
     "text": [
      "Model: \"model\"\n",
      "__________________________________________________________________________________________________\n",
      "Layer (type)                    Output Shape         Param #     Connected to                     \n",
      "==================================================================================================\n",
      "input_1 (InputLayer)            [(None, 512)]        0                                            \n",
      "__________________________________________________________________________________________________\n",
      "pretrained_embedding (Pretraine (None, 512, 200)     0           input_1[0][0]                    \n",
      "__________________________________________________________________________________________________\n",
      "conv1d (Conv1D)                 (None, 510, 96)      57696       pretrained_embedding[0][0]       \n",
      "__________________________________________________________________________________________________\n",
      "conv1d_1 (Conv1D)               (None, 509, 96)      76896       pretrained_embedding[0][0]       \n",
      "__________________________________________________________________________________________________\n",
      "conv1d_2 (Conv1D)               (None, 508, 96)      96096       pretrained_embedding[0][0]       \n",
      "__________________________________________________________________________________________________\n",
      "global_max_pooling1d (GlobalMax (None, 96)           0           conv1d[0][0]                     \n",
      "__________________________________________________________________________________________________\n",
      "global_max_pooling1d_1 (GlobalM (None, 96)           0           conv1d_1[0][0]                   \n",
      "__________________________________________________________________________________________________\n",
      "global_max_pooling1d_2 (GlobalM (None, 96)           0           conv1d_2[0][0]                   \n",
      "__________________________________________________________________________________________________\n",
      "concatenate (Concatenate)       (None, 288)          0           global_max_pooling1d[0][0]       \n",
      "                                                                 global_max_pooling1d_1[0][0]     \n",
      "                                                                 global_max_pooling1d_2[0][0]     \n",
      "__________________________________________________________________________________________________\n",
      "dropout_1 (Dropout)             (None, 288)          0           concatenate[0][0]                \n",
      "__________________________________________________________________________________________________\n",
      "dense (Dense)                   (None, 13336)        3854104     dropout_1[0][0]                  \n",
      "==================================================================================================\n",
      "Total params: 4,084,792\n",
      "Trainable params: 4,084,792\n",
      "Non-trainable params: 0\n",
      "__________________________________________________________________________________________________\n"
     ]
    }
   ],
   "source": [
    "# Have a look at the model\n",
    "model.summary()"
   ]
  },
  {
   "cell_type": "markdown",
   "metadata": {},
   "source": [
    "### Define how the model should be trained"
   ]
  },
  {
   "cell_type": "code",
   "execution_count": 25,
   "metadata": {},
   "outputs": [],
   "source": [
    "# Define how the model should be trained\n",
    "model.compile(optimizer=tf.keras.optimizers.Adam(learning_rate = 0.0005), # CNN-Kim uses SGD with Adelta update rule\n",
    "              loss='binary_crossentropy',\n",
    "              metrics=[Precision(), Recall()])"
   ]
  },
  {
   "cell_type": "code",
   "execution_count": 26,
   "metadata": {},
   "outputs": [],
   "source": [
    "# Create learning rate decay function\n",
    "def lr_scheduler(epoch, lr):\n",
    "    learning_rate = lr * 0.95\n",
    "    print(f'Learning Rate: {learning_rate}')\n",
    "    return learning_rate\n",
    "\n",
    "# define the learning rate scheduler\n",
    "callback = tf.keras.callbacks.LearningRateScheduler(lr_scheduler)"
   ]
  },
  {
   "cell_type": "markdown",
   "metadata": {},
   "source": [
    "### Train the model"
   ]
  },
  {
   "cell_type": "code",
   "execution_count": 27,
   "metadata": {
    "scrolled": true
   },
   "outputs": [
    {
     "name": "stdout",
     "output_type": "stream",
     "text": [
      "Train on 490800 samples, validate on 163600 samples\n",
      "Learning Rate: 0.0002700000128243119\n",
      "Epoch 1/30\n",
      "490800/490800 [==============================] - 83s 170us/sample - loss: 0.0127 - precision: 0.0043 - recall: 0.0447 - val_loss: 0.0024 - val_precision: 0.9522 - val_recall: 0.0603\n",
      "Learning Rate: 0.00024300001678057015\n",
      "Epoch 2/30\n",
      "490800/490800 [==============================] - 80s 163us/sample - loss: 0.0026 - precision: 0.6936 - recall: 0.0786 - val_loss: 0.0022 - val_precision: 0.9011 - val_recall: 0.0862\n",
      "Learning Rate: 0.00021870001510251313\n",
      "Epoch 3/30\n",
      "490800/490800 [==============================] - 80s 164us/sample - loss: 0.0024 - precision: 0.7121 - recall: 0.0972 - val_loss: 0.0021 - val_precision: 0.8860 - val_recall: 0.0965\n",
      "Learning Rate: 0.0001968300188309513\n",
      "Epoch 4/30\n",
      "490800/490800 [==============================] - 80s 163us/sample - loss: 0.0022 - precision: 0.7187 - recall: 0.1115 - val_loss: 0.0020 - val_precision: 0.8801 - val_recall: 0.1092\n",
      "Learning Rate: 0.00017714701825752855\n",
      "Epoch 5/30\n",
      "490800/490800 [==============================] - 80s 163us/sample - loss: 0.0021 - precision: 0.7208 - recall: 0.1248 - val_loss: 0.0019 - val_precision: 0.8794 - val_recall: 0.1218\n",
      "Learning Rate: 0.0001594323111930862\n",
      "Epoch 6/30\n",
      "490800/490800 [==============================] - 80s 164us/sample - loss: 0.0021 - precision: 0.7196 - recall: 0.1354 - val_loss: 0.0019 - val_precision: 0.8645 - val_recall: 0.1339\n",
      "Learning Rate: 0.00014348908007377759\n",
      "Epoch 7/30\n",
      "490800/490800 [==============================] - 80s 164us/sample - loss: 0.0020 - precision: 0.7197 - recall: 0.1451 - val_loss: 0.0018 - val_precision: 0.8729 - val_recall: 0.1384\n",
      "Learning Rate: 0.00012914016551803797\n",
      "Epoch 8/30\n",
      "490800/490800 [==============================] - 80s 164us/sample - loss: 0.0019 - precision: 0.7212 - recall: 0.1534 - val_loss: 0.0018 - val_precision: 0.8634 - val_recall: 0.1497\n",
      "Learning Rate: 0.00011622615420492366\n",
      "Epoch 9/30\n",
      "490800/490800 [==============================] - 80s 164us/sample - loss: 0.0019 - precision: 0.7196 - recall: 0.1615 - val_loss: 0.0017 - val_precision: 0.8684 - val_recall: 0.1549\n",
      "Learning Rate: 0.0001046035387844313\n",
      "Epoch 10/30\n",
      "490800/490800 [==============================] - 81s 165us/sample - loss: 0.0019 - precision: 0.7198 - recall: 0.1685 - val_loss: 0.0017 - val_precision: 0.8708 - val_recall: 0.1591\n",
      "Learning Rate: 9.414318556082435e-05\n",
      "Epoch 11/30\n",
      "490800/490800 [==============================] - 82s 167us/sample - loss: 0.0018 - precision: 0.7199 - recall: 0.1756 - val_loss: 0.0017 - val_precision: 0.8722 - val_recall: 0.1641\n",
      "Learning Rate: 8.47288676595781e-05\n",
      "Epoch 12/30\n",
      "490800/490800 [==============================] - 81s 165us/sample - loss: 0.0018 - precision: 0.7191 - recall: 0.1810 - val_loss: 0.0016 - val_precision: 0.8666 - val_recall: 0.1729\n",
      "Learning Rate: 7.625598154845648e-05\n",
      "Epoch 13/30\n",
      "490800/490800 [==============================] - 80s 164us/sample - loss: 0.0018 - precision: 0.7193 - recall: 0.1862 - val_loss: 0.0016 - val_precision: 0.8686 - val_recall: 0.1770\n",
      "Learning Rate: 6.863038142910228e-05\n",
      "Epoch 14/30\n",
      "490800/490800 [==============================] - 80s 164us/sample - loss: 0.0017 - precision: 0.7195 - recall: 0.1901 - val_loss: 0.0016 - val_precision: 0.8613 - val_recall: 0.1839\n",
      "Learning Rate: 6.176734459586442e-05\n",
      "Epoch 15/30\n",
      "490800/490800 [==============================] - 80s 164us/sample - loss: 0.0017 - precision: 0.7204 - recall: 0.1943 - val_loss: 0.0016 - val_precision: 0.8706 - val_recall: 0.1821\n",
      "Learning Rate: 5.559060882660561e-05\n",
      "Epoch 16/30\n",
      "490800/490800 [==============================] - 80s 164us/sample - loss: 0.0017 - precision: 0.7207 - recall: 0.1973 - val_loss: 0.0015 - val_precision: 0.8685 - val_recall: 0.1866\n",
      "Learning Rate: 5.003154728910886e-05\n",
      "Epoch 17/30\n",
      "490800/490800 [==============================] - 80s 164us/sample - loss: 0.0017 - precision: 0.7209 - recall: 0.2001 - val_loss: 0.0015 - val_precision: 0.8651 - val_recall: 0.1913\n",
      "Learning Rate: 4.5028392560197974e-05\n",
      "Epoch 18/30\n",
      "490800/490800 [==============================] - 80s 164us/sample - loss: 0.0016 - precision: 0.7220 - recall: 0.2026 - val_loss: 0.0015 - val_precision: 0.8677 - val_recall: 0.1923\n",
      "Learning Rate: 4.05255523219239e-05\n",
      "Epoch 19/30\n",
      "490800/490800 [==============================] - 80s 164us/sample - loss: 0.0016 - precision: 0.7211 - recall: 0.2046 - val_loss: 0.0015 - val_precision: 0.8678 - val_recall: 0.1936\n",
      "Learning Rate: 3.6472997089731506e-05\n",
      "Epoch 20/30\n",
      "490800/490800 [==============================] - 80s 164us/sample - loss: 0.0016 - precision: 0.7222 - recall: 0.2066 - val_loss: 0.0015 - val_precision: 0.8714 - val_recall: 0.1930\n",
      "Learning Rate: 3.2825697053340265e-05\n",
      "Epoch 21/30\n",
      "490800/490800 [==============================] - 80s 164us/sample - loss: 0.0016 - precision: 0.7222 - recall: 0.2082 - val_loss: 0.0015 - val_precision: 0.8690 - val_recall: 0.1966\n",
      "Learning Rate: 2.9543127675424332e-05\n",
      "Epoch 22/30\n",
      "490800/490800 [==============================] - 80s 164us/sample - loss: 0.0016 - precision: 0.7226 - recall: 0.2098 - val_loss: 0.0015 - val_precision: 0.8679 - val_recall: 0.1980\n",
      "Learning Rate: 2.6588814580463805e-05\n",
      "Epoch 23/30\n",
      "490800/490800 [==============================] - 81s 165us/sample - loss: 0.0016 - precision: 0.7227 - recall: 0.2112 - val_loss: 0.0015 - val_precision: 0.8718 - val_recall: 0.1979\n",
      "Learning Rate: 2.392993246758124e-05\n",
      "Epoch 24/30\n",
      "490800/490800 [==============================] - 80s 164us/sample - loss: 0.0016 - precision: 0.7219 - recall: 0.2118 - val_loss: 0.0014 - val_precision: 0.8692 - val_recall: 0.1999\n",
      "Learning Rate: 2.1536940039368346e-05\n",
      "Epoch 25/30\n",
      "490800/490800 [==============================] - 80s 164us/sample - loss: 0.0016 - precision: 0.7234 - recall: 0.2132 - val_loss: 0.0014 - val_precision: 0.8688 - val_recall: 0.2013\n",
      "Learning Rate: 1.9383246035431514e-05\n",
      "Epoch 26/30\n",
      "490800/490800 [==============================] - 80s 164us/sample - loss: 0.0016 - precision: 0.7234 - recall: 0.2142 - val_loss: 0.0014 - val_precision: 0.8680 - val_recall: 0.2025\n",
      "Learning Rate: 1.744492110447027e-05\n",
      "Epoch 27/30\n",
      "490800/490800 [==============================] - 80s 164us/sample - loss: 0.0016 - precision: 0.7228 - recall: 0.2148 - val_loss: 0.0014 - val_precision: 0.8716 - val_recall: 0.2014\n",
      "Learning Rate: 1.5700429321441335e-05\n",
      "Epoch 28/30\n",
      "490800/490800 [==============================] - 80s 164us/sample - loss: 0.0016 - precision: 0.7240 - recall: 0.2152 - val_loss: 0.0014 - val_precision: 0.8688 - val_recall: 0.2035\n",
      "Learning Rate: 1.4130385898170061e-05\n",
      "Epoch 29/30\n",
      "490800/490800 [==============================] - 80s 164us/sample - loss: 0.0016 - precision: 0.7224 - recall: 0.2159 - val_loss: 0.0014 - val_precision: 0.8695 - val_recall: 0.2035\n",
      "Learning Rate: 1.2717347635771148e-05\n",
      "Epoch 30/30\n",
      "490800/490800 [==============================] - 80s 164us/sample - loss: 0.0016 - precision: 0.7234 - recall: 0.2163 - val_loss: 0.0014 - val_precision: 0.8697 - val_recall: 0.2038\n"
     ]
    }
   ],
   "source": [
    "# Train the model\n",
    "result = model.fit(X_train, y_train,\n",
    "                   epochs=50,\n",
    "                   validation_data=(X_test, y_test),\n",
    "                   batch_size=1024,\n",
    "                   callbacks=[callback]);"
   ]
  },
  {
   "cell_type": "code",
   "execution_count": 28,
   "metadata": {},
   "outputs": [
    {
     "data": {
      "image/png": "[encoded data removed]",
      "text/plain": [
       "<Figure size 432x288 with 1 Axes>"
      ]
     },
     "metadata": {
      "needs_background": "light"
     },
     "output_type": "display_data"
    }
   ],
   "source": [
    "# Plot the precision metric at each itteration\n",
    "plt.plot(result.history['precision'], label='train_precision');\n",
    "plt.plot(result.history['val_precision'], label='test_precision');\n",
    "plt.legend();"
   ]
  },
  {
   "cell_type": "code",
   "execution_count": 29,
   "metadata": {},
   "outputs": [
    {
     "data": {
      "image/png": "[encoded data removed]",
      "text/plain": [
       "<Figure size 432x288 with 1 Axes>"
      ]
     },
     "metadata": {
      "needs_background": "light"
     },
     "output_type": "display_data"
    }
   ],
   "source": [
    "# Plot the recall metric at each itteration\n",
    "plt.plot(result.history['recall'], label='train_recall');\n",
    "plt.plot(result.history['val_recall'], label='test_recall');\n",
    "plt.legend();"
   ]
  },
  {
   "cell_type": "code",
   "execution_count": null,
   "metadata": {},
   "outputs": [],
   "source": []
  },
  {
   "cell_type": "code",
   "execution_count": null,
   "metadata": {},
   "outputs": [],
   "source": []
  },
  {
   "cell_type": "code",
   "execution_count": null,
   "metadata": {},
   "outputs": [],
   "source": []
  },
  {
   "cell_type": "code",
   "execution_count": null,
   "metadata": {},
   "outputs": [],
   "source": []
  },
  {
   "cell_type": "code",
   "execution_count": null,
   "metadata": {},
   "outputs": [],
   "source": []
  },
  {
   "cell_type": "code",
   "execution_count": null,
   "metadata": {},
   "outputs": [],
   "source": []
  }
 ],
 "metadata": {
  "kernelspec": {
   "display_name": "Python 3",
   "language": "python",
   "name": "python3"
  },
  "language_info": {
   "codemirror_mode": {
    "name": "ipython",
    "version": 3
   },
   "file_extension": ".py",
   "mimetype": "text/x-python",
   "name": "python",
   "nbconvert_exporter": "python",
   "pygments_lexer": "ipython3",
   "version": "3.6.9"
  }
 },
 "nbformat": 4,
 "nbformat_minor": 4
}
