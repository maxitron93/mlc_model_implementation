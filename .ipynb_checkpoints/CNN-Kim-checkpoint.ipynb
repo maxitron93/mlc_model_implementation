{
 "cells": [
  {
   "cell_type": "code",
   "execution_count": 1,
   "metadata": {},
   "outputs": [
    {
     "name": "stdout",
     "output_type": "stream",
     "text": [
      "Requirement already up-to-date: pip in /usr/local/lib/python3.6/dist-packages (20.0.2)\r\n"
     ]
    }
   ],
   "source": [
    "!pip install --upgrade pip"
   ]
  },
  {
   "cell_type": "code",
   "execution_count": 2,
   "metadata": {},
   "outputs": [
    {
     "name": "stdout",
     "output_type": "stream",
     "text": [
      "Requirement already satisfied: pandas in /usr/local/lib/python3.6/dist-packages (1.0.1)\n",
      "Requirement already satisfied: pytz>=2017.2 in /usr/local/lib/python3.6/dist-packages (from pandas) (2019.3)\n",
      "Requirement already satisfied: numpy>=1.13.3 in /usr/local/lib/python3.6/dist-packages (from pandas) (1.18.1)\n",
      "Requirement already satisfied: python-dateutil>=2.6.1 in /usr/local/lib/python3.6/dist-packages (from pandas) (2.8.1)\n",
      "Requirement already satisfied: six>=1.5 in /usr/local/lib/python3.6/dist-packages (from python-dateutil>=2.6.1->pandas) (1.13.0)\n"
     ]
    }
   ],
   "source": [
    "!pip install pandas"
   ]
  },
  {
   "cell_type": "code",
   "execution_count": 3,
   "metadata": {},
   "outputs": [
    {
     "name": "stdout",
     "output_type": "stream",
     "text": [
      "Requirement already up-to-date: scikit-learn in /usr/local/lib/python3.6/dist-packages (0.22.1)\r\n",
      "Requirement already satisfied, skipping upgrade: joblib>=0.11 in /usr/local/lib/python3.6/dist-packages (from scikit-learn) (0.14.1)\r\n",
      "Requirement already satisfied, skipping upgrade: scipy>=0.17.0 in /usr/local/lib/python3.6/dist-packages (from scikit-learn) (1.4.1)\r\n",
      "Requirement already satisfied, skipping upgrade: numpy>=1.11.0 in /usr/local/lib/python3.6/dist-packages (from scikit-learn) (1.18.1)\r\n"
     ]
    }
   ],
   "source": [
    "!pip install -U scikit-learn"
   ]
  },
  {
   "cell_type": "markdown",
   "metadata": {},
   "source": [
    "# CNN-Kim Model\n",
    "I can't get it exactly the same now because I'm using custom-trained word vectors instead of pre-trained ones, but I can still try to build a similar architecture.\n",
    "\n",
    "Since there are different variations of his model, I'll start with a model with the following architecture:\n",
    "- Using custom-trained word vectors (dimension = 200)\n",
    "- Keeping those word vectors static during the trainin process (maybe - TBD while implementing)\n",
    "- Single-channel\n",
    "- Filter windows height of 3, 4, 5 with 100 feature maps each\n",
    "- MaxPooling to extract the features from each feature map\n",
    "- Dropout rate of 0.5\n",
    "- ReLu activation function "
   ]
  },
  {
   "cell_type": "code",
   "execution_count": 4,
   "metadata": {},
   "outputs": [],
   "source": [
    "# Import the libraries\n",
    "import os\n",
    "import numpy as np\n",
    "from numpy import load\n",
    "from scipy.sparse import load_npz\n",
    "import tensorflow as tf\n",
    "from tensorflow.keras.mixed_precision import experimental as mixed_precision\n",
    "from tensorflow.keras.layers import Input, Conv1D, GlobalMaxPooling1D, concatenate, Dropout, Dense\n",
    "from tensorflow.keras.models import Model\n",
    "from tensorflow.keras.metrics import Precision, Recall\n",
    "import matplotlib.pyplot as plt"
   ]
  },
  {
   "cell_type": "code",
   "execution_count": 5,
   "metadata": {},
   "outputs": [
    {
     "data": {
      "text/plain": [
       "[PhysicalDevice(name='/physical_device:GPU:0', device_type='GPU')]"
      ]
     },
     "execution_count": 5,
     "metadata": {},
     "output_type": "execute_result"
    }
   ],
   "source": [
    "# Check that a GPU is available\n",
    "tf.config.experimental.list_physical_devices('GPU')"
   ]
  },
  {
   "cell_type": "code",
   "execution_count": 6,
   "metadata": {},
   "outputs": [
    {
     "name": "stdout",
     "output_type": "stream",
     "text": [
      "1 Physical GPUs, 1 Logical GPUs\n"
     ]
    }
   ],
   "source": [
    "# Not sure why, but I need this to get TF to work\n",
    "# from: https://www.tensorflow.org/guide/gpu#limiting_gpu_memory_growth\n",
    "gpus = tf.config.experimental.list_physical_devices('GPU')\n",
    "if gpus:\n",
    "  try:\n",
    "    # Currently, memory growth needs to be the same across GPUs\n",
    "    for gpu in gpus:\n",
    "      tf.config.experimental.set_memory_growth(gpu, True)\n",
    "    logical_gpus = tf.config.experimental.list_logical_devices('GPU')\n",
    "    print(len(gpus), \"Physical GPUs,\", len(logical_gpus), \"Logical GPUs\")\n",
    "  except RuntimeError as e:\n",
    "    # Memory growth must be set before GPUs have been initialized\n",
    "    print(e)"
   ]
  },
  {
   "cell_type": "code",
   "execution_count": 7,
   "metadata": {},
   "outputs": [],
   "source": [
    "# Enable mixed precision training\n",
    "policy = mixed_precision.Policy('mixed_float16')\n",
    "mixed_precision.set_policy(policy)"
   ]
  },
  {
   "cell_type": "markdown",
   "metadata": {},
   "source": [
    "### Load in the data"
   ]
  },
  {
   "cell_type": "code",
   "execution_count": 8,
   "metadata": {},
   "outputs": [],
   "source": [
    "# Define the load path\n",
    "load_path = '../Datasets/AmazonCat-13K/processed/'"
   ]
  },
  {
   "cell_type": "code",
   "execution_count": 9,
   "metadata": {},
   "outputs": [],
   "source": [
    "# Load the X_train\n",
    "X_train_data = load('../Datasets/AmazonCat-13K/processed/' + 'X_train.npz')\n",
    "X_train = X_train_data['arr_0']"
   ]
  },
  {
   "cell_type": "code",
   "execution_count": 10,
   "metadata": {},
   "outputs": [],
   "source": [
    "# Load the X_test\n",
    "X_test_data = load('../Datasets/AmazonCat-13K/processed/' + 'X_test.npz')\n",
    "X_test = X_test_data['arr_0']"
   ]
  },
  {
   "cell_type": "code",
   "execution_count": 11,
   "metadata": {},
   "outputs": [],
   "source": [
    "# Load y_train\n",
    "y_train_sparse = load_npz(load_path + 'y_train_sparse.npz')"
   ]
  },
  {
   "cell_type": "code",
   "execution_count": 12,
   "metadata": {},
   "outputs": [],
   "source": [
    "# Load y_test\n",
    "y_test_sparse = load_npz(load_path + 'y_test_sparse.npz')"
   ]
  },
  {
   "cell_type": "code",
   "execution_count": 13,
   "metadata": {},
   "outputs": [],
   "source": [
    "# Create placeholder matrices that will be 'injected' with the values later\n",
    "y_train_placeholder = np.zeros((y_train_sparse.shape[0], y_train_sparse.shape[1]), dtype='int8')\n",
    "y_test_placeholder = np.zeros((y_test_sparse.shape[0], y_test_sparse.shape[1]), dtype='int8')"
   ]
  },
  {
   "cell_type": "code",
   "execution_count": 14,
   "metadata": {},
   "outputs": [],
   "source": [
    "# # Create y_train\n",
    "# y_train = tf.convert_to_tensor(y_train_sparse.todense(out=y_train_placeholder), dtype=tf.int8)"
   ]
  },
  {
   "cell_type": "code",
   "execution_count": 15,
   "metadata": {},
   "outputs": [],
   "source": [
    "# # Create y_test\n",
    "# y_test = tf.convert_to_tensor(y_test_sparse.todense(out=y_test_placeholder), dtype=tf.int8)"
   ]
  },
  {
   "cell_type": "code",
   "execution_count": 16,
   "metadata": {},
   "outputs": [
    {
     "name": "stdout",
     "output_type": "stream",
     "text": [
      "X_train: (639360, 512)\n",
      "X_test: (213120, 512)\n"
     ]
    }
   ],
   "source": [
    "# Check the shape of the X data\n",
    "print(f'X_train: {X_train.shape}')\n",
    "print(f'X_test: {X_test.shape}')"
   ]
  },
  {
   "cell_type": "code",
   "execution_count": 17,
   "metadata": {},
   "outputs": [
    {
     "name": "stdout",
     "output_type": "stream",
     "text": [
      "y_train: (639360, 13680)\n",
      "y_test: (213120, 13680)\n"
     ]
    }
   ],
   "source": [
    "# Check the shape of the X data\n",
    "print(f'y_train: {y_train_sparse.shape}')\n",
    "print(f'y_test: {y_test_sparse.shape}')"
   ]
  },
  {
   "cell_type": "markdown",
   "metadata": {},
   "source": [
    "### Create the embedding layer"
   ]
  },
  {
   "cell_type": "code",
   "execution_count": 18,
   "metadata": {},
   "outputs": [],
   "source": [
    "# Create the embedding layer definition\n",
    "class PretrainedEmbedding(tf.keras.layers.Layer):\n",
    "    \"\"\"Non-trainable embedding layer.\"\"\"\n",
    "\n",
    "    def __init__(self, embeddings, dropout_rate=0.2, **kwargs):\n",
    "        \"\"\"\"Instantiate the layer using a pre-defined embedding matrix.\"\"\"\n",
    "        super().__init__(**kwargs)\n",
    "        self.embeddings = tf.constant(embeddings)\n",
    "        # if you want to add some dropout (or normalization, etc.)\n",
    "        self.dropout = tf.keras.layers.Dropout(rate=dropout_rate)\n",
    "\n",
    "    def call(self, inputs, training=None):\n",
    "        \"\"\"Embed some input tokens and optionally apply dropout.\"\"\"\n",
    "        output = tf.nn.embedding_lookup(self.embeddings, inputs)\n",
    "        return self.dropout(output, training=training)"
   ]
  },
  {
   "cell_type": "code",
   "execution_count": 19,
   "metadata": {},
   "outputs": [],
   "source": [
    "# Load in the embedding matrix\n",
    "embedding_matrix = np.loadtxt(load_path + 'embedding_matrix.csv', delimiter=',')"
   ]
  },
  {
   "cell_type": "code",
   "execution_count": 20,
   "metadata": {},
   "outputs": [
    {
     "data": {
      "text/plain": [
       "(200000, 200)"
      ]
     },
     "execution_count": 20,
     "metadata": {},
     "output_type": "execute_result"
    }
   ],
   "source": [
    "# Check the embedding matrix size\n",
    "embedding_matrix.shape"
   ]
  },
  {
   "cell_type": "markdown",
   "metadata": {},
   "source": [
    "### Define the model layers"
   ]
  },
  {
   "cell_type": "code",
   "execution_count": 21,
   "metadata": {},
   "outputs": [],
   "source": [
    "# Define the Input and Embedding layers\n",
    "i = Input(shape=(X_train.shape[1]), dtype=tf.int32)\n",
    "x = PretrainedEmbedding(embedding_matrix, dropout_rate=0)(i)\n",
    "\n",
    "# Convolution with window size = 3  \n",
    "x3 = Conv1D(filters=96, \n",
    "            kernel_size=3, \n",
    "            strides=1,\n",
    "            padding='valid',\n",
    "            activation='relu',\n",
    "            use_bias=True\n",
    "           )(x)\n",
    "x3 = GlobalMaxPooling1D()(x3)\n",
    "\n",
    "# Convolution with window size = 4\n",
    "x4 = Conv1D(filters=96, \n",
    "            kernel_size=4, \n",
    "            strides=1,\n",
    "            padding='valid',\n",
    "            activation='relu',\n",
    "            use_bias=True\n",
    "           )(x)\n",
    "x4 = GlobalMaxPooling1D()(x4)\n",
    "\n",
    "# Convolution with window size = 5\n",
    "x5 = Conv1D(filters=96, \n",
    "            kernel_size=5, \n",
    "            strides=1,\n",
    "            padding='valid',\n",
    "            activation='relu',\n",
    "            use_bias=True\n",
    "           )(x)\n",
    "x5 = GlobalMaxPooling1D()(x5)\n",
    "\n",
    "# Concatenated max-pooling layers with Dropout (CNN-Kim uses a dropout rate of 0.5)\n",
    "concatenated = concatenate([x3, x4, x5])\n",
    "x = Dropout(rate=0.5)(concatenated)\n",
    "\n",
    "# Final, fully-connected Dense layer\n",
    "x = Dense(y_train_sparse.shape[1], activation='sigmoid')(x)"
   ]
  },
  {
   "cell_type": "code",
   "execution_count": 22,
   "metadata": {},
   "outputs": [],
   "source": [
    "# Build the model\n",
    "model = Model(i, x)"
   ]
  },
  {
   "cell_type": "code",
   "execution_count": 23,
   "metadata": {},
   "outputs": [],
   "source": [
    "# Remove unused vars (to save memory)\n",
    "del embedding_matrix"
   ]
  },
  {
   "cell_type": "code",
   "execution_count": 24,
   "metadata": {},
   "outputs": [
    {
     "name": "stdout",
     "output_type": "stream",
     "text": [
      "Model: \"model\"\n",
      "__________________________________________________________________________________________________\n",
      "Layer (type)                    Output Shape         Param #     Connected to                     \n",
      "==================================================================================================\n",
      "input_1 (InputLayer)            [(None, 512)]        0                                            \n",
      "__________________________________________________________________________________________________\n",
      "pretrained_embedding (Pretraine (None, 512, 200)     0           input_1[0][0]                    \n",
      "__________________________________________________________________________________________________\n",
      "conv1d (Conv1D)                 (None, 510, 96)      57696       pretrained_embedding[0][0]       \n",
      "__________________________________________________________________________________________________\n",
      "conv1d_1 (Conv1D)               (None, 509, 96)      76896       pretrained_embedding[0][0]       \n",
      "__________________________________________________________________________________________________\n",
      "conv1d_2 (Conv1D)               (None, 508, 96)      96096       pretrained_embedding[0][0]       \n",
      "__________________________________________________________________________________________________\n",
      "global_max_pooling1d (GlobalMax (None, 96)           0           conv1d[0][0]                     \n",
      "__________________________________________________________________________________________________\n",
      "global_max_pooling1d_1 (GlobalM (None, 96)           0           conv1d_1[0][0]                   \n",
      "__________________________________________________________________________________________________\n",
      "global_max_pooling1d_2 (GlobalM (None, 96)           0           conv1d_2[0][0]                   \n",
      "__________________________________________________________________________________________________\n",
      "concatenate (Concatenate)       (None, 288)          0           global_max_pooling1d[0][0]       \n",
      "                                                                 global_max_pooling1d_1[0][0]     \n",
      "                                                                 global_max_pooling1d_2[0][0]     \n",
      "__________________________________________________________________________________________________\n",
      "dropout_1 (Dropout)             (None, 288)          0           concatenate[0][0]                \n",
      "__________________________________________________________________________________________________\n",
      "dense (Dense)                   (None, 13680)        3953520     dropout_1[0][0]                  \n",
      "==================================================================================================\n",
      "Total params: 4,184,208\n",
      "Trainable params: 4,184,208\n",
      "Non-trainable params: 0\n",
      "__________________________________________________________________________________________________\n"
     ]
    }
   ],
   "source": [
    "# Have a look at the model\n",
    "model.summary()"
   ]
  },
  {
   "cell_type": "markdown",
   "metadata": {},
   "source": [
    "### Define how the model should be trained"
   ]
  },
  {
   "cell_type": "code",
   "execution_count": 25,
   "metadata": {},
   "outputs": [],
   "source": [
    "# Define how the model should be trained\n",
    "model.compile(optimizer=tf.keras.optimizers.Adam(learning_rate = 0.0005), # CNN-Kim uses SGD with Adelta update rule\n",
    "              loss='binary_crossentropy',\n",
    "              metrics=[Precision(), Recall()])"
   ]
  },
  {
   "cell_type": "code",
   "execution_count": 26,
   "metadata": {},
   "outputs": [],
   "source": [
    "# Create learning rate decay function\n",
    "def lr_scheduler(epoch, lr):\n",
    "    learning_rate = lr * 0.95\n",
    "    print(f'Learning Rate: {learning_rate}')\n",
    "    return learning_rate\n",
    "\n",
    "# define the learning rate scheduler\n",
    "callback = tf.keras.callbacks.LearningRateScheduler(lr_scheduler)"
   ]
  },
  {
   "cell_type": "markdown",
   "metadata": {},
   "source": [
    "### Train the model"
   ]
  },
  {
   "cell_type": "code",
   "execution_count": 27,
   "metadata": {},
   "outputs": [],
   "source": [
    "# # Train the model\n",
    "# result = model.fit(X_train_data['arr_0'], y_train,\n",
    "#                    epochs=50,\n",
    "#                    validation_data=(X_test, y_test),\n",
    "#                    batch_size=1024,\n",
    "#                    callbacks=[callback]);"
   ]
  },
  {
   "cell_type": "code",
   "execution_count": 28,
   "metadata": {
    "scrolled": true
   },
   "outputs": [
    {
     "name": "stdout",
     "output_type": "stream",
     "text": [
      "Train on 639360 samples, validate on 213120 samples\n",
      "Learning Rate: 0.00047500002256128937\n",
      "Epoch 1/50\n",
      "639360/639360 [==============================] - 96s 150us/sample - loss: 0.0117 - precision: 0.0043 - recall: 0.0432 - val_loss: 0.0023 - val_precision: 0.9373 - val_recall: 0.0663\n",
      "Learning Rate: 0.0004512500076089054\n",
      "Epoch 2/50\n",
      "639360/639360 [==============================] - 92s 144us/sample - loss: 0.0024 - precision: 0.7098 - recall: 0.0858 - val_loss: 0.0021 - val_precision: 0.8865 - val_recall: 0.0938\n",
      "Learning Rate: 0.00042868750169873233\n",
      "Epoch 3/50\n",
      "639360/639360 [==============================] - 92s 144us/sample - loss: 0.0022 - precision: 0.7174 - recall: 0.1071 - val_loss: 0.0020 - val_precision: 0.8771 - val_recall: 0.1074\n",
      "Learning Rate: 0.0004072531155543402\n",
      "Epoch 4/50\n",
      "639360/639360 [==============================] - 94s 147us/sample - loss: 0.0021 - precision: 0.7195 - recall: 0.1236 - val_loss: 0.0019 - val_precision: 0.8682 - val_recall: 0.1207\n",
      "Learning Rate: 0.0003868904459523037\n",
      "Epoch 5/50\n",
      "639360/639360 [==============================] - 93s 145us/sample - loss: 0.0020 - precision: 0.7191 - recall: 0.1370 - val_loss: 0.0018 - val_precision: 0.8693 - val_recall: 0.1336\n",
      "Learning Rate: 0.000367545909830369\n",
      "Epoch 6/50\n",
      "639360/639360 [==============================] - 92s 144us/sample - loss: 0.0019 - precision: 0.7192 - recall: 0.1482 - val_loss: 0.0018 - val_precision: 0.8713 - val_recall: 0.1406\n",
      "Learning Rate: 0.0003491686060442589\n",
      "Epoch 7/50\n",
      "639360/639360 [==============================] - 92s 144us/sample - loss: 0.0019 - precision: 0.7191 - recall: 0.1584 - val_loss: 0.0017 - val_precision: 0.8755 - val_recall: 0.1515\n",
      "Learning Rate: 0.00033171017712447793\n",
      "Epoch 8/50\n",
      "639360/639360 [==============================] - 92s 144us/sample - loss: 0.0018 - precision: 0.7173 - recall: 0.1675 - val_loss: 0.0017 - val_precision: 0.8693 - val_recall: 0.1613\n",
      "Learning Rate: 0.0003151246710331179\n",
      "Epoch 9/50\n",
      "639360/639360 [==============================] - 92s 144us/sample - loss: 0.0018 - precision: 0.7162 - recall: 0.1761 - val_loss: 0.0016 - val_precision: 0.8640 - val_recall: 0.1706\n",
      "Learning Rate: 0.00029936843056930227\n",
      "Epoch 10/50\n",
      "639360/639360 [==============================] - 92s 144us/sample - loss: 0.0017 - precision: 0.7151 - recall: 0.1835 - val_loss: 0.0016 - val_precision: 0.8716 - val_recall: 0.1730\n",
      "Learning Rate: 0.0002844000104232691\n",
      "Epoch 11/50\n",
      "639360/639360 [==============================] - 92s 145us/sample - loss: 0.0017 - precision: 0.7162 - recall: 0.1902 - val_loss: 0.0015 - val_precision: 0.8604 - val_recall: 0.1870\n",
      "Learning Rate: 0.0002701800112845376\n",
      "Epoch 12/50\n",
      "639360/639360 [==============================] - 92s 144us/sample - loss: 0.0017 - precision: 0.7163 - recall: 0.1960 - val_loss: 0.0015 - val_precision: 0.8669 - val_recall: 0.1894\n",
      "Learning Rate: 0.00025667099689599123\n",
      "Epoch 13/50\n",
      "639360/639360 [==============================] - 92s 144us/sample - loss: 0.0017 - precision: 0.7164 - recall: 0.2013 - val_loss: 0.0015 - val_precision: 0.8725 - val_recall: 0.1901\n",
      "Learning Rate: 0.0002438374387566\n",
      "Epoch 14/50\n",
      "639360/639360 [==============================] - 92s 144us/sample - loss: 0.0016 - precision: 0.7168 - recall: 0.2059 - val_loss: 0.0015 - val_precision: 0.8729 - val_recall: 0.1949\n",
      "Learning Rate: 0.00023164556405390612\n",
      "Epoch 15/50\n",
      "639360/639360 [==============================] - 92s 144us/sample - loss: 0.0016 - precision: 0.7184 - recall: 0.2105 - val_loss: 0.0014 - val_precision: 0.8725 - val_recall: 0.1994\n",
      "Learning Rate: 0.00022006328654242677\n",
      "Epoch 16/50\n",
      "639360/639360 [==============================] - 92s 144us/sample - loss: 0.0016 - precision: 0.7181 - recall: 0.2148 - val_loss: 0.0014 - val_precision: 0.8650 - val_recall: 0.2066\n",
      "Learning Rate: 0.00020906012359773739\n",
      "Epoch 17/50\n",
      "639360/639360 [==============================] - 94s 147us/sample - loss: 0.0016 - precision: 0.7192 - recall: 0.2191 - val_loss: 0.0014 - val_precision: 0.8690 - val_recall: 0.2089\n",
      "Learning Rate: 0.00019860711327055467\n",
      "Epoch 18/50\n",
      "639360/639360 [==============================] - 97s 152us/sample - loss: 0.0015 - precision: 0.7189 - recall: 0.2225 - val_loss: 0.0014 - val_precision: 0.8778 - val_recall: 0.2075\n",
      "Learning Rate: 0.00018867675898945888\n",
      "Epoch 19/50\n",
      "639360/639360 [==============================] - 93s 146us/sample - loss: 0.0015 - precision: 0.7192 - recall: 0.2259 - val_loss: 0.0014 - val_precision: 0.8734 - val_recall: 0.2104\n",
      "Learning Rate: 0.00017924291896633803\n",
      "Epoch 20/50\n",
      "639360/639360 [==============================] - 92s 144us/sample - loss: 0.0015 - precision: 0.7200 - recall: 0.2294 - val_loss: 0.0014 - val_precision: 0.8724 - val_recall: 0.2145\n",
      "Learning Rate: 0.00017028077854774892\n",
      "Epoch 21/50\n",
      "639360/639360 [==============================] - 92s 145us/sample - loss: 0.0015 - precision: 0.7216 - recall: 0.2320 - val_loss: 0.0013 - val_precision: 0.8708 - val_recall: 0.2192\n",
      "Learning Rate: 0.00016176673962036147\n",
      "Epoch 22/50\n",
      "639360/639360 [==============================] - 92s 144us/sample - loss: 0.0015 - precision: 0.7216 - recall: 0.2348 - val_loss: 0.0013 - val_precision: 0.8721 - val_recall: 0.2209\n",
      "Learning Rate: 0.00015367840678663923\n",
      "Epoch 23/50\n",
      "639360/639360 [==============================] - 93s 145us/sample - loss: 0.0015 - precision: 0.7213 - recall: 0.2369 - val_loss: 0.0013 - val_precision: 0.8771 - val_recall: 0.2196\n",
      "Learning Rate: 0.00014599449059460312\n",
      "Epoch 24/50\n",
      "639360/639360 [==============================] - 96s 151us/sample - loss: 0.0015 - precision: 0.7218 - recall: 0.2389 - val_loss: 0.0013 - val_precision: 0.8714 - val_recall: 0.2246\n",
      "Learning Rate: 0.00013869476606487297\n",
      "Epoch 25/50\n",
      "639360/639360 [==============================] - 99s 155us/sample - loss: 0.0014 - precision: 0.7227 - recall: 0.2414 - val_loss: 0.0013 - val_precision: 0.8660 - val_recall: 0.2301\n",
      "Learning Rate: 0.0001317600312177092\n",
      "Epoch 26/50\n",
      "639360/639360 [==============================] - 100s 156us/sample - loss: 0.0014 - precision: 0.7229 - recall: 0.2430 - val_loss: 0.0013 - val_precision: 0.8667 - val_recall: 0.2316\n",
      "Learning Rate: 0.00012517202412709594\n",
      "Epoch 27/50\n",
      "639360/639360 [==============================] - 100s 156us/sample - loss: 0.0014 - precision: 0.7236 - recall: 0.2448 - val_loss: 0.0013 - val_precision: 0.8649 - val_recall: 0.2342\n",
      "Learning Rate: 0.00011891342292074113\n",
      "Epoch 28/50\n",
      "639360/639360 [==============================] - 100s 156us/sample - loss: 0.0014 - precision: 0.7236 - recall: 0.2468 - val_loss: 0.0013 - val_precision: 0.8699 - val_recall: 0.2331\n",
      "Learning Rate: 0.00011296774900984018\n",
      "Epoch 29/50\n",
      "639360/639360 [==============================] - 98s 153us/sample - loss: 0.0014 - precision: 0.7237 - recall: 0.2479 - val_loss: 0.0013 - val_precision: 0.8735 - val_recall: 0.2310\n",
      "Learning Rate: 0.00010731936017691623\n",
      "Epoch 30/50\n",
      "639360/639360 [==============================] - 99s 154us/sample - loss: 0.0014 - precision: 0.7250 - recall: 0.2494 - val_loss: 0.0013 - val_precision: 0.8719 - val_recall: 0.2356\n",
      "Learning Rate: 0.0001019533952785423\n",
      "Epoch 31/50\n",
      "639360/639360 [==============================] - 99s 155us/sample - loss: 0.0014 - precision: 0.7259 - recall: 0.2507 - val_loss: 0.0012 - val_precision: 0.8753 - val_recall: 0.2336\n",
      "Learning Rate: 9.685572586022317e-05\n",
      "Epoch 32/50\n",
      "639360/639360 [==============================] - 100s 156us/sample - loss: 0.0014 - precision: 0.7258 - recall: 0.2519 - val_loss: 0.0012 - val_precision: 0.8735 - val_recall: 0.2363\n",
      "Learning Rate: 9.201294233207591e-05\n",
      "Epoch 33/50\n",
      "639360/639360 [==============================] - 99s 155us/sample - loss: 0.0014 - precision: 0.7253 - recall: 0.2529 - val_loss: 0.0012 - val_precision: 0.8750 - val_recall: 0.2358\n",
      "Learning Rate: 8.741229175939224e-05\n",
      "Epoch 34/50\n",
      "639360/639360 [==============================] - 98s 153us/sample - loss: 0.0014 - precision: 0.7257 - recall: 0.2537 - val_loss: 0.0012 - val_precision: 0.8726 - val_recall: 0.2388\n",
      "Learning Rate: 8.30416778626386e-05\n",
      "Epoch 35/50\n",
      "639360/639360 [==============================] - 100s 157us/sample - loss: 0.0014 - precision: 0.7258 - recall: 0.2546 - val_loss: 0.0012 - val_precision: 0.8681 - val_recall: 0.2424\n",
      "Learning Rate: 7.888959189585875e-05\n",
      "Epoch 36/50\n"
     ]
    },
    {
     "name": "stdout",
     "output_type": "stream",
     "text": [
      "639360/639360 [==============================] - 99s 154us/sample - loss: 0.0014 - precision: 0.7269 - recall: 0.2559 - val_loss: 0.0012 - val_precision: 0.8729 - val_recall: 0.2397\n",
      "Learning Rate: 7.49451126466738e-05\n",
      "Epoch 37/50\n",
      "639360/639360 [==============================] - 100s 157us/sample - loss: 0.0014 - precision: 0.7270 - recall: 0.2569 - val_loss: 0.0012 - val_precision: 0.8717 - val_recall: 0.2414\n",
      "Learning Rate: 7.119785805116407e-05\n",
      "Epoch 38/50\n",
      "639360/639360 [==============================] - 101s 158us/sample - loss: 0.0014 - precision: 0.7271 - recall: 0.2573 - val_loss: 0.0012 - val_precision: 0.8724 - val_recall: 0.2417\n",
      "Learning Rate: 6.763796445738989e-05\n",
      "Epoch 39/50\n",
      "639360/639360 [==============================] - 99s 154us/sample - loss: 0.0014 - precision: 0.7275 - recall: 0.2578 - val_loss: 0.0012 - val_precision: 0.8719 - val_recall: 0.2427\n",
      "Learning Rate: 6.425606588891241e-05\n",
      "Epoch 40/50\n",
      "639360/639360 [==============================] - 99s 155us/sample - loss: 0.0014 - precision: 0.7278 - recall: 0.2583 - val_loss: 0.0012 - val_precision: 0.8736 - val_recall: 0.2422\n",
      "Learning Rate: 6.104325948399491e-05\n",
      "Epoch 41/50\n",
      "639360/639360 [==============================] - 99s 154us/sample - loss: 0.0014 - precision: 0.7278 - recall: 0.2591 - val_loss: 0.0012 - val_precision: 0.8753 - val_recall: 0.2413\n",
      "Learning Rate: 5.7991098583443086e-05\n",
      "Epoch 42/50\n",
      "639360/639360 [==============================] - 99s 155us/sample - loss: 0.0013 - precision: 0.7280 - recall: 0.2594 - val_loss: 0.0012 - val_precision: 0.8721 - val_recall: 0.2452\n",
      "Learning Rate: 5.5091544345486904e-05\n",
      "Epoch 43/50\n",
      "639360/639360 [==============================] - 97s 152us/sample - loss: 0.0013 - precision: 0.7283 - recall: 0.2600 - val_loss: 0.0012 - val_precision: 0.8705 - val_recall: 0.2457\n",
      "Learning Rate: 5.2336965745780616e-05\n",
      "Epoch 44/50\n",
      "639360/639360 [==============================] - 98s 154us/sample - loss: 0.0013 - precision: 0.7293 - recall: 0.2611 - val_loss: 0.0012 - val_precision: 0.8732 - val_recall: 0.2448\n",
      "Learning Rate: 4.972011884092353e-05\n",
      "Epoch 45/50\n",
      "639360/639360 [==============================] - 99s 155us/sample - loss: 0.0013 - precision: 0.7284 - recall: 0.2616 - val_loss: 0.0012 - val_precision: 0.8731 - val_recall: 0.2450\n",
      "Learning Rate: 4.723411220766138e-05\n",
      "Epoch 46/50\n",
      "639360/639360 [==============================] - 99s 155us/sample - loss: 0.0013 - precision: 0.7284 - recall: 0.2615 - val_loss: 0.0012 - val_precision: 0.8716 - val_recall: 0.2468\n",
      "Learning Rate: 4.4872406942886296e-05\n",
      "Epoch 47/50\n",
      "639360/639360 [==============================] - 103s 161us/sample - loss: 0.0013 - precision: 0.7295 - recall: 0.2622 - val_loss: 0.0012 - val_precision: 0.8726 - val_recall: 0.2468\n",
      "Learning Rate: 4.2628785558918024e-05\n",
      "Epoch 48/50\n",
      "639360/639360 [==============================] - 104s 163us/sample - loss: 0.0013 - precision: 0.7296 - recall: 0.2625 - val_loss: 0.0012 - val_precision: 0.8742 - val_recall: 0.2459\n",
      "Learning Rate: 4.049734507134417e-05\n",
      "Epoch 49/50\n",
      "639360/639360 [==============================] - 105s 164us/sample - loss: 0.0013 - precision: 0.7291 - recall: 0.2631 - val_loss: 0.0012 - val_precision: 0.8735 - val_recall: 0.2468\n",
      "Learning Rate: 3.847247626254102e-05\n",
      "Epoch 50/50\n",
      "639360/639360 [==============================] - 99s 155us/sample - loss: 0.0013 - precision: 0.7295 - recall: 0.2628 - val_loss: 0.0012 - val_precision: 0.8737 - val_recall: 0.2470\n"
     ]
    }
   ],
   "source": [
    "# Train the model\n",
    "result = model.fit(X_train, y_train_sparse.todense(out=y_train_placeholder),\n",
    "                   epochs=50,\n",
    "                   validation_data=(X_test, y_test_sparse.todense(out=y_test_placeholder)),\n",
    "                   batch_size=2048,\n",
    "                   callbacks=[callback]);"
   ]
  },
  {
   "cell_type": "code",
   "execution_count": 29,
   "metadata": {},
   "outputs": [
    {
     "data": {
      "image/png": "[encoded data removed]",
      "text/plain": [
       "<Figure size 432x288 with 1 Axes>"
      ]
     },
     "metadata": {
      "needs_background": "light"
     },
     "output_type": "display_data"
    }
   ],
   "source": [
    "# Plot the precision metric at each itteration\n",
    "plt.plot(result.history['precision'], label='train_precision');\n",
    "plt.plot(result.history['val_precision'], label='test_precision');\n",
    "plt.legend();"
   ]
  },
  {
   "cell_type": "code",
   "execution_count": 30,
   "metadata": {},
   "outputs": [
    {
     "data": {
      "image/png": "[encoded data removed]",
      "text/plain": [
       "<Figure size 432x288 with 1 Axes>"
      ]
     },
     "metadata": {
      "needs_background": "light"
     },
     "output_type": "display_data"
    }
   ],
   "source": [
    "# Plot the recall metric at each itteration\n",
    "plt.plot(result.history['recall'], label='train_recall');\n",
    "plt.plot(result.history['val_recall'], label='test_recall');\n",
    "plt.legend();"
   ]
  },
  {
   "cell_type": "code",
   "execution_count": null,
   "metadata": {},
   "outputs": [],
   "source": []
  },
  {
   "cell_type": "code",
   "execution_count": null,
   "metadata": {},
   "outputs": [],
   "source": []
  },
  {
   "cell_type": "code",
   "execution_count": null,
   "metadata": {},
   "outputs": [],
   "source": []
  },
  {
   "cell_type": "code",
   "execution_count": null,
   "metadata": {},
   "outputs": [],
   "source": []
  },
  {
   "cell_type": "code",
   "execution_count": null,
   "metadata": {},
   "outputs": [],
   "source": []
  },
  {
   "cell_type": "code",
   "execution_count": null,
   "metadata": {},
   "outputs": [],
   "source": []
  }
 ],
 "metadata": {
  "kernelspec": {
   "display_name": "Python 3",
   "language": "python",
   "name": "python3"
  },
  "language_info": {
   "codemirror_mode": {
    "name": "ipython",
    "version": 3
   },
   "file_extension": ".py",
   "mimetype": "text/x-python",
   "name": "python",
   "nbconvert_exporter": "python",
   "pygments_lexer": "ipython3",
   "version": "3.6.9"
  }
 },
 "nbformat": 4,
 "nbformat_minor": 4
}
