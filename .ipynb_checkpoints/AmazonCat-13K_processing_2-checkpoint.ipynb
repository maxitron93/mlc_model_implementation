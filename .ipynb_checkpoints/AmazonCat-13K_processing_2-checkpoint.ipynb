{
 "cells": [
  {
   "cell_type": "markdown",
   "metadata": {},
   "source": [
    "# Create word vectors\n",
    "We'll use the word2vec module from gensim"
   ]
  },
  {
   "cell_type": "code",
   "execution_count": 1,
   "metadata": {},
   "outputs": [],
   "source": [
    "# Import the libraries\n",
    "import pandas as pd\n",
    "import ast\n",
    "from tensorflow.keras.preprocessing.text import Tokenizer\n",
    "from tensorflow.keras.preprocessing.sequence import pad_sequences\n",
    "from gensim.models.word2vec import FAST_VERSION\n",
    "from gensim.models import Word2Vec"
   ]
  },
  {
   "cell_type": "markdown",
   "metadata": {},
   "source": [
    "### Load in the data"
   ]
  },
  {
   "cell_type": "code",
   "execution_count": 2,
   "metadata": {},
   "outputs": [],
   "source": [
    "# Load in the data\n",
    "data_list = [a, b, c, d, e, f, g, h, i ,f] = [None, None, None, None, None, None, None, None, None, None]\n",
    "# data_list = [a] = [None]\n",
    "data_location = '../Datasets/Amazon-Cat13K/processed/' \n",
    "for i in range(len(data_list)):\n",
    "    data_list[i] = pd.read_csv(data_location + f'first_pass_no{i + 1}.csv', encoding='latin1')\n",
    "    \n",
    "# Concatenate all the data\n",
    "data = pd.concat(data_list, sort=False)"
   ]
  },
  {
   "cell_type": "code",
   "execution_count": 3,
   "metadata": {},
   "outputs": [],
   "source": [
    "# Convert the labels from string to array (return unique values only)\n",
    "data['labels'] = data['labels'].apply(lambda labels: list(set(ast.literal_eval(labels))))"
   ]
  },
  {
   "cell_type": "code",
   "execution_count": 4,
   "metadata": {},
   "outputs": [],
   "source": [
    "# Drop rows with missing values\n",
    "data = data.dropna(axis=0)"
   ]
  },
  {
   "cell_type": "code",
   "execution_count": 5,
   "metadata": {},
   "outputs": [],
   "source": [
    "# Create function to join title and description\n",
    "def join_title_and_description(row):\n",
    "    return row['title'] + ' ' + row['description']"
   ]
  },
  {
   "cell_type": "code",
   "execution_count": 6,
   "metadata": {},
   "outputs": [],
   "source": [
    "# Create a new column that combines the title and description\n",
    "data['title_and_description'] = data.apply(lambda row: join_title_and_description(row), axis=1)"
   ]
  },
  {
   "cell_type": "code",
   "execution_count": 7,
   "metadata": {},
   "outputs": [
    {
     "data": {
      "text/plain": [
       "(1494407, 5)"
      ]
     },
     "execution_count": 7,
     "metadata": {},
     "output_type": "execute_result"
    }
   ],
   "source": [
    "# Have a look at the shape\n",
    "data.shape"
   ]
  },
  {
   "cell_type": "code",
   "execution_count": 8,
   "metadata": {},
   "outputs": [
    {
     "data": {
      "text/html": [
       "<div>\n",
       "<style scoped>\n",
       "    .dataframe tbody tr th:only-of-type {\n",
       "        vertical-align: middle;\n",
       "    }\n",
       "\n",
       "    .dataframe tbody tr th {\n",
       "        vertical-align: top;\n",
       "    }\n",
       "\n",
       "    .dataframe thead th {\n",
       "        text-align: right;\n",
       "    }\n",
       "</style>\n",
       "<table border=\"1\" class=\"dataframe\">\n",
       "  <thead>\n",
       "    <tr style=\"text-align: right;\">\n",
       "      <th></th>\n",
       "      <th>item_id</th>\n",
       "      <th>title</th>\n",
       "      <th>description</th>\n",
       "      <th>labels</th>\n",
       "      <th>title_and_description</th>\n",
       "    </tr>\n",
       "  </thead>\n",
       "  <tbody>\n",
       "    <tr>\n",
       "      <td>0</td>\n",
       "      <td>ID:B0027DQHA0</td>\n",
       "      <td>Sao Paulo Samba (2008)</td>\n",
       "      <td>Conducted by John Neschling since 1997, the or...</td>\n",
       "      <td>[TV, Classical, Movies &amp; TV, Music]</td>\n",
       "      <td>Sao Paulo Samba (2008) Conducted by John Nesch...</td>\n",
       "    </tr>\n",
       "    <tr>\n",
       "      <td>1</td>\n",
       "      <td>ID:0756400120</td>\n",
       "      <td>Past Imperfect (Daw Book Collectors)</td>\n",
       "      <td>This fast, lightweight anthology of 12 time-tr...</td>\n",
       "      <td>[Science Fiction, Anthologies &amp; Literary Colle...</td>\n",
       "      <td>Past Imperfect (Daw Book Collectors) This fast...</td>\n",
       "    </tr>\n",
       "    <tr>\n",
       "      <td>2</td>\n",
       "      <td>ID:B00024YAOQ</td>\n",
       "      <td>Winning Every Time: How to Use the Skills of a...</td>\n",
       "      <td>Whether you're hoping to obtain a raise from y...</td>\n",
       "      <td>[Books, Business &amp; Investing, Business Life, M...</td>\n",
       "      <td>Winning Every Time: How to Use the Skills of a...</td>\n",
       "    </tr>\n",
       "    <tr>\n",
       "      <td>3</td>\n",
       "      <td>ID:B000BUGXAU</td>\n",
       "      <td>Nano Cube 24 Gallon Deluxe</td>\n",
       "      <td>Just add water!\\tThe Nano Cube is a 24-gallon ...</td>\n",
       "      <td>[Aquariums, Pet Supplies, Fish &amp; Aquatic Pets]</td>\n",
       "      <td>Nano Cube 24 Gallon Deluxe Just add water!\\tTh...</td>\n",
       "    </tr>\n",
       "    <tr>\n",
       "      <td>4</td>\n",
       "      <td>ID:B0007YMWC8</td>\n",
       "      <td>Asalto En Tijuana (2005)</td>\n",
       "      <td>An honest citizen is forced to steal the world...</td>\n",
       "      <td>[Movies, Movies &amp; TV]</td>\n",
       "      <td>Asalto En Tijuana (2005) An honest citizen is ...</td>\n",
       "    </tr>\n",
       "  </tbody>\n",
       "</table>\n",
       "</div>"
      ],
      "text/plain": [
       "         item_id                                              title  \\\n",
       "0  ID:B0027DQHA0                             Sao Paulo Samba (2008)   \n",
       "1  ID:0756400120               Past Imperfect (Daw Book Collectors)   \n",
       "2  ID:B00024YAOQ  Winning Every Time: How to Use the Skills of a...   \n",
       "3  ID:B000BUGXAU                         Nano Cube 24 Gallon Deluxe   \n",
       "4  ID:B0007YMWC8                           Asalto En Tijuana (2005)   \n",
       "\n",
       "                                         description  \\\n",
       "0  Conducted by John Neschling since 1997, the or...   \n",
       "1  This fast, lightweight anthology of 12 time-tr...   \n",
       "2  Whether you're hoping to obtain a raise from y...   \n",
       "3  Just add water!\\tThe Nano Cube is a 24-gallon ...   \n",
       "4  An honest citizen is forced to steal the world...   \n",
       "\n",
       "                                              labels  \\\n",
       "0                [TV, Classical, Movies & TV, Music]   \n",
       "1  [Science Fiction, Anthologies & Literary Colle...   \n",
       "2  [Books, Business & Investing, Business Life, M...   \n",
       "3     [Aquariums, Pet Supplies, Fish & Aquatic Pets]   \n",
       "4                              [Movies, Movies & TV]   \n",
       "\n",
       "                               title_and_description  \n",
       "0  Sao Paulo Samba (2008) Conducted by John Nesch...  \n",
       "1  Past Imperfect (Daw Book Collectors) This fast...  \n",
       "2  Winning Every Time: How to Use the Skills of a...  \n",
       "3  Nano Cube 24 Gallon Deluxe Just add water!\\tTh...  \n",
       "4  Asalto En Tijuana (2005) An honest citizen is ...  "
      ]
     },
     "execution_count": 8,
     "metadata": {},
     "output_type": "execute_result"
    }
   ],
   "source": [
    "# Have a look at the data\n",
    "data.head(n=5)"
   ]
  },
  {
   "cell_type": "markdown",
   "metadata": {},
   "source": [
    "### Tokenize the data"
   ]
  },
  {
   "cell_type": "code",
   "execution_count": 9,
   "metadata": {},
   "outputs": [],
   "source": [
    "# Convert from df to list\n",
    "text = data['title_and_description'].tolist()"
   ]
  },
  {
   "cell_type": "code",
   "execution_count": 10,
   "metadata": {},
   "outputs": [],
   "source": [
    "# Tokenize the data\n",
    "# VOCAB_SIZE = 203882 # This is the reported number of features \n",
    "VOCAB_SIZE = 200000\n",
    "tokenizer = Tokenizer(num_words=VOCAB_SIZE)\n",
    "tokenizer.fit_on_texts(text)"
   ]
  },
  {
   "cell_type": "code",
   "execution_count": 11,
   "metadata": {},
   "outputs": [],
   "source": [
    "# Create a squence from the tokens\n",
    "sequences = tokenizer.texts_to_sequences(text)"
   ]
  },
  {
   "cell_type": "code",
   "execution_count": 12,
   "metadata": {},
   "outputs": [
    {
     "name": "stdout",
     "output_type": "stream",
     "text": [
      "[29260, 21551, 12365, 3328, 4450, 19, 237, 211, 1219, 1, 2781, 7, 2982, 19, 55, 28920, 6087, 3, 1991, 100, 123, 181, 1, 2781, 264, 301, 5176, 1, 3727, 9, 16, 13217, 1255, 3, 6394, 2, 1991, 100, 1500, 131, 499]\n"
     ]
    }
   ],
   "source": [
    "# Have a look at the first sequence\n",
    "print(sequences[0])"
   ]
  },
  {
   "cell_type": "code",
   "execution_count": 13,
   "metadata": {},
   "outputs": [],
   "source": [
    "# # Check that 0 is unused\n",
    "# 0 in tokenizer.index_word.keys()"
   ]
  },
  {
   "cell_type": "code",
   "execution_count": 14,
   "metadata": {},
   "outputs": [],
   "source": [
    "# # Add padding to the sequences\n",
    "# MAX_SEQUENCE_LENGTH = 200\n",
    "# padded_sequences = pad_sequences(sequences,\n",
    "#                                  maxlen=MAX_SEQUENCE_LENGTH,\n",
    "#                                  padding='post') # Add padding to the end if needs padding"
   ]
  },
  {
   "cell_type": "code",
   "execution_count": 15,
   "metadata": {},
   "outputs": [],
   "source": [
    "# # Have a look at the first sequence\n",
    "# print(padded_sequences[0])"
   ]
  },
  {
   "cell_type": "code",
   "execution_count": 16,
   "metadata": {},
   "outputs": [],
   "source": [
    "# # Add padding to the list of tokens \n",
    "# tokenizer.index_word[0] = '<pad>'"
   ]
  },
  {
   "cell_type": "code",
   "execution_count": 17,
   "metadata": {},
   "outputs": [],
   "source": [
    "# Convert sequence of integers to sequence of tokens\n",
    "token_sequences = []\n",
    "# for sequence in padded_sequences:\n",
    "for sequence in sequences:\n",
    "    token_sequence = []\n",
    "    for index in sequence:\n",
    "        token_sequence.append(tokenizer.index_word[index])\n",
    "    token_sequences.append(token_sequence)"
   ]
  },
  {
   "cell_type": "code",
   "execution_count": 18,
   "metadata": {
    "scrolled": true
   },
   "outputs": [
    {
     "name": "stdout",
     "output_type": "stream",
     "text": [
      "['sao', 'paulo', 'samba', '2008', 'conducted', 'by', 'john', 'since', '1997', 'the', 'orchestra', 'is', 'defined', 'by', 'its', 'emblematic', 'interpretations', 'of', 'latin', 'american', 'music', 'here', 'the', 'orchestra', 'yet', 'again', 'grips', 'the', 'listener', 'with', 'an', 'electrifying', 'selection', 'of', 'brazilian', 'and', 'latin', 'american', 'classics', 'including', 'w']\n"
     ]
    }
   ],
   "source": [
    "# Have a look at the first sequence of tokens\n",
    "print(token_sequences[0])"
   ]
  },
  {
   "cell_type": "markdown",
   "metadata": {},
   "source": [
    "### Create the word2vec word vectors\n",
    "In his original CNN-Kim paper, the author used a pre-trained word2vec embedding developed by Google. They provided the link but it's broken. So, we'll create our own word2vec embeddings for now."
   ]
  },
  {
   "cell_type": "code",
   "execution_count": 19,
   "metadata": {},
   "outputs": [
    {
     "data": {
      "text/plain": [
       "1"
      ]
     },
     "execution_count": 19,
     "metadata": {},
     "output_type": "execute_result"
    }
   ],
   "source": [
    "# Check gensim version used\n",
    "FAST_VERSION"
   ]
  },
  {
   "cell_type": "code",
   "execution_count": 20,
   "metadata": {},
   "outputs": [],
   "source": [
    "# Train the word2vec word vectors (200 dimensions)\n",
    "word_vectors = Word2Vec(sentences = token_sequences,\n",
    "                        sg = 0, # 0 for continuous bag of words model, 1 for skip-gram model\n",
    "                        size = 200, # Dimensionality of the word vectors\n",
    "                        window = 10, # Maximum distance between the current and predicted word within a sentence\n",
    "                        workers = 12, # Use these many worker threads to train the model \n",
    "                        iter = 10) # Run this many time through the dataset"
   ]
  },
  {
   "cell_type": "code",
   "execution_count": 21,
   "metadata": {},
   "outputs": [
    {
     "data": {
      "text/plain": [
       "199999"
      ]
     },
     "execution_count": 21,
     "metadata": {},
     "output_type": "execute_result"
    }
   ],
   "source": [
    "# Check the number of tokens that have been trained for\n",
    "len(word_vectors.wv.vocab.keys())"
   ]
  },
  {
   "cell_type": "code",
   "execution_count": 22,
   "metadata": {},
   "outputs": [
    {
     "data": {
      "text/plain": [
       "200"
      ]
     },
     "execution_count": 22,
     "metadata": {},
     "output_type": "execute_result"
    }
   ],
   "source": [
    "# Check the dimensions of each token\n",
    "word_vectors.wv.vector_size"
   ]
  },
  {
   "cell_type": "code",
   "execution_count": 23,
   "metadata": {},
   "outputs": [
    {
     "data": {
      "text/plain": [
       "[('shootouts', 0.6199280023574829),\n",
       " ('gameplay', 0.5675157308578491),\n",
       " ('storyline', 0.5605520606040955),\n",
       " ('adrenaline', 0.5595264434814453),\n",
       " ('cutscenes', 0.5381199717521667),\n",
       " ('gunplay', 0.5286637544631958),\n",
       " ('sequences', 0.5226418972015381),\n",
       " ('nonstop', 0.5218201279640198),\n",
       " ('thrills', 0.5078117847442627),\n",
       " ('showdowns', 0.5074906349182129)]"
      ]
     },
     "execution_count": 23,
     "metadata": {},
     "output_type": "execute_result"
    }
   ],
   "source": [
    "# Have a look at the words that are most similar to 'action'\n",
    "word_vectors.wv.most_similar('action')"
   ]
  },
  {
   "cell_type": "code",
   "execution_count": 120,
   "metadata": {
    "scrolled": true
   },
   "outputs": [
    {
     "name": "stdout",
     "output_type": "stream",
     "text": [
      "[-1.1571587   0.3755734  -2.413305    0.3791015   0.86517483  1.9800457\n",
      " -1.0056863  -4.9373865   1.4850005  -0.5015435   2.7069852  -2.2903554\n",
      "  2.264299   -0.14577731 -2.9842777  -1.4556262  -0.88341886 -1.1524132\n",
      " -2.9301097   1.1619096  -2.22303     2.3586771   1.3999814  -3.0405831\n",
      "  1.4076226   1.6056384   1.4500986   1.2323626   4.9932084   2.056675\n",
      " -0.6050284  -3.3375168   0.81510854 -1.9667872  -5.349025   -0.98436356\n",
      " -0.41073835 -0.2500507  -0.24185303  0.76881033  4.458229    0.3492192\n",
      " -1.3678042   2.1281562  -1.9773943  -0.9298466  -3.1515818   1.1537467\n",
      "  2.635891    0.8529285   0.2760713  -1.2654804  -0.27836585 -1.4895313\n",
      " -3.5696862   4.4550405  -0.5029396   0.03418916  0.86786187 -1.3967632\n",
      " -1.7252482   0.43383378 -1.1031289  -2.651516    0.0401509  -0.78957796\n",
      " -0.1825394  -0.6357223  -1.0993905  -0.60318273 -2.6644683  -1.1847291\n",
      "  1.3930279   3.6436045   1.8687613   1.8572172   2.2359045  -2.9857657\n",
      "  4.6126146   1.1070437  -2.9841766   1.5190953  -2.7302043   1.1314895\n",
      "  0.9260894   0.95583165  0.13164899  0.9351679   3.413888   -2.5198402\n",
      "  1.6844723  -0.88197434 -0.80718005  1.963766   -0.90618014 -4.9243226\n",
      " -0.7974523   0.8493742   0.80988127  1.5863031   0.91754025 -0.3434214\n",
      " -5.9912724   1.6508553  -1.4245329   2.2207658   1.112217    0.78370625\n",
      " -2.9035923  -4.5756207  -4.9258432   3.5524905   4.4078083  -3.0737703\n",
      "  2.00937    -4.9319534   2.949028    3.7416759  -3.0476258  -3.375791\n",
      "  5.003425    0.8480574  -0.8522841   0.20341843 -1.2628822  -0.2801016\n",
      "  4.6806006  -1.9716763   1.0996376   2.2820823   0.23663424 -0.64385915\n",
      "  0.7084719  -0.28211132 -2.3032272  -1.3268598   4.131967    1.1874942\n",
      " -1.1443039   0.93434906  0.08938615  2.4762027   2.393589    2.274369\n",
      "  1.168689    1.4803604   0.24959794  0.8161765  -3.6855538  -0.33190608\n",
      "  1.4745048   3.4243035  -0.8512754  -1.03295    -2.2043326   2.9944892\n",
      " -1.4594483  -0.41607982 -3.6884408   0.3703143   0.84414667 -0.38728383\n",
      "  2.0064445   0.10165343  5.388427    0.07782892  4.22434    -0.9469582\n",
      "  1.672558   -2.7688363  -3.7659714  -1.0305579  -0.9873916   1.1530681\n",
      " -4.8285623   0.68223834  1.0774304  -1.5651156  -1.2621125  -0.66348225\n",
      " -0.28965113 -1.4104414  -0.08517153  2.7696397   0.05573714 -2.2760587\n",
      "  0.08946539 -2.3965662   0.7896628   0.03777325 -2.167262    3.5863295\n",
      "  3.1688719  -0.250163   -2.938377    0.97955585 -2.3679824  -2.5527365\n",
      " -3.935194   -3.8243732 ]\n"
     ]
    }
   ],
   "source": [
    "# Have a look at the word embedding for 'action'\n",
    "print(word_vectors.wv['action']);"
   ]
  },
  {
   "cell_type": "code",
   "execution_count": 50,
   "metadata": {},
   "outputs": [],
   "source": [
    "# Save the word vectors\n",
    "word_vectors.wv.save('../Datasets/Amazon-Cat13K/processed/word_vectors.kv')"
   ]
  },
  {
   "cell_type": "markdown",
   "metadata": {},
   "source": [
    "### Save a new dataset with the tokenized words"
   ]
  },
  {
   "cell_type": "code",
   "execution_count": 129,
   "metadata": {},
   "outputs": [],
   "source": [
    "# Create empty dataframe\n",
    "tokenized_data = pd.DataFrame(columns = ['item_id', 'tokenized_title_and_description', 'labels'])"
   ]
  },
  {
   "cell_type": "code",
   "execution_count": 130,
   "metadata": {},
   "outputs": [],
   "source": [
    "# Add the data\n",
    "tokenized_data['item_id'] = data['item_id'].copy()\n",
    "tokenized_data['tokenized_title_and_description'] = token_sequences\n",
    "tokenized_data['labels'] = data['labels'].copy()"
   ]
  },
  {
   "cell_type": "code",
   "execution_count": 131,
   "metadata": {},
   "outputs": [
    {
     "data": {
      "text/plain": [
       "(1494407, 3)"
      ]
     },
     "execution_count": 131,
     "metadata": {},
     "output_type": "execute_result"
    }
   ],
   "source": [
    "# Check the shape of the dataframe\n",
    "tokenized_data.shape"
   ]
  },
  {
   "cell_type": "code",
   "execution_count": 132,
   "metadata": {},
   "outputs": [
    {
     "data": {
      "text/html": [
       "<div>\n",
       "<style scoped>\n",
       "    .dataframe tbody tr th:only-of-type {\n",
       "        vertical-align: middle;\n",
       "    }\n",
       "\n",
       "    .dataframe tbody tr th {\n",
       "        vertical-align: top;\n",
       "    }\n",
       "\n",
       "    .dataframe thead th {\n",
       "        text-align: right;\n",
       "    }\n",
       "</style>\n",
       "<table border=\"1\" class=\"dataframe\">\n",
       "  <thead>\n",
       "    <tr style=\"text-align: right;\">\n",
       "      <th></th>\n",
       "      <th>item_id</th>\n",
       "      <th>tokenized_title_and_description</th>\n",
       "      <th>labels</th>\n",
       "    </tr>\n",
       "  </thead>\n",
       "  <tbody>\n",
       "    <tr>\n",
       "      <td>0</td>\n",
       "      <td>ID:B0027DQHA0</td>\n",
       "      <td>[sao, paulo, samba, 2008, conducted, by, john,...</td>\n",
       "      <td>[TV, Classical, Movies &amp; TV, Music]</td>\n",
       "    </tr>\n",
       "    <tr>\n",
       "      <td>1</td>\n",
       "      <td>ID:0756400120</td>\n",
       "      <td>[past, imperfect, daw, book, collectors, this,...</td>\n",
       "      <td>[Science Fiction, Anthologies &amp; Literary Colle...</td>\n",
       "    </tr>\n",
       "    <tr>\n",
       "      <td>2</td>\n",
       "      <td>ID:B00024YAOQ</td>\n",
       "      <td>[winning, every, time, how, to, use, the, skil...</td>\n",
       "      <td>[Books, Business &amp; Investing, Business Life, M...</td>\n",
       "    </tr>\n",
       "    <tr>\n",
       "      <td>3</td>\n",
       "      <td>ID:B000BUGXAU</td>\n",
       "      <td>[nano, cube, 24, gallon, deluxe, just, add, wa...</td>\n",
       "      <td>[Aquariums, Pet Supplies, Fish &amp; Aquatic Pets]</td>\n",
       "    </tr>\n",
       "    <tr>\n",
       "      <td>4</td>\n",
       "      <td>ID:B0007YMWC8</td>\n",
       "      <td>[en, tijuana, 2005, an, honest, citizen, is, f...</td>\n",
       "      <td>[Movies, Movies &amp; TV]</td>\n",
       "    </tr>\n",
       "  </tbody>\n",
       "</table>\n",
       "</div>"
      ],
      "text/plain": [
       "         item_id                    tokenized_title_and_description  \\\n",
       "0  ID:B0027DQHA0  [sao, paulo, samba, 2008, conducted, by, john,...   \n",
       "1  ID:0756400120  [past, imperfect, daw, book, collectors, this,...   \n",
       "2  ID:B00024YAOQ  [winning, every, time, how, to, use, the, skil...   \n",
       "3  ID:B000BUGXAU  [nano, cube, 24, gallon, deluxe, just, add, wa...   \n",
       "4  ID:B0007YMWC8  [en, tijuana, 2005, an, honest, citizen, is, f...   \n",
       "\n",
       "                                              labels  \n",
       "0                [TV, Classical, Movies & TV, Music]  \n",
       "1  [Science Fiction, Anthologies & Literary Colle...  \n",
       "2  [Books, Business & Investing, Business Life, M...  \n",
       "3     [Aquariums, Pet Supplies, Fish & Aquatic Pets]  \n",
       "4                              [Movies, Movies & TV]  "
      ]
     },
     "execution_count": 132,
     "metadata": {},
     "output_type": "execute_result"
    }
   ],
   "source": [
    "# Have a look at the first 5 rows\n",
    "tokenized_data.head(n=5)"
   ]
  },
  {
   "cell_type": "code",
   "execution_count": 133,
   "metadata": {},
   "outputs": [],
   "source": [
    "# Create column of token counts\n",
    "tokenized_data['token_count'] = tokenized_data['tokenized_title_and_description'].apply(lambda tokens: len(tokens))"
   ]
  },
  {
   "cell_type": "code",
   "execution_count": 134,
   "metadata": {},
   "outputs": [
    {
     "data": {
      "text/plain": [
       "43"
      ]
     },
     "execution_count": 134,
     "metadata": {},
     "output_type": "execute_result"
    }
   ],
   "source": [
    "# Check for rows with missing values\n",
    "len(tokenized_data[tokenized_data['token_count'] == 0])"
   ]
  },
  {
   "cell_type": "code",
   "execution_count": 135,
   "metadata": {},
   "outputs": [],
   "source": [
    "# Remove rows with missing values\n",
    "tokenized_data = tokenized_data[tokenized_data.token_count != 0]"
   ]
  },
  {
   "cell_type": "code",
   "execution_count": 136,
   "metadata": {},
   "outputs": [],
   "source": [
    "# Remove column of token counts\n",
    "tokenized_data = tokenized_data.drop('token_count', axis = 1)"
   ]
  },
  {
   "cell_type": "code",
   "execution_count": 137,
   "metadata": {},
   "outputs": [
    {
     "data": {
      "text/plain": [
       "(1494364, 3)"
      ]
     },
     "execution_count": 137,
     "metadata": {},
     "output_type": "execute_result"
    }
   ],
   "source": [
    "# Check the shape of the dataframe\n",
    "tokenized_data.shape"
   ]
  },
  {
   "cell_type": "code",
   "execution_count": 138,
   "metadata": {},
   "outputs": [],
   "source": [
    "# Reset the index\n",
    "tokenized_data = tokenized_data.reset_index(drop=True)"
   ]
  },
  {
   "cell_type": "code",
   "execution_count": 139,
   "metadata": {},
   "outputs": [
    {
     "data": {
      "text/html": [
       "<div>\n",
       "<style scoped>\n",
       "    .dataframe tbody tr th:only-of-type {\n",
       "        vertical-align: middle;\n",
       "    }\n",
       "\n",
       "    .dataframe tbody tr th {\n",
       "        vertical-align: top;\n",
       "    }\n",
       "\n",
       "    .dataframe thead th {\n",
       "        text-align: right;\n",
       "    }\n",
       "</style>\n",
       "<table border=\"1\" class=\"dataframe\">\n",
       "  <thead>\n",
       "    <tr style=\"text-align: right;\">\n",
       "      <th></th>\n",
       "      <th>item_id</th>\n",
       "      <th>tokenized_title_and_description</th>\n",
       "      <th>labels</th>\n",
       "    </tr>\n",
       "  </thead>\n",
       "  <tbody>\n",
       "    <tr>\n",
       "      <td>0</td>\n",
       "      <td>ID:B0027DQHA0</td>\n",
       "      <td>[sao, paulo, samba, 2008, conducted, by, john,...</td>\n",
       "      <td>[TV, Classical, Movies &amp; TV, Music]</td>\n",
       "    </tr>\n",
       "    <tr>\n",
       "      <td>1</td>\n",
       "      <td>ID:0756400120</td>\n",
       "      <td>[past, imperfect, daw, book, collectors, this,...</td>\n",
       "      <td>[Science Fiction, Anthologies &amp; Literary Colle...</td>\n",
       "    </tr>\n",
       "    <tr>\n",
       "      <td>2</td>\n",
       "      <td>ID:B00024YAOQ</td>\n",
       "      <td>[winning, every, time, how, to, use, the, skil...</td>\n",
       "      <td>[Books, Business &amp; Investing, Business Life, M...</td>\n",
       "    </tr>\n",
       "    <tr>\n",
       "      <td>3</td>\n",
       "      <td>ID:B000BUGXAU</td>\n",
       "      <td>[nano, cube, 24, gallon, deluxe, just, add, wa...</td>\n",
       "      <td>[Aquariums, Pet Supplies, Fish &amp; Aquatic Pets]</td>\n",
       "    </tr>\n",
       "    <tr>\n",
       "      <td>4</td>\n",
       "      <td>ID:B0007YMWC8</td>\n",
       "      <td>[en, tijuana, 2005, an, honest, citizen, is, f...</td>\n",
       "      <td>[Movies, Movies &amp; TV]</td>\n",
       "    </tr>\n",
       "  </tbody>\n",
       "</table>\n",
       "</div>"
      ],
      "text/plain": [
       "         item_id                    tokenized_title_and_description  \\\n",
       "0  ID:B0027DQHA0  [sao, paulo, samba, 2008, conducted, by, john,...   \n",
       "1  ID:0756400120  [past, imperfect, daw, book, collectors, this,...   \n",
       "2  ID:B00024YAOQ  [winning, every, time, how, to, use, the, skil...   \n",
       "3  ID:B000BUGXAU  [nano, cube, 24, gallon, deluxe, just, add, wa...   \n",
       "4  ID:B0007YMWC8  [en, tijuana, 2005, an, honest, citizen, is, f...   \n",
       "\n",
       "                                              labels  \n",
       "0                [TV, Classical, Movies & TV, Music]  \n",
       "1  [Science Fiction, Anthologies & Literary Colle...  \n",
       "2  [Books, Business & Investing, Business Life, M...  \n",
       "3     [Aquariums, Pet Supplies, Fish & Aquatic Pets]  \n",
       "4                              [Movies, Movies & TV]  "
      ]
     },
     "execution_count": 139,
     "metadata": {},
     "output_type": "execute_result"
    }
   ],
   "source": [
    "# Have a look at the first 5 rows\n",
    "tokenized_data.head(n=5)"
   ]
  },
  {
   "cell_type": "code",
   "execution_count": 140,
   "metadata": {},
   "outputs": [],
   "source": [
    "# Create save_as_csv function\n",
    "def save_as_csv(df, path):\n",
    "    df.to_csv(path, \n",
    "              header=True, \n",
    "              index=None, \n",
    "              encoding='latin1')"
   ]
  },
  {
   "cell_type": "code",
   "execution_count": 141,
   "metadata": {},
   "outputs": [],
   "source": [
    "# Save as csv (broken up into 5 files)\n",
    "num_files = 10\n",
    "size = tokenized_data.shape[0] // num_files\n",
    "save_path = '../Datasets/Amazon-Cat13K/processed/tokenized'\n",
    "for file_num in range(num_files):\n",
    "    if file_num == 0:\n",
    "        save_as_csv(tokenized_data[:size], save_path + f'_no{file_num + 1}.csv')\n",
    "    elif file_num == (num_files - 1):\n",
    "        save_as_csv(tokenized_data[size * file_num:], save_path + f'_no{file_num + 1}.csv')\n",
    "    else:\n",
    "        save_as_csv(tokenized_data[size * file_num: size * (file_num + 1)], save_path + f'_no{file_num + 1}.csv')"
   ]
  },
  {
   "cell_type": "code",
   "execution_count": null,
   "metadata": {},
   "outputs": [],
   "source": []
  },
  {
   "cell_type": "code",
   "execution_count": null,
   "metadata": {},
   "outputs": [],
   "source": []
  },
  {
   "cell_type": "code",
   "execution_count": null,
   "metadata": {},
   "outputs": [],
   "source": []
  },
  {
   "cell_type": "code",
   "execution_count": null,
   "metadata": {},
   "outputs": [],
   "source": []
  }
 ],
 "metadata": {
  "kernelspec": {
   "display_name": "Python 3",
   "language": "python",
   "name": "python3"
  },
  "language_info": {
   "codemirror_mode": {
    "name": "ipython",
    "version": 3
   },
   "file_extension": ".py",
   "mimetype": "text/x-python",
   "name": "python",
   "nbconvert_exporter": "python",
   "pygments_lexer": "ipython3",
   "version": "3.7.4"
  }
 },
 "nbformat": 4,
 "nbformat_minor": 2
}
