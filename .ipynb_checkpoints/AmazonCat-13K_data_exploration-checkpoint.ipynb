{
 "cells": [
  {
   "cell_type": "markdown",
   "metadata": {},
   "source": [
    "# Just some basic data exploration"
   ]
  },
  {
   "cell_type": "code",
   "execution_count": 1,
   "metadata": {},
   "outputs": [],
   "source": [
    "# Import the libraries\n",
    "import pandas as pd\n",
    "import ast\n",
    "import matplotlib.pyplot as plt"
   ]
  },
  {
   "cell_type": "markdown",
   "metadata": {},
   "source": [
    "## Load in the data"
   ]
  },
  {
   "cell_type": "code",
   "execution_count": 2,
   "metadata": {},
   "outputs": [],
   "source": [
    "# Load in the data\n",
    "data_list = [a, b, c, d, e, f, g, h, i ,f] = [None, None, None, None, None, None, None, None, None, None]\n",
    "data_location = '../Datasets/AmazonCat-13K/processed/' \n",
    "for i in range(10):\n",
    "    data_list[i] = pd.read_csv(data_location + f'first_pass_no{i + 1}.csv', encoding='latin1')\n",
    "    \n",
    "# Concatenate all the data\n",
    "data = pd.concat(data_list, sort=False)"
   ]
  },
  {
   "cell_type": "code",
   "execution_count": 3,
   "metadata": {},
   "outputs": [],
   "source": [
    "# Convert the labels from string to array (return unique values only)\n",
    "data['labels'] = data['labels'].apply(lambda labels: list(set(ast.literal_eval(labels))))"
   ]
  },
  {
   "cell_type": "code",
   "execution_count": 4,
   "metadata": {},
   "outputs": [
    {
     "data": {
      "text/plain": [
       "(1494801, 4)"
      ]
     },
     "execution_count": 4,
     "metadata": {},
     "output_type": "execute_result"
    }
   ],
   "source": [
    "# Have a look at the shape\n",
    "data.shape"
   ]
  },
  {
   "cell_type": "code",
   "execution_count": 5,
   "metadata": {},
   "outputs": [
    {
     "data": {
      "text/html": [
       "<div>\n",
       "<style scoped>\n",
       "    .dataframe tbody tr th:only-of-type {\n",
       "        vertical-align: middle;\n",
       "    }\n",
       "\n",
       "    .dataframe tbody tr th {\n",
       "        vertical-align: top;\n",
       "    }\n",
       "\n",
       "    .dataframe thead th {\n",
       "        text-align: right;\n",
       "    }\n",
       "</style>\n",
       "<table border=\"1\" class=\"dataframe\">\n",
       "  <thead>\n",
       "    <tr style=\"text-align: right;\">\n",
       "      <th></th>\n",
       "      <th>item_id</th>\n",
       "      <th>title</th>\n",
       "      <th>description</th>\n",
       "      <th>labels</th>\n",
       "    </tr>\n",
       "  </thead>\n",
       "  <tbody>\n",
       "    <tr>\n",
       "      <td>0</td>\n",
       "      <td>ID:B0027DQHA0</td>\n",
       "      <td>Sao Paulo Samba (2008)</td>\n",
       "      <td>Conducted by John Neschling since 1997, the or...</td>\n",
       "      <td>[TV, Classical, Music, Movies &amp; TV]</td>\n",
       "    </tr>\n",
       "    <tr>\n",
       "      <td>1</td>\n",
       "      <td>ID:0756400120</td>\n",
       "      <td>Past Imperfect (Daw Book Collectors)</td>\n",
       "      <td>This fast, lightweight anthology of 12 time-tr...</td>\n",
       "      <td>[Anthologies &amp; Literary Collections, Science F...</td>\n",
       "    </tr>\n",
       "    <tr>\n",
       "      <td>2</td>\n",
       "      <td>ID:B00024YAOQ</td>\n",
       "      <td>Winning Every Time: How to Use the Skills of a...</td>\n",
       "      <td>Whether you're hoping to obtain a raise from y...</td>\n",
       "      <td>[Business Life, Books, Motivation &amp; Self-Impro...</td>\n",
       "    </tr>\n",
       "    <tr>\n",
       "      <td>3</td>\n",
       "      <td>ID:B000BUGXAU</td>\n",
       "      <td>Nano Cube 24 Gallon Deluxe</td>\n",
       "      <td>Just add water!\\tThe Nano Cube is a 24-gallon ...</td>\n",
       "      <td>[Aquariums, Pet Supplies, Fish &amp; Aquatic Pets]</td>\n",
       "    </tr>\n",
       "    <tr>\n",
       "      <td>4</td>\n",
       "      <td>ID:B0007YMWC8</td>\n",
       "      <td>Asalto En Tijuana (2005)</td>\n",
       "      <td>An honest citizen is forced to steal the world...</td>\n",
       "      <td>[Movies, Movies &amp; TV]</td>\n",
       "    </tr>\n",
       "  </tbody>\n",
       "</table>\n",
       "</div>"
      ],
      "text/plain": [
       "         item_id                                              title  \\\n",
       "0  ID:B0027DQHA0                             Sao Paulo Samba (2008)   \n",
       "1  ID:0756400120               Past Imperfect (Daw Book Collectors)   \n",
       "2  ID:B00024YAOQ  Winning Every Time: How to Use the Skills of a...   \n",
       "3  ID:B000BUGXAU                         Nano Cube 24 Gallon Deluxe   \n",
       "4  ID:B0007YMWC8                           Asalto En Tijuana (2005)   \n",
       "\n",
       "                                         description  \\\n",
       "0  Conducted by John Neschling since 1997, the or...   \n",
       "1  This fast, lightweight anthology of 12 time-tr...   \n",
       "2  Whether you're hoping to obtain a raise from y...   \n",
       "3  Just add water!\\tThe Nano Cube is a 24-gallon ...   \n",
       "4  An honest citizen is forced to steal the world...   \n",
       "\n",
       "                                              labels  \n",
       "0                [TV, Classical, Music, Movies & TV]  \n",
       "1  [Anthologies & Literary Collections, Science F...  \n",
       "2  [Business Life, Books, Motivation & Self-Impro...  \n",
       "3     [Aquariums, Pet Supplies, Fish & Aquatic Pets]  \n",
       "4                              [Movies, Movies & TV]  "
      ]
     },
     "execution_count": 5,
     "metadata": {},
     "output_type": "execute_result"
    }
   ],
   "source": [
    "# Have a look at the first 5 rows\n",
    "data.head(n=5)"
   ]
  },
  {
   "cell_type": "code",
   "execution_count": 6,
   "metadata": {},
   "outputs": [
    {
     "data": {
      "text/plain": [
       "item_id          0\n",
       "title          157\n",
       "description    242\n",
       "labels           0\n",
       "dtype: int64"
      ]
     },
     "execution_count": 6,
     "metadata": {},
     "output_type": "execute_result"
    }
   ],
   "source": [
    "# Check for missing values\n",
    "data.isnull().sum()"
   ]
  },
  {
   "cell_type": "markdown",
   "metadata": {},
   "source": [
    "Strange - there were no missing values detected during processing, but now there are a bunch. What do those missing rows look like?"
   ]
  },
  {
   "cell_type": "code",
   "execution_count": 7,
   "metadata": {},
   "outputs": [
    {
     "data": {
      "text/html": [
       "<div>\n",
       "<style scoped>\n",
       "    .dataframe tbody tr th:only-of-type {\n",
       "        vertical-align: middle;\n",
       "    }\n",
       "\n",
       "    .dataframe tbody tr th {\n",
       "        vertical-align: top;\n",
       "    }\n",
       "\n",
       "    .dataframe thead th {\n",
       "        text-align: right;\n",
       "    }\n",
       "</style>\n",
       "<table border=\"1\" class=\"dataframe\">\n",
       "  <thead>\n",
       "    <tr style=\"text-align: right;\">\n",
       "      <th></th>\n",
       "      <th>item_id</th>\n",
       "      <th>title</th>\n",
       "      <th>description</th>\n",
       "      <th>labels</th>\n",
       "    </tr>\n",
       "  </thead>\n",
       "  <tbody>\n",
       "    <tr>\n",
       "      <td>2345</td>\n",
       "      <td>ID:2228885673</td>\n",
       "      <td>Mes 50 meilleures parties d'échecs, 1948-1969 ...</td>\n",
       "      <td>NaN</td>\n",
       "      <td>[Books]</td>\n",
       "    </tr>\n",
       "    <tr>\n",
       "      <td>3997</td>\n",
       "      <td>ID:B000002H90</td>\n",
       "      <td>NaN</td>\n",
       "      <td>Four years after her return to recording after...</td>\n",
       "      <td>[Pop, R&amp;B, Music]</td>\n",
       "    </tr>\n",
       "    <tr>\n",
       "      <td>9791</td>\n",
       "      <td>ID:1843532239</td>\n",
       "      <td>The Rough Guide to The Dominican Republic Map ...</td>\n",
       "      <td>NaN</td>\n",
       "      <td>[Atlases &amp; Maps, Education &amp; Reference, Books,...</td>\n",
       "    </tr>\n",
       "    <tr>\n",
       "      <td>11630</td>\n",
       "      <td>ID:B00004YO0M</td>\n",
       "      <td>NaN</td>\n",
       "      <td>Wedding 2000. A day of hopes and dreams. A tim...</td>\n",
       "      <td>[Toys &amp; Games]</td>\n",
       "    </tr>\n",
       "    <tr>\n",
       "      <td>13712</td>\n",
       "      <td>ID:B000GUFFQS</td>\n",
       "      <td>NaN</td>\n",
       "      <td>Adding a support rail to a bed gives caregiver...</td>\n",
       "      <td>[Beds &amp; Accessories, Medical Supplies &amp; Equipm...</td>\n",
       "    </tr>\n",
       "    <tr>\n",
       "      <td>...</td>\n",
       "      <td>...</td>\n",
       "      <td>...</td>\n",
       "      <td>...</td>\n",
       "      <td>...</td>\n",
       "    </tr>\n",
       "    <tr>\n",
       "      <td>120699</td>\n",
       "      <td>ID:B000CRVDR0</td>\n",
       "      <td>Kef KHT2005.2 Five Speaker Plus Subwoofer</td>\n",
       "      <td>NaN</td>\n",
       "      <td>[All Electronics]</td>\n",
       "    </tr>\n",
       "    <tr>\n",
       "      <td>122420</td>\n",
       "      <td>ID:2831563305</td>\n",
       "      <td>French Cassette Pack</td>\n",
       "      <td>NaN</td>\n",
       "      <td>[New, Language &amp; Grammar, Foreign Languages, E...</td>\n",
       "    </tr>\n",
       "    <tr>\n",
       "      <td>133744</td>\n",
       "      <td>ID:B00005QF4Q</td>\n",
       "      <td>NaN</td>\n",
       "      <td>We've heard the Cubix line of collectible robo...</td>\n",
       "      <td>[Figures, Action &amp; Toy Figures, Toys &amp; Games]</td>\n",
       "    </tr>\n",
       "    <tr>\n",
       "      <td>141287</td>\n",
       "      <td>ID:B000PC4KHM</td>\n",
       "      <td>NaN</td>\n",
       "      <td>Forms a transparent protective film between sk...</td>\n",
       "      <td>[Health &amp; Personal Care]</td>\n",
       "    </tr>\n",
       "    <tr>\n",
       "      <td>143879</td>\n",
       "      <td>ID:B00008DCR3</td>\n",
       "      <td>NaN</td>\n",
       "      <td>Digtally Remastered Edition of their Excellent...</td>\n",
       "      <td>[Music]</td>\n",
       "    </tr>\n",
       "  </tbody>\n",
       "</table>\n",
       "<p>394 rows × 4 columns</p>\n",
       "</div>"
      ],
      "text/plain": [
       "              item_id                                              title  \\\n",
       "2345    ID:2228885673  Mes 50 meilleures parties d'échecs, 1948-1969 ...   \n",
       "3997    ID:B000002H90                                                NaN   \n",
       "9791    ID:1843532239  The Rough Guide to The Dominican Republic Map ...   \n",
       "11630   ID:B00004YO0M                                                NaN   \n",
       "13712   ID:B000GUFFQS                                                NaN   \n",
       "...               ...                                                ...   \n",
       "120699  ID:B000CRVDR0          Kef KHT2005.2 Five Speaker Plus Subwoofer   \n",
       "122420  ID:2831563305                               French Cassette Pack   \n",
       "133744  ID:B00005QF4Q                                                NaN   \n",
       "141287  ID:B000PC4KHM                                                NaN   \n",
       "143879  ID:B00008DCR3                                                NaN   \n",
       "\n",
       "                                              description  \\\n",
       "2345                                                  NaN   \n",
       "3997    Four years after her return to recording after...   \n",
       "9791                                                  NaN   \n",
       "11630   Wedding 2000. A day of hopes and dreams. A tim...   \n",
       "13712   Adding a support rail to a bed gives caregiver...   \n",
       "...                                                   ...   \n",
       "120699                                                NaN   \n",
       "122420                                                NaN   \n",
       "133744  We've heard the Cubix line of collectible robo...   \n",
       "141287  Forms a transparent protective film between sk...   \n",
       "143879  Digtally Remastered Edition of their Excellent...   \n",
       "\n",
       "                                                   labels  \n",
       "2345                                              [Books]  \n",
       "3997                                    [Pop, R&B, Music]  \n",
       "9791    [Atlases & Maps, Education & Reference, Books,...  \n",
       "11630                                      [Toys & Games]  \n",
       "13712   [Beds & Accessories, Medical Supplies & Equipm...  \n",
       "...                                                   ...  \n",
       "120699                                  [All Electronics]  \n",
       "122420  [New, Language & Grammar, Foreign Languages, E...  \n",
       "133744      [Figures, Action & Toy Figures, Toys & Games]  \n",
       "141287                           [Health & Personal Care]  \n",
       "143879                                            [Music]  \n",
       "\n",
       "[394 rows x 4 columns]"
      ]
     },
     "execution_count": 7,
     "metadata": {},
     "output_type": "execute_result"
    }
   ],
   "source": [
    "# Show the rows with missting values\n",
    "data[data.isnull().any(axis=1)]"
   ]
  },
  {
   "cell_type": "markdown",
   "metadata": {},
   "source": [
    "Yep, definitely looks like there are missing values. Let's get rid of the rows with missing descriptions and/or titles."
   ]
  },
  {
   "cell_type": "code",
   "execution_count": 8,
   "metadata": {},
   "outputs": [],
   "source": [
    "# Drop rows with missing values\n",
    "data = data.dropna(axis=0)"
   ]
  },
  {
   "cell_type": "code",
   "execution_count": 9,
   "metadata": {},
   "outputs": [
    {
     "data": {
      "text/plain": [
       "(1494407, 4)"
      ]
     },
     "execution_count": 9,
     "metadata": {},
     "output_type": "execute_result"
    }
   ],
   "source": [
    "# Have a look at the shape\n",
    "data.shape"
   ]
  },
  {
   "cell_type": "markdown",
   "metadata": {},
   "source": [
    "Still not the same number of instances as the reported 1,493,021, nut not far off."
   ]
  },
  {
   "cell_type": "markdown",
   "metadata": {},
   "source": [
    "## Have a look at the description"
   ]
  },
  {
   "cell_type": "code",
   "execution_count": 10,
   "metadata": {},
   "outputs": [],
   "source": [
    "# Count the words in the description\n",
    "data['description_word_count'] = data['description'].apply(lambda desc: len(desc.split(' ')))"
   ]
  },
  {
   "cell_type": "code",
   "execution_count": 11,
   "metadata": {},
   "outputs": [
    {
     "data": {
      "text/plain": [
       "count    1.494407e+06\n",
       "mean     2.084206e+02\n",
       "std      4.295433e+02\n",
       "min      1.000000e+00\n",
       "25%      3.500000e+01\n",
       "50%      8.400000e+01\n",
       "75%      2.040000e+02\n",
       "max      1.672200e+04\n",
       "Name: description_word_count, dtype: float64"
      ]
     },
     "execution_count": 11,
     "metadata": {},
     "output_type": "execute_result"
    }
   ],
   "source": [
    "# Look at the statistics\n",
    "data['description_word_count'].describe()"
   ]
  },
  {
   "cell_type": "markdown",
   "metadata": {},
   "source": [
    "Minimum of 1 word, maximum of 16,722 words, and an average of ~208 words. That's less than the reported ~245 words per average, but this is before any tokenization. Interesting to note that there are a lot of descriptions with very high word counts - the median count is only 84 words. This is very low compared to the average of 208."
   ]
  },
  {
   "cell_type": "code",
   "execution_count": 12,
   "metadata": {},
   "outputs": [
    {
     "data": {
      "image/png": "[encoded data removed]",
      "text/plain": [
       "<Figure size 432x288 with 1 Axes>"
      ]
     },
     "metadata": {
      "needs_background": "light"
     },
     "output_type": "display_data"
    }
   ],
   "source": [
    "# Plot a histogram of the word counts\n",
    "plt.hist(data['description_word_count'], bins=100, range=[0, 500])\n",
    "plt.show()"
   ]
  },
  {
   "cell_type": "markdown",
   "metadata": {},
   "source": [
    "Maybe the average is lower than the reported average because I didn't include the titles. What happens if I do?"
   ]
  },
  {
   "cell_type": "code",
   "execution_count": 13,
   "metadata": {},
   "outputs": [],
   "source": [
    "# Create a function to count words in bith title and description\n",
    "def count_all_words(row):\n",
    "    return len(row['title'].split(' ')) + len(row['description'].split(' '))"
   ]
  },
  {
   "cell_type": "code",
   "execution_count": 14,
   "metadata": {},
   "outputs": [],
   "source": [
    "# Count all the words\n",
    "data['total_word_count'] = data.apply(lambda row: count_all_words(row), axis = 1)"
   ]
  },
  {
   "cell_type": "code",
   "execution_count": 15,
   "metadata": {},
   "outputs": [
    {
     "data": {
      "text/plain": [
       "count    1.494407e+06\n",
       "mean     2.137810e+02\n",
       "std      4.296170e+02\n",
       "min      2.000000e+00\n",
       "25%      4.000000e+01\n",
       "50%      9.000000e+01\n",
       "75%      2.090000e+02\n",
       "max      1.672800e+04\n",
       "Name: total_word_count, dtype: float64"
      ]
     },
     "execution_count": 15,
     "metadata": {},
     "output_type": "execute_result"
    }
   ],
   "source": [
    "# Look at the statistics\n",
    "data['total_word_count'].describe()"
   ]
  },
  {
   "cell_type": "markdown",
   "metadata": {},
   "source": [
    "That brings up the average by 5 to ~213. Not sure if the title is actually used for benchmarking, but maybe that's not so important for now."
   ]
  },
  {
   "cell_type": "markdown",
   "metadata": {},
   "source": [
    "## Have a look at the labels"
   ]
  },
  {
   "cell_type": "code",
   "execution_count": 16,
   "metadata": {},
   "outputs": [],
   "source": [
    "data['label_count'] = data['labels'].apply(lambda labels: len(labels))"
   ]
  },
  {
   "cell_type": "code",
   "execution_count": 17,
   "metadata": {},
   "outputs": [
    {
     "data": {
      "text/plain": [
       "count    1.494407e+06\n",
       "mean     5.050008e+00\n",
       "std      3.530528e+00\n",
       "min      1.000000e+00\n",
       "25%      3.000000e+00\n",
       "50%      4.000000e+00\n",
       "75%      6.000000e+00\n",
       "max      5.700000e+01\n",
       "Name: label_count, dtype: float64"
      ]
     },
     "execution_count": 17,
     "metadata": {},
     "output_type": "execute_result"
    }
   ],
   "source": [
    "data['label_count'].describe()"
   ]
  },
  {
   "cell_type": "markdown",
   "metadata": {},
   "source": [
    "That's an average of 6.9 labels per instance, and a median of 4. That's very different to the reported 5.04 labels per instance.\n",
    "\n",
    "In this version, I've split up the original labels by breaking-up the heirarcy, so that could explain the high number of labels. But I tried a version without doing that, and it resulted in an average of 2 labels per instance, with a median of 1. That's way below the reported average of 5.04."
   ]
  },
  {
   "cell_type": "code",
   "execution_count": 18,
   "metadata": {},
   "outputs": [
    {
     "name": "stdout",
     "output_type": "stream",
     "text": [
      "Unique labels: 14295\n"
     ]
    }
   ],
   "source": [
    "# Get the number of unique labels\n",
    "labels_list = []\n",
    "for labels in data['labels']:\n",
    "    labels_list += labels\n",
    "print(f'Unique labels: {len(set(labels_list))}')"
   ]
  },
  {
   "cell_type": "markdown",
   "metadata": {},
   "source": [
    "That's more than the reported 13,330 labels, but not by much. The 'extra' labels might partially explain why there are more labels per instance on average than than ofically reported (6.9 vs 5.04)."
   ]
  },
  {
   "cell_type": "code",
   "execution_count": 19,
   "metadata": {},
   "outputs": [
    {
     "data": {
      "image/png": "[encoded data removed]",
      "text/plain": [
       "<Figure size 432x288 with 1 Axes>"
      ]
     },
     "metadata": {
      "needs_background": "light"
     },
     "output_type": "display_data"
    }
   ],
   "source": [
    "# Plot a histogram of the labels\n",
    "plt.hist(data['label_count'], bins=40, range=[0,40])\n",
    "plt.show()"
   ]
  },
  {
   "cell_type": "markdown",
   "metadata": {},
   "source": [
    "Now lets have a look at the number of instances per label"
   ]
  },
  {
   "cell_type": "code",
   "execution_count": 20,
   "metadata": {},
   "outputs": [],
   "source": [
    "# Create empty label_count_dict\n",
    "label_count_dict = {}"
   ]
  },
  {
   "cell_type": "code",
   "execution_count": 21,
   "metadata": {},
   "outputs": [],
   "source": [
    "# Create function to add label to label_count_dict\n",
    "def count_label_instances(labels):\n",
    "    for label in labels:\n",
    "        if label in label_count_dict:\n",
    "            label_count_dict[label] += 1\n",
    "        else:\n",
    "            label_count_dict[label] = 1"
   ]
  },
  {
   "cell_type": "code",
   "execution_count": 22,
   "metadata": {},
   "outputs": [],
   "source": [
    "# \n",
    "data['labels'].apply(lambda labels: count_label_instances(labels));"
   ]
  },
  {
   "cell_type": "code",
   "execution_count": 23,
   "metadata": {},
   "outputs": [
    {
     "data": {
      "text/plain": [
       "14295"
      ]
     },
     "execution_count": 23,
     "metadata": {},
     "output_type": "execute_result"
    }
   ],
   "source": [
    "# Check number of keys\n",
    "len(label_count_dict.values())"
   ]
  },
  {
   "cell_type": "code",
   "execution_count": 24,
   "metadata": {},
   "outputs": [
    {
     "data": {
      "text/plain": [
       "count     14295.000000\n",
       "mean        527.930605\n",
       "std        5685.845233\n",
       "min           1.000000\n",
       "25%           7.000000\n",
       "50%          30.000000\n",
       "75%         128.000000\n",
       "max      446752.000000\n",
       "dtype: float64"
      ]
     },
     "execution_count": 24,
     "metadata": {},
     "output_type": "execute_result"
    }
   ],
   "source": [
    "# Have a look at the distribution of instance counts\n",
    "pd.Series(list(label_count_dict.values())).describe()"
   ]
  },
  {
   "cell_type": "markdown",
   "metadata": {},
   "source": [
    "The average of ~528 is not too far off the reported 448.57 instances per label. But the median of 30 means that there are a lot of labels with a high number of instances. The maximum number is 447K, and 25% have fewer than 7 associated instances. That's not a lot, but typical of multi-label datasets."
   ]
  },
  {
   "cell_type": "code",
   "execution_count": null,
   "metadata": {},
   "outputs": [],
   "source": []
  },
  {
   "cell_type": "code",
   "execution_count": null,
   "metadata": {},
   "outputs": [],
   "source": []
  },
  {
   "cell_type": "code",
   "execution_count": null,
   "metadata": {},
   "outputs": [],
   "source": []
  },
  {
   "cell_type": "code",
   "execution_count": null,
   "metadata": {},
   "outputs": [],
   "source": []
  },
  {
   "cell_type": "code",
   "execution_count": null,
   "metadata": {},
   "outputs": [],
   "source": []
  }
 ],
 "metadata": {
  "kernelspec": {
   "display_name": "Python 3",
   "language": "python",
   "name": "python3"
  },
  "language_info": {
   "codemirror_mode": {
    "name": "ipython",
    "version": 3
   },
   "file_extension": ".py",
   "mimetype": "text/x-python",
   "name": "python",
   "nbconvert_exporter": "python",
   "pygments_lexer": "ipython3",
   "version": "3.7.4"
  }
 },
 "nbformat": 4,
 "nbformat_minor": 2
}
