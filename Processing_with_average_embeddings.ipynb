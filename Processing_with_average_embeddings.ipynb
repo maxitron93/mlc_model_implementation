{
 "cells": [
  {
   "cell_type": "markdown",
   "metadata": {},
   "source": [
    "# Create document embeddings by averaging word embeddings"
   ]
  },
  {
   "cell_type": "code",
   "execution_count": 1,
   "metadata": {},
   "outputs": [],
   "source": [
    "# Import the libraries\n",
    "import os\n",
    "import numpy as np\n",
    "from numpy import load\n",
    "from scipy.sparse import load_npz\n",
    "import tensorflow as tf\n",
    "from tensorflow.keras.mixed_precision import experimental as mixed_precision\n",
    "from tensorflow.keras.layers import Input, Conv1D, GlobalMaxPooling1D, concatenate, Dropout, Dense\n",
    "from tensorflow.keras.models import Model\n",
    "from tensorflow.keras.metrics import Precision, Recall, AUC\n",
    "# from tensorflow_addons.metrics import F1Score\n",
    "import matplotlib.pyplot as plt"
   ]
  },
  {
   "cell_type": "code",
   "execution_count": 2,
   "metadata": {},
   "outputs": [
    {
     "data": {
      "text/plain": [
       "[PhysicalDevice(name='/physical_device:GPU:0', device_type='GPU')]"
      ]
     },
     "execution_count": 2,
     "metadata": {},
     "output_type": "execute_result"
    }
   ],
   "source": [
    "# Check that a GPU is available\n",
    "tf.config.experimental.list_physical_devices('GPU')"
   ]
  },
  {
   "cell_type": "code",
   "execution_count": 3,
   "metadata": {},
   "outputs": [
    {
     "name": "stdout",
     "output_type": "stream",
     "text": [
      "1 Physical GPUs, 1 Logical GPUs\n"
     ]
    }
   ],
   "source": [
    "# Not sure why, but I need this to get TF to work\n",
    "# from: https://www.tensorflow.org/guide/gpu#limiting_gpu_memory_growth\n",
    "gpus = tf.config.experimental.list_physical_devices('GPU')\n",
    "if gpus:\n",
    "  try:\n",
    "    # Currently, memory growth needs to be the same across GPUs\n",
    "    for gpu in gpus:\n",
    "      tf.config.experimental.set_memory_growth(gpu, True)\n",
    "    logical_gpus = tf.config.experimental.list_logical_devices('GPU')\n",
    "    print(len(gpus), \"Physical GPUs,\", len(logical_gpus), \"Logical GPUs\")\n",
    "  except RuntimeError as e:\n",
    "    # Memory growth must be set before GPUs have been initialized\n",
    "    print(e)"
   ]
  },
  {
   "cell_type": "markdown",
   "metadata": {},
   "source": [
    "### Load in the data"
   ]
  },
  {
   "cell_type": "code",
   "execution_count": 4,
   "metadata": {},
   "outputs": [],
   "source": [
    "# Define the load path\n",
    "load_path = '../Datasets/AmazonCat-13K/processed/'"
   ]
  },
  {
   "cell_type": "code",
   "execution_count": 5,
   "metadata": {},
   "outputs": [],
   "source": [
    "# Load the X_train\n",
    "X_train_data = load('../Datasets/AmazonCat-13K/processed/' + 'X_train_unpadded.npz', allow_pickle=True)\n",
    "X_train_tokens = X_train_data['arr_0']"
   ]
  },
  {
   "cell_type": "code",
   "execution_count": 6,
   "metadata": {},
   "outputs": [],
   "source": [
    "# Load the X_test\n",
    "X_test_data = load('../Datasets/AmazonCat-13K/processed/' + 'X_test_unpadded.npz', allow_pickle=True)\n",
    "X_test_tokens = X_test_data['arr_0']"
   ]
  },
  {
   "cell_type": "code",
   "execution_count": 7,
   "metadata": {},
   "outputs": [],
   "source": [
    "# Load y_train\n",
    "y_train_sparse = load_npz(load_path + 'y_train_sparse_unpadded.npz').astype('int64')"
   ]
  },
  {
   "cell_type": "code",
   "execution_count": 8,
   "metadata": {},
   "outputs": [],
   "source": [
    "# Load y_test\n",
    "y_test_sparse = load_npz(load_path + 'y_test_sparse_unpadded.npz').astype('int64')"
   ]
  },
  {
   "cell_type": "code",
   "execution_count": 9,
   "metadata": {},
   "outputs": [
    {
     "name": "stdout",
     "output_type": "stream",
     "text": [
      "X_train: (7500,)\n",
      "X_test: (2500,)\n"
     ]
    }
   ],
   "source": [
    "# Check the shape of the X data\n",
    "print(f'X_train: {X_train_tokens.shape}')\n",
    "print(f'X_test: {X_test_tokens.shape}')"
   ]
  },
  {
   "cell_type": "code",
   "execution_count": 10,
   "metadata": {},
   "outputs": [
    {
     "name": "stdout",
     "output_type": "stream",
     "text": [
      "y_train: (7500, 4583)\n",
      "y_test: (2500, 4583)\n"
     ]
    }
   ],
   "source": [
    "# Check the shape of the X data\n",
    "print(f'y_train: {y_train_sparse.shape}')\n",
    "print(f'y_test: {y_test_sparse.shape}')"
   ]
  },
  {
   "cell_type": "code",
   "execution_count": 11,
   "metadata": {},
   "outputs": [],
   "source": [
    "# Load in the embedding matrix\n",
    "embedding_matrix = np.loadtxt(load_path + 'embedding_matrix.csv', delimiter=',')"
   ]
  },
  {
   "cell_type": "markdown",
   "metadata": {},
   "source": [
    "### Create the document vectors"
   ]
  },
  {
   "cell_type": "code",
   "execution_count": 12,
   "metadata": {},
   "outputs": [],
   "source": [
    "# Create function to return average vector\n",
    "def average_vector(instance_vector):\n",
    "    num_tokens = len(instance_vector)\n",
    "    vector_sum = 0\n",
    "    for token_index in instance_vector:\n",
    "        vector_sum += embedding_matrix[token_index]\n",
    "    return vector_sum / num_tokens"
   ]
  },
  {
   "cell_type": "code",
   "execution_count": 13,
   "metadata": {},
   "outputs": [],
   "source": [
    "# Create the X_train document vectors\n",
    "X_train = []\n",
    "for instance_vector in X_train_tokens:\n",
    "    document_vector = average_vector(instance_vector)\n",
    "    X_train.append(document_vector)\n",
    "    \n",
    "# Convert to numpy array\n",
    "X_train = np.array(X_train)"
   ]
  },
  {
   "cell_type": "code",
   "execution_count": 14,
   "metadata": {},
   "outputs": [],
   "source": [
    "# Create the X_test document vectors\n",
    "X_test = []\n",
    "for instance_vector in X_test_tokens:\n",
    "    document_vector = average_vector(instance_vector)\n",
    "    X_test.append(document_vector)\n",
    "\n",
    "# Convert to numpy array\n",
    "X_test = np.array(X_test)"
   ]
  },
  {
   "cell_type": "code",
   "execution_count": 15,
   "metadata": {},
   "outputs": [
    {
     "name": "stdout",
     "output_type": "stream",
     "text": [
      "X_train: (7500, 200)\n",
      "X_test: (2500, 200)\n"
     ]
    }
   ],
   "source": [
    "# Check the shape of the X data\n",
    "print(f'X_train: {X_train.shape}')\n",
    "print(f'X_test: {X_test.shape}')"
   ]
  },
  {
   "cell_type": "markdown",
   "metadata": {},
   "source": [
    "### Create Sparse Tensors"
   ]
  },
  {
   "cell_type": "code",
   "execution_count": 16,
   "metadata": {},
   "outputs": [],
   "source": [
    "# Create function to convert sparse matrix to SparseTensor\n",
    "def convert_sparse_matrix_to_sparse_tensor(sparse_matrix):\n",
    "    coo = sparse_matrix.tocoo()\n",
    "    indices = np.mat([coo.row, coo.col]).transpose()\n",
    "    return tf.SparseTensor(indices, coo.data, coo.shape)"
   ]
  },
  {
   "cell_type": "code",
   "execution_count": 17,
   "metadata": {},
   "outputs": [],
   "source": [
    "# Create sparse tensor of y_train\n",
    "y_train_sparse_tensor = tf.sparse.reorder(convert_sparse_matrix_to_sparse_tensor(y_train_sparse))"
   ]
  },
  {
   "cell_type": "code",
   "execution_count": 18,
   "metadata": {},
   "outputs": [],
   "source": [
    "# Create sparse tensor of y_test\n",
    "y_test_sparse_tensor = tf.sparse.reorder(convert_sparse_matrix_to_sparse_tensor(y_test_sparse))"
   ]
  },
  {
   "cell_type": "markdown",
   "metadata": {},
   "source": [
    "### Create the TensorFlow Dataset"
   ]
  },
  {
   "cell_type": "code",
   "execution_count": 19,
   "metadata": {},
   "outputs": [],
   "source": [
    "# Create function to convert SparseTensor to dense tensor\n",
    "def convert_sparse_tensor_to_dense_tensor(X, y_sparse):\n",
    "    y_dense = tf.sparse.to_dense(y_sparse)\n",
    "    return X, y_dense"
   ]
  },
  {
   "cell_type": "code",
   "execution_count": 20,
   "metadata": {},
   "outputs": [],
   "source": [
    "# Create the train dataset\n",
    "tr_dataset = tf.data.Dataset.from_tensor_slices((X_train, y_train_sparse_tensor))\n",
    "tr_dataset = tr_dataset.map(convert_sparse_tensor_to_dense_tensor)\n",
    "tr_dataset = tr_dataset.batch(batch_size=1024)"
   ]
  },
  {
   "cell_type": "code",
   "execution_count": 21,
   "metadata": {},
   "outputs": [],
   "source": [
    "# Create the test dataset\n",
    "val_dataset = tf.data.Dataset.from_tensor_slices((X_test, y_test_sparse_tensor))\n",
    "val_dataset = val_dataset.map(convert_sparse_tensor_to_dense_tensor)\n",
    "val_dataset = val_dataset.batch(batch_size=1024)"
   ]
  },
  {
   "cell_type": "markdown",
   "metadata": {},
   "source": [
    "### Define the model layers"
   ]
  },
  {
   "cell_type": "code",
   "execution_count": 22,
   "metadata": {},
   "outputs": [],
   "source": [
    "# Define the perceptron architecture\n",
    "i = Input(shape=(X_train.shape[1]), dtype=tf.int32)\n",
    "x = Dense(y_train_sparse.shape[1], activation='sigmoid')(i)"
   ]
  },
  {
   "cell_type": "code",
   "execution_count": 23,
   "metadata": {},
   "outputs": [],
   "source": [
    "# Build the model\n",
    "model = Model(i, x)"
   ]
  },
  {
   "cell_type": "code",
   "execution_count": 24,
   "metadata": {},
   "outputs": [],
   "source": [
    "# Remove unused vars (to save memory)\n",
    "del embedding_matrix"
   ]
  },
  {
   "cell_type": "code",
   "execution_count": 25,
   "metadata": {},
   "outputs": [
    {
     "name": "stdout",
     "output_type": "stream",
     "text": [
      "Model: \"model\"\n",
      "_________________________________________________________________\n",
      "Layer (type)                 Output Shape              Param #   \n",
      "=================================================================\n",
      "input_1 (InputLayer)         [(None, 200)]             0         \n",
      "_________________________________________________________________\n",
      "dense (Dense)                (None, 4583)              921183    \n",
      "=================================================================\n",
      "Total params: 921,183\n",
      "Trainable params: 921,183\n",
      "Non-trainable params: 0\n",
      "_________________________________________________________________\n"
     ]
    }
   ],
   "source": [
    "# Have a look at the model\n",
    "model.summary()"
   ]
  },
  {
   "cell_type": "markdown",
   "metadata": {},
   "source": [
    "### Define how the model should be trained"
   ]
  },
  {
   "cell_type": "code",
   "execution_count": 26,
   "metadata": {},
   "outputs": [],
   "source": [
    "# Define how the model should be trained\n",
    "model.compile(optimizer=tf.keras.optimizers.Adam(learning_rate = 0.1), # CNN-Kim uses SGD with Adelta update rule\n",
    "              loss='binary_crossentropy',\n",
    "              metrics=[Recall(name='Recall'),\n",
    "                       Precision(top_k=1, name='PrecisionAt1'),\n",
    "                       Precision(top_k=3, name='PrecisionAt3'),\n",
    "                       Precision(top_k=5, name='PrecisionAt5'),\n",
    "                       Precision(top_k=10, name='PrecisionAt10'),\n",
    "#                        F1Score(num_classes=y_train_sparse.shape[1], \n",
    "#                                average='micro', \n",
    "#                                threshold=0.5,\n",
    "#                                name='MicroF1'),\n",
    "#                        F1Score(num_classes=y_train_sparse.shape[1], \n",
    "#                                average='macro', \n",
    "#                                threshold=0.5,\n",
    "#                                name='MacroF1'),\n",
    "#                        F1Score(num_classes=y_train_sparse.shape[1], \n",
    "#                                average='weighted', \n",
    "#                                threshold=0.5,\n",
    "#                                name='WeightedF1')\n",
    "                      ])"
   ]
  },
  {
   "cell_type": "code",
   "execution_count": 27,
   "metadata": {},
   "outputs": [],
   "source": [
    "# Create learning rate decay function\n",
    "def lr_scheduler(epoch, lr):\n",
    "    learning_rate = lr * 0.9\n",
    "    print(f'Learning Rate: {learning_rate}')\n",
    "    return learning_rate\n",
    "\n",
    "# define the learning rate scheduler\n",
    "callback = tf.keras.callbacks.LearningRateScheduler(lr_scheduler)"
   ]
  },
  {
   "cell_type": "markdown",
   "metadata": {},
   "source": [
    "### Train the model"
   ]
  },
  {
   "cell_type": "code",
   "execution_count": 28,
   "metadata": {
    "scrolled": true
   },
   "outputs": [
    {
     "name": "stdout",
     "output_type": "stream",
     "text": [
      "Learning Rate: 0.09000000134110452\n",
      "Epoch 1/50\n",
      "8/8 [==============================] - 6s 735ms/step - loss: 0.2576 - Recall: 0.1732 - PrecisionAt1: 0.4577 - PrecisionAt3: 0.2908 - PrecisionAt5: 0.2156 - PrecisionAt10: 0.1346 - val_loss: 0.0000e+00 - val_Recall: 0.0000e+00 - val_PrecisionAt1: 0.0000e+00 - val_PrecisionAt3: 0.0000e+00 - val_PrecisionAt5: 0.0000e+00 - val_PrecisionAt10: 0.0000e+00\n",
      "Learning Rate: 0.08100000321865082\n",
      "Epoch 2/50\n",
      "8/8 [==============================] - 3s 320ms/step - loss: 0.0481 - Recall: 0.1094 - PrecisionAt1: 0.6473 - PrecisionAt3: 0.4107 - PrecisionAt5: 0.3043 - PrecisionAt10: 0.1951 - val_loss: 0.0356 - val_Recall: 0.1140 - val_PrecisionAt1: 0.6472 - val_PrecisionAt3: 0.4211 - val_PrecisionAt5: 0.3170 - val_PrecisionAt10: 0.2022\n",
      "Learning Rate: 0.07290000021457672\n",
      "Epoch 3/50\n",
      "8/8 [==============================] - 3s 320ms/step - loss: 0.0297 - Recall: 0.1372 - PrecisionAt1: 0.6964 - PrecisionAt3: 0.4456 - PrecisionAt5: 0.3340 - PrecisionAt10: 0.2116 - val_loss: 0.0293 - val_Recall: 0.1442 - val_PrecisionAt1: 0.6664 - val_PrecisionAt3: 0.4349 - val_PrecisionAt5: 0.3268 - val_PrecisionAt10: 0.2091\n",
      "Learning Rate: 0.06560999751091004\n",
      "Epoch 4/50\n",
      "8/8 [==============================] - 3s 328ms/step - loss: 0.0238 - Recall: 0.1703 - PrecisionAt1: 0.7153 - PrecisionAt3: 0.4630 - PrecisionAt5: 0.3469 - PrecisionAt10: 0.2212 - val_loss: 0.0255 - val_Recall: 0.1591 - val_PrecisionAt1: 0.6776 - val_PrecisionAt3: 0.4525 - val_PrecisionAt5: 0.3373 - val_PrecisionAt10: 0.2134\n",
      "Learning Rate: 0.05904899910092354\n",
      "Epoch 5/50\n",
      "8/8 [==============================] - 3s 337ms/step - loss: 0.0204 - Recall: 0.1838 - PrecisionAt1: 0.7343 - PrecisionAt3: 0.4838 - PrecisionAt5: 0.3633 - PrecisionAt10: 0.2275 - val_loss: 0.0231 - val_Recall: 0.1702 - val_PrecisionAt1: 0.6908 - val_PrecisionAt3: 0.4575 - val_PrecisionAt5: 0.3461 - val_PrecisionAt10: 0.2165\n",
      "Learning Rate: 0.053144099190831184\n",
      "Epoch 6/50\n",
      "8/8 [==============================] - 3s 344ms/step - loss: 0.0184 - Recall: 0.1952 - PrecisionAt1: 0.7451 - PrecisionAt3: 0.4995 - PrecisionAt5: 0.3754 - PrecisionAt10: 0.2338 - val_loss: 0.0217 - val_Recall: 0.1782 - val_PrecisionAt1: 0.6908 - val_PrecisionAt3: 0.4655 - val_PrecisionAt5: 0.3526 - val_PrecisionAt10: 0.2204\n",
      "Learning Rate: 0.04782968759536743\n",
      "Epoch 7/50\n",
      "8/8 [==============================] - 3s 344ms/step - loss: 0.0172 - Recall: 0.2040 - PrecisionAt1: 0.7488 - PrecisionAt3: 0.5120 - PrecisionAt5: 0.3850 - PrecisionAt10: 0.2403 - val_loss: 0.0208 - val_Recall: 0.1809 - val_PrecisionAt1: 0.6940 - val_PrecisionAt3: 0.4681 - val_PrecisionAt5: 0.3550 - val_PrecisionAt10: 0.2242\n",
      "Learning Rate: 0.04304671883583069\n",
      "Epoch 8/50\n",
      "8/8 [==============================] - 2s 308ms/step - loss: 0.0164 - Recall: 0.2097 - PrecisionAt1: 0.7552 - PrecisionAt3: 0.5207 - PrecisionAt5: 0.3933 - PrecisionAt10: 0.2462 - val_loss: 0.0202 - val_Recall: 0.1838 - val_PrecisionAt1: 0.6940 - val_PrecisionAt3: 0.4700 - val_PrecisionAt5: 0.3559 - val_PrecisionAt10: 0.2266\n",
      "Learning Rate: 0.03874204829335213\n",
      "Epoch 9/50\n",
      "8/8 [==============================] - 3s 331ms/step - loss: 0.0156 - Recall: 0.2164 - PrecisionAt1: 0.7563 - PrecisionAt3: 0.5292 - PrecisionAt5: 0.3993 - PrecisionAt10: 0.2510 - val_loss: 0.0197 - val_Recall: 0.1858 - val_PrecisionAt1: 0.6972 - val_PrecisionAt3: 0.4733 - val_PrecisionAt5: 0.3579 - val_PrecisionAt10: 0.2274\n",
      "Learning Rate: 0.034867842122912406\n",
      "Epoch 10/50\n",
      "8/8 [==============================] - 3s 317ms/step - loss: 0.0151 - Recall: 0.2219 - PrecisionAt1: 0.7599 - PrecisionAt3: 0.5347 - PrecisionAt5: 0.4049 - PrecisionAt10: 0.2542 - val_loss: 0.0192 - val_Recall: 0.1879 - val_PrecisionAt1: 0.6964 - val_PrecisionAt3: 0.4759 - val_PrecisionAt5: 0.3587 - val_PrecisionAt10: 0.2282\n",
      "Learning Rate: 0.03138105757534504\n",
      "Epoch 11/50\n",
      "8/8 [==============================] - 3s 342ms/step - loss: 0.0146 - Recall: 0.2263 - PrecisionAt1: 0.7639 - PrecisionAt3: 0.5392 - PrecisionAt5: 0.4098 - PrecisionAt10: 0.2576 - val_loss: 0.0189 - val_Recall: 0.1891 - val_PrecisionAt1: 0.6972 - val_PrecisionAt3: 0.4776 - val_PrecisionAt5: 0.3593 - val_PrecisionAt10: 0.2296\n",
      "Learning Rate: 0.028242950141429902\n",
      "Epoch 12/50\n",
      "8/8 [==============================] - 3s 331ms/step - loss: 0.0141 - Recall: 0.2303 - PrecisionAt1: 0.7665 - PrecisionAt3: 0.5436 - PrecisionAt5: 0.4142 - PrecisionAt10: 0.2601 - val_loss: 0.0185 - val_Recall: 0.1909 - val_PrecisionAt1: 0.7008 - val_PrecisionAt3: 0.4791 - val_PrecisionAt5: 0.3611 - val_PrecisionAt10: 0.2300\n",
      "Learning Rate: 0.02541865445673466\n",
      "Epoch 13/50\n",
      "8/8 [==============================] - 3s 328ms/step - loss: 0.0138 - Recall: 0.2340 - PrecisionAt1: 0.7691 - PrecisionAt3: 0.5475 - PrecisionAt5: 0.4175 - PrecisionAt10: 0.2627 - val_loss: 0.0183 - val_Recall: 0.1918 - val_PrecisionAt1: 0.6996 - val_PrecisionAt3: 0.4799 - val_PrecisionAt5: 0.3618 - val_PrecisionAt10: 0.2301\n",
      "Learning Rate: 0.022876788675785065\n",
      "Epoch 14/50\n",
      "8/8 [==============================] - 2s 295ms/step - loss: 0.0134 - Recall: 0.2368 - PrecisionAt1: 0.7707 - PrecisionAt3: 0.5514 - PrecisionAt5: 0.4200 - PrecisionAt10: 0.2652 - val_loss: 0.0180 - val_Recall: 0.1925 - val_PrecisionAt1: 0.6992 - val_PrecisionAt3: 0.4816 - val_PrecisionAt5: 0.3624 - val_PrecisionAt10: 0.2311\n",
      "Learning Rate: 0.020589109137654306\n",
      "Epoch 15/50\n",
      "8/8 [==============================] - 2s 297ms/step - loss: 0.0132 - Recall: 0.2391 - PrecisionAt1: 0.7720 - PrecisionAt3: 0.5541 - PrecisionAt5: 0.4224 - PrecisionAt10: 0.2669 - val_loss: 0.0178 - val_Recall: 0.1933 - val_PrecisionAt1: 0.7000 - val_PrecisionAt3: 0.4809 - val_PrecisionAt5: 0.3633 - val_PrecisionAt10: 0.2311\n",
      "Learning Rate: 0.018530198559165\n",
      "Epoch 16/50\n",
      "8/8 [==============================] - 3s 343ms/step - loss: 0.0129 - Recall: 0.2409 - PrecisionAt1: 0.7732 - PrecisionAt3: 0.5568 - PrecisionAt5: 0.4254 - PrecisionAt10: 0.2686 - val_loss: 0.0176 - val_Recall: 0.1938 - val_PrecisionAt1: 0.6992 - val_PrecisionAt3: 0.4811 - val_PrecisionAt5: 0.3634 - val_PrecisionAt10: 0.2318\n",
      "Learning Rate: 0.016677179373800755\n",
      "Epoch 17/50\n",
      "8/8 [==============================] - 3s 339ms/step - loss: 0.0127 - Recall: 0.2431 - PrecisionAt1: 0.7741 - PrecisionAt3: 0.5597 - PrecisionAt5: 0.4278 - PrecisionAt10: 0.2700 - val_loss: 0.0174 - val_Recall: 0.1946 - val_PrecisionAt1: 0.6996 - val_PrecisionAt3: 0.4805 - val_PrecisionAt5: 0.3629 - val_PrecisionAt10: 0.2320\n",
      "Learning Rate: 0.015009460598230362\n",
      "Epoch 18/50\n",
      "8/8 [==============================] - 3s 315ms/step - loss: 0.0125 - Recall: 0.2446 - PrecisionAt1: 0.7753 - PrecisionAt3: 0.5616 - PrecisionAt5: 0.4299 - PrecisionAt10: 0.2716 - val_loss: 0.0172 - val_Recall: 0.1955 - val_PrecisionAt1: 0.7004 - val_PrecisionAt3: 0.4811 - val_PrecisionAt5: 0.3636 - val_PrecisionAt10: 0.2326\n",
      "Learning Rate: 0.013508514873683453\n",
      "Epoch 19/50\n",
      "8/8 [==============================] - 3s 326ms/step - loss: 0.0123 - Recall: 0.2463 - PrecisionAt1: 0.7759 - PrecisionAt3: 0.5640 - PrecisionAt5: 0.4317 - PrecisionAt10: 0.2728 - val_loss: 0.0171 - val_Recall: 0.1958 - val_PrecisionAt1: 0.7004 - val_PrecisionAt3: 0.4819 - val_PrecisionAt5: 0.3642 - val_PrecisionAt10: 0.2330\n",
      "Learning Rate: 0.012157663051038981\n",
      "Epoch 20/50\n",
      "8/8 [==============================] - 3s 347ms/step - loss: 0.0122 - Recall: 0.2476 - PrecisionAt1: 0.7773 - PrecisionAt3: 0.5660 - PrecisionAt5: 0.4331 - PrecisionAt10: 0.2740 - val_loss: 0.0169 - val_Recall: 0.1961 - val_PrecisionAt1: 0.7008 - val_PrecisionAt3: 0.4821 - val_PrecisionAt5: 0.3644 - val_PrecisionAt10: 0.2330\n",
      "Learning Rate: 0.010941896494477988\n",
      "Epoch 21/50\n",
      "8/8 [==============================] - 3s 355ms/step - loss: 0.0121 - Recall: 0.2486 - PrecisionAt1: 0.7775 - PrecisionAt3: 0.5679 - PrecisionAt5: 0.4352 - PrecisionAt10: 0.2748 - val_loss: 0.0168 - val_Recall: 0.1968 - val_PrecisionAt1: 0.7012 - val_PrecisionAt3: 0.4821 - val_PrecisionAt5: 0.3638 - val_PrecisionAt10: 0.2334\n",
      "Learning Rate: 0.009847706928849221\n",
      "Epoch 22/50\n",
      "8/8 [==============================] - 3s 353ms/step - loss: 0.0119 - Recall: 0.2497 - PrecisionAt1: 0.7779 - PrecisionAt3: 0.5696 - PrecisionAt5: 0.4361 - PrecisionAt10: 0.2759 - val_loss: 0.0167 - val_Recall: 0.1975 - val_PrecisionAt1: 0.7020 - val_PrecisionAt3: 0.4825 - val_PrecisionAt5: 0.3637 - val_PrecisionAt10: 0.2334\n"
     ]
    },
    {
     "name": "stdout",
     "output_type": "stream",
     "text": [
      "Learning Rate: 0.008862936403602362\n",
      "Epoch 23/50\n",
      "8/8 [==============================] - 3s 326ms/step - loss: 0.0118 - Recall: 0.2506 - PrecisionAt1: 0.7787 - PrecisionAt3: 0.5714 - PrecisionAt5: 0.4373 - PrecisionAt10: 0.2766 - val_loss: 0.0166 - val_Recall: 0.1978 - val_PrecisionAt1: 0.7020 - val_PrecisionAt3: 0.4824 - val_PrecisionAt5: 0.3640 - val_PrecisionAt10: 0.2336\n",
      "Learning Rate: 0.007976643182337284\n",
      "Epoch 24/50\n",
      "8/8 [==============================] - 3s 331ms/step - loss: 0.0117 - Recall: 0.2514 - PrecisionAt1: 0.7791 - PrecisionAt3: 0.5720 - PrecisionAt5: 0.4383 - PrecisionAt10: 0.2772 - val_loss: 0.0165 - val_Recall: 0.1985 - val_PrecisionAt1: 0.7036 - val_PrecisionAt3: 0.4827 - val_PrecisionAt5: 0.3645 - val_PrecisionAt10: 0.2335\n",
      "Learning Rate: 0.007178978528827429\n",
      "Epoch 25/50\n",
      "8/8 [==============================] - 3s 329ms/step - loss: 0.0116 - Recall: 0.2520 - PrecisionAt1: 0.7793 - PrecisionAt3: 0.5733 - PrecisionAt5: 0.4395 - PrecisionAt10: 0.2779 - val_loss: 0.0165 - val_Recall: 0.1991 - val_PrecisionAt1: 0.7040 - val_PrecisionAt3: 0.4820 - val_PrecisionAt5: 0.3648 - val_PrecisionAt10: 0.2336\n",
      "Learning Rate: 0.006461080675944686\n",
      "Epoch 26/50\n",
      "8/8 [==============================] - 3s 363ms/step - loss: 0.0116 - Recall: 0.2527 - PrecisionAt1: 0.7804 - PrecisionAt3: 0.5740 - PrecisionAt5: 0.4403 - PrecisionAt10: 0.2784 - val_loss: 0.0164 - val_Recall: 0.1991 - val_PrecisionAt1: 0.7036 - val_PrecisionAt3: 0.4817 - val_PrecisionAt5: 0.3655 - val_PrecisionAt10: 0.2336\n",
      "Learning Rate: 0.0058149725664407015\n",
      "Epoch 27/50\n",
      "8/8 [==============================] - 3s 333ms/step - loss: 0.0115 - Recall: 0.2533 - PrecisionAt1: 0.7807 - PrecisionAt3: 0.5748 - PrecisionAt5: 0.4416 - PrecisionAt10: 0.2789 - val_loss: 0.0163 - val_Recall: 0.1994 - val_PrecisionAt1: 0.7028 - val_PrecisionAt3: 0.4821 - val_PrecisionAt5: 0.3654 - val_PrecisionAt10: 0.2338\n",
      "Learning Rate: 0.005233475100249053\n",
      "Epoch 28/50\n",
      "8/8 [==============================] - 3s 351ms/step - loss: 0.0114 - Recall: 0.2541 - PrecisionAt1: 0.7811 - PrecisionAt3: 0.5755 - PrecisionAt5: 0.4424 - PrecisionAt10: 0.2796 - val_loss: 0.0163 - val_Recall: 0.1995 - val_PrecisionAt1: 0.7036 - val_PrecisionAt3: 0.4828 - val_PrecisionAt5: 0.3658 - val_PrecisionAt10: 0.2340\n",
      "Learning Rate: 0.0047101275064051155\n",
      "Epoch 29/50\n",
      "8/8 [==============================] - 3s 337ms/step - loss: 0.0114 - Recall: 0.2545 - PrecisionAt1: 0.7811 - PrecisionAt3: 0.5762 - PrecisionAt5: 0.4429 - PrecisionAt10: 0.2802 - val_loss: 0.0162 - val_Recall: 0.1998 - val_PrecisionAt1: 0.7036 - val_PrecisionAt3: 0.4823 - val_PrecisionAt5: 0.3655 - val_PrecisionAt10: 0.2342\n",
      "Learning Rate: 0.004239114839583636\n",
      "Epoch 30/50\n",
      "8/8 [==============================] - 2s 304ms/step - loss: 0.0113 - Recall: 0.2550 - PrecisionAt1: 0.7815 - PrecisionAt3: 0.5770 - PrecisionAt5: 0.4436 - PrecisionAt10: 0.2805 - val_loss: 0.0162 - val_Recall: 0.1997 - val_PrecisionAt1: 0.7032 - val_PrecisionAt3: 0.4827 - val_PrecisionAt5: 0.3655 - val_PrecisionAt10: 0.2343\n",
      "Learning Rate: 0.0038152034394443035\n",
      "Epoch 31/50\n",
      "8/8 [==============================] - 2s 297ms/step - loss: 0.0113 - Recall: 0.2554 - PrecisionAt1: 0.7820 - PrecisionAt3: 0.5777 - PrecisionAt5: 0.4443 - PrecisionAt10: 0.2809 - val_loss: 0.0161 - val_Recall: 0.1998 - val_PrecisionAt1: 0.7032 - val_PrecisionAt3: 0.4825 - val_PrecisionAt5: 0.3657 - val_PrecisionAt10: 0.2343\n",
      "Learning Rate: 0.003433683095499873\n",
      "Epoch 32/50\n",
      "8/8 [==============================] - 3s 353ms/step - loss: 0.0112 - Recall: 0.2560 - PrecisionAt1: 0.7823 - PrecisionAt3: 0.5780 - PrecisionAt5: 0.4447 - PrecisionAt10: 0.2812 - val_loss: 0.0161 - val_Recall: 0.1999 - val_PrecisionAt1: 0.7028 - val_PrecisionAt3: 0.4825 - val_PrecisionAt5: 0.3659 - val_PrecisionAt10: 0.2342\n",
      "Learning Rate: 0.0030903148697689177\n",
      "Epoch 33/50\n",
      "8/8 [==============================] - 3s 334ms/step - loss: 0.0112 - Recall: 0.2563 - PrecisionAt1: 0.7827 - PrecisionAt3: 0.5782 - PrecisionAt5: 0.4452 - PrecisionAt10: 0.2815 - val_loss: 0.0160 - val_Recall: 0.2001 - val_PrecisionAt1: 0.7028 - val_PrecisionAt3: 0.4821 - val_PrecisionAt5: 0.3659 - val_PrecisionAt10: 0.2343\n",
      "Learning Rate: 0.002781283319927752\n",
      "Epoch 34/50\n",
      "8/8 [==============================] - 3s 327ms/step - loss: 0.0111 - Recall: 0.2565 - PrecisionAt1: 0.7833 - PrecisionAt3: 0.5787 - PrecisionAt5: 0.4454 - PrecisionAt10: 0.2817 - val_loss: 0.0160 - val_Recall: 0.2002 - val_PrecisionAt1: 0.7028 - val_PrecisionAt3: 0.4817 - val_PrecisionAt5: 0.3659 - val_PrecisionAt10: 0.2344\n",
      "Learning Rate: 0.002503155008889735\n",
      "Epoch 35/50\n",
      "8/8 [==============================] - 3s 338ms/step - loss: 0.0111 - Recall: 0.2568 - PrecisionAt1: 0.7831 - PrecisionAt3: 0.5789 - PrecisionAt5: 0.4456 - PrecisionAt10: 0.2819 - val_loss: 0.0160 - val_Recall: 0.2003 - val_PrecisionAt1: 0.7032 - val_PrecisionAt3: 0.4812 - val_PrecisionAt5: 0.3658 - val_PrecisionAt10: 0.2344\n",
      "Learning Rate: 0.002252839528955519\n",
      "Epoch 36/50\n",
      "8/8 [==============================] - 3s 341ms/step - loss: 0.0111 - Recall: 0.2570 - PrecisionAt1: 0.7829 - PrecisionAt3: 0.5790 - PrecisionAt5: 0.4459 - PrecisionAt10: 0.2821 - val_loss: 0.0160 - val_Recall: 0.2005 - val_PrecisionAt1: 0.7032 - val_PrecisionAt3: 0.4813 - val_PrecisionAt5: 0.3656 - val_PrecisionAt10: 0.2343\n",
      "Learning Rate: 0.0020275555551052095\n",
      "Epoch 37/50\n",
      "8/8 [==============================] - 3s 314ms/step - loss: 0.0110 - Recall: 0.2573 - PrecisionAt1: 0.7829 - PrecisionAt3: 0.5791 - PrecisionAt5: 0.4463 - PrecisionAt10: 0.2824 - val_loss: 0.0159 - val_Recall: 0.2005 - val_PrecisionAt1: 0.7032 - val_PrecisionAt3: 0.4813 - val_PrecisionAt5: 0.3657 - val_PrecisionAt10: 0.2344\n",
      "Learning Rate: 0.0018248000415042043\n",
      "Epoch 38/50\n",
      "8/8 [==============================] - 3s 320ms/step - loss: 0.0110 - Recall: 0.2575 - PrecisionAt1: 0.7829 - PrecisionAt3: 0.5792 - PrecisionAt5: 0.4465 - PrecisionAt10: 0.2826 - val_loss: 0.0159 - val_Recall: 0.2005 - val_PrecisionAt1: 0.7032 - val_PrecisionAt3: 0.4812 - val_PrecisionAt5: 0.3657 - val_PrecisionAt10: 0.2344\n",
      "Learning Rate: 0.001642320037353784\n",
      "Epoch 39/50\n",
      "8/8 [==============================] - 3s 329ms/step - loss: 0.0110 - Recall: 0.2576 - PrecisionAt1: 0.7832 - PrecisionAt3: 0.5793 - PrecisionAt5: 0.4468 - PrecisionAt10: 0.2827 - val_loss: 0.0159 - val_Recall: 0.2008 - val_PrecisionAt1: 0.7036 - val_PrecisionAt3: 0.4809 - val_PrecisionAt5: 0.3657 - val_PrecisionAt10: 0.2345\n",
      "Learning Rate: 0.0014780880650505424\n",
      "Epoch 40/50\n",
      "8/8 [==============================] - 3s 345ms/step - loss: 0.0110 - Recall: 0.2577 - PrecisionAt1: 0.7832 - PrecisionAt3: 0.5796 - PrecisionAt5: 0.4471 - PrecisionAt10: 0.2829 - val_loss: 0.0159 - val_Recall: 0.2009 - val_PrecisionAt1: 0.7036 - val_PrecisionAt3: 0.4813 - val_PrecisionAt5: 0.3656 - val_PrecisionAt10: 0.2345\n",
      "Learning Rate: 0.001330279279500246\n",
      "Epoch 41/50\n",
      "8/8 [==============================] - 3s 341ms/step - loss: 0.0110 - Recall: 0.2578 - PrecisionAt1: 0.7835 - PrecisionAt3: 0.5798 - PrecisionAt5: 0.4472 - PrecisionAt10: 0.2831 - val_loss: 0.0159 - val_Recall: 0.2009 - val_PrecisionAt1: 0.7032 - val_PrecisionAt3: 0.4812 - val_PrecisionAt5: 0.3656 - val_PrecisionAt10: 0.2346\n",
      "Learning Rate: 0.0011972513515502215\n",
      "Epoch 42/50\n",
      "8/8 [==============================] - 2s 303ms/step - loss: 0.0109 - Recall: 0.2579 - PrecisionAt1: 0.7835 - PrecisionAt3: 0.5800 - PrecisionAt5: 0.4474 - PrecisionAt10: 0.2831 - val_loss: 0.0158 - val_Recall: 0.2008 - val_PrecisionAt1: 0.7032 - val_PrecisionAt3: 0.4815 - val_PrecisionAt5: 0.3656 - val_PrecisionAt10: 0.2346\n",
      "Learning Rate: 0.0010775262373499573\n",
      "Epoch 43/50\n",
      "8/8 [==============================] - 3s 336ms/step - loss: 0.0109 - Recall: 0.2581 - PrecisionAt1: 0.7837 - PrecisionAt3: 0.5803 - PrecisionAt5: 0.4475 - PrecisionAt10: 0.2833 - val_loss: 0.0158 - val_Recall: 0.2009 - val_PrecisionAt1: 0.7032 - val_PrecisionAt3: 0.4816 - val_PrecisionAt5: 0.3657 - val_PrecisionAt10: 0.2346\n",
      "Learning Rate: 0.0009697736240923405\n",
      "Epoch 44/50\n",
      "8/8 [==============================] - 3s 334ms/step - loss: 0.0109 - Recall: 0.2584 - PrecisionAt1: 0.7839 - PrecisionAt3: 0.5804 - PrecisionAt5: 0.4475 - PrecisionAt10: 0.2834 - val_loss: 0.0158 - val_Recall: 0.2009 - val_PrecisionAt1: 0.7032 - val_PrecisionAt3: 0.4816 - val_PrecisionAt5: 0.3657 - val_PrecisionAt10: 0.2346\n"
     ]
    },
    {
     "name": "stdout",
     "output_type": "stream",
     "text": [
      "Learning Rate: 0.0008727962616831064\n",
      "Epoch 45/50\n",
      "8/8 [==============================] - 2s 289ms/step - loss: 0.0109 - Recall: 0.2585 - PrecisionAt1: 0.7840 - PrecisionAt3: 0.5806 - PrecisionAt5: 0.4477 - PrecisionAt10: 0.2835 - val_loss: 0.0158 - val_Recall: 0.2008 - val_PrecisionAt1: 0.7032 - val_PrecisionAt3: 0.4816 - val_PrecisionAt5: 0.3657 - val_PrecisionAt10: 0.2347\n",
      "Learning Rate: 0.0007855166564695537\n",
      "Epoch 46/50\n",
      "8/8 [==============================] - 3s 323ms/step - loss: 0.0109 - Recall: 0.2586 - PrecisionAt1: 0.7840 - PrecisionAt3: 0.5807 - PrecisionAt5: 0.4478 - PrecisionAt10: 0.2836 - val_loss: 0.0158 - val_Recall: 0.2009 - val_PrecisionAt1: 0.7032 - val_PrecisionAt3: 0.4813 - val_PrecisionAt5: 0.3656 - val_PrecisionAt10: 0.2347\n",
      "Learning Rate: 0.0007069649698678405\n",
      "Epoch 47/50\n",
      "8/8 [==============================] - 2s 309ms/step - loss: 0.0109 - Recall: 0.2586 - PrecisionAt1: 0.7840 - PrecisionAt3: 0.5809 - PrecisionAt5: 0.4480 - PrecisionAt10: 0.2837 - val_loss: 0.0158 - val_Recall: 0.2009 - val_PrecisionAt1: 0.7032 - val_PrecisionAt3: 0.4816 - val_PrecisionAt5: 0.3657 - val_PrecisionAt10: 0.2347\n",
      "Learning Rate: 0.0006362684885971248\n",
      "Epoch 48/50\n",
      "8/8 [==============================] - 2s 312ms/step - loss: 0.0109 - Recall: 0.2588 - PrecisionAt1: 0.7841 - PrecisionAt3: 0.5811 - PrecisionAt5: 0.4480 - PrecisionAt10: 0.2837 - val_loss: 0.0158 - val_Recall: 0.2009 - val_PrecisionAt1: 0.7028 - val_PrecisionAt3: 0.4816 - val_PrecisionAt5: 0.3657 - val_PrecisionAt10: 0.2347\n",
      "Learning Rate: 0.0005726416187826544\n",
      "Epoch 49/50\n",
      "8/8 [==============================] - 3s 316ms/step - loss: 0.0109 - Recall: 0.2589 - PrecisionAt1: 0.7841 - PrecisionAt3: 0.5811 - PrecisionAt5: 0.4480 - PrecisionAt10: 0.2838 - val_loss: 0.0158 - val_Recall: 0.2009 - val_PrecisionAt1: 0.7028 - val_PrecisionAt3: 0.4816 - val_PrecisionAt5: 0.3658 - val_PrecisionAt10: 0.2347\n",
      "Learning Rate: 0.0005153774516656995\n",
      "Epoch 50/50\n",
      "8/8 [==============================] - 3s 344ms/step - loss: 0.0109 - Recall: 0.2590 - PrecisionAt1: 0.7843 - PrecisionAt3: 0.5812 - PrecisionAt5: 0.4480 - PrecisionAt10: 0.2839 - val_loss: 0.0158 - val_Recall: 0.2009 - val_PrecisionAt1: 0.7024 - val_PrecisionAt3: 0.4816 - val_PrecisionAt5: 0.3658 - val_PrecisionAt10: 0.2348\n"
     ]
    }
   ],
   "source": [
    "# Train the model\n",
    "result = model.fit(tr_dataset,\n",
    "                   epochs=50,\n",
    "                   validation_data=val_dataset,\n",
    "                   callbacks=[callback]);"
   ]
  },
  {
   "cell_type": "code",
   "execution_count": 29,
   "metadata": {},
   "outputs": [
    {
     "data": {
      "image/png": "[encoded data removed]",
      "text/plain": [
       "<Figure size 432x288 with 1 Axes>"
      ]
     },
     "metadata": {
      "needs_background": "light"
     },
     "output_type": "display_data"
    }
   ],
   "source": [
    "# Plot the Recall metric at each itteration\n",
    "plt.plot(result.history['Recall'], label='train_Recall');\n",
    "plt.plot(result.history['val_Recall'], label='val_Recall');\n",
    "plt.legend();"
   ]
  },
  {
   "cell_type": "code",
   "execution_count": 30,
   "metadata": {},
   "outputs": [
    {
     "data": {
      "image/png": "[encoded data removed]",
      "text/plain": [
       "<Figure size 432x288 with 1 Axes>"
      ]
     },
     "metadata": {
      "needs_background": "light"
     },
     "output_type": "display_data"
    }
   ],
   "source": [
    "# Plot the PrecisionAt1 metric at each itteration\n",
    "plt.plot(result.history['PrecisionAt1'], label='train_PrecisionAt1');\n",
    "plt.plot(result.history['val_PrecisionAt1'], label='val_PrecisionAt1');\n",
    "plt.legend();"
   ]
  },
  {
   "cell_type": "code",
   "execution_count": 31,
   "metadata": {},
   "outputs": [
    {
     "data": {
      "image/png": "[encoded data removed]",
      "text/plain": [
       "<Figure size 432x288 with 1 Axes>"
      ]
     },
     "metadata": {
      "needs_background": "light"
     },
     "output_type": "display_data"
    }
   ],
   "source": [
    "# Plot the PrecisionAt3 metric at each itteration\n",
    "plt.plot(result.history['PrecisionAt3'], label='train_PrecisionAt3l');\n",
    "plt.plot(result.history['val_PrecisionAt3'], label='val_PrecisionAt3');\n",
    "plt.legend();"
   ]
  },
  {
   "cell_type": "code",
   "execution_count": 32,
   "metadata": {},
   "outputs": [
    {
     "data": {
      "image/png": "[encoded data removed]",
      "text/plain": [
       "<Figure size 432x288 with 1 Axes>"
      ]
     },
     "metadata": {
      "needs_background": "light"
     },
     "output_type": "display_data"
    }
   ],
   "source": [
    "# Plot the PrecisionAt5 metric at each itteration\n",
    "plt.plot(result.history['PrecisionAt5'], label='train_PrecisionAt5');\n",
    "plt.plot(result.history['val_PrecisionAt5'], label='val_PrecisionAt5');\n",
    "plt.legend();"
   ]
  },
  {
   "cell_type": "code",
   "execution_count": 33,
   "metadata": {},
   "outputs": [
    {
     "data": {
      "image/png": "[encoded data removed]",
      "text/plain": [
       "<Figure size 432x288 with 1 Axes>"
      ]
     },
     "metadata": {
      "needs_background": "light"
     },
     "output_type": "display_data"
    }
   ],
   "source": [
    "# Plot the PrecisionAt10 metric at each itteration\n",
    "plt.plot(result.history['PrecisionAt10'], label='train_PrecisionAt10');\n",
    "plt.plot(result.history['val_PrecisionAt10'], label='val_PrecisionAt10');\n",
    "plt.legend();"
   ]
  },
  {
   "cell_type": "code",
   "execution_count": null,
   "metadata": {},
   "outputs": [],
   "source": []
  },
  {
   "cell_type": "code",
   "execution_count": null,
   "metadata": {},
   "outputs": [],
   "source": []
  },
  {
   "cell_type": "code",
   "execution_count": null,
   "metadata": {},
   "outputs": [],
   "source": []
  },
  {
   "cell_type": "code",
   "execution_count": null,
   "metadata": {},
   "outputs": [],
   "source": []
  },
  {
   "cell_type": "code",
   "execution_count": null,
   "metadata": {},
   "outputs": [],
   "source": []
  }
 ],
 "metadata": {
  "kernelspec": {
   "display_name": "Python 3",
   "language": "python",
   "name": "python3"
  },
  "language_info": {
   "codemirror_mode": {
    "name": "ipython",
    "version": 3
   },
   "file_extension": ".py",
   "mimetype": "text/x-python",
   "name": "python",
   "nbconvert_exporter": "python",
   "pygments_lexer": "ipython3",
   "version": "3.7.4"
  }
 },
 "nbformat": 4,
 "nbformat_minor": 2
}
